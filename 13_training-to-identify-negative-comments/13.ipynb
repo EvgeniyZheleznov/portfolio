{
 "cells": [
  {
   "cell_type": "markdown",
   "metadata": {},
   "source": [
    "# Проект для «Викишоп»"
   ]
  },
  {
   "cell_type": "markdown",
   "metadata": {},
   "source": [
    "Интернет-магазин «Викишоп» запускает новый сервис. Теперь пользователи могут редактировать и дополнять описания товаров, как в вики-сообществах. То есть клиенты предлагают свои правки и комментируют изменения других. Магазину нужен инструмент, который будет искать токсичные комментарии и отправлять их на модерацию. \n",
    "\n",
    "Обучите модель классифицировать комментарии на позитивные и негативные. В вашем распоряжении набор данных с разметкой о токсичности правок.\n",
    "\n",
    "Постройте модель со значением метрики качества *F1* не меньше 0.75. \n",
    "\n",
    "**Инструкция по выполнению проекта**\n",
    "\n",
    "1. Загрузите и подготовьте данные.\n",
    "2. Обучите разные модели. \n",
    "3. Сделайте выводы.\n",
    "\n",
    "Для выполнения проекта применять *BERT* необязательно, но вы можете попробовать.\n",
    "\n",
    "**Описание данных**\n",
    "\n",
    "Данные находятся в файле `toxic_comments.csv`. Столбец *text* в нём содержит текст комментария, а *toxic* — целевой признак."
   ]
  },
  {
   "cell_type": "markdown",
   "metadata": {},
   "source": [
    "## Подготовка"
   ]
  },
  {
   "cell_type": "code",
   "execution_count": 1,
   "metadata": {},
   "outputs": [
    {
     "name": "stdout",
     "output_type": "stream",
     "text": [
      "Requirement already satisfied: pymystem3 in c:\\python311\\lib\\site-packages (0.2.0)\n",
      "Requirement already satisfied: requests in c:\\python311\\lib\\site-packages (from pymystem3) (2.31.0)\n",
      "Requirement already satisfied: charset-normalizer<4,>=2 in c:\\python311\\lib\\site-packages (from requests->pymystem3) (3.2.0)\n",
      "Requirement already satisfied: idna<4,>=2.5 in c:\\python311\\lib\\site-packages (from requests->pymystem3) (3.4)\n",
      "Requirement already satisfied: urllib3<3,>=1.21.1 in c:\\python311\\lib\\site-packages (from requests->pymystem3) (2.0.4)\n",
      "Requirement already satisfied: certifi>=2017.4.17 in c:\\python311\\lib\\site-packages (from requests->pymystem3) (2023.7.22)\n"
     ]
    }
   ],
   "source": [
    "!pip install pymystem3\n",
    "!pip install imbalanced-learn -q \n",
    "!pip install spacy -q"
   ]
  },
  {
   "cell_type": "code",
   "execution_count": 2,
   "metadata": {},
   "outputs": [],
   "source": [
    "import pandas as pd\n",
    "import numpy as np\n",
    "import seaborn as sns\n",
    "# from pymystem3 import Mystem\n",
    "from sklearn.model_selection import train_test_split, GridSearchCV\n",
    "\n",
    "from imblearn.under_sampling import RandomUnderSampler\n",
    "from sklearn.metrics import accuracy_score, roc_auc_score, f1_score\n",
    "from sklearn.dummy import DummyClassifier\n",
    "import re \n",
    "import spacy\n",
    "import warnings\n",
    "warnings.filterwarnings('ignore')\n",
    "from sklearn.linear_model import LogisticRegression\n",
    "from sklearn.feature_extraction.text import TfidfVectorizer\n",
    "import nltk\n",
    "from nltk.corpus import stopwords as nltk_stopwords\n",
    "from sklearn.tree import DecisionTreeClassifier\n",
    "from sklearn.model_selection import cross_val_score\n",
    "from sklearn.pipeline import Pipeline\n",
    "\n",
    "\n",
    "RANDOM_STATE = 42"
   ]
  },
  {
   "cell_type": "code",
   "execution_count": 3,
   "metadata": {},
   "outputs": [],
   "source": [
    "try:\n",
    "    data = pd.read_csv(r'C:\\Users\\Евгений\\practicum\\df-13\\toxic_comments.csv')\n",
    "except:\n",
    "    data = pd.read_csv('https://code.s3.yandex.net/datasets/toxic_comments.csv')"
   ]
  },
  {
   "cell_type": "code",
   "execution_count": 4,
   "metadata": {},
   "outputs": [
    {
     "name": "stdout",
     "output_type": "stream",
     "text": [
      "<class 'pandas.core.frame.DataFrame'>\n",
      "RangeIndex: 159292 entries, 0 to 159291\n",
      "Data columns (total 3 columns):\n",
      " #   Column      Non-Null Count   Dtype \n",
      "---  ------      --------------   ----- \n",
      " 0   Unnamed: 0  159292 non-null  int64 \n",
      " 1   text        159292 non-null  object\n",
      " 2   toxic       159292 non-null  int64 \n",
      "dtypes: int64(2), object(1)\n",
      "memory usage: 3.6+ MB\n"
     ]
    }
   ],
   "source": [
    "data.info()"
   ]
  },
  {
   "cell_type": "code",
   "execution_count": 5,
   "metadata": {},
   "outputs": [
    {
     "data": {
      "text/html": [
       "<div>\n",
       "<style scoped>\n",
       "    .dataframe tbody tr th:only-of-type {\n",
       "        vertical-align: middle;\n",
       "    }\n",
       "\n",
       "    .dataframe tbody tr th {\n",
       "        vertical-align: top;\n",
       "    }\n",
       "\n",
       "    .dataframe thead th {\n",
       "        text-align: right;\n",
       "    }\n",
       "</style>\n",
       "<table border=\"1\" class=\"dataframe\">\n",
       "  <thead>\n",
       "    <tr style=\"text-align: right;\">\n",
       "      <th></th>\n",
       "      <th>Unnamed: 0</th>\n",
       "      <th>text</th>\n",
       "      <th>toxic</th>\n",
       "    </tr>\n",
       "  </thead>\n",
       "  <tbody>\n",
       "    <tr>\n",
       "      <th>0</th>\n",
       "      <td>0</td>\n",
       "      <td>Explanation\\nWhy the edits made under my usern...</td>\n",
       "      <td>0</td>\n",
       "    </tr>\n",
       "    <tr>\n",
       "      <th>1</th>\n",
       "      <td>1</td>\n",
       "      <td>D'aww! He matches this background colour I'm s...</td>\n",
       "      <td>0</td>\n",
       "    </tr>\n",
       "  </tbody>\n",
       "</table>\n",
       "</div>"
      ],
      "text/plain": [
       "   Unnamed: 0                                               text  toxic\n",
       "0           0  Explanation\\nWhy the edits made under my usern...      0\n",
       "1           1  D'aww! He matches this background colour I'm s...      0"
      ]
     },
     "execution_count": 5,
     "metadata": {},
     "output_type": "execute_result"
    }
   ],
   "source": [
    "data.head(2)"
   ]
  },
  {
   "cell_type": "code",
   "execution_count": 6,
   "metadata": {},
   "outputs": [
    {
     "data": {
      "text/plain": [
       "array([0, 1], dtype=int64)"
      ]
     },
     "execution_count": 6,
     "metadata": {},
     "output_type": "execute_result"
    }
   ],
   "source": [
    "data['toxic'].unique()"
   ]
  },
  {
   "cell_type": "code",
   "execution_count": 7,
   "metadata": {},
   "outputs": [
    {
     "data": {
      "text/plain": [
       "toxic\n",
       "0    0.898388\n",
       "1    0.101612\n",
       "Name: proportion, dtype: float64"
      ]
     },
     "execution_count": 7,
     "metadata": {},
     "output_type": "execute_result"
    }
   ],
   "source": [
    "data['toxic'].value_counts(normalize=True)"
   ]
  },
  {
   "cell_type": "code",
   "execution_count": 8,
   "metadata": {},
   "outputs": [
    {
     "data": {
      "image/png": "[encoded data removed]",
      "text/plain": [
       "<Figure size 640x480 with 1 Axes>"
      ]
     },
     "metadata": {},
     "output_type": "display_data"
    }
   ],
   "source": [
    "data.toxic.value_counts(normalize=True).plot(kind='bar'\n",
    "                                             , title=\"Пропории объектов (дисбаланс)\"\n",
    "                                             , rot=0, xlabel= 'Значения'\n",
    "                                             , ylabel='Проценты %'\n",
    "                                             , grid=True)\n",
    "pass"
   ]
  },
  {
   "cell_type": "markdown",
   "metadata": {},
   "source": [
    "Дисболанс сумашедший, но решить эту проблему будим после лемматизации."
   ]
  },
  {
   "cell_type": "code",
   "execution_count": 9,
   "metadata": {},
   "outputs": [],
   "source": [
    "df = data.copy()"
   ]
  },
  {
   "cell_type": "code",
   "execution_count": 10,
   "metadata": {},
   "outputs": [],
   "source": [
    "df.drop(columns='Unnamed: 0', inplace=True) # удаляем не нужную колонку"
   ]
  },
  {
   "cell_type": "markdown",
   "metadata": {},
   "source": [
    "##df['text'] = df['text'].values.astype('U') "
   ]
  },
  {
   "cell_type": "code",
   "execution_count": 11,
   "metadata": {},
   "outputs": [
    {
     "name": "stdout",
     "output_type": "stream",
     "text": [
      "<class 'pandas.core.frame.DataFrame'>\n",
      "RangeIndex: 159292 entries, 0 to 159291\n",
      "Data columns (total 2 columns):\n",
      " #   Column  Non-Null Count   Dtype \n",
      "---  ------  --------------   ----- \n",
      " 0   text    159292 non-null  object\n",
      " 1   toxic   159292 non-null  int64 \n",
      "dtypes: int64(1), object(1)\n",
      "memory usage: 2.4+ MB\n"
     ]
    }
   ],
   "source": [
    "df.info()"
   ]
  },
  {
   "cell_type": "code",
   "execution_count": 12,
   "metadata": {},
   "outputs": [
    {
     "data": {
      "text/html": [
       "<div>\n",
       "<style scoped>\n",
       "    .dataframe tbody tr th:only-of-type {\n",
       "        vertical-align: middle;\n",
       "    }\n",
       "\n",
       "    .dataframe tbody tr th {\n",
       "        vertical-align: top;\n",
       "    }\n",
       "\n",
       "    .dataframe thead th {\n",
       "        text-align: right;\n",
       "    }\n",
       "</style>\n",
       "<table border=\"1\" class=\"dataframe\">\n",
       "  <thead>\n",
       "    <tr style=\"text-align: right;\">\n",
       "      <th></th>\n",
       "      <th>text</th>\n",
       "      <th>toxic</th>\n",
       "    </tr>\n",
       "  </thead>\n",
       "  <tbody>\n",
       "    <tr>\n",
       "      <th>0</th>\n",
       "      <td>Explanation\\nWhy the edits made under my usern...</td>\n",
       "      <td>0</td>\n",
       "    </tr>\n",
       "    <tr>\n",
       "      <th>1</th>\n",
       "      <td>D'aww! He matches this background colour I'm s...</td>\n",
       "      <td>0</td>\n",
       "    </tr>\n",
       "    <tr>\n",
       "      <th>2</th>\n",
       "      <td>Hey man, I'm really not trying to edit war. It...</td>\n",
       "      <td>0</td>\n",
       "    </tr>\n",
       "    <tr>\n",
       "      <th>3</th>\n",
       "      <td>\"\\nMore\\nI can't make any real suggestions on ...</td>\n",
       "      <td>0</td>\n",
       "    </tr>\n",
       "    <tr>\n",
       "      <th>4</th>\n",
       "      <td>You, sir, are my hero. Any chance you remember...</td>\n",
       "      <td>0</td>\n",
       "    </tr>\n",
       "  </tbody>\n",
       "</table>\n",
       "</div>"
      ],
      "text/plain": [
       "                                                text  toxic\n",
       "0  Explanation\\nWhy the edits made under my usern...      0\n",
       "1  D'aww! He matches this background colour I'm s...      0\n",
       "2  Hey man, I'm really not trying to edit war. It...      0\n",
       "3  \"\\nMore\\nI can't make any real suggestions on ...      0\n",
       "4  You, sir, are my hero. Any chance you remember...      0"
      ]
     },
     "execution_count": 12,
     "metadata": {},
     "output_type": "execute_result"
    }
   ],
   "source": [
    "df.head()"
   ]
  },
  {
   "cell_type": "markdown",
   "metadata": {},
   "source": [
    "__Заключение по предварительному анализу__\n",
    "\n",
    "Нет пропусков\n",
    "Относительный большая выборка, что надо будет учитывать при выборе модели. Поскольку медленные могут занять слишком много времени\n",
    "Неинформативный признак Unnamed: 0, который дублирует индекс\n",
    "Количество токсичных комментариев составляет 10%\n",
    "Текст содержит \\n символ перехода строки"
   ]
  },
  {
   "cell_type": "markdown",
   "metadata": {},
   "source": [
    "### Лемматезируем"
   ]
  },
  {
   "cell_type": "code",
   "execution_count": 13,
   "metadata": {},
   "outputs": [],
   "source": [
    "def clear_text(text):\n",
    "    text_r = re.sub(r\"[^a-zA-Z',.]\", \" \",text)\n",
    "    text_s = text_r.split()\n",
    "    text_j = \" \".join(text_s)\n",
    "    return text_j.lower()"
   ]
  },
  {
   "cell_type": "code",
   "execution_count": 14,
   "metadata": {},
   "outputs": [],
   "source": [
    "nlp = spacy.load(\"en_core_web_sm\", disable=['parser', 'ner'])"
   ]
  },
  {
   "cell_type": "code",
   "execution_count": 15,
   "metadata": {},
   "outputs": [],
   "source": [
    "def lemmatize(text):\n",
    "    text = clear_text(text)\n",
    "    doc = nlp(text)\n",
    "    lemmas = [token.lemma_ for token in doc if not token.is_punct]\n",
    "    return ' '.join(lemmas)"
   ]
  },
  {
   "cell_type": "code",
   "execution_count": 16,
   "metadata": {
    "scrolled": true
   },
   "outputs": [
    {
     "data": {
      "text/html": [
       "<div>\n",
       "<style scoped>\n",
       "    .dataframe tbody tr th:only-of-type {\n",
       "        vertical-align: middle;\n",
       "    }\n",
       "\n",
       "    .dataframe tbody tr th {\n",
       "        vertical-align: top;\n",
       "    }\n",
       "\n",
       "    .dataframe thead th {\n",
       "        text-align: right;\n",
       "    }\n",
       "</style>\n",
       "<table border=\"1\" class=\"dataframe\">\n",
       "  <thead>\n",
       "    <tr style=\"text-align: right;\">\n",
       "      <th></th>\n",
       "      <th>text</th>\n",
       "      <th>toxic</th>\n",
       "    </tr>\n",
       "  </thead>\n",
       "  <tbody>\n",
       "    <tr>\n",
       "      <th>0</th>\n",
       "      <td>explanation why the edit make under my usernam...</td>\n",
       "      <td>0</td>\n",
       "    </tr>\n",
       "    <tr>\n",
       "      <th>1</th>\n",
       "      <td>d'aww he match this background colour I be see...</td>\n",
       "      <td>0</td>\n",
       "    </tr>\n",
       "    <tr>\n",
       "      <th>2</th>\n",
       "      <td>hey man I be really not try to edit war it be ...</td>\n",
       "      <td>0</td>\n",
       "    </tr>\n",
       "    <tr>\n",
       "      <th>3</th>\n",
       "      <td>more I can not make any real suggestion on imp...</td>\n",
       "      <td>0</td>\n",
       "    </tr>\n",
       "    <tr>\n",
       "      <th>4</th>\n",
       "      <td>you sir be my hero any chance you remember wha...</td>\n",
       "      <td>0</td>\n",
       "    </tr>\n",
       "  </tbody>\n",
       "</table>\n",
       "</div>"
      ],
      "text/plain": [
       "                                                text  toxic\n",
       "0  explanation why the edit make under my usernam...      0\n",
       "1  d'aww he match this background colour I be see...      0\n",
       "2  hey man I be really not try to edit war it be ...      0\n",
       "3  more I can not make any real suggestion on imp...      0\n",
       "4  you sir be my hero any chance you remember wha...      0"
      ]
     },
     "execution_count": 16,
     "metadata": {},
     "output_type": "execute_result"
    }
   ],
   "source": [
    "df['text'] = df['text'].apply(lemmatize)\n",
    "df.head()"
   ]
  },
  {
   "cell_type": "markdown",
   "metadata": {},
   "source": [
    "### Подготовка данных к обучению"
   ]
  },
  {
   "cell_type": "code",
   "execution_count": 17,
   "metadata": {},
   "outputs": [],
   "source": [
    "X = df.drop(columns = 'toxic', axis=0)\n",
    "y = df['toxic']"
   ]
  },
  {
   "cell_type": "code",
   "execution_count": 18,
   "metadata": {},
   "outputs": [],
   "source": [
    "X_train, X_test, y_train, y_test = train_test_split(X, y, random_state=RANDOM_STATE, stratify=y)"
   ]
  },
  {
   "cell_type": "markdown",
   "metadata": {},
   "source": [
    "Проверка на адекватность"
   ]
  },
  {
   "cell_type": "code",
   "execution_count": 19,
   "metadata": {},
   "outputs": [
    {
     "name": "stdout",
     "output_type": "stream",
     "text": [
      "F1-score = 0.0\n"
     ]
    }
   ],
   "source": [
    "dummy_model = DummyClassifier(random_state=RANDOM_STATE)\n",
    "dummy_model.fit(X_train, y_train)\n",
    "dummy_model_preds = dummy_model.predict(X_test)\n",
    "dummy_model_probas = dummy_model.predict_proba(X_test)[:,1]\n",
    "\n",
    "dummy_f1 = f1_score(y_test, dummy_model_preds)\n",
    "print('F1-score =', round(dummy_f1,2))"
   ]
  },
  {
   "cell_type": "markdown",
   "metadata": {},
   "source": [
    "### Семплируем данные"
   ]
  },
  {
   "cell_type": "code",
   "execution_count": 20,
   "metadata": {},
   "outputs": [],
   "source": [
    "sampler = RandomUnderSampler(random_state=RANDOM_STATE)\n",
    "# сэмплируем данные \n",
    "X_train_sampled, y_train_sampled = sampler.fit_resample(X_train, y_train) "
   ]
  },
  {
   "cell_type": "code",
   "execution_count": 21,
   "metadata": {},
   "outputs": [
    {
     "name": "stdout",
     "output_type": "stream",
     "text": [
      "Тренировочные данные до сэмплирования:\n",
      "toxic\n",
      "0    107329\n",
      "1     12140\n",
      "Name: count, dtype: int64\n",
      "\n",
      "Тренировочные данные после сэмплирования:\n",
      "toxic\n",
      "0    12140\n",
      "1    12140\n",
      "Name: count, dtype: int64\n"
     ]
    }
   ],
   "source": [
    "print(f'Тренировочные данные до сэмплирования:\\n{y_train.value_counts()}')\n",
    "print(f'\\nТренировочные данные после сэмплирования:\\n{y_train_sampled.value_counts()}')"
   ]
  },
  {
   "cell_type": "code",
   "execution_count": 22,
   "metadata": {},
   "outputs": [
    {
     "name": "stderr",
     "output_type": "stream",
     "text": [
      "[nltk_data] Downloading package stopwords to\n",
      "[nltk_data]     C:\\Users\\Евгений\\AppData\\Roaming\\nltk_data...\n",
      "[nltk_data]   Package stopwords is already up-to-date!\n"
     ]
    }
   ],
   "source": [
    "nltk.download('stopwords')\n",
    "stopwords = set(nltk_stopwords.words('english'))\n",
    "count_tf_idf = TfidfVectorizer(stop_words=stopwords)"
   ]
  },
  {
   "cell_type": "code",
   "execution_count": 23,
   "metadata": {},
   "outputs": [
    {
     "name": "stdout",
     "output_type": "stream",
     "text": [
      "Размер матрицы: (119469, 127995)\n"
     ]
    }
   ],
   "source": [
    "#count_tf_idf = TfidfVectorizer(stop_words=stopwords)\n",
    "tf_idf_train = count_tf_idf.fit_transform(X_train['text']) # кодируем тренеровочную выборку  \n",
    "\n",
    "print(\"Размер матрицы:\", tf_idf_train.shape)"
   ]
  },
  {
   "cell_type": "code",
   "execution_count": 24,
   "metadata": {
    "scrolled": true
   },
   "outputs": [
    {
     "name": "stdout",
     "output_type": "stream",
     "text": [
      "Размер матрицы: (39823, 127995)\n"
     ]
    }
   ],
   "source": [
    "tf_idf_test = count_tf_idf.transform(X_test['text'])  # кодируем тестовую выборку  \n",
    "\n",
    "print(\"Размер матрицы:\", tf_idf_test.shape)"
   ]
  },
  {
   "cell_type": "markdown",
   "metadata": {},
   "source": [
    "## Обучение"
   ]
  },
  {
   "cell_type": "markdown",
   "metadata": {},
   "source": [
    "### логистическая регрессия"
   ]
  },
  {
   "cell_type": "code",
   "execution_count": 25,
   "metadata": {},
   "outputs": [],
   "source": [
    "def training(model, params):\n",
    "    pipeline = Pipeline([\n",
    "        ('tfidf', TfidfVectorizer()),\n",
    "        ('model', model)])\n",
    "    grid = GridSearchCV(pipeline, cv = 3, n_jobs = -1, param_grid = params, scoring = 'f1', verbose = False)\n",
    "    grid.fit(X_train['text'], y_train)\n",
    "    print('Лучший результат:', grid.best_score_)\n",
    "    print('Лучшие параметры:', grid.best_params_)\n",
    "    return grid"
   ]
  },
  {
   "cell_type": "code",
   "execution_count": 26,
   "metadata": {},
   "outputs": [
    {
     "name": "stdout",
     "output_type": "stream",
     "text": [
      "Лучший результат: 0.7823545002014742\n",
      "Лучшие параметры: {'model__C': 10.0, 'model__penalty': 'l2'}\n"
     ]
    }
   ],
   "source": [
    "mod_lr = training(LogisticRegression(random_state=RANDOM_STATE), {\"model__C\":[0.1, 10.0], \"model__penalty\":[\"l2\"]})"
   ]
  },
  {
   "cell_type": "code",
   "execution_count": 27,
   "metadata": {},
   "outputs": [
    {
     "name": "stdout",
     "output_type": "stream",
     "text": [
      "Лучший результат: 0.692767428896761\n",
      "Лучшие параметры: {'model__criterion': 'gini', 'model__max_depth': None}\n"
     ]
    }
   ],
   "source": [
    "mod_dtc = training(DecisionTreeClassifier(random_state=RANDOM_STATE), {'model__criterion':['gini','entropy'],'model__max_depth': [None] + [i for i in range(2, 7)]})"
   ]
  },
  {
   "cell_type": "code",
   "execution_count": 28,
   "metadata": {},
   "outputs": [
    {
     "name": "stdout",
     "output_type": "stream",
     "text": [
      "Значение F1 метрики = 0.79\n"
     ]
    }
   ],
   "source": [
    "print(f'Значение F1 метрики = {round(f1_score(y_test, mod_lr.predict(X_test[\"text\"])), 2)}')"
   ]
  },
  {
   "cell_type": "markdown",
   "metadata": {},
   "source": [
    "## Выводы"
   ]
  },
  {
   "cell_type": "markdown",
   "metadata": {},
   "source": [
    "Между классов токсичных и обычных сообщений существует сильный дисбалнс классов  \n",
    "Устранил дисбаланс, леметезировал данные, и подготовил к обучению.  \n",
    "Были обучены две модели.  \n",
    "Получилось обучить модель логистическая регрессия с f1 метрикой 0.79, что проходило под критерием \"не меньше 0.75\"."
   ]
  }
 ],
 "metadata": {
  "ExecuteTimeLog": [
   {
    "duration": 11780,
    "start_time": "2024-03-15T07:09:36.433Z"
   },
   {
    "duration": 5750,
    "start_time": "2024-03-15T07:09:48.215Z"
   },
   {
    "duration": 3526,
    "start_time": "2024-03-15T07:09:53.967Z"
   },
   {
    "duration": 29,
    "start_time": "2024-03-15T07:09:57.496Z"
   },
   {
    "duration": 12,
    "start_time": "2024-03-15T07:09:57.527Z"
   },
   {
    "duration": 26,
    "start_time": "2024-03-15T07:09:57.540Z"
   },
   {
    "duration": 19,
    "start_time": "2024-03-15T07:09:57.567Z"
   },
   {
    "duration": 128,
    "start_time": "2024-03-15T07:09:57.588Z"
   },
   {
    "duration": 9,
    "start_time": "2024-03-15T07:09:57.718Z"
   },
   {
    "duration": 20,
    "start_time": "2024-03-15T07:09:57.730Z"
   },
   {
    "duration": 32,
    "start_time": "2024-03-15T07:10:48.810Z"
   },
   {
    "duration": 6,
    "start_time": "2024-03-15T07:10:49.634Z"
   },
   {
    "duration": 9,
    "start_time": "2024-03-15T07:10:56.400Z"
   },
   {
    "duration": 55,
    "start_time": "2024-03-15T07:10:56.933Z"
   },
   {
    "duration": 32,
    "start_time": "2024-03-15T07:11:00.813Z"
   },
   {
    "duration": 6,
    "start_time": "2024-03-15T07:11:01.313Z"
   },
   {
    "duration": 126,
    "start_time": "2024-03-15T07:11:06.604Z"
   },
   {
    "duration": 4,
    "start_time": "2024-03-15T07:11:17.478Z"
   },
   {
    "duration": 179379,
    "start_time": "2024-03-15T07:11:18.789Z"
   },
   {
    "duration": 1871,
    "start_time": "2024-03-15T07:15:01.089Z"
   },
   {
    "duration": 4705,
    "start_time": "2024-03-15T07:21:11.932Z"
   },
   {
    "duration": 10275,
    "start_time": "2024-03-15T07:45:58.860Z"
   },
   {
    "duration": 4752,
    "start_time": "2024-03-15T07:46:09.137Z"
   },
   {
    "duration": 4028,
    "start_time": "2024-03-15T07:46:13.891Z"
   },
   {
    "duration": 31,
    "start_time": "2024-03-15T07:46:17.921Z"
   },
   {
    "duration": 22,
    "start_time": "2024-03-15T07:46:17.954Z"
   },
   {
    "duration": 4,
    "start_time": "2024-03-15T07:46:17.978Z"
   },
   {
    "duration": 9,
    "start_time": "2024-03-15T07:46:17.984Z"
   },
   {
    "duration": 154,
    "start_time": "2024-03-15T07:46:17.995Z"
   },
   {
    "duration": 8,
    "start_time": "2024-03-15T07:46:18.150Z"
   },
   {
    "duration": 22,
    "start_time": "2024-03-15T07:46:18.160Z"
   },
   {
    "duration": 32,
    "start_time": "2024-03-15T07:46:18.184Z"
   },
   {
    "duration": 40,
    "start_time": "2024-03-15T07:46:18.217Z"
   },
   {
    "duration": 76,
    "start_time": "2024-03-15T07:46:18.258Z"
   },
   {
    "duration": 566,
    "start_time": "2024-03-15T07:46:18.336Z"
   },
   {
    "duration": 3,
    "start_time": "2024-03-15T07:46:18.904Z"
   },
   {
    "duration": 1056326,
    "start_time": "2024-03-15T07:46:18.909Z"
   },
   {
    "duration": 10,
    "start_time": "2024-03-15T08:03:55.236Z"
   },
   {
    "duration": 73,
    "start_time": "2024-03-15T08:03:55.248Z"
   },
   {
    "duration": 22,
    "start_time": "2024-03-15T08:03:55.323Z"
   },
   {
    "duration": 46,
    "start_time": "2024-03-15T08:03:55.347Z"
   },
   {
    "duration": 6,
    "start_time": "2024-03-15T08:03:55.394Z"
   },
   {
    "duration": 182,
    "start_time": "2024-03-15T08:03:55.401Z"
   },
   {
    "duration": 378,
    "start_time": "2024-03-15T08:03:55.585Z"
   },
   {
    "duration": 0,
    "start_time": "2024-03-15T08:03:55.972Z"
   },
   {
    "duration": 0,
    "start_time": "2024-03-15T08:03:55.974Z"
   },
   {
    "duration": 0,
    "start_time": "2024-03-15T08:03:55.975Z"
   },
   {
    "duration": 0,
    "start_time": "2024-03-15T08:03:55.976Z"
   },
   {
    "duration": 0,
    "start_time": "2024-03-15T08:03:55.977Z"
   },
   {
    "duration": 8096,
    "start_time": "2024-03-15T08:10:06.567Z"
   },
   {
    "duration": 37,
    "start_time": "2024-03-15T08:10:21.895Z"
   },
   {
    "duration": 21,
    "start_time": "2024-03-15T08:10:23.712Z"
   },
   {
    "duration": 21,
    "start_time": "2024-03-15T08:10:27.476Z"
   },
   {
    "duration": 5,
    "start_time": "2024-03-15T08:11:21.792Z"
   },
   {
    "duration": 199773,
    "start_time": "2024-03-15T08:11:24.207Z"
   },
   {
    "duration": 13181,
    "start_time": "2024-03-16T17:52:31.420Z"
   },
   {
    "duration": 4966,
    "start_time": "2024-03-16T17:52:44.603Z"
   },
   {
    "duration": 2534,
    "start_time": "2024-03-16T17:52:49.570Z"
   },
   {
    "duration": 37,
    "start_time": "2024-03-16T17:52:52.106Z"
   },
   {
    "duration": 10,
    "start_time": "2024-03-16T17:52:52.145Z"
   },
   {
    "duration": 28,
    "start_time": "2024-03-16T17:52:52.157Z"
   },
   {
    "duration": 12,
    "start_time": "2024-03-16T17:52:52.186Z"
   },
   {
    "duration": 133,
    "start_time": "2024-03-16T17:52:52.199Z"
   },
   {
    "duration": 9,
    "start_time": "2024-03-16T17:52:52.334Z"
   },
   {
    "duration": 13,
    "start_time": "2024-03-16T17:52:52.350Z"
   },
   {
    "duration": 58,
    "start_time": "2024-03-16T17:52:52.365Z"
   },
   {
    "duration": 8,
    "start_time": "2024-03-16T17:52:52.425Z"
   },
   {
    "duration": 11,
    "start_time": "2024-03-16T17:52:52.435Z"
   },
   {
    "duration": 551,
    "start_time": "2024-03-16T17:52:52.447Z"
   },
   {
    "duration": 3,
    "start_time": "2024-03-16T17:52:53.000Z"
   },
   {
    "duration": 1104313,
    "start_time": "2024-03-16T17:52:53.005Z"
   },
   {
    "duration": 15,
    "start_time": "2024-03-16T18:11:17.321Z"
   },
   {
    "duration": 79,
    "start_time": "2024-03-16T18:11:17.338Z"
   },
   {
    "duration": 33,
    "start_time": "2024-03-16T18:11:17.420Z"
   },
   {
    "duration": 41,
    "start_time": "2024-03-16T18:11:17.455Z"
   },
   {
    "duration": 21,
    "start_time": "2024-03-16T18:11:17.499Z"
   },
   {
    "duration": 233,
    "start_time": "2024-03-16T18:11:17.535Z"
   },
   {
    "duration": 445,
    "start_time": "2024-03-16T18:11:17.770Z"
   },
   {
    "duration": 0,
    "start_time": "2024-03-16T18:11:18.217Z"
   },
   {
    "duration": 0,
    "start_time": "2024-03-16T18:11:18.218Z"
   },
   {
    "duration": 0,
    "start_time": "2024-03-16T18:11:18.219Z"
   },
   {
    "duration": 0,
    "start_time": "2024-03-16T18:11:18.220Z"
   },
   {
    "duration": 0,
    "start_time": "2024-03-16T18:11:18.221Z"
   },
   {
    "duration": 23,
    "start_time": "2024-03-16T18:52:22.082Z"
   },
   {
    "duration": 5,
    "start_time": "2024-03-16T18:52:44.866Z"
   },
   {
    "duration": 22,
    "start_time": "2024-03-16T18:52:47.491Z"
   },
   {
    "duration": 5,
    "start_time": "2024-03-16T18:53:28.999Z"
   }
  ],
  "kernelspec": {
   "display_name": "Python 3 (ipykernel)",
   "language": "python",
   "name": "python3"
  },
  "language_info": {
   "codemirror_mode": {
    "name": "ipython",
    "version": 3
   },
   "file_extension": ".py",
   "mimetype": "text/x-python",
   "name": "python",
   "nbconvert_exporter": "python",
   "pygments_lexer": "ipython3",
   "version": "3.11.4"
  },
  "toc": {
   "base_numbering": 1,
   "nav_menu": {},
   "number_sections": true,
   "sideBar": true,
   "skip_h1_title": true,
   "title_cell": "Содержание",
   "title_sidebar": "Contents",
   "toc_cell": true,
   "toc_position": {
    "height": "calc(100% - 180px)",
    "left": "10px",
    "top": "150px",
    "width": "302.391px"
   },
   "toc_section_display": true,
   "toc_window_display": false
  }
 },
 "nbformat": 4,
 "nbformat_minor": 4
}
