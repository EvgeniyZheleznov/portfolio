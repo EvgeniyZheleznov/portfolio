{
 "cells": [
  {
   "cell_type": "markdown",
   "id": "229bb421",
   "metadata": {
    "deletable": false,
    "editable": false,
    "id": "c81daeeb"
   },
   "source": [
    "# Исследование надежности заемщиков\n"
   ]
  },
  {
   "cell_type": "markdown",
   "id": "234148c3",
   "metadata": {
    "deletable": false,
    "editable": false,
    "id": "827c20bf"
   },
   "source": [
    "Во второй части проекта вы выполните шаги 3 и 4. Их вручную проверит ревьюер.\n",
    "Чтобы вам не пришлось писать код заново для шагов 1 и 2, мы добавили авторские решения в ячейки с кодом. \n",
    "\n"
   ]
  },
  {
   "cell_type": "markdown",
   "id": "f9fd0223",
   "metadata": {
    "deletable": false,
    "editable": false,
    "id": "744d7639"
   },
   "source": [
    "## Откройте таблицу и изучите общую информацию о данных"
   ]
  },
  {
   "cell_type": "markdown",
   "id": "b4d64c2d",
   "metadata": {
    "deletable": false,
    "editable": false,
    "id": "e7a14c31"
   },
   "source": [
    "**Задание 1. Импортируйте библиотеку pandas. Считайте данные из csv-файла в датафрейм и сохраните в переменную `data`. Путь к файлу:**\n",
    "\n",
    "`/datasets/data.csv`"
   ]
  },
  {
   "cell_type": "code",
   "execution_count": 1,
   "id": "23c5204c",
   "metadata": {
    "deletable": false,
    "id": "7bcf75c9"
   },
   "outputs": [],
   "source": [
    "import pandas as pd\n",
    "\n",
    "try:\n",
    "    data = pd.read_csv('/datasets/data.csv')\n",
    "except:\n",
    "    data = pd.read_csv('https://code.s3.yandex.net/datasets/data.csv')"
   ]
  },
  {
   "cell_type": "markdown",
   "id": "94fef378",
   "metadata": {
    "deletable": false,
    "editable": false,
    "id": "b8038fe3"
   },
   "source": [
    "**Задание 2. Выведите первые 20 строчек датафрейма `data` на экран.**"
   ]
  },
  {
   "cell_type": "code",
   "execution_count": 2,
   "id": "06a92ff4",
   "metadata": {
    "deletable": false,
    "id": "2a7cab99",
    "outputId": "1a8f3ef2-d323-4ec2-ddf7-89670b5944c4"
   },
   "outputs": [
    {
     "data": {
      "text/html": [
       "<div>\n",
       "<style scoped>\n",
       "    .dataframe tbody tr th:only-of-type {\n",
       "        vertical-align: middle;\n",
       "    }\n",
       "\n",
       "    .dataframe tbody tr th {\n",
       "        vertical-align: top;\n",
       "    }\n",
       "\n",
       "    .dataframe thead th {\n",
       "        text-align: right;\n",
       "    }\n",
       "</style>\n",
       "<table border=\"1\" class=\"dataframe\">\n",
       "  <thead>\n",
       "    <tr style=\"text-align: right;\">\n",
       "      <th></th>\n",
       "      <th>children</th>\n",
       "      <th>days_employed</th>\n",
       "      <th>dob_years</th>\n",
       "      <th>education</th>\n",
       "      <th>education_id</th>\n",
       "      <th>family_status</th>\n",
       "      <th>family_status_id</th>\n",
       "      <th>gender</th>\n",
       "      <th>income_type</th>\n",
       "      <th>debt</th>\n",
       "      <th>total_income</th>\n",
       "      <th>purpose</th>\n",
       "    </tr>\n",
       "  </thead>\n",
       "  <tbody>\n",
       "    <tr>\n",
       "      <th>0</th>\n",
       "      <td>1</td>\n",
       "      <td>-8437.673028</td>\n",
       "      <td>42</td>\n",
       "      <td>высшее</td>\n",
       "      <td>0</td>\n",
       "      <td>женат / замужем</td>\n",
       "      <td>0</td>\n",
       "      <td>F</td>\n",
       "      <td>сотрудник</td>\n",
       "      <td>0</td>\n",
       "      <td>253875.639453</td>\n",
       "      <td>покупка жилья</td>\n",
       "    </tr>\n",
       "    <tr>\n",
       "      <th>1</th>\n",
       "      <td>1</td>\n",
       "      <td>-4024.803754</td>\n",
       "      <td>36</td>\n",
       "      <td>среднее</td>\n",
       "      <td>1</td>\n",
       "      <td>женат / замужем</td>\n",
       "      <td>0</td>\n",
       "      <td>F</td>\n",
       "      <td>сотрудник</td>\n",
       "      <td>0</td>\n",
       "      <td>112080.014102</td>\n",
       "      <td>приобретение автомобиля</td>\n",
       "    </tr>\n",
       "    <tr>\n",
       "      <th>2</th>\n",
       "      <td>0</td>\n",
       "      <td>-5623.422610</td>\n",
       "      <td>33</td>\n",
       "      <td>Среднее</td>\n",
       "      <td>1</td>\n",
       "      <td>женат / замужем</td>\n",
       "      <td>0</td>\n",
       "      <td>M</td>\n",
       "      <td>сотрудник</td>\n",
       "      <td>0</td>\n",
       "      <td>145885.952297</td>\n",
       "      <td>покупка жилья</td>\n",
       "    </tr>\n",
       "    <tr>\n",
       "      <th>3</th>\n",
       "      <td>3</td>\n",
       "      <td>-4124.747207</td>\n",
       "      <td>32</td>\n",
       "      <td>среднее</td>\n",
       "      <td>1</td>\n",
       "      <td>женат / замужем</td>\n",
       "      <td>0</td>\n",
       "      <td>M</td>\n",
       "      <td>сотрудник</td>\n",
       "      <td>0</td>\n",
       "      <td>267628.550329</td>\n",
       "      <td>дополнительное образование</td>\n",
       "    </tr>\n",
       "    <tr>\n",
       "      <th>4</th>\n",
       "      <td>0</td>\n",
       "      <td>340266.072047</td>\n",
       "      <td>53</td>\n",
       "      <td>среднее</td>\n",
       "      <td>1</td>\n",
       "      <td>гражданский брак</td>\n",
       "      <td>1</td>\n",
       "      <td>F</td>\n",
       "      <td>пенсионер</td>\n",
       "      <td>0</td>\n",
       "      <td>158616.077870</td>\n",
       "      <td>сыграть свадьбу</td>\n",
       "    </tr>\n",
       "    <tr>\n",
       "      <th>5</th>\n",
       "      <td>0</td>\n",
       "      <td>-926.185831</td>\n",
       "      <td>27</td>\n",
       "      <td>высшее</td>\n",
       "      <td>0</td>\n",
       "      <td>гражданский брак</td>\n",
       "      <td>1</td>\n",
       "      <td>M</td>\n",
       "      <td>компаньон</td>\n",
       "      <td>0</td>\n",
       "      <td>255763.565419</td>\n",
       "      <td>покупка жилья</td>\n",
       "    </tr>\n",
       "    <tr>\n",
       "      <th>6</th>\n",
       "      <td>0</td>\n",
       "      <td>-2879.202052</td>\n",
       "      <td>43</td>\n",
       "      <td>высшее</td>\n",
       "      <td>0</td>\n",
       "      <td>женат / замужем</td>\n",
       "      <td>0</td>\n",
       "      <td>F</td>\n",
       "      <td>компаньон</td>\n",
       "      <td>0</td>\n",
       "      <td>240525.971920</td>\n",
       "      <td>операции с жильем</td>\n",
       "    </tr>\n",
       "    <tr>\n",
       "      <th>7</th>\n",
       "      <td>0</td>\n",
       "      <td>-152.779569</td>\n",
       "      <td>50</td>\n",
       "      <td>СРЕДНЕЕ</td>\n",
       "      <td>1</td>\n",
       "      <td>женат / замужем</td>\n",
       "      <td>0</td>\n",
       "      <td>M</td>\n",
       "      <td>сотрудник</td>\n",
       "      <td>0</td>\n",
       "      <td>135823.934197</td>\n",
       "      <td>образование</td>\n",
       "    </tr>\n",
       "    <tr>\n",
       "      <th>8</th>\n",
       "      <td>2</td>\n",
       "      <td>-6929.865299</td>\n",
       "      <td>35</td>\n",
       "      <td>ВЫСШЕЕ</td>\n",
       "      <td>0</td>\n",
       "      <td>гражданский брак</td>\n",
       "      <td>1</td>\n",
       "      <td>F</td>\n",
       "      <td>сотрудник</td>\n",
       "      <td>0</td>\n",
       "      <td>95856.832424</td>\n",
       "      <td>на проведение свадьбы</td>\n",
       "    </tr>\n",
       "    <tr>\n",
       "      <th>9</th>\n",
       "      <td>0</td>\n",
       "      <td>-2188.756445</td>\n",
       "      <td>41</td>\n",
       "      <td>среднее</td>\n",
       "      <td>1</td>\n",
       "      <td>женат / замужем</td>\n",
       "      <td>0</td>\n",
       "      <td>M</td>\n",
       "      <td>сотрудник</td>\n",
       "      <td>0</td>\n",
       "      <td>144425.938277</td>\n",
       "      <td>покупка жилья для семьи</td>\n",
       "    </tr>\n",
       "    <tr>\n",
       "      <th>10</th>\n",
       "      <td>2</td>\n",
       "      <td>-4171.483647</td>\n",
       "      <td>36</td>\n",
       "      <td>высшее</td>\n",
       "      <td>0</td>\n",
       "      <td>женат / замужем</td>\n",
       "      <td>0</td>\n",
       "      <td>M</td>\n",
       "      <td>компаньон</td>\n",
       "      <td>0</td>\n",
       "      <td>113943.491460</td>\n",
       "      <td>покупка недвижимости</td>\n",
       "    </tr>\n",
       "    <tr>\n",
       "      <th>11</th>\n",
       "      <td>0</td>\n",
       "      <td>-792.701887</td>\n",
       "      <td>40</td>\n",
       "      <td>среднее</td>\n",
       "      <td>1</td>\n",
       "      <td>женат / замужем</td>\n",
       "      <td>0</td>\n",
       "      <td>F</td>\n",
       "      <td>сотрудник</td>\n",
       "      <td>0</td>\n",
       "      <td>77069.234271</td>\n",
       "      <td>покупка коммерческой недвижимости</td>\n",
       "    </tr>\n",
       "    <tr>\n",
       "      <th>12</th>\n",
       "      <td>0</td>\n",
       "      <td>NaN</td>\n",
       "      <td>65</td>\n",
       "      <td>среднее</td>\n",
       "      <td>1</td>\n",
       "      <td>гражданский брак</td>\n",
       "      <td>1</td>\n",
       "      <td>M</td>\n",
       "      <td>пенсионер</td>\n",
       "      <td>0</td>\n",
       "      <td>NaN</td>\n",
       "      <td>сыграть свадьбу</td>\n",
       "    </tr>\n",
       "    <tr>\n",
       "      <th>13</th>\n",
       "      <td>0</td>\n",
       "      <td>-1846.641941</td>\n",
       "      <td>54</td>\n",
       "      <td>неоконченное высшее</td>\n",
       "      <td>2</td>\n",
       "      <td>женат / замужем</td>\n",
       "      <td>0</td>\n",
       "      <td>F</td>\n",
       "      <td>сотрудник</td>\n",
       "      <td>0</td>\n",
       "      <td>130458.228857</td>\n",
       "      <td>приобретение автомобиля</td>\n",
       "    </tr>\n",
       "    <tr>\n",
       "      <th>14</th>\n",
       "      <td>0</td>\n",
       "      <td>-1844.956182</td>\n",
       "      <td>56</td>\n",
       "      <td>высшее</td>\n",
       "      <td>0</td>\n",
       "      <td>гражданский брак</td>\n",
       "      <td>1</td>\n",
       "      <td>F</td>\n",
       "      <td>компаньон</td>\n",
       "      <td>1</td>\n",
       "      <td>165127.911772</td>\n",
       "      <td>покупка жилой недвижимости</td>\n",
       "    </tr>\n",
       "    <tr>\n",
       "      <th>15</th>\n",
       "      <td>1</td>\n",
       "      <td>-972.364419</td>\n",
       "      <td>26</td>\n",
       "      <td>среднее</td>\n",
       "      <td>1</td>\n",
       "      <td>женат / замужем</td>\n",
       "      <td>0</td>\n",
       "      <td>F</td>\n",
       "      <td>сотрудник</td>\n",
       "      <td>0</td>\n",
       "      <td>116820.904450</td>\n",
       "      <td>строительство собственной недвижимости</td>\n",
       "    </tr>\n",
       "    <tr>\n",
       "      <th>16</th>\n",
       "      <td>0</td>\n",
       "      <td>-1719.934226</td>\n",
       "      <td>35</td>\n",
       "      <td>среднее</td>\n",
       "      <td>1</td>\n",
       "      <td>женат / замужем</td>\n",
       "      <td>0</td>\n",
       "      <td>F</td>\n",
       "      <td>сотрудник</td>\n",
       "      <td>0</td>\n",
       "      <td>289202.704229</td>\n",
       "      <td>недвижимость</td>\n",
       "    </tr>\n",
       "    <tr>\n",
       "      <th>17</th>\n",
       "      <td>0</td>\n",
       "      <td>-2369.999720</td>\n",
       "      <td>33</td>\n",
       "      <td>высшее</td>\n",
       "      <td>0</td>\n",
       "      <td>гражданский брак</td>\n",
       "      <td>1</td>\n",
       "      <td>M</td>\n",
       "      <td>сотрудник</td>\n",
       "      <td>0</td>\n",
       "      <td>90410.586745</td>\n",
       "      <td>строительство недвижимости</td>\n",
       "    </tr>\n",
       "    <tr>\n",
       "      <th>18</th>\n",
       "      <td>0</td>\n",
       "      <td>400281.136913</td>\n",
       "      <td>53</td>\n",
       "      <td>среднее</td>\n",
       "      <td>1</td>\n",
       "      <td>вдовец / вдова</td>\n",
       "      <td>2</td>\n",
       "      <td>F</td>\n",
       "      <td>пенсионер</td>\n",
       "      <td>0</td>\n",
       "      <td>56823.777243</td>\n",
       "      <td>на покупку подержанного автомобиля</td>\n",
       "    </tr>\n",
       "    <tr>\n",
       "      <th>19</th>\n",
       "      <td>0</td>\n",
       "      <td>-10038.818549</td>\n",
       "      <td>48</td>\n",
       "      <td>СРЕДНЕЕ</td>\n",
       "      <td>1</td>\n",
       "      <td>в разводе</td>\n",
       "      <td>3</td>\n",
       "      <td>F</td>\n",
       "      <td>сотрудник</td>\n",
       "      <td>0</td>\n",
       "      <td>242831.107982</td>\n",
       "      <td>на покупку своего автомобиля</td>\n",
       "    </tr>\n",
       "  </tbody>\n",
       "</table>\n",
       "</div>"
      ],
      "text/plain": [
       "    children  days_employed  dob_years            education  education_id  \\\n",
       "0          1   -8437.673028         42               высшее             0   \n",
       "1          1   -4024.803754         36              среднее             1   \n",
       "2          0   -5623.422610         33              Среднее             1   \n",
       "3          3   -4124.747207         32              среднее             1   \n",
       "4          0  340266.072047         53              среднее             1   \n",
       "5          0    -926.185831         27               высшее             0   \n",
       "6          0   -2879.202052         43               высшее             0   \n",
       "7          0    -152.779569         50              СРЕДНЕЕ             1   \n",
       "8          2   -6929.865299         35               ВЫСШЕЕ             0   \n",
       "9          0   -2188.756445         41              среднее             1   \n",
       "10         2   -4171.483647         36               высшее             0   \n",
       "11         0    -792.701887         40              среднее             1   \n",
       "12         0            NaN         65              среднее             1   \n",
       "13         0   -1846.641941         54  неоконченное высшее             2   \n",
       "14         0   -1844.956182         56               высшее             0   \n",
       "15         1    -972.364419         26              среднее             1   \n",
       "16         0   -1719.934226         35              среднее             1   \n",
       "17         0   -2369.999720         33               высшее             0   \n",
       "18         0  400281.136913         53              среднее             1   \n",
       "19         0  -10038.818549         48              СРЕДНЕЕ             1   \n",
       "\n",
       "       family_status  family_status_id gender income_type  debt  \\\n",
       "0    женат / замужем                 0      F   сотрудник     0   \n",
       "1    женат / замужем                 0      F   сотрудник     0   \n",
       "2    женат / замужем                 0      M   сотрудник     0   \n",
       "3    женат / замужем                 0      M   сотрудник     0   \n",
       "4   гражданский брак                 1      F   пенсионер     0   \n",
       "5   гражданский брак                 1      M   компаньон     0   \n",
       "6    женат / замужем                 0      F   компаньон     0   \n",
       "7    женат / замужем                 0      M   сотрудник     0   \n",
       "8   гражданский брак                 1      F   сотрудник     0   \n",
       "9    женат / замужем                 0      M   сотрудник     0   \n",
       "10   женат / замужем                 0      M   компаньон     0   \n",
       "11   женат / замужем                 0      F   сотрудник     0   \n",
       "12  гражданский брак                 1      M   пенсионер     0   \n",
       "13   женат / замужем                 0      F   сотрудник     0   \n",
       "14  гражданский брак                 1      F   компаньон     1   \n",
       "15   женат / замужем                 0      F   сотрудник     0   \n",
       "16   женат / замужем                 0      F   сотрудник     0   \n",
       "17  гражданский брак                 1      M   сотрудник     0   \n",
       "18    вдовец / вдова                 2      F   пенсионер     0   \n",
       "19         в разводе                 3      F   сотрудник     0   \n",
       "\n",
       "     total_income                                 purpose  \n",
       "0   253875.639453                           покупка жилья  \n",
       "1   112080.014102                 приобретение автомобиля  \n",
       "2   145885.952297                           покупка жилья  \n",
       "3   267628.550329              дополнительное образование  \n",
       "4   158616.077870                         сыграть свадьбу  \n",
       "5   255763.565419                           покупка жилья  \n",
       "6   240525.971920                       операции с жильем  \n",
       "7   135823.934197                             образование  \n",
       "8    95856.832424                   на проведение свадьбы  \n",
       "9   144425.938277                 покупка жилья для семьи  \n",
       "10  113943.491460                    покупка недвижимости  \n",
       "11   77069.234271       покупка коммерческой недвижимости  \n",
       "12            NaN                         сыграть свадьбу  \n",
       "13  130458.228857                 приобретение автомобиля  \n",
       "14  165127.911772              покупка жилой недвижимости  \n",
       "15  116820.904450  строительство собственной недвижимости  \n",
       "16  289202.704229                            недвижимость  \n",
       "17   90410.586745              строительство недвижимости  \n",
       "18   56823.777243      на покупку подержанного автомобиля  \n",
       "19  242831.107982            на покупку своего автомобиля  "
      ]
     },
     "execution_count": 2,
     "metadata": {},
     "output_type": "execute_result"
    }
   ],
   "source": [
    "data.head(20)"
   ]
  },
  {
   "cell_type": "markdown",
   "id": "a2d86c29",
   "metadata": {
    "deletable": false,
    "editable": false,
    "id": "1c12e233"
   },
   "source": [
    "**Задание 3. Выведите основную информацию о датафрейме с помощью метода `info()`.**"
   ]
  },
  {
   "cell_type": "code",
   "execution_count": 3,
   "id": "cc899917",
   "metadata": {
    "deletable": false,
    "id": "2b757bca",
    "outputId": "15376089-8dad-46c9-b520-c05248d43158"
   },
   "outputs": [
    {
     "name": "stdout",
     "output_type": "stream",
     "text": [
      "<class 'pandas.core.frame.DataFrame'>\n",
      "RangeIndex: 21525 entries, 0 to 21524\n",
      "Data columns (total 12 columns):\n",
      " #   Column            Non-Null Count  Dtype  \n",
      "---  ------            --------------  -----  \n",
      " 0   children          21525 non-null  int64  \n",
      " 1   days_employed     19351 non-null  float64\n",
      " 2   dob_years         21525 non-null  int64  \n",
      " 3   education         21525 non-null  object \n",
      " 4   education_id      21525 non-null  int64  \n",
      " 5   family_status     21525 non-null  object \n",
      " 6   family_status_id  21525 non-null  int64  \n",
      " 7   gender            21525 non-null  object \n",
      " 8   income_type       21525 non-null  object \n",
      " 9   debt              21525 non-null  int64  \n",
      " 10  total_income      19351 non-null  float64\n",
      " 11  purpose           21525 non-null  object \n",
      "dtypes: float64(2), int64(5), object(5)\n",
      "memory usage: 2.0+ MB\n"
     ]
    }
   ],
   "source": [
    "data.info()"
   ]
  },
  {
   "cell_type": "markdown",
   "id": "b0eb0e94",
   "metadata": {
    "deletable": false,
    "editable": false,
    "id": "333ec665"
   },
   "source": [
    "## Предобработка данных"
   ]
  },
  {
   "cell_type": "markdown",
   "id": "d1ae9d9e",
   "metadata": {
    "deletable": false,
    "editable": false,
    "id": "02d92d53"
   },
   "source": [
    "### Удаление пропусков"
   ]
  },
  {
   "cell_type": "markdown",
   "id": "01d7c0bb",
   "metadata": {
    "deletable": false,
    "editable": false,
    "id": "cd84967c"
   },
   "source": [
    "**Задание 4. Выведите количество пропущенных значений для каждого столбца. Используйте комбинацию двух методов.**"
   ]
  },
  {
   "cell_type": "code",
   "execution_count": 4,
   "id": "cf6c8ef8",
   "metadata": {
    "deletable": false,
    "id": "7f9b2309",
    "outputId": "81f4d817-781c-465c-ed15-91ce4446810d"
   },
   "outputs": [
    {
     "data": {
      "text/plain": [
       "children               0\n",
       "days_employed       2174\n",
       "dob_years              0\n",
       "education              0\n",
       "education_id           0\n",
       "family_status          0\n",
       "family_status_id       0\n",
       "gender                 0\n",
       "income_type            0\n",
       "debt                   0\n",
       "total_income        2174\n",
       "purpose                0\n",
       "dtype: int64"
      ]
     },
     "execution_count": 4,
     "metadata": {},
     "output_type": "execute_result"
    }
   ],
   "source": [
    "data.isna().sum()"
   ]
  },
  {
   "cell_type": "markdown",
   "id": "fcd650a1",
   "metadata": {
    "deletable": false,
    "editable": false,
    "id": "db86e27b"
   },
   "source": [
    "**Задание 5. В двух столбцах есть пропущенные значения. Один из них — `days_employed`. Пропуски в этом столбце вы обработаете на следующем этапе. Другой столбец с пропущенными значениями — `total_income` — хранит данные о доходах. На сумму дохода сильнее всего влияет тип занятости, поэтому заполнить пропуски в этом столбце нужно медианным значением по каждому типу из столбца `income_type`. Например, у человека с типом занятости `сотрудник` пропуск в столбце `total_income` должен быть заполнен медианным доходом среди всех записей с тем же типом.**"
   ]
  },
  {
   "cell_type": "code",
   "execution_count": 5,
   "id": "6a431ead",
   "metadata": {
    "deletable": false,
    "id": "42006a93"
   },
   "outputs": [],
   "source": [
    "for t in data['income_type'].unique():\n",
    "    data.loc[(data['income_type'] == t) & (data['total_income'].isna()), 'total_income'] = \\\n",
    "    data.loc[(data['income_type'] == t), 'total_income'].median()"
   ]
  },
  {
   "cell_type": "markdown",
   "id": "4105b5dd",
   "metadata": {
    "deletable": false,
    "editable": false,
    "id": "89da5ece"
   },
   "source": [
    "### Обработка аномальных значений"
   ]
  },
  {
   "cell_type": "markdown",
   "id": "212ef4e8",
   "metadata": {
    "deletable": false,
    "editable": false,
    "id": "57964554"
   },
   "source": [
    "**Задание 6. В данных могут встречаться артефакты (аномалии) — значения, которые не отражают действительность и появились по какой-то ошибке. таким артефактом будет отрицательное количество дней трудового стажа в столбце `days_employed`. Для реальных данных это нормально. Обработайте значения в этом столбце: замените все отрицательные значения положительными с помощью метода `abs()`.**"
   ]
  },
  {
   "cell_type": "code",
   "execution_count": 6,
   "id": "bdac980c",
   "metadata": {
    "deletable": false,
    "id": "f6f055bf"
   },
   "outputs": [],
   "source": [
    "data['days_employed'] = data['days_employed'].abs()"
   ]
  },
  {
   "cell_type": "markdown",
   "id": "a41c8aaa",
   "metadata": {
    "deletable": false,
    "editable": false,
    "id": "6107dd2f"
   },
   "source": [
    "**Задание 7. Для каждого типа занятости выведите медианное значение трудового стажа `days_employed` в днях.**"
   ]
  },
  {
   "cell_type": "code",
   "execution_count": 7,
   "id": "6a07a9bd",
   "metadata": {
    "deletable": false,
    "id": "85a5faf6",
    "outputId": "801ef80e-522b-4668-f34e-565af7432bcf"
   },
   "outputs": [
    {
     "data": {
      "text/plain": [
       "income_type\n",
       "безработный        366413.652744\n",
       "в декрете            3296.759962\n",
       "госслужащий          2689.368353\n",
       "компаньон            1547.382223\n",
       "пенсионер          365213.306266\n",
       "предприниматель       520.848083\n",
       "сотрудник            1574.202821\n",
       "студент               578.751554\n",
       "Name: days_employed, dtype: float64"
      ]
     },
     "execution_count": 7,
     "metadata": {},
     "output_type": "execute_result"
    }
   ],
   "source": [
    "data.groupby('income_type')['days_employed'].agg('median')"
   ]
  },
  {
   "cell_type": "markdown",
   "id": "ad8a1ba7",
   "metadata": {
    "deletable": false,
    "editable": false,
    "id": "38d1a030"
   },
   "source": [
    "У двух типов (безработные и пенсионеры) получатся аномально большие значения. Исправить такие значения сложно, поэтому оставьте их как есть. Тем более этот столбец не понадобится вам для исследования."
   ]
  },
  {
   "cell_type": "markdown",
   "id": "6e2d43e9",
   "metadata": {
    "deletable": false,
    "editable": false,
    "id": "d8a9f147"
   },
   "source": [
    "**Задание 8. Выведите перечень уникальных значений столбца `children`.**"
   ]
  },
  {
   "cell_type": "code",
   "execution_count": 8,
   "id": "e3e1546f",
   "metadata": {
    "deletable": false,
    "id": "ef5056eb",
    "outputId": "6975b15c-7f95-4697-d16d-a0c79b657b03"
   },
   "outputs": [
    {
     "data": {
      "text/plain": [
       "array([ 1,  0,  3,  2, -1,  4, 20,  5])"
      ]
     },
     "execution_count": 8,
     "metadata": {},
     "output_type": "execute_result"
    }
   ],
   "source": [
    "data['children'].unique()"
   ]
  },
  {
   "cell_type": "markdown",
   "id": "70589701",
   "metadata": {
    "deletable": false,
    "editable": false,
    "id": "40b9ebf2"
   },
   "source": [
    "**Задание 9. В столбце `children` есть два аномальных значения. Удалите строки, в которых встречаются такие аномальные значения из датафрейма `data`.**"
   ]
  },
  {
   "cell_type": "code",
   "execution_count": 9,
   "id": "a0509d7b",
   "metadata": {
    "deletable": false,
    "id": "3ff9801d"
   },
   "outputs": [],
   "source": [
    "data = data[(data['children'] != -1) & (data['children'] != 20)]"
   ]
  },
  {
   "cell_type": "markdown",
   "id": "68ba35c5",
   "metadata": {
    "deletable": false,
    "editable": false,
    "id": "bbc4d0ce"
   },
   "source": [
    "**Задание 10. Ещё раз выведите перечень уникальных значений столбца `children`, чтобы убедиться, что артефакты удалены.**"
   ]
  },
  {
   "cell_type": "code",
   "execution_count": 10,
   "id": "ab528b6f",
   "metadata": {
    "deletable": false,
    "id": "ad4fa8b7",
    "outputId": "b2097101-d49d-44d9-901b-32a65c9463d1"
   },
   "outputs": [
    {
     "data": {
      "text/plain": [
       "array([1, 0, 3, 2, 4, 5])"
      ]
     },
     "execution_count": 10,
     "metadata": {},
     "output_type": "execute_result"
    }
   ],
   "source": [
    "data['children'].unique()"
   ]
  },
  {
   "cell_type": "markdown",
   "id": "9a7b3eb6",
   "metadata": {
    "deletable": false,
    "editable": false,
    "id": "75440b63"
   },
   "source": [
    "### Удаление пропусков (продолжение)"
   ]
  },
  {
   "cell_type": "markdown",
   "id": "1a7deaf3",
   "metadata": {
    "deletable": false,
    "editable": false,
    "id": "f4ea573f"
   },
   "source": [
    "**Задание 11. Заполните пропуски в столбце `days_employed` медианными значениями по каждого типа занятости `income_type`.**"
   ]
  },
  {
   "cell_type": "code",
   "execution_count": 11,
   "id": "7cd7afa6",
   "metadata": {
    "deletable": false,
    "id": "af6b1a7e"
   },
   "outputs": [],
   "source": [
    "for t in data['income_type'].unique():\n",
    "    data.loc[(data['income_type'] == t) & (data['days_employed'].isna()), 'days_employed'] = \\\n",
    "    data.loc[(data['income_type'] == t), 'days_employed'].median()"
   ]
  },
  {
   "cell_type": "markdown",
   "id": "87366d4c",
   "metadata": {
    "deletable": false,
    "editable": false,
    "id": "2753f40d"
   },
   "source": [
    "**Задание 12. Убедитесь, что все пропуски заполнены. Проверьте себя и ещё раз выведите количество пропущенных значений для каждого столбца с помощью двух методов.**"
   ]
  },
  {
   "cell_type": "code",
   "execution_count": 12,
   "id": "ebeba576",
   "metadata": {
    "deletable": false,
    "id": "55f78bc2",
    "outputId": "8da1e4e1-358e-4e87-98c9-f261bce0a7b2"
   },
   "outputs": [
    {
     "data": {
      "text/plain": [
       "children            0\n",
       "days_employed       0\n",
       "dob_years           0\n",
       "education           0\n",
       "education_id        0\n",
       "family_status       0\n",
       "family_status_id    0\n",
       "gender              0\n",
       "income_type         0\n",
       "debt                0\n",
       "total_income        0\n",
       "purpose             0\n",
       "dtype: int64"
      ]
     },
     "execution_count": 12,
     "metadata": {},
     "output_type": "execute_result"
    }
   ],
   "source": [
    "data.isna().sum()"
   ]
  },
  {
   "cell_type": "markdown",
   "id": "3e634b05",
   "metadata": {
    "deletable": false,
    "editable": false,
    "id": "ddc81e43"
   },
   "source": [
    "### Изменение типов данных"
   ]
  },
  {
   "cell_type": "markdown",
   "id": "60d0a218",
   "metadata": {
    "deletable": false,
    "editable": false,
    "id": "42d19d24"
   },
   "source": [
    "**Задание 13. Замените вещественный тип данных в столбце `total_income` на целочисленный с помощью метода `astype()`.**"
   ]
  },
  {
   "cell_type": "code",
   "execution_count": 13,
   "id": "f06c6026",
   "metadata": {
    "deletable": false,
    "id": "920b65ad"
   },
   "outputs": [],
   "source": [
    "data['total_income'] = data['total_income'].astype(int)"
   ]
  },
  {
   "cell_type": "markdown",
   "id": "07586dc3",
   "metadata": {
    "deletable": false,
    "editable": false,
    "id": "80c420ba"
   },
   "source": [
    "### Обработка дубликатов"
   ]
  },
  {
   "cell_type": "markdown",
   "id": "7f19a333",
   "metadata": {
    "deletable": false,
    "editable": false
   },
   "source": [
    "**Задание 14. Обработайте неявные дубликаты в столбце `education`. В этом столбце есть одни и те же значения, но записанные по-разному: с использованием заглавных и строчных букв. Приведите их к нижнему регистру. Проверьте остальные столбцы.**"
   ]
  },
  {
   "cell_type": "code",
   "execution_count": 14,
   "id": "f2b57f79",
   "metadata": {
    "deletable": false
   },
   "outputs": [],
   "source": [
    "data['education'] = data['education'].str.lower()"
   ]
  },
  {
   "cell_type": "markdown",
   "id": "fb66e1b9",
   "metadata": {
    "deletable": false,
    "editable": false,
    "id": "dc587695"
   },
   "source": [
    "**Задание 15. Выведите на экран количество строк-дубликатов в данных. Если такие строки присутствуют, удалите их.**"
   ]
  },
  {
   "cell_type": "code",
   "execution_count": 15,
   "id": "577af4b0",
   "metadata": {
    "deletable": false,
    "id": "3ee445e4",
    "outputId": "9684deba-1934-42d1-99e1-cda61740f822"
   },
   "outputs": [
    {
     "data": {
      "text/plain": [
       "71"
      ]
     },
     "execution_count": 15,
     "metadata": {},
     "output_type": "execute_result"
    }
   ],
   "source": [
    "data.duplicated().sum()"
   ]
  },
  {
   "cell_type": "code",
   "execution_count": 16,
   "id": "6d2b1c77",
   "metadata": {
    "deletable": false,
    "id": "8575fe05"
   },
   "outputs": [],
   "source": [
    "data = data.drop_duplicates()"
   ]
  },
  {
   "cell_type": "markdown",
   "id": "a2b2ff86",
   "metadata": {
    "deletable": false,
    "editable": false,
    "id": "9904cf55"
   },
   "source": [
    "### Категоризация данных"
   ]
  },
  {
   "cell_type": "markdown",
   "id": "45df87eb",
   "metadata": {
    "deletable": false,
    "editable": false,
    "id": "72fcc8a2"
   },
   "source": [
    "**Задание 16. На основании диапазонов, указанных ниже, создайте в датафрейме `data` столбец `total_income_category` с категориями:**\n",
    "\n",
    "- 0–30000 — `'E'`;\n",
    "- 30001–50000 — `'D'`;\n",
    "- 50001–200000 — `'C'`;\n",
    "- 200001–1000000 — `'B'`;\n",
    "- 1000001 и выше — `'A'`.\n",
    "\n",
    "\n",
    "**Например, кредитополучателю с доходом 25000 нужно назначить категорию `'E'`, а клиенту, получающему 235000, — `'B'`. Используйте собственную функцию с именем `categorize_income()` и метод `apply()`.**"
   ]
  },
  {
   "cell_type": "code",
   "execution_count": 17,
   "id": "c5f32270",
   "metadata": {
    "deletable": false,
    "id": "e1771346"
   },
   "outputs": [],
   "source": [
    "def categorize_income(income):\n",
    "    try:\n",
    "        if 0 <= income <= 30000:\n",
    "            return 'E'\n",
    "        elif 30001 <= income <= 50000:\n",
    "            return 'D'\n",
    "        elif 50001 <= income <= 200000:\n",
    "            return 'C'\n",
    "        elif 200001 <= income <= 1000000:\n",
    "            return 'B'\n",
    "        elif income >= 1000001:\n",
    "            return 'A'\n",
    "    except:\n",
    "        pass"
   ]
  },
  {
   "cell_type": "code",
   "execution_count": 18,
   "id": "d4ea519d",
   "metadata": {
    "deletable": false,
    "id": "d5f3586d"
   },
   "outputs": [],
   "source": [
    "data['total_income_category'] = data['total_income'].apply(categorize_income)"
   ]
  },
  {
   "cell_type": "markdown",
   "id": "cbc15467",
   "metadata": {
    "deletable": false,
    "editable": false,
    "id": "dde49b5c"
   },
   "source": [
    "**Задание 17. Выведите на экран перечень уникальных целей взятия кредита из столбца `purpose`.**"
   ]
  },
  {
   "cell_type": "code",
   "execution_count": 19,
   "id": "374fbb3c",
   "metadata": {
    "deletable": false,
    "id": "f67ce9b3",
    "outputId": "673c12d9-7d7e-4ae0-9812-c622c89dd244"
   },
   "outputs": [
    {
     "data": {
      "text/plain": [
       "array(['покупка жилья', 'приобретение автомобиля',\n",
       "       'дополнительное образование', 'сыграть свадьбу',\n",
       "       'операции с жильем', 'образование', 'на проведение свадьбы',\n",
       "       'покупка жилья для семьи', 'покупка недвижимости',\n",
       "       'покупка коммерческой недвижимости', 'покупка жилой недвижимости',\n",
       "       'строительство собственной недвижимости', 'недвижимость',\n",
       "       'строительство недвижимости', 'на покупку подержанного автомобиля',\n",
       "       'на покупку своего автомобиля',\n",
       "       'операции с коммерческой недвижимостью',\n",
       "       'строительство жилой недвижимости', 'жилье',\n",
       "       'операции со своей недвижимостью', 'автомобили',\n",
       "       'заняться образованием', 'сделка с подержанным автомобилем',\n",
       "       'получение образования', 'автомобиль', 'свадьба',\n",
       "       'получение дополнительного образования', 'покупка своего жилья',\n",
       "       'операции с недвижимостью', 'получение высшего образования',\n",
       "       'свой автомобиль', 'сделка с автомобилем',\n",
       "       'профильное образование', 'высшее образование',\n",
       "       'покупка жилья для сдачи', 'на покупку автомобиля', 'ремонт жилью',\n",
       "       'заняться высшим образованием'], dtype=object)"
      ]
     },
     "execution_count": 19,
     "metadata": {},
     "output_type": "execute_result"
    }
   ],
   "source": [
    "data['purpose'].unique()"
   ]
  },
  {
   "cell_type": "markdown",
   "id": "dccf3e54",
   "metadata": {
    "deletable": false,
    "editable": false,
    "id": "85d0aef0"
   },
   "source": [
    "**Задание 18. Создайте функцию, которая на основании данных из столбца `purpose` сформирует новый столбец `purpose_category`, в который войдут следующие категории:**\n",
    "\n",
    "- `'операции с автомобилем'`,\n",
    "- `'операции с недвижимостью'`,\n",
    "- `'проведение свадьбы'`,\n",
    "- `'получение образования'`.\n",
    "\n",
    "**Например, если в столбце `purpose` находится подстрока `'на покупку автомобиля'`, то в столбце `purpose_category` должна появиться строка `'операции с автомобилем'`.**\n",
    "\n",
    "**Используйте собственную функцию с именем `categorize_purpose()` и метод `apply()`. Изучите данные в столбце `purpose` и определите, какие подстроки помогут вам правильно определить категорию.**"
   ]
  },
  {
   "cell_type": "code",
   "execution_count": 20,
   "id": "6efa50d5",
   "metadata": {
    "deletable": false,
    "id": "e149fab4"
   },
   "outputs": [],
   "source": [
    "def categorize_purpose(row):\n",
    "    try:\n",
    "        if 'автом' in row:\n",
    "            return 'операции с автомобилем'\n",
    "        elif 'жил' in row or 'недвиж' in row:\n",
    "            return 'операции с недвижимостью'\n",
    "        elif 'свад' in row:\n",
    "            return 'проведение свадьбы'\n",
    "        elif 'образов' in row:\n",
    "            return 'получение образования'\n",
    "    except:\n",
    "        return 'нет категории'"
   ]
  },
  {
   "cell_type": "code",
   "execution_count": 21,
   "id": "4fc19081",
   "metadata": {
    "deletable": false,
    "id": "bf36e69b"
   },
   "outputs": [],
   "source": [
    "data['purpose_category'] = data['purpose'].apply(categorize_purpose)"
   ]
  },
  {
   "cell_type": "markdown",
   "id": "6c7d7546",
   "metadata": {
    "deletable": false,
    "editable": false,
    "id": "09b242bf"
   },
   "source": [
    "### Шаг 3. Исследуйте данные и ответьте на вопросы"
   ]
  },
  {
   "cell_type": "markdown",
   "id": "84cc0bcd",
   "metadata": {
    "deletable": false,
    "editable": false,
    "id": "c5d66278"
   },
   "source": [
    "#### 3.1 Есть ли зависимость между количеством детей и возвратом кредита в срок?"
   ]
  },
  {
   "cell_type": "code",
   "execution_count": 22,
   "id": "85b380db",
   "metadata": {
    "deletable": false,
    "id": "2cacfc4a",
    "scrolled": true
   },
   "outputs": [
    {
     "name": "stdout",
     "output_type": "stream",
     "text": [
      "           debt       conversion\n",
      "          count   sum           \n",
      "children                        \n",
      "5             9     0   0.000000\n",
      "0         14091  1063   7.543822\n",
      "3           330    27   8.181818\n",
      "1          4808   444   9.234609\n",
      "2          2052   194   9.454191\n",
      "4            41     4   9.756098\n"
     ]
    }
   ],
   "source": [
    "\n",
    "#print(data.groupby('children')['debt'].sum()) #колличество должников\n",
    "#print(data['children'].value_counts()) # группировка по колличеству детей\n",
    "#print(((data.groupby('children')['debt'].sum())/(data['children'].value_counts())*100)) # процент должников \n",
    "\n",
    "data_grouped = data.groupby('children').agg({'debt': ['count', 'sum']})\n",
    "data_grouped['conversion'] = (data_grouped['debt']['sum'] / data_grouped['debt']['count'])*100\n",
    "print(data_grouped.sort_values(by='conversion', ascending=True))\n",
    "# Ваш код будет здесь. Вы можете создавать новые ячейки.\n"
   ]
  },
  {
   "cell_type": "markdown",
   "id": "76deb256",
   "metadata": {
    "deletable": false,
    "id": "3a6b99ec"
   },
   "source": [
    "**Вывод:**  Должники с 4 и более детей мало информации, что бы сделать однозначные выводы. Все остальные данные показывают, что более надежные клиенты без детей, хоть и не сильно. \n",
    " Дети накладывают дополнительные непрогнозируемые расходы. Хотя, нельзя утверждать однозначно, что количество детей определяет дисциплинированность, так как клиенты с тремя детьми белее надежные чем с двумя и одним (это может быть погрешность). Следовательно, более надежные клиенты, без детей. "
   ]
  },
  {
   "cell_type": "markdown",
   "id": "c0c2ed03",
   "metadata": {
    "deletable": false,
    "editable": false,
    "id": "97be82ca"
   },
   "source": [
    "#### 3.2 Есть ли зависимость между семейным положением и возвратом кредита в срок?"
   ]
  },
  {
   "cell_type": "code",
   "execution_count": 23,
   "id": "37284dab",
   "metadata": {
    "deletable": false,
    "id": "dc3f7ee8"
   },
   "outputs": [
    {
     "name": "stdout",
     "output_type": "stream",
     "text": [
      "                        debt      conversion\n",
      "                       count  sum           \n",
      "family_status                               \n",
      "вдовец / вдова           951   63   6.624606\n",
      "в разводе               1189   84   7.064760\n",
      "женат / замужем        12261  927   7.560558\n",
      "гражданский брак        4134  385   9.313014\n",
      "Не женат / не замужем   2796  273   9.763948\n",
      "\n"
     ]
    }
   ],
   "source": [
    "data_grouped = data.groupby('family_status').agg({'debt': ['count', 'sum']})\n",
    "data_grouped['conversion'] = (data_grouped['debt']['sum'] / data_grouped['debt']['count'])*100\n",
    "print(data_grouped.sort_values(by='conversion', ascending=True))\n",
    "# Ваш код будет здесь. Вы можете создавать новые ячейки.\n",
    "print()"
   ]
  },
  {
   "cell_type": "markdown",
   "id": "2a5be9be",
   "metadata": {
    "deletable": false,
    "id": "1cef7837"
   },
   "source": [
    "**Вывод:**  В категории семейное положение все очень предсказуемо, наиболее дисциплинированные клиенты вдовцы / вдовы. здесь прослеживается возрастная корреляция. Работающие, средне старшего возраста, более ответственны. А категория не женаты / не замужем эта возрастная категория 18+. "
   ]
  },
  {
   "cell_type": "markdown",
   "id": "6aff7877",
   "metadata": {
    "deletable": false,
    "editable": false,
    "id": "1e8b2fca"
   },
   "source": [
    "#### 3.3 Есть ли зависимость между уровнем дохода и возвратом кредита в срок?"
   ]
  },
  {
   "cell_type": "code",
   "execution_count": 24,
   "id": "a2476bef",
   "metadata": {
    "deletable": false,
    "id": "cd7e3720"
   },
   "outputs": [
    {
     "name": "stdout",
     "output_type": "stream",
     "text": [
      "                        debt       conversion\n",
      "                       count   sum           \n",
      "total_income_category                        \n",
      "D                        349    21   6.017192\n",
      "B                       5014   354   7.060231\n",
      "A                         25     2   8.000000\n",
      "C                      15921  1353   8.498210\n",
      "E                         22     2   9.090909\n"
     ]
    }
   ],
   "source": [
    "data_grouped = data.groupby('total_income_category').agg({'debt': ['count', 'sum']})\n",
    "data_grouped['conversion'] = (data_grouped['debt']['sum'] / data_grouped['debt']['count'])*100\n",
    "print(data_grouped.sort_values(by='conversion', ascending=True))\n",
    "\n",
    "\n",
    "\n",
    "# Ваш код будет здесь. Вы можете создавать новые ячейки."
   ]
  },
  {
   "cell_type": "markdown",
   "id": "edd31447",
   "metadata": {
    "deletable": false,
    "id": "e8593def"
   },
   "source": [
    "**Вывод:** Людей с уровнем дохода А и Е учитывать нет смысла, мало данных. Дисциплинированная категория D с доходом 30 000 до 50 000. Категория с самым большим значением задолженостей по оплате это \"С\" с даходом от 50 000 до 200 000.\n"
   ]
  },
  {
   "cell_type": "markdown",
   "id": "325e7d43",
   "metadata": {
    "deletable": false,
    "editable": false,
    "id": "99ecbd1f"
   },
   "source": [
    "#### 3.4 Как разные цели кредита влияют на его возврат в срок?"
   ]
  },
  {
   "cell_type": "code",
   "execution_count": 25,
   "id": "8eda97af",
   "metadata": {
    "deletable": false,
    "id": "2b687290"
   },
   "outputs": [
    {
     "name": "stdout",
     "output_type": "stream",
     "text": [
      "                           debt      conversion\n",
      "                          count  sum           \n",
      "purpose_category                               \n",
      "операции с недвижимостью  10751  780   7.255139\n",
      "проведение свадьбы         2313  183   7.911803\n",
      "получение образования      3988  369   9.252758\n",
      "операции с автомобилем     4279  400   9.347978\n"
     ]
    }
   ],
   "source": [
    "data_grouped = data.groupby('purpose_category').agg({'debt': ['count', 'sum']})\n",
    "data_grouped['conversion'] = (data_grouped['debt']['sum'] / data_grouped['debt']['count'])*100\n",
    "print(data_grouped.sort_values(by='conversion', ascending=True))\n",
    "# Ваш код будет здесь. Вы можете создавать новые ячейки."
   ]
  },
  {
   "cell_type": "markdown",
   "id": "57d6df38",
   "metadata": {
    "deletable": false,
    "id": "b4bb2ce6"
   },
   "source": [
    "**Вывод:** Операции с недвижимостью довольно большой процент от всех кредитов, самые дисциплинированные эта операции с недвижимостью."
   ]
  },
  {
   "cell_type": "markdown",
   "id": "f3c8130d",
   "metadata": {
    "deletable": false,
    "editable": false,
    "id": "09c3ac4c"
   },
   "source": [
    "#### 3.5 Приведите возможные причины появления пропусков в исходных данных."
   ]
  },
  {
   "cell_type": "markdown",
   "id": "6f43716c",
   "metadata": {
    "deletable": false,
    "id": "9da2ceda"
   },
   "source": [
    "*Ответ:* Изходя из аналица таблице причина пропуска стал человечиский фактор, например поле dob_years принемает значение '0'. Так же давольно подозрительно выглядет то что колличесво недастоющих данных в двух столбцаз ровно по 2174. Возможно это говорит о технологическом сбое работы БД при выгрузке, или же как вариант сбой в работе программы во  время внесения данных."
   ]
  },
  {
   "cell_type": "markdown",
   "id": "332fc787",
   "metadata": {
    "deletable": false,
    "editable": false,
    "id": "7b0487d6"
   },
   "source": [
    "#### 3.6 Объясните, почему заполнить пропуски медианным значением — лучшее решение для количественных переменных."
   ]
  },
  {
   "cell_type": "markdown",
   "id": "c1fc5a9d",
   "metadata": {
    "deletable": false,
    "id": "7ecf2b8e"
   },
   "source": [
    "*Ответ:*  есть три пути действия:\n",
    "на право: ни чего не делать с данными оставит как есть, но тогда будут мешать пустые ячейки в таблице. Например при подсчете средних значений пустые ячейки не участвуютб таким образом среднее значение будет сильно отличаться.\n",
    "Прямо: Удалить строки с пустыми ячейками. Можно если их не очень много и нет способа их заполнить.\n",
    "На лево: Заменить значения на заранее подготовленные значения. Тут два варианта или среднее или медианное, так как у нас большой \"разлет\" по граничным значениям, то средние значения не подходят, в этом случае больше подходит медианные."
   ]
  },
  {
   "cell_type": "markdown",
   "id": "3bf93154",
   "metadata": {
    "deletable": false,
    "editable": false,
    "id": "6db5255a"
   },
   "source": [
    "### Шаг 4: общий вывод."
   ]
  },
  {
   "cell_type": "markdown",
   "id": "68d2df9e",
   "metadata": {
    "deletable": false,
    "id": "bad65432"
   },
   "source": [
    "Проведенном анализе были проверены гипотезы:  \n",
    "#### 1) Есть ли зависимость между количеством детей и возвратом кредита в срок?  \n",
    "В результате проведенного исследования не удалось оценить данные групп клиентов с 4 и 5 детьми - выборка оказалась слишком малой для анализа.  \n",
    "Самая многочисленная и надежная категория клиентов \"без детей\" оказалось самая надежная с самым маленьким процентов по задержкам оплаты - 7.54%. Самые не надежные с самым высоким процентом по задержкам оказались клиенты категории два ребёнка и составляет 9.45%.  \n",
    "#### 2) Есть ли зависимость между семейным положением и возвратом кредита в срок?  \n",
    "В результате анализа получены следующие результаты, самые добросовестные клиенты относятся к категории \"вдовец / вдова\" с процентом в задержек выплат 6.62%. Категория с самым высоким процентом задержек выплат \"Не женат / не замужем\" с процентом задержек выплат 9.76%.  \n",
    "#### 3) Есть ли зависимость между уровнем дохода и возвратом кредита в срок?  \n",
    "По результатам проверки выявлена следующая закономерность категория с самым маленьким процентом задержек \"В\" это категория с доходом от 30 000 до 50 000 значение 6%. Категория с малым большим процентом задержки с доходом от 50 000 до 200 000 значение 8.49%. Категория А с доходом от 1 000 000 и категория Е  от 0  до 30 000 не релевантны, слишком мало данных.\n",
    "#### 4) Как разные цели кредита влияют на его возврат в срок?    \n",
    "По результатам проверки предположения прослеживается следующая закономерность - меньше всего просрочек по кредитам по займам на недвижимость 7.26%, больше всего по займам на автомобиль 9.35%. Операции с недвижимостью довольно большой процент от всех кредитов.  \n",
    "Выборка крайне не сбалансирована. Рекомендуется провести дополнительные исследования."
   ]
  },
  {
   "cell_type": "code",
   "execution_count": null,
   "id": "481c6c3c",
   "metadata": {},
   "outputs": [],
   "source": []
  }
 ],
 "metadata": {
  "ExecuteTimeLog": [
   {
    "duration": 56,
    "start_time": "2023-09-21T17:03:10.826Z"
   },
   {
    "duration": 6,
    "start_time": "2023-09-21T17:04:01.900Z"
   },
   {
    "duration": 6,
    "start_time": "2023-09-21T17:04:17.195Z"
   },
   {
    "duration": 6,
    "start_time": "2023-09-21T17:05:13.428Z"
   },
   {
    "duration": 664,
    "start_time": "2023-09-21T17:05:22.598Z"
   },
   {
    "duration": 22,
    "start_time": "2023-09-21T17:05:23.264Z"
   },
   {
    "duration": 16,
    "start_time": "2023-09-21T17:05:23.288Z"
   },
   {
    "duration": 9,
    "start_time": "2023-09-21T17:05:23.305Z"
   },
   {
    "duration": 49,
    "start_time": "2023-09-21T17:05:23.316Z"
   },
   {
    "duration": 4,
    "start_time": "2023-09-21T17:05:23.366Z"
   },
   {
    "duration": 9,
    "start_time": "2023-09-21T17:05:23.372Z"
   },
   {
    "duration": 4,
    "start_time": "2023-09-21T17:05:23.383Z"
   },
   {
    "duration": 17,
    "start_time": "2023-09-21T17:05:23.389Z"
   },
   {
    "duration": 4,
    "start_time": "2023-09-21T17:05:23.408Z"
   },
   {
    "duration": 58,
    "start_time": "2023-09-21T17:05:23.414Z"
   },
   {
    "duration": 9,
    "start_time": "2023-09-21T17:05:23.474Z"
   },
   {
    "duration": 3,
    "start_time": "2023-09-21T17:05:23.485Z"
   },
   {
    "duration": 12,
    "start_time": "2023-09-21T17:05:23.490Z"
   },
   {
    "duration": 18,
    "start_time": "2023-09-21T17:05:23.504Z"
   },
   {
    "duration": 39,
    "start_time": "2023-09-21T17:05:23.523Z"
   },
   {
    "duration": 4,
    "start_time": "2023-09-21T17:05:23.564Z"
   },
   {
    "duration": 18,
    "start_time": "2023-09-21T17:05:23.569Z"
   },
   {
    "duration": 12,
    "start_time": "2023-09-21T17:05:23.588Z"
   },
   {
    "duration": 5,
    "start_time": "2023-09-21T17:05:23.602Z"
   },
   {
    "duration": 13,
    "start_time": "2023-09-21T17:05:23.608Z"
   },
   {
    "duration": 37,
    "start_time": "2023-09-21T17:05:23.623Z"
   },
   {
    "duration": 2,
    "start_time": "2023-09-21T17:05:23.661Z"
   },
   {
    "duration": 24,
    "start_time": "2023-09-21T17:05:23.665Z"
   },
   {
    "duration": 20,
    "start_time": "2023-09-21T17:05:23.690Z"
   },
   {
    "duration": 24,
    "start_time": "2023-09-21T17:05:44.924Z"
   },
   {
    "duration": 140,
    "start_time": "2023-09-21T17:06:21.348Z"
   },
   {
    "duration": 9,
    "start_time": "2023-09-21T17:06:40.112Z"
   },
   {
    "duration": 6,
    "start_time": "2023-09-21T17:09:10.720Z"
   },
   {
    "duration": 3,
    "start_time": "2023-09-21T17:09:20.696Z"
   },
   {
    "duration": 5,
    "start_time": "2023-09-21T17:09:45.260Z"
   },
   {
    "duration": 6,
    "start_time": "2023-09-21T17:12:10.780Z"
   },
   {
    "duration": 8,
    "start_time": "2023-09-21T17:17:06.112Z"
   },
   {
    "duration": 2,
    "start_time": "2023-09-21T17:52:58.069Z"
   },
   {
    "duration": 28,
    "start_time": "2023-09-21T18:01:32.781Z"
   },
   {
    "duration": 6,
    "start_time": "2023-09-21T18:07:49.094Z"
   },
   {
    "duration": 102,
    "start_time": "2023-09-21T18:22:19.320Z"
   },
   {
    "duration": 104,
    "start_time": "2023-09-21T18:22:44.933Z"
   },
   {
    "duration": 85,
    "start_time": "2023-09-21T18:24:43.247Z"
   },
   {
    "duration": 111,
    "start_time": "2023-09-21T18:25:12.287Z"
   },
   {
    "duration": 11,
    "start_time": "2023-09-21T18:26:21.886Z"
   },
   {
    "duration": 88,
    "start_time": "2023-09-21T18:26:37.009Z"
   },
   {
    "duration": 14,
    "start_time": "2023-09-21T18:26:37.099Z"
   },
   {
    "duration": 19,
    "start_time": "2023-09-21T18:26:37.114Z"
   },
   {
    "duration": 23,
    "start_time": "2023-09-21T18:26:37.134Z"
   },
   {
    "duration": 38,
    "start_time": "2023-09-21T18:26:37.161Z"
   },
   {
    "duration": 3,
    "start_time": "2023-09-21T18:26:37.201Z"
   },
   {
    "duration": 10,
    "start_time": "2023-09-21T18:26:37.206Z"
   },
   {
    "duration": 38,
    "start_time": "2023-09-21T18:26:37.218Z"
   },
   {
    "duration": 13,
    "start_time": "2023-09-21T18:26:37.257Z"
   },
   {
    "duration": 14,
    "start_time": "2023-09-21T18:26:37.272Z"
   },
   {
    "duration": 36,
    "start_time": "2023-09-21T18:26:37.288Z"
   },
   {
    "duration": 10,
    "start_time": "2023-09-21T18:26:37.326Z"
   },
   {
    "duration": 17,
    "start_time": "2023-09-21T18:26:37.337Z"
   },
   {
    "duration": 18,
    "start_time": "2023-09-21T18:26:37.357Z"
   },
   {
    "duration": 29,
    "start_time": "2023-09-21T18:26:37.376Z"
   },
   {
    "duration": 15,
    "start_time": "2023-09-21T18:26:37.406Z"
   },
   {
    "duration": 4,
    "start_time": "2023-09-21T18:26:37.423Z"
   },
   {
    "duration": 34,
    "start_time": "2023-09-21T18:26:37.428Z"
   },
   {
    "duration": 12,
    "start_time": "2023-09-21T18:26:37.465Z"
   },
   {
    "duration": 3,
    "start_time": "2023-09-21T18:26:37.479Z"
   },
   {
    "duration": 18,
    "start_time": "2023-09-21T18:26:37.484Z"
   },
   {
    "duration": 19,
    "start_time": "2023-09-21T18:26:37.503Z"
   },
   {
    "duration": 0,
    "start_time": "2023-09-21T18:26:37.523Z"
   },
   {
    "duration": 0,
    "start_time": "2023-09-21T18:26:37.525Z"
   },
   {
    "duration": 0,
    "start_time": "2023-09-21T18:26:37.526Z"
   },
   {
    "duration": 9,
    "start_time": "2023-09-21T18:26:55.599Z"
   },
   {
    "duration": 6,
    "start_time": "2023-09-21T18:27:21.075Z"
   },
   {
    "duration": 50,
    "start_time": "2023-09-22T05:34:04.958Z"
   },
   {
    "duration": 8,
    "start_time": "2023-09-22T05:34:37.758Z"
   },
   {
    "duration": 901,
    "start_time": "2023-09-22T05:34:59.858Z"
   },
   {
    "duration": 26,
    "start_time": "2023-09-22T05:35:00.762Z"
   },
   {
    "duration": 39,
    "start_time": "2023-09-22T05:35:00.790Z"
   },
   {
    "duration": 78,
    "start_time": "2023-09-22T05:35:00.832Z"
   },
   {
    "duration": 86,
    "start_time": "2023-09-22T05:35:00.912Z"
   },
   {
    "duration": 10,
    "start_time": "2023-09-22T05:35:01.000Z"
   },
   {
    "duration": 95,
    "start_time": "2023-09-22T05:35:01.012Z"
   },
   {
    "duration": 71,
    "start_time": "2023-09-22T05:35:01.110Z"
   },
   {
    "duration": 70,
    "start_time": "2023-09-22T05:35:01.183Z"
   },
   {
    "duration": 47,
    "start_time": "2023-09-22T05:35:01.258Z"
   },
   {
    "duration": 111,
    "start_time": "2023-09-22T05:35:01.307Z"
   },
   {
    "duration": 279,
    "start_time": "2023-09-22T05:35:01.420Z"
   },
   {
    "duration": 109,
    "start_time": "2023-09-22T05:35:01.701Z"
   },
   {
    "duration": 141,
    "start_time": "2023-09-22T05:35:01.812Z"
   },
   {
    "duration": 58,
    "start_time": "2023-09-22T05:35:01.955Z"
   },
   {
    "duration": 95,
    "start_time": "2023-09-22T05:35:02.015Z"
   },
   {
    "duration": 55,
    "start_time": "2023-09-22T05:35:02.112Z"
   },
   {
    "duration": 236,
    "start_time": "2023-09-22T05:35:02.169Z"
   },
   {
    "duration": 61,
    "start_time": "2023-09-22T05:35:02.407Z"
   },
   {
    "duration": 70,
    "start_time": "2023-09-22T05:35:02.470Z"
   },
   {
    "duration": 193,
    "start_time": "2023-09-22T05:35:02.549Z"
   },
   {
    "duration": 188,
    "start_time": "2023-09-22T05:35:02.745Z"
   },
   {
    "duration": 62,
    "start_time": "2023-09-22T05:35:02.936Z"
   },
   {
    "duration": 107,
    "start_time": "2023-09-22T05:35:03.000Z"
   },
   {
    "duration": 111,
    "start_time": "2023-09-22T05:35:03.109Z"
   },
   {
    "duration": 7,
    "start_time": "2023-09-22T05:37:30.152Z"
   },
   {
    "duration": 30,
    "start_time": "2023-09-22T05:41:22.553Z"
   },
   {
    "duration": 9,
    "start_time": "2023-09-22T05:41:29.010Z"
   },
   {
    "duration": 861,
    "start_time": "2023-09-22T05:41:33.058Z"
   },
   {
    "duration": 39,
    "start_time": "2023-09-22T05:42:35.831Z"
   },
   {
    "duration": 7,
    "start_time": "2023-09-22T05:42:50.752Z"
   },
   {
    "duration": 27,
    "start_time": "2023-09-22T05:43:44.673Z"
   },
   {
    "duration": 9,
    "start_time": "2023-09-22T05:44:40.057Z"
   },
   {
    "duration": 15,
    "start_time": "2023-09-22T05:44:49.358Z"
   },
   {
    "duration": 19,
    "start_time": "2023-09-22T06:14:23.458Z"
   },
   {
    "duration": 14,
    "start_time": "2023-09-22T06:14:24.569Z"
   },
   {
    "duration": 94,
    "start_time": "2023-09-22T06:14:41.262Z"
   },
   {
    "duration": 62,
    "start_time": "2023-09-22T06:14:41.358Z"
   },
   {
    "duration": 139,
    "start_time": "2023-09-22T06:14:41.422Z"
   },
   {
    "duration": 52,
    "start_time": "2023-09-22T06:14:41.563Z"
   },
   {
    "duration": 84,
    "start_time": "2023-09-22T06:14:41.618Z"
   },
   {
    "duration": 47,
    "start_time": "2023-09-22T06:14:41.703Z"
   },
   {
    "duration": 18,
    "start_time": "2023-09-22T06:14:41.757Z"
   },
   {
    "duration": 53,
    "start_time": "2023-09-22T06:14:41.779Z"
   },
   {
    "duration": 67,
    "start_time": "2023-09-22T06:14:41.839Z"
   },
   {
    "duration": 23,
    "start_time": "2023-09-22T06:14:41.909Z"
   },
   {
    "duration": 73,
    "start_time": "2023-09-22T06:14:41.934Z"
   },
   {
    "duration": 12,
    "start_time": "2023-09-22T06:14:42.009Z"
   },
   {
    "duration": 43,
    "start_time": "2023-09-22T06:14:42.023Z"
   },
   {
    "duration": 42,
    "start_time": "2023-09-22T06:14:42.069Z"
   },
   {
    "duration": 66,
    "start_time": "2023-09-22T06:14:42.113Z"
   },
   {
    "duration": 47,
    "start_time": "2023-09-22T06:14:42.181Z"
   },
   {
    "duration": 17,
    "start_time": "2023-09-22T06:14:42.230Z"
   },
   {
    "duration": 38,
    "start_time": "2023-09-22T06:14:42.248Z"
   },
   {
    "duration": 8,
    "start_time": "2023-09-22T06:14:42.293Z"
   },
   {
    "duration": 16,
    "start_time": "2023-09-22T06:14:42.303Z"
   },
   {
    "duration": 68,
    "start_time": "2023-09-22T06:14:42.321Z"
   },
   {
    "duration": 48,
    "start_time": "2023-09-22T06:14:42.391Z"
   },
   {
    "duration": 66,
    "start_time": "2023-09-22T06:14:42.445Z"
   },
   {
    "duration": 37,
    "start_time": "2023-09-22T06:14:42.513Z"
   },
   {
    "duration": 45,
    "start_time": "2023-09-22T06:14:42.552Z"
   },
   {
    "duration": 5089,
    "start_time": "2023-09-22T06:15:10.461Z"
   },
   {
    "duration": 7,
    "start_time": "2023-09-22T06:15:45.101Z"
   },
   {
    "duration": 11,
    "start_time": "2023-09-22T06:19:45.844Z"
   },
   {
    "duration": 148,
    "start_time": "2023-09-22T06:21:52.786Z"
   },
   {
    "duration": 6,
    "start_time": "2023-09-22T06:21:58.453Z"
   },
   {
    "duration": 12,
    "start_time": "2023-09-22T06:22:10.417Z"
   },
   {
    "duration": 21,
    "start_time": "2023-09-22T06:25:21.021Z"
   },
   {
    "duration": 17,
    "start_time": "2023-09-22T06:25:44.643Z"
   },
   {
    "duration": 9,
    "start_time": "2023-09-22T06:25:50.388Z"
   },
   {
    "duration": 10,
    "start_time": "2023-09-22T06:27:12.591Z"
   },
   {
    "duration": 13,
    "start_time": "2023-09-22T06:27:51.799Z"
   },
   {
    "duration": 21,
    "start_time": "2023-09-22T06:28:04.422Z"
   },
   {
    "duration": 12,
    "start_time": "2023-09-22T06:29:05.216Z"
   },
   {
    "duration": 19,
    "start_time": "2023-09-22T06:30:16.898Z"
   },
   {
    "duration": 4,
    "start_time": "2023-09-22T06:30:57.514Z"
   },
   {
    "duration": 13,
    "start_time": "2023-09-22T06:31:12.385Z"
   },
   {
    "duration": 8,
    "start_time": "2023-09-22T06:31:19.669Z"
   },
   {
    "duration": 16,
    "start_time": "2023-09-22T06:31:42.644Z"
   },
   {
    "duration": 14,
    "start_time": "2023-09-22T06:31:56.854Z"
   },
   {
    "duration": 8,
    "start_time": "2023-09-22T06:32:06.984Z"
   },
   {
    "duration": 9,
    "start_time": "2023-09-22T06:32:20.185Z"
   },
   {
    "duration": 29,
    "start_time": "2023-09-22T06:32:26.020Z"
   },
   {
    "duration": 11,
    "start_time": "2023-09-22T06:32:36.880Z"
   },
   {
    "duration": 38,
    "start_time": "2023-09-22T06:33:10.400Z"
   },
   {
    "duration": 19,
    "start_time": "2023-09-22T06:34:08.682Z"
   },
   {
    "duration": 122,
    "start_time": "2023-09-22T06:39:29.386Z"
   },
   {
    "duration": 12,
    "start_time": "2023-09-22T06:39:38.945Z"
   },
   {
    "duration": 9,
    "start_time": "2023-09-22T06:40:56.897Z"
   },
   {
    "duration": 51,
    "start_time": "2023-09-22T06:41:17.606Z"
   },
   {
    "duration": 39,
    "start_time": "2023-09-22T06:41:33.150Z"
   },
   {
    "duration": 15,
    "start_time": "2023-09-22T06:41:59.565Z"
   },
   {
    "duration": 32,
    "start_time": "2023-09-22T06:42:07.022Z"
   },
   {
    "duration": 57,
    "start_time": "2023-09-22T06:42:32.687Z"
   },
   {
    "duration": 38,
    "start_time": "2023-09-22T06:42:39.859Z"
   },
   {
    "duration": 13,
    "start_time": "2023-09-22T06:42:45.388Z"
   },
   {
    "duration": 43,
    "start_time": "2023-09-22T06:43:46.658Z"
   },
   {
    "duration": 55,
    "start_time": "2023-09-22T06:44:10.126Z"
   },
   {
    "duration": 12,
    "start_time": "2023-09-22T06:47:47.215Z"
   },
   {
    "duration": 11,
    "start_time": "2023-09-22T06:47:58.711Z"
   },
   {
    "duration": 19,
    "start_time": "2023-09-22T06:48:07.981Z"
   },
   {
    "duration": 18,
    "start_time": "2023-09-22T06:49:52.069Z"
   },
   {
    "duration": 12,
    "start_time": "2023-09-22T06:50:08.175Z"
   },
   {
    "duration": 38,
    "start_time": "2023-09-22T06:50:25.179Z"
   },
   {
    "duration": 20,
    "start_time": "2023-09-22T06:50:53.461Z"
   },
   {
    "duration": 22,
    "start_time": "2023-09-22T06:56:04.817Z"
   },
   {
    "duration": 243,
    "start_time": "2023-09-22T06:58:07.779Z"
   },
   {
    "duration": 17,
    "start_time": "2023-09-22T06:58:21.995Z"
   },
   {
    "duration": 17,
    "start_time": "2023-09-22T07:12:39.102Z"
   },
   {
    "duration": 22,
    "start_time": "2023-09-22T07:14:16.649Z"
   },
   {
    "duration": 24,
    "start_time": "2023-09-22T07:14:37.756Z"
   },
   {
    "duration": 29,
    "start_time": "2023-09-22T07:22:21.901Z"
   },
   {
    "duration": 28,
    "start_time": "2023-09-22T07:22:35.021Z"
   },
   {
    "duration": 16,
    "start_time": "2023-09-22T07:23:08.483Z"
   },
   {
    "duration": 439,
    "start_time": "2023-09-22T07:23:30.806Z"
   },
   {
    "duration": 50,
    "start_time": "2023-09-22T07:23:40.045Z"
   },
   {
    "duration": 20,
    "start_time": "2023-09-22T07:24:03.749Z"
   },
   {
    "duration": 25,
    "start_time": "2023-09-22T07:24:31.241Z"
   },
   {
    "duration": 9,
    "start_time": "2023-09-22T07:25:30.020Z"
   },
   {
    "duration": 17,
    "start_time": "2023-09-22T07:28:12.604Z"
   },
   {
    "duration": 12,
    "start_time": "2023-09-22T07:30:08.503Z"
   },
   {
    "duration": 208,
    "start_time": "2023-09-22T07:33:59.205Z"
   },
   {
    "duration": 8,
    "start_time": "2023-09-22T07:34:09.597Z"
   },
   {
    "duration": 20,
    "start_time": "2023-09-22T07:34:26.871Z"
   },
   {
    "duration": 15,
    "start_time": "2023-09-22T07:34:44.758Z"
   },
   {
    "duration": 6,
    "start_time": "2023-09-22T07:35:02.195Z"
   },
   {
    "duration": 24,
    "start_time": "2023-09-22T07:35:27.140Z"
   },
   {
    "duration": 23,
    "start_time": "2023-09-22T08:02:11.643Z"
   },
   {
    "duration": 14,
    "start_time": "2023-09-22T08:02:42.274Z"
   },
   {
    "duration": 20,
    "start_time": "2023-09-22T08:04:46.162Z"
   },
   {
    "duration": 0,
    "start_time": "2023-09-22T08:05:13.908Z"
   },
   {
    "duration": 5484,
    "start_time": "2023-09-22T08:05:18.712Z"
   },
   {
    "duration": 18,
    "start_time": "2023-09-22T08:05:33.651Z"
   },
   {
    "duration": 19,
    "start_time": "2023-09-22T08:08:08.879Z"
   },
   {
    "duration": 15,
    "start_time": "2023-09-22T08:08:17.287Z"
   },
   {
    "duration": 27,
    "start_time": "2023-09-22T08:10:36.824Z"
   },
   {
    "duration": 14,
    "start_time": "2023-09-22T08:13:17.866Z"
   },
   {
    "duration": 52,
    "start_time": "2023-09-22T11:39:17.181Z"
   },
   {
    "duration": 819,
    "start_time": "2023-09-22T11:39:22.114Z"
   },
   {
    "duration": 26,
    "start_time": "2023-09-22T11:39:22.935Z"
   },
   {
    "duration": 27,
    "start_time": "2023-09-22T11:39:22.964Z"
   },
   {
    "duration": 27,
    "start_time": "2023-09-22T11:39:22.995Z"
   },
   {
    "duration": 47,
    "start_time": "2023-09-22T11:39:23.025Z"
   },
   {
    "duration": 5,
    "start_time": "2023-09-22T11:39:23.074Z"
   },
   {
    "duration": 37,
    "start_time": "2023-09-22T11:39:23.082Z"
   },
   {
    "duration": 7,
    "start_time": "2023-09-22T11:39:23.121Z"
   },
   {
    "duration": 10,
    "start_time": "2023-09-22T11:39:23.130Z"
   },
   {
    "duration": 8,
    "start_time": "2023-09-22T11:39:23.144Z"
   },
   {
    "duration": 72,
    "start_time": "2023-09-22T11:39:23.154Z"
   },
   {
    "duration": 13,
    "start_time": "2023-09-22T11:39:23.228Z"
   },
   {
    "duration": 5,
    "start_time": "2023-09-22T11:39:23.243Z"
   },
   {
    "duration": 44,
    "start_time": "2023-09-22T11:39:23.251Z"
   },
   {
    "duration": 32,
    "start_time": "2023-09-22T11:39:23.297Z"
   },
   {
    "duration": 31,
    "start_time": "2023-09-22T11:39:23.331Z"
   },
   {
    "duration": 5,
    "start_time": "2023-09-22T11:39:23.365Z"
   },
   {
    "duration": 24,
    "start_time": "2023-09-22T11:39:23.372Z"
   },
   {
    "duration": 7,
    "start_time": "2023-09-22T11:39:23.410Z"
   },
   {
    "duration": 9,
    "start_time": "2023-09-22T11:39:23.419Z"
   },
   {
    "duration": 23,
    "start_time": "2023-09-22T11:39:23.430Z"
   },
   {
    "duration": 27,
    "start_time": "2023-09-22T11:39:23.455Z"
   },
   {
    "duration": 17,
    "start_time": "2023-09-22T11:39:23.484Z"
   },
   {
    "duration": 2,
    "start_time": "2023-09-22T11:39:23.509Z"
   },
   {
    "duration": 12,
    "start_time": "2023-09-22T11:39:23.513Z"
   },
   {
    "duration": 159,
    "start_time": "2023-09-22T11:41:50.782Z"
   },
   {
    "duration": 14,
    "start_time": "2023-09-22T11:42:01.574Z"
   },
   {
    "duration": 43,
    "start_time": "2023-09-22T11:43:50.132Z"
   },
   {
    "duration": 16,
    "start_time": "2023-09-22T11:44:37.027Z"
   },
   {
    "duration": 17,
    "start_time": "2023-09-22T11:45:19.046Z"
   },
   {
    "duration": 18,
    "start_time": "2023-09-22T11:45:59.536Z"
   },
   {
    "duration": 15,
    "start_time": "2023-09-22T11:46:07.104Z"
   },
   {
    "duration": 17,
    "start_time": "2023-09-22T11:46:25.833Z"
   },
   {
    "duration": 15,
    "start_time": "2023-09-22T11:46:41.093Z"
   },
   {
    "duration": 16,
    "start_time": "2023-09-22T11:49:39.730Z"
   },
   {
    "duration": 17,
    "start_time": "2023-09-22T11:51:00.872Z"
   },
   {
    "duration": 93,
    "start_time": "2023-09-23T02:46:18.848Z"
   },
   {
    "duration": 1161,
    "start_time": "2023-09-23T02:46:24.512Z"
   },
   {
    "duration": 35,
    "start_time": "2023-09-23T02:46:25.676Z"
   },
   {
    "duration": 31,
    "start_time": "2023-09-23T02:46:25.714Z"
   },
   {
    "duration": 17,
    "start_time": "2023-09-23T02:46:25.749Z"
   },
   {
    "duration": 82,
    "start_time": "2023-09-23T02:46:25.769Z"
   },
   {
    "duration": 4,
    "start_time": "2023-09-23T02:46:25.853Z"
   },
   {
    "duration": 24,
    "start_time": "2023-09-23T02:46:25.859Z"
   },
   {
    "duration": 15,
    "start_time": "2023-09-23T02:46:25.886Z"
   },
   {
    "duration": 11,
    "start_time": "2023-09-23T02:46:25.903Z"
   },
   {
    "duration": 13,
    "start_time": "2023-09-23T02:46:25.916Z"
   },
   {
    "duration": 72,
    "start_time": "2023-09-23T02:46:25.931Z"
   },
   {
    "duration": 17,
    "start_time": "2023-09-23T02:46:26.005Z"
   },
   {
    "duration": 5,
    "start_time": "2023-09-23T02:46:26.024Z"
   },
   {
    "duration": 21,
    "start_time": "2023-09-23T02:46:26.033Z"
   },
   {
    "duration": 59,
    "start_time": "2023-09-23T02:46:26.056Z"
   },
   {
    "duration": 27,
    "start_time": "2023-09-23T02:46:26.117Z"
   },
   {
    "duration": 26,
    "start_time": "2023-09-23T02:46:26.146Z"
   },
   {
    "duration": 33,
    "start_time": "2023-09-23T02:46:26.174Z"
   },
   {
    "duration": 10,
    "start_time": "2023-09-23T02:46:26.209Z"
   },
   {
    "duration": 11,
    "start_time": "2023-09-23T02:46:26.221Z"
   },
   {
    "duration": 23,
    "start_time": "2023-09-23T02:46:26.234Z"
   },
   {
    "duration": 25,
    "start_time": "2023-09-23T02:46:26.259Z"
   },
   {
    "duration": 22,
    "start_time": "2023-09-23T02:46:26.300Z"
   },
   {
    "duration": 101,
    "start_time": "2023-09-23T02:46:26.324Z"
   },
   {
    "duration": 34,
    "start_time": "2023-09-23T02:46:26.428Z"
   },
   {
    "duration": 19,
    "start_time": "2023-09-23T02:47:08.087Z"
   },
   {
    "duration": 25,
    "start_time": "2023-09-23T02:49:12.268Z"
   },
   {
    "duration": 83,
    "start_time": "2023-09-23T08:33:38.452Z"
   },
   {
    "duration": 1035,
    "start_time": "2023-09-23T08:33:44.374Z"
   },
   {
    "duration": 44,
    "start_time": "2023-09-23T08:33:45.412Z"
   },
   {
    "duration": 20,
    "start_time": "2023-09-23T08:33:45.462Z"
   },
   {
    "duration": 40,
    "start_time": "2023-09-23T08:33:45.483Z"
   },
   {
    "duration": 63,
    "start_time": "2023-09-23T08:33:45.526Z"
   },
   {
    "duration": 3,
    "start_time": "2023-09-23T08:33:45.591Z"
   },
   {
    "duration": 52,
    "start_time": "2023-09-23T08:33:45.596Z"
   },
   {
    "duration": 13,
    "start_time": "2023-09-23T08:33:45.655Z"
   },
   {
    "duration": 18,
    "start_time": "2023-09-23T08:33:45.670Z"
   },
   {
    "duration": 34,
    "start_time": "2023-09-23T08:33:45.690Z"
   },
   {
    "duration": 64,
    "start_time": "2023-09-23T08:33:45.726Z"
   },
   {
    "duration": 19,
    "start_time": "2023-09-23T08:33:45.792Z"
   },
   {
    "duration": 24,
    "start_time": "2023-09-23T08:33:45.813Z"
   },
   {
    "duration": 26,
    "start_time": "2023-09-23T08:33:45.841Z"
   },
   {
    "duration": 24,
    "start_time": "2023-09-23T08:33:45.869Z"
   },
   {
    "duration": 62,
    "start_time": "2023-09-23T08:33:45.895Z"
   },
   {
    "duration": 6,
    "start_time": "2023-09-23T08:33:45.959Z"
   },
   {
    "duration": 29,
    "start_time": "2023-09-23T08:33:45.966Z"
   },
   {
    "duration": 27,
    "start_time": "2023-09-23T08:33:45.997Z"
   },
   {
    "duration": 21,
    "start_time": "2023-09-23T08:33:46.026Z"
   },
   {
    "duration": 28,
    "start_time": "2023-09-23T08:33:46.049Z"
   },
   {
    "duration": 19,
    "start_time": "2023-09-23T08:33:46.079Z"
   },
   {
    "duration": 45,
    "start_time": "2023-09-23T08:33:46.102Z"
   },
   {
    "duration": 20,
    "start_time": "2023-09-23T08:33:46.151Z"
   },
   {
    "duration": 16,
    "start_time": "2023-09-23T08:33:46.182Z"
   },
   {
    "duration": 5,
    "start_time": "2023-09-23T08:38:23.292Z"
   },
   {
    "duration": 124,
    "start_time": "2023-09-23T08:39:01.370Z"
   },
   {
    "duration": 43,
    "start_time": "2023-09-23T08:39:08.041Z"
   },
   {
    "duration": 6,
    "start_time": "2023-09-23T08:39:34.290Z"
   },
   {
    "duration": 9,
    "start_time": "2023-09-23T08:39:51.841Z"
   },
   {
    "duration": 7,
    "start_time": "2023-09-23T08:40:03.643Z"
   },
   {
    "duration": 166,
    "start_time": "2023-09-23T08:42:40.860Z"
   },
   {
    "duration": 10,
    "start_time": "2023-09-23T08:42:44.133Z"
   },
   {
    "duration": 12,
    "start_time": "2023-09-23T08:45:27.573Z"
   },
   {
    "duration": 28,
    "start_time": "2023-09-23T08:45:39.595Z"
   },
   {
    "duration": 683,
    "start_time": "2023-09-23T12:48:56.438Z"
   },
   {
    "duration": 25,
    "start_time": "2023-09-23T12:48:57.123Z"
   },
   {
    "duration": 34,
    "start_time": "2023-09-23T12:48:57.150Z"
   },
   {
    "duration": 21,
    "start_time": "2023-09-23T12:48:57.188Z"
   },
   {
    "duration": 75,
    "start_time": "2023-09-23T12:48:57.212Z"
   },
   {
    "duration": 8,
    "start_time": "2023-09-23T12:48:57.290Z"
   },
   {
    "duration": 11,
    "start_time": "2023-09-23T12:48:57.300Z"
   },
   {
    "duration": 6,
    "start_time": "2023-09-23T12:48:57.313Z"
   },
   {
    "duration": 12,
    "start_time": "2023-09-23T12:48:57.321Z"
   },
   {
    "duration": 9,
    "start_time": "2023-09-23T12:48:57.359Z"
   },
   {
    "duration": 56,
    "start_time": "2023-09-23T12:48:57.370Z"
   },
   {
    "duration": 13,
    "start_time": "2023-09-23T12:48:57.428Z"
   },
   {
    "duration": 26,
    "start_time": "2023-09-23T12:48:57.443Z"
   },
   {
    "duration": 21,
    "start_time": "2023-09-23T12:48:57.475Z"
   },
   {
    "duration": 32,
    "start_time": "2023-09-23T12:48:57.498Z"
   },
   {
    "duration": 35,
    "start_time": "2023-09-23T12:48:57.532Z"
   },
   {
    "duration": 7,
    "start_time": "2023-09-23T12:48:57.571Z"
   },
   {
    "duration": 18,
    "start_time": "2023-09-23T12:48:57.588Z"
   },
   {
    "duration": 9,
    "start_time": "2023-09-23T12:48:57.608Z"
   },
   {
    "duration": 7,
    "start_time": "2023-09-23T12:48:57.618Z"
   },
   {
    "duration": 15,
    "start_time": "2023-09-23T12:48:57.627Z"
   },
   {
    "duration": 33,
    "start_time": "2023-09-23T12:48:57.643Z"
   },
   {
    "duration": 18,
    "start_time": "2023-09-23T12:48:57.686Z"
   },
   {
    "duration": 15,
    "start_time": "2023-09-23T12:48:57.706Z"
   },
   {
    "duration": 22,
    "start_time": "2023-09-23T12:48:57.723Z"
   },
   {
    "duration": 52,
    "start_time": "2023-09-23T18:44:25.065Z"
   },
   {
    "duration": 648,
    "start_time": "2023-09-23T18:44:29.818Z"
   },
   {
    "duration": 26,
    "start_time": "2023-09-23T18:44:30.473Z"
   },
   {
    "duration": 126,
    "start_time": "2023-09-23T18:44:30.501Z"
   },
   {
    "duration": 64,
    "start_time": "2023-09-23T18:44:30.629Z"
   },
   {
    "duration": 79,
    "start_time": "2023-09-23T18:44:30.695Z"
   },
   {
    "duration": 12,
    "start_time": "2023-09-23T18:44:30.777Z"
   },
   {
    "duration": 73,
    "start_time": "2023-09-23T18:44:30.791Z"
   },
   {
    "duration": 55,
    "start_time": "2023-09-23T18:44:30.865Z"
   },
   {
    "duration": 57,
    "start_time": "2023-09-23T18:44:30.922Z"
   },
   {
    "duration": 112,
    "start_time": "2023-09-23T18:44:30.981Z"
   },
   {
    "duration": 135,
    "start_time": "2023-09-23T18:44:31.095Z"
   },
   {
    "duration": 13,
    "start_time": "2023-09-23T18:44:31.232Z"
   },
   {
    "duration": 68,
    "start_time": "2023-09-23T18:44:31.246Z"
   },
   {
    "duration": 47,
    "start_time": "2023-09-23T18:44:31.318Z"
   },
   {
    "duration": 62,
    "start_time": "2023-09-23T18:44:31.368Z"
   },
   {
    "duration": 45,
    "start_time": "2023-09-23T18:44:31.432Z"
   },
   {
    "duration": 36,
    "start_time": "2023-09-23T18:44:31.479Z"
   },
   {
    "duration": 58,
    "start_time": "2023-09-23T18:44:31.517Z"
   },
   {
    "duration": 49,
    "start_time": "2023-09-23T18:44:31.578Z"
   },
   {
    "duration": 35,
    "start_time": "2023-09-23T18:44:31.628Z"
   },
   {
    "duration": 108,
    "start_time": "2023-09-23T18:44:31.664Z"
   },
   {
    "duration": 46,
    "start_time": "2023-09-23T18:44:31.774Z"
   },
   {
    "duration": 35,
    "start_time": "2023-09-23T18:44:31.822Z"
   },
   {
    "duration": 31,
    "start_time": "2023-09-23T18:44:31.870Z"
   },
   {
    "duration": 54,
    "start_time": "2023-09-23T18:44:31.903Z"
   },
   {
    "duration": 33,
    "start_time": "2023-09-23T18:44:50.734Z"
   },
   {
    "duration": 21,
    "start_time": "2023-09-23T18:45:56.453Z"
   },
   {
    "duration": 1514,
    "start_time": "2023-09-24T08:24:57.613Z"
   },
   {
    "duration": 56,
    "start_time": "2023-09-24T08:24:59.130Z"
   },
   {
    "duration": 36,
    "start_time": "2023-09-24T08:24:59.194Z"
   },
   {
    "duration": 13,
    "start_time": "2023-09-24T08:24:59.233Z"
   },
   {
    "duration": 60,
    "start_time": "2023-09-24T08:24:59.248Z"
   },
   {
    "duration": 5,
    "start_time": "2023-09-24T08:24:59.310Z"
   },
   {
    "duration": 8,
    "start_time": "2023-09-24T08:24:59.324Z"
   },
   {
    "duration": 6,
    "start_time": "2023-09-24T08:24:59.333Z"
   },
   {
    "duration": 36,
    "start_time": "2023-09-24T08:24:59.341Z"
   },
   {
    "duration": 18,
    "start_time": "2023-09-24T08:24:59.379Z"
   },
   {
    "duration": 48,
    "start_time": "2023-09-24T08:24:59.400Z"
   },
   {
    "duration": 20,
    "start_time": "2023-09-24T08:24:59.456Z"
   },
   {
    "duration": 7,
    "start_time": "2023-09-24T08:24:59.478Z"
   },
   {
    "duration": 39,
    "start_time": "2023-09-24T08:24:59.497Z"
   },
   {
    "duration": 66,
    "start_time": "2023-09-24T08:24:59.537Z"
   },
   {
    "duration": 26,
    "start_time": "2023-09-24T08:24:59.606Z"
   },
   {
    "duration": 4,
    "start_time": "2023-09-24T08:24:59.634Z"
   },
   {
    "duration": 71,
    "start_time": "2023-09-24T08:24:59.641Z"
   },
   {
    "duration": 8,
    "start_time": "2023-09-24T08:24:59.716Z"
   },
   {
    "duration": 5,
    "start_time": "2023-09-24T08:24:59.726Z"
   },
   {
    "duration": 16,
    "start_time": "2023-09-24T08:24:59.732Z"
   },
   {
    "duration": 30,
    "start_time": "2023-09-24T08:24:59.749Z"
   },
   {
    "duration": 24,
    "start_time": "2023-09-24T08:24:59.781Z"
   },
   {
    "duration": 17,
    "start_time": "2023-09-24T08:24:59.808Z"
   },
   {
    "duration": 27,
    "start_time": "2023-09-24T08:24:59.827Z"
   },
   {
    "duration": 849,
    "start_time": "2023-10-02T10:46:04.823Z"
   },
   {
    "duration": 25,
    "start_time": "2023-10-02T10:46:05.674Z"
   },
   {
    "duration": 39,
    "start_time": "2023-10-02T10:46:05.701Z"
   },
   {
    "duration": 23,
    "start_time": "2023-10-02T10:46:05.742Z"
   },
   {
    "duration": 61,
    "start_time": "2023-10-02T10:46:05.768Z"
   },
   {
    "duration": 5,
    "start_time": "2023-10-02T10:46:05.831Z"
   },
   {
    "duration": 25,
    "start_time": "2023-10-02T10:46:05.838Z"
   },
   {
    "duration": 10,
    "start_time": "2023-10-02T10:46:05.865Z"
   },
   {
    "duration": 24,
    "start_time": "2023-10-02T10:46:05.877Z"
   },
   {
    "duration": 31,
    "start_time": "2023-10-02T10:46:05.904Z"
   },
   {
    "duration": 55,
    "start_time": "2023-10-02T10:46:05.937Z"
   },
   {
    "duration": 13,
    "start_time": "2023-10-02T10:46:05.994Z"
   },
   {
    "duration": 28,
    "start_time": "2023-10-02T10:46:06.010Z"
   },
   {
    "duration": 33,
    "start_time": "2023-10-02T10:46:06.041Z"
   },
   {
    "duration": 48,
    "start_time": "2023-10-02T10:46:06.077Z"
   },
   {
    "duration": 20,
    "start_time": "2023-10-02T10:46:06.126Z"
   },
   {
    "duration": 7,
    "start_time": "2023-10-02T10:46:06.148Z"
   },
   {
    "duration": 26,
    "start_time": "2023-10-02T10:46:06.157Z"
   },
   {
    "duration": 46,
    "start_time": "2023-10-02T10:46:06.185Z"
   },
   {
    "duration": 7,
    "start_time": "2023-10-02T10:46:06.234Z"
   },
   {
    "duration": 36,
    "start_time": "2023-10-02T10:46:06.243Z"
   },
   {
    "duration": 41,
    "start_time": "2023-10-02T10:46:06.281Z"
   },
   {
    "duration": 22,
    "start_time": "2023-10-02T10:46:06.326Z"
   },
   {
    "duration": 21,
    "start_time": "2023-10-02T10:46:06.350Z"
   },
   {
    "duration": 47,
    "start_time": "2023-10-02T10:46:06.373Z"
   }
  ],
  "colab": {
   "name": "dpp_template_part2.ipynb",
   "provenance": []
  },
  "kernelspec": {
   "display_name": "Python 3 (ipykernel)",
   "language": "python",
   "name": "python3"
  },
  "language_info": {
   "codemirror_mode": {
    "name": "ipython",
    "version": 3
   },
   "file_extension": ".py",
   "mimetype": "text/x-python",
   "name": "python",
   "nbconvert_exporter": "python",
   "pygments_lexer": "ipython3",
   "version": "3.11.4"
  },
  "toc": {
   "base_numbering": 1,
   "nav_menu": {},
   "number_sections": true,
   "sideBar": true,
   "skip_h1_title": true,
   "title_cell": "Table of Contents",
   "title_sidebar": "Contents",
   "toc_cell": false,
   "toc_position": {
    "height": "calc(100% - 180px)",
    "left": "10px",
    "top": "150px",
    "width": "336.179px"
   },
   "toc_section_display": true,
   "toc_window_display": true
  }
 },
 "nbformat": 4,
 "nbformat_minor": 5
}
