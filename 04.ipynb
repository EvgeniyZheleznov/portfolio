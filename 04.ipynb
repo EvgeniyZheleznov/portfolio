{
 "cells": [
  {
   "cell_type": "markdown",
   "id": "5db6214e",
   "metadata": {},
   "source": []
  },
  {
   "cell_type": "markdown",
   "id": "244a8fb5",
   "metadata": {},
   "source": [
    "**Описание проекта**  \n",
    "Вы аналитик популярного сервиса аренды самокатов GoFast. Вам передали данные о некоторых пользователях из нескольких городов, а также об их поездках. Проанализируйте данные и проверьте некоторые гипотезы, которые могут помочь бизнесу вырасти.  \n",
    "Чтобы совершать поездки по городу, пользователи сервиса GoFast пользуются мобильным приложением. Сервисом можно пользоваться:  \n",
    "без подписки  \n",
    "абонентская плата отсутствует;  \n",
    "стоимость одной минуты поездки — 8 рублей;  \n",
    "стоимость старта (начала поездки) — 50 рублей;  \n",
    "с подпиской Ultra  \n",
    "абонентская плата — 199 рублей в месяц;  \n",
    "стоимость одной минуты поездки — 6 рублей;  \n",
    "стоимость старта — бесплатно.  "
   ]
  },
  {
   "cell_type": "code",
   "execution_count": 1,
   "id": "72576667",
   "metadata": {},
   "outputs": [],
   "source": [
    "import pandas as pd\n",
    "import seaborn as sns\n",
    "import matplotlib.pyplot as plt\n",
    "import numpy as np\n",
    "from scipy import stats as st"
   ]
  },
  {
   "cell_type": "markdown",
   "id": "c42cbe00",
   "metadata": {},
   "source": [
    "#### Шаг 1. Загрузка данных"
   ]
  },
  {
   "cell_type": "code",
   "execution_count": 2,
   "id": "eff9f206",
   "metadata": {},
   "outputs": [],
   "source": [
    "df1 = pd.read_csv('https://code.s3.yandex.net/datasets/users_go.csv')\n",
    "users = df1.copy()\n",
    "df2 = pd.read_csv('https://code.s3.yandex.net/datasets/rides_go.csv')\n",
    "rides = df2.copy()\n",
    "df3 = pd.read_csv('https://code.s3.yandex.net/datasets/subscriptions_go.csv')\n",
    "subsc = df3.copy()"
   ]
  },
  {
   "cell_type": "markdown",
   "id": "0d20a025-b903-4fd6-b07b-583bee288fe2",
   "metadata": {},
   "source": [
    " **Выводим первые строки каждого DF. Изучаем общую информацию о каждом DF.**"
   ]
  },
  {
   "cell_type": "code",
   "execution_count": 3,
   "id": "90f13d6d-9bf6-4ac5-9608-0ed4036e7a14",
   "metadata": {},
   "outputs": [
    {
     "data": {
      "text/html": [
       "<div>\n",
       "<style scoped>\n",
       "    .dataframe tbody tr th:only-of-type {\n",
       "        vertical-align: middle;\n",
       "    }\n",
       "\n",
       "    .dataframe tbody tr th {\n",
       "        vertical-align: top;\n",
       "    }\n",
       "\n",
       "    .dataframe thead th {\n",
       "        text-align: right;\n",
       "    }\n",
       "</style>\n",
       "<table border=\"1\" class=\"dataframe\">\n",
       "  <thead>\n",
       "    <tr style=\"text-align: right;\">\n",
       "      <th></th>\n",
       "      <th>user_id</th>\n",
       "      <th>name</th>\n",
       "      <th>age</th>\n",
       "      <th>city</th>\n",
       "      <th>subscription_type</th>\n",
       "    </tr>\n",
       "  </thead>\n",
       "  <tbody>\n",
       "    <tr>\n",
       "      <th>0</th>\n",
       "      <td>1</td>\n",
       "      <td>Кира</td>\n",
       "      <td>22</td>\n",
       "      <td>Тюмень</td>\n",
       "      <td>ultra</td>\n",
       "    </tr>\n",
       "    <tr>\n",
       "      <th>1</th>\n",
       "      <td>2</td>\n",
       "      <td>Станислав</td>\n",
       "      <td>31</td>\n",
       "      <td>Омск</td>\n",
       "      <td>ultra</td>\n",
       "    </tr>\n",
       "    <tr>\n",
       "      <th>2</th>\n",
       "      <td>3</td>\n",
       "      <td>Алексей</td>\n",
       "      <td>20</td>\n",
       "      <td>Москва</td>\n",
       "      <td>ultra</td>\n",
       "    </tr>\n",
       "    <tr>\n",
       "      <th>3</th>\n",
       "      <td>4</td>\n",
       "      <td>Константин</td>\n",
       "      <td>26</td>\n",
       "      <td>Ростов-на-Дону</td>\n",
       "      <td>ultra</td>\n",
       "    </tr>\n",
       "    <tr>\n",
       "      <th>4</th>\n",
       "      <td>5</td>\n",
       "      <td>Адель</td>\n",
       "      <td>28</td>\n",
       "      <td>Омск</td>\n",
       "      <td>ultra</td>\n",
       "    </tr>\n",
       "  </tbody>\n",
       "</table>\n",
       "</div>"
      ],
      "text/plain": [
       "   user_id        name  age            city subscription_type\n",
       "0        1        Кира   22          Тюмень             ultra\n",
       "1        2   Станислав   31            Омск             ultra\n",
       "2        3     Алексей   20          Москва             ultra\n",
       "3        4  Константин   26  Ростов-на-Дону             ultra\n",
       "4        5       Адель   28            Омск             ultra"
      ]
     },
     "metadata": {},
     "output_type": "display_data"
    },
    {
     "name": "stdout",
     "output_type": "stream",
     "text": [
      "<class 'pandas.core.frame.DataFrame'>\n",
      "RangeIndex: 1565 entries, 0 to 1564\n",
      "Data columns (total 5 columns):\n",
      " #   Column             Non-Null Count  Dtype \n",
      "---  ------             --------------  ----- \n",
      " 0   user_id            1565 non-null   int64 \n",
      " 1   name               1565 non-null   object\n",
      " 2   age                1565 non-null   int64 \n",
      " 3   city               1565 non-null   object\n",
      " 4   subscription_type  1565 non-null   object\n",
      "dtypes: int64(2), object(3)\n",
      "memory usage: 61.3+ KB\n"
     ]
    },
    {
     "data": {
      "text/plain": [
       "None"
      ]
     },
     "metadata": {},
     "output_type": "display_data"
    },
    {
     "name": "stdout",
     "output_type": "stream",
     "text": [
      "\n",
      "\n"
     ]
    },
    {
     "data": {
      "text/html": [
       "<div>\n",
       "<style scoped>\n",
       "    .dataframe tbody tr th:only-of-type {\n",
       "        vertical-align: middle;\n",
       "    }\n",
       "\n",
       "    .dataframe tbody tr th {\n",
       "        vertical-align: top;\n",
       "    }\n",
       "\n",
       "    .dataframe thead th {\n",
       "        text-align: right;\n",
       "    }\n",
       "</style>\n",
       "<table border=\"1\" class=\"dataframe\">\n",
       "  <thead>\n",
       "    <tr style=\"text-align: right;\">\n",
       "      <th></th>\n",
       "      <th>user_id</th>\n",
       "      <th>distance</th>\n",
       "      <th>duration</th>\n",
       "      <th>date</th>\n",
       "    </tr>\n",
       "  </thead>\n",
       "  <tbody>\n",
       "    <tr>\n",
       "      <th>0</th>\n",
       "      <td>1</td>\n",
       "      <td>4409.919140</td>\n",
       "      <td>25.599769</td>\n",
       "      <td>2021-01-01</td>\n",
       "    </tr>\n",
       "    <tr>\n",
       "      <th>1</th>\n",
       "      <td>1</td>\n",
       "      <td>2617.592153</td>\n",
       "      <td>15.816871</td>\n",
       "      <td>2021-01-18</td>\n",
       "    </tr>\n",
       "    <tr>\n",
       "      <th>2</th>\n",
       "      <td>1</td>\n",
       "      <td>754.159807</td>\n",
       "      <td>6.232113</td>\n",
       "      <td>2021-04-20</td>\n",
       "    </tr>\n",
       "    <tr>\n",
       "      <th>3</th>\n",
       "      <td>1</td>\n",
       "      <td>2694.783254</td>\n",
       "      <td>18.511000</td>\n",
       "      <td>2021-08-11</td>\n",
       "    </tr>\n",
       "    <tr>\n",
       "      <th>4</th>\n",
       "      <td>1</td>\n",
       "      <td>4028.687306</td>\n",
       "      <td>26.265803</td>\n",
       "      <td>2021-08-28</td>\n",
       "    </tr>\n",
       "  </tbody>\n",
       "</table>\n",
       "</div>"
      ],
      "text/plain": [
       "   user_id     distance   duration        date\n",
       "0        1  4409.919140  25.599769  2021-01-01\n",
       "1        1  2617.592153  15.816871  2021-01-18\n",
       "2        1   754.159807   6.232113  2021-04-20\n",
       "3        1  2694.783254  18.511000  2021-08-11\n",
       "4        1  4028.687306  26.265803  2021-08-28"
      ]
     },
     "metadata": {},
     "output_type": "display_data"
    },
    {
     "name": "stdout",
     "output_type": "stream",
     "text": [
      "<class 'pandas.core.frame.DataFrame'>\n",
      "RangeIndex: 18068 entries, 0 to 18067\n",
      "Data columns (total 4 columns):\n",
      " #   Column    Non-Null Count  Dtype  \n",
      "---  ------    --------------  -----  \n",
      " 0   user_id   18068 non-null  int64  \n",
      " 1   distance  18068 non-null  float64\n",
      " 2   duration  18068 non-null  float64\n",
      " 3   date      18068 non-null  object \n",
      "dtypes: float64(2), int64(1), object(1)\n",
      "memory usage: 564.8+ KB\n"
     ]
    },
    {
     "data": {
      "text/plain": [
       "None"
      ]
     },
     "metadata": {},
     "output_type": "display_data"
    },
    {
     "name": "stdout",
     "output_type": "stream",
     "text": [
      "\n",
      "\n"
     ]
    },
    {
     "data": {
      "text/html": [
       "<div>\n",
       "<style scoped>\n",
       "    .dataframe tbody tr th:only-of-type {\n",
       "        vertical-align: middle;\n",
       "    }\n",
       "\n",
       "    .dataframe tbody tr th {\n",
       "        vertical-align: top;\n",
       "    }\n",
       "\n",
       "    .dataframe thead th {\n",
       "        text-align: right;\n",
       "    }\n",
       "</style>\n",
       "<table border=\"1\" class=\"dataframe\">\n",
       "  <thead>\n",
       "    <tr style=\"text-align: right;\">\n",
       "      <th></th>\n",
       "      <th>subscription_type</th>\n",
       "      <th>minute_price</th>\n",
       "      <th>start_ride_price</th>\n",
       "      <th>subscription_fee</th>\n",
       "    </tr>\n",
       "  </thead>\n",
       "  <tbody>\n",
       "    <tr>\n",
       "      <th>0</th>\n",
       "      <td>free</td>\n",
       "      <td>8</td>\n",
       "      <td>50</td>\n",
       "      <td>0</td>\n",
       "    </tr>\n",
       "    <tr>\n",
       "      <th>1</th>\n",
       "      <td>ultra</td>\n",
       "      <td>6</td>\n",
       "      <td>0</td>\n",
       "      <td>199</td>\n",
       "    </tr>\n",
       "  </tbody>\n",
       "</table>\n",
       "</div>"
      ],
      "text/plain": [
       "  subscription_type  minute_price  start_ride_price  subscription_fee\n",
       "0              free             8                50                 0\n",
       "1             ultra             6                 0               199"
      ]
     },
     "metadata": {},
     "output_type": "display_data"
    },
    {
     "name": "stdout",
     "output_type": "stream",
     "text": [
      "<class 'pandas.core.frame.DataFrame'>\n",
      "RangeIndex: 2 entries, 0 to 1\n",
      "Data columns (total 4 columns):\n",
      " #   Column             Non-Null Count  Dtype \n",
      "---  ------             --------------  ----- \n",
      " 0   subscription_type  2 non-null      object\n",
      " 1   minute_price       2 non-null      int64 \n",
      " 2   start_ride_price   2 non-null      int64 \n",
      " 3   subscription_fee   2 non-null      int64 \n",
      "dtypes: int64(3), object(1)\n",
      "memory usage: 192.0+ bytes\n"
     ]
    }
   ],
   "source": [
    "display(users.head())\n",
    "display(users.info())\n",
    "print()\n",
    "print()\n",
    "display(rides.head())\n",
    "display(rides.info())\n",
    "print()\n",
    "print()\n",
    "display(subsc.head())\n",
    "subsc.info()"
   ]
  },
  {
   "cell_type": "markdown",
   "id": "4e2fd9d1",
   "metadata": {},
   "source": []
  },
  {
   "cell_type": "code",
   "execution_count": null,
   "id": "0049b228",
   "metadata": {},
   "outputs": [],
   "source": []
  },
  {
   "cell_type": "code",
   "execution_count": 4,
   "id": "deb486d1-3396-4e0d-8ac5-2a5f6ddded4e",
   "metadata": {},
   "outputs": [
    {
     "data": {
      "image/png": "[encoded data removed]",
      "text/plain": [
       "<Figure size 720x216 with 2 Axes>"
      ]
     },
     "metadata": {
      "needs_background": "light"
     },
     "output_type": "display_data"
    }
   ],
   "source": [
    "users.hist(figsize=(10,3), bins=30)\n",
    "pass"
   ]
  },
  {
   "cell_type": "markdown",
   "id": "790def80-d696-46e9-a382-cc541d9c0191",
   "metadata": {},
   "source": [
    "**Первичный анализ.**  \n",
    "Первичный анализ показал что во всех таблицах отсутсвуют пропуски значений. В **DF- users** необходимо проверить на дубликаты значения **user_id**, в **DF-rides** необходимо тип данных data поменять, так же для удобство необходимо округлить значение **distance** до десятых, а **duration** до сотых. **DF-subsc** ни чего пока не делаем."
   ]
  },
  {
   "cell_type": "markdown",
   "id": "e95ebca7",
   "metadata": {},
   "source": [
    "#### Шаг 2. Предобработка данных"
   ]
  },
  {
   "cell_type": "code",
   "execution_count": 5,
   "id": "2d51a44f-f7f6-4d12-92bd-e8e04fc2a4b7",
   "metadata": {},
   "outputs": [
    {
     "name": "stdout",
     "output_type": "stream",
     "text": [
      "<class 'pandas.core.frame.DataFrame'>\n",
      "RangeIndex: 18068 entries, 0 to 18067\n",
      "Data columns (total 5 columns):\n",
      " #   Column    Non-Null Count  Dtype         \n",
      "---  ------    --------------  -----         \n",
      " 0   user_id   18068 non-null  int64         \n",
      " 1   distance  18068 non-null  float64       \n",
      " 2   duration  18068 non-null  float64       \n",
      " 3   date      18068 non-null  datetime64[ns]\n",
      " 4   month     18068 non-null  int64         \n",
      "dtypes: datetime64[ns](1), float64(2), int64(2)\n",
      "memory usage: 705.9 KB\n"
     ]
    },
    {
     "data": {
      "text/plain": [
       "numpy.datetime64('2021-12-30T00:00:00.000000000')"
      ]
     },
     "metadata": {},
     "output_type": "display_data"
    },
    {
     "data": {
      "text/plain": [
       "numpy.datetime64('2021-01-01T00:00:00.000000000')"
      ]
     },
     "execution_count": 5,
     "metadata": {},
     "output_type": "execute_result"
    }
   ],
   "source": [
    "rides['date'] = pd.to_datetime(rides['date'])                # меняем тип на Datetime\n",
    "rides['month'] = pd.DatetimeIndex(rides['date']).month       # добовляем новый столбец с месяцем\n",
    "rides.info()\n",
    "display(rides['date'].unique().max())\n",
    "rides['date'].unique().min()"
   ]
  },
  {
   "cell_type": "markdown",
   "id": "eb554aa5-d7d7-4226-a9b4-549c5449082e",
   "metadata": {},
   "source": [
    "**Представленная база пириодом в один год.**"
   ]
  },
  {
   "cell_type": "markdown",
   "id": "0a87a4dd-e894-4244-80cf-83fb44f352bd",
   "metadata": {},
   "source": [
    "**Проверяем на нули и на колличесво дубликатов**"
   ]
  },
  {
   "cell_type": "code",
   "execution_count": 6,
   "id": "d87595d2-62b9-4181-9dfa-41b16ee4f481",
   "metadata": {},
   "outputs": [],
   "source": [
    "def check(df):\n",
    "    display(df.isna().sum())\n",
    "    print('Колличество  дубликатов: ', df.duplicated().sum()) \n",
    "    print()"
   ]
  },
  {
   "cell_type": "code",
   "execution_count": 7,
   "id": "2e2b55bc-21c5-4869-8d5c-7946ca244252",
   "metadata": {},
   "outputs": [
    {
     "data": {
      "text/plain": [
       "user_id              0\n",
       "name                 0\n",
       "age                  0\n",
       "city                 0\n",
       "subscription_type    0\n",
       "dtype: int64"
      ]
     },
     "metadata": {},
     "output_type": "display_data"
    },
    {
     "name": "stdout",
     "output_type": "stream",
     "text": [
      "Колличество  дубликатов:  31\n",
      "\n"
     ]
    },
    {
     "data": {
      "text/plain": [
       "user_id     0\n",
       "distance    0\n",
       "duration    0\n",
       "date        0\n",
       "month       0\n",
       "dtype: int64"
      ]
     },
     "metadata": {},
     "output_type": "display_data"
    },
    {
     "name": "stdout",
     "output_type": "stream",
     "text": [
      "Колличество  дубликатов:  0\n",
      "\n"
     ]
    },
    {
     "data": {
      "text/plain": [
       "subscription_type    0\n",
       "minute_price         0\n",
       "start_ride_price     0\n",
       "subscription_fee     0\n",
       "dtype: int64"
      ]
     },
     "metadata": {},
     "output_type": "display_data"
    },
    {
     "name": "stdout",
     "output_type": "stream",
     "text": [
      "Колличество  дубликатов:  0\n",
      "\n"
     ]
    }
   ],
   "source": [
    "base = (users, rides, subsc)\n",
    "for df in base:\n",
    "    check(df)"
   ]
  },
  {
   "cell_type": "markdown",
   "id": "d0b13141-5410-4a96-95c3-8d323f84b435",
   "metadata": {},
   "source": [
    "**В связи с тем что дубли обнаружены только в DF-users работаем с ним. В других DF все впорядке**"
   ]
  },
  {
   "cell_type": "code",
   "execution_count": 8,
   "id": "e588d1ee-5c13-4271-afbb-2879263540e8",
   "metadata": {},
   "outputs": [
    {
     "name": "stdout",
     "output_type": "stream",
     "text": [
      "Число строк в датафрейме users: 1534\n",
      "Число уникальных пользователей: 1534\n",
      "Колличество  дубликатов:  0\n"
     ]
    }
   ],
   "source": [
    "#print(users[users['user_id'] == 611] )\n",
    "users = users.drop_duplicates(subset=['user_id'], keep='first') # удаляем дубли\n",
    "\n",
    "users = users.reset_index(drop=True)                            # переиндексируем DF\n",
    "\n",
    "\n",
    "print(\"Число строк в датафрейме users:\", users.shape[0])\n",
    "print(\"Число уникальных пользователей:\", users['user_id'].count())\n",
    "print('Колличество  дубликатов: ',users.duplicated().sum())"
   ]
  },
  {
   "cell_type": "markdown",
   "id": "0ffe19b8-8832-4378-a722-6441503da795",
   "metadata": {},
   "source": [
    "**Округляем значения в столбцах duration и duration:**"
   ]
  },
  {
   "cell_type": "code",
   "execution_count": 9,
   "id": "1db15757-563e-4457-afaf-1313a7b1c199",
   "metadata": {},
   "outputs": [
    {
     "data": {
      "text/html": [
       "<div>\n",
       "<style scoped>\n",
       "    .dataframe tbody tr th:only-of-type {\n",
       "        vertical-align: middle;\n",
       "    }\n",
       "\n",
       "    .dataframe tbody tr th {\n",
       "        vertical-align: top;\n",
       "    }\n",
       "\n",
       "    .dataframe thead th {\n",
       "        text-align: right;\n",
       "    }\n",
       "</style>\n",
       "<table border=\"1\" class=\"dataframe\">\n",
       "  <thead>\n",
       "    <tr style=\"text-align: right;\">\n",
       "      <th></th>\n",
       "      <th>user_id</th>\n",
       "      <th>distance</th>\n",
       "      <th>duration</th>\n",
       "      <th>date</th>\n",
       "      <th>month</th>\n",
       "    </tr>\n",
       "  </thead>\n",
       "  <tbody>\n",
       "    <tr>\n",
       "      <th>0</th>\n",
       "      <td>1</td>\n",
       "      <td>4409.9</td>\n",
       "      <td>25.60</td>\n",
       "      <td>2021-01-01</td>\n",
       "      <td>1</td>\n",
       "    </tr>\n",
       "    <tr>\n",
       "      <th>1</th>\n",
       "      <td>1</td>\n",
       "      <td>2617.6</td>\n",
       "      <td>15.82</td>\n",
       "      <td>2021-01-18</td>\n",
       "      <td>1</td>\n",
       "    </tr>\n",
       "    <tr>\n",
       "      <th>2</th>\n",
       "      <td>1</td>\n",
       "      <td>754.2</td>\n",
       "      <td>6.23</td>\n",
       "      <td>2021-04-20</td>\n",
       "      <td>4</td>\n",
       "    </tr>\n",
       "    <tr>\n",
       "      <th>3</th>\n",
       "      <td>1</td>\n",
       "      <td>2694.8</td>\n",
       "      <td>18.51</td>\n",
       "      <td>2021-08-11</td>\n",
       "      <td>8</td>\n",
       "    </tr>\n",
       "    <tr>\n",
       "      <th>4</th>\n",
       "      <td>1</td>\n",
       "      <td>4028.7</td>\n",
       "      <td>26.27</td>\n",
       "      <td>2021-08-28</td>\n",
       "      <td>8</td>\n",
       "    </tr>\n",
       "    <tr>\n",
       "      <th>5</th>\n",
       "      <td>1</td>\n",
       "      <td>2770.9</td>\n",
       "      <td>16.65</td>\n",
       "      <td>2021-10-09</td>\n",
       "      <td>10</td>\n",
       "    </tr>\n",
       "    <tr>\n",
       "      <th>6</th>\n",
       "      <td>1</td>\n",
       "      <td>3039.0</td>\n",
       "      <td>14.93</td>\n",
       "      <td>2021-10-19</td>\n",
       "      <td>10</td>\n",
       "    </tr>\n",
       "    <tr>\n",
       "      <th>7</th>\n",
       "      <td>1</td>\n",
       "      <td>2842.1</td>\n",
       "      <td>23.12</td>\n",
       "      <td>2021-11-06</td>\n",
       "      <td>11</td>\n",
       "    </tr>\n",
       "    <tr>\n",
       "      <th>8</th>\n",
       "      <td>1</td>\n",
       "      <td>3412.7</td>\n",
       "      <td>15.24</td>\n",
       "      <td>2021-11-14</td>\n",
       "      <td>11</td>\n",
       "    </tr>\n",
       "    <tr>\n",
       "      <th>9</th>\n",
       "      <td>1</td>\n",
       "      <td>748.7</td>\n",
       "      <td>15.04</td>\n",
       "      <td>2021-11-22</td>\n",
       "      <td>11</td>\n",
       "    </tr>\n",
       "  </tbody>\n",
       "</table>\n",
       "</div>"
      ],
      "text/plain": [
       "   user_id  distance  duration       date  month\n",
       "0        1    4409.9     25.60 2021-01-01      1\n",
       "1        1    2617.6     15.82 2021-01-18      1\n",
       "2        1     754.2      6.23 2021-04-20      4\n",
       "3        1    2694.8     18.51 2021-08-11      8\n",
       "4        1    4028.7     26.27 2021-08-28      8\n",
       "5        1    2770.9     16.65 2021-10-09     10\n",
       "6        1    3039.0     14.93 2021-10-19     10\n",
       "7        1    2842.1     23.12 2021-11-06     11\n",
       "8        1    3412.7     15.24 2021-11-14     11\n",
       "9        1     748.7     15.04 2021-11-22     11"
      ]
     },
     "execution_count": 9,
     "metadata": {},
     "output_type": "execute_result"
    }
   ],
   "source": [
    "rides['distance'] = rides['distance'].round(1)\n",
    "rides['duration'] = rides['duration'].round(2)\n",
    "rides.head(10)"
   ]
  },
  {
   "cell_type": "markdown",
   "id": "4b5d9966-e9ba-4979-b598-b87137e1fa4a",
   "metadata": {},
   "source": [
    "**Было 31 дублированная запись, дубли удалил. Округлиз дначения расстояния и времени до \"вменяемых значений\". После \"чиски\" базы стало 1534 записи.**"
   ]
  },
  {
   "cell_type": "markdown",
   "id": "212593c7",
   "metadata": {},
   "source": [
    "#### Шаг 3. Исследовательский анализ данных"
   ]
  },
  {
   "cell_type": "markdown",
   "id": "effa3346-ceb1-4c3c-9ab8-d2572859252e",
   "metadata": {},
   "source": [
    "Опишите и визуализируйте общую информацию о пользователях и поездках:  \n",
    "3.1 частота встречаемости городов;  \n",
    "3.2 соотношение пользователей с подпиской и без подписки;  \n",
    "3.3 возраст пользователей;  \n",
    "3.4 расстояние, которое пользователь преодолел за одну поездку;  \n",
    "3.5 продолжительность поездок.  "
   ]
  },
  {
   "cell_type": "code",
   "execution_count": 10,
   "id": "e3a4274c",
   "metadata": {},
   "outputs": [
    {
     "data": {
      "image/png": "[encoded data removed]",
      "text/plain": [
       "<Figure size 360x216 with 1 Axes>"
      ]
     },
     "metadata": {
      "needs_background": "light"
     },
     "output_type": "display_data"
    }
   ],
   "source": [
    "users['age'].plot(kind='hist',\n",
    "                  bins=30,\n",
    "                  figsize=(5,3),\n",
    "                  edgecolor='black',\n",
    "                  grid=True,\n",
    "                  title='Возраст пользователей',\n",
    "                  xlabel='Возраст'\n",
    "                 )\n",
    "pass"
   ]
  },
  {
   "cell_type": "markdown",
   "id": "ebf26296-ebc9-463a-b011-cc73f7cb89be",
   "metadata": {},
   "source": [
    "Вполене ожидаемый результат, мексимальное значение возраста пользователей от 20 до 30 лет."
   ]
  },
  {
   "cell_type": "code",
   "execution_count": 11,
   "id": "c830aa0c-55c7-4f75-ba1d-8b53e16edb95",
   "metadata": {},
   "outputs": [
    {
     "data": {
      "image/png": "[encoded data removed]",
      "text/plain": [
       "<Figure size 720x360 with 1 Axes>"
      ]
     },
     "metadata": {
      "needs_background": "light"
     },
     "output_type": "display_data"
    }
   ],
   "source": [
    "df_for_hi = users.groupby('city').size()/len(users)\n",
    "df_for_hi_fil = df_for_hi[df_for_hi > 0.01].sort_values()\n",
    "\n",
    "df_for_hi_fil.plot(kind='barh', figsize=(10,5), title='Самые популярные города', grid=True, ec='black', ylabel=' ')\n",
    "\n",
    "#df_for_hi_fil.plot(kind='pie', subplots=True, fontsize=12, autopct='%.1f%%', shadow=True, figsize=(20,5), title='Самые популярные города')\n",
    "pass\n",
    "\n",
    "pass"
   ]
  },
  {
   "cell_type": "markdown",
   "id": "84b19895-1e46-47e8-bf7f-ad314187b223",
   "metadata": {},
   "source": [
    "Наибольшее колличество в Пятигорске порятдка **14,3%** меньше всего в Москве **11%**"
   ]
  },
  {
   "cell_type": "code",
   "execution_count": 12,
   "id": "bec2ec67-3efc-4cd5-95b0-33b8bc2537ea",
   "metadata": {},
   "outputs": [
    {
     "data": {
      "image/png": "[encoded data removed]",
      "text/plain": [
       "<Figure size 1440x360 with 1 Axes>"
      ]
     },
     "metadata": {},
     "output_type": "display_data"
    }
   ],
   "source": [
    "\n",
    "df_for_hi = users.groupby('subscription_type').size()/len(users)\n",
    "#df_for_hi_fil.plot(kind='barh', figsize=(10,2), title='Cоотношение пользователей с подпиской и без подписки', grid=True, ec='black', ylabel=' ')\n",
    "#plt.pie(df_for_hi_fil.values, labels=df_for_hi_fil.index, wedgeprops={'linewidth':3, 'edgecolor':'white'}, autopct='%.1f%%', shadow=True,);\n",
    "explode = (0.05, 0)    # сдвигаем ultra\n",
    "df_for_hi.plot(kind='pie', subplots=True, fontsize=15, autopct='%.1f%%', shadow=True, figsize=(20,5), \n",
    "               title='Cоотношение пользователей с подпиской и без подписки', explode = explode, wedgeprops={'linewidth':1, 'edgecolor':'white'})\n",
    "pass\n"
   ]
  },
  {
   "cell_type": "markdown",
   "id": "457acfb2-414c-490d-bfbe-46c8b7cc8211",
   "metadata": {},
   "source": [
    "Ожидаемо без подписки **54.4%** с подпиской **45.6%**"
   ]
  },
  {
   "cell_type": "code",
   "execution_count": 13,
   "id": "f3a5a66f-70e7-431d-a87f-8b5a97d10f4e",
   "metadata": {},
   "outputs": [
    {
     "data": {
      "image/png": "[encoded data removed]",
      "text/plain": [
       "<Figure size 720x216 with 1 Axes>"
      ]
     },
     "metadata": {
      "needs_background": "light"
     },
     "output_type": "display_data"
    }
   ],
   "source": [
    "\n",
    "rides['distance'].plot(kind = 'hist', \n",
    "                       bins = 100, \n",
    "                       figsize=(10,3), \n",
    "                       edgecolor='black',\n",
    "                       grid=True,\n",
    "                       title='Расстояние однной поездки',\n",
    "                       xlabel='Дистанция')\n",
    "\n",
    "pass\n"
   ]
  },
  {
   "cell_type": "code",
   "execution_count": 14,
   "id": "6c7d39d2-ec71-40a8-8bae-f00c79844d85",
   "metadata": {},
   "outputs": [
    {
     "data": {
      "image/png": "[encoded data removed]",
      "text/plain": [
       "<Figure size 432x288 with 1 Axes>"
      ]
     },
     "metadata": {
      "needs_background": "light"
     },
     "output_type": "display_data"
    }
   ],
   "source": [
    "plt.boxplot(rides['distance'])\n",
    "pass\n"
   ]
  },
  {
   "cell_type": "markdown",
   "id": "0cfdc9f9-8cd9-4ede-8c07-78285925748c",
   "metadata": {},
   "source": [
    "__Среденее значение расстояния одной поездки, принемает значение от **2500 метров** до **4000 метров**."
   ]
  },
  {
   "cell_type": "code",
   "execution_count": 15,
   "id": "e13d6626-ed4a-4b86-ac4e-010b1e79714c",
   "metadata": {},
   "outputs": [
    {
     "data": {
      "image/png": "[encoded data removed]",
      "text/plain": [
       "<Figure size 720x216 with 1 Axes>"
      ]
     },
     "metadata": {
      "needs_background": "light"
     },
     "output_type": "display_data"
    }
   ],
   "source": [
    "rides.groupby('user_id')['duration'].sum().plot(kind = 'hist', \n",
    "                                                bins = 100,\n",
    "                                                figsize=(10,3),\n",
    "                                                edgecolor='black',\n",
    "                                                grid=True,\n",
    "                                                title='Продолжительность поездок',\n",
    "                                                xlabel='Продолжительность')\n",
    "\n",
    "pass"
   ]
  },
  {
   "cell_type": "code",
   "execution_count": 16,
   "id": "91a4444f-fa03-4c45-951c-674f92886424",
   "metadata": {},
   "outputs": [
    {
     "data": {
      "image/png": "[encoded data removed]",
      "text/plain": [
       "<Figure size 432x288 with 1 Axes>"
      ]
     },
     "metadata": {
      "needs_background": "light"
     },
     "output_type": "display_data"
    }
   ],
   "source": [
    "plt.boxplot(rides['duration'])\n",
    "\n",
    "pass"
   ]
  },
  {
   "cell_type": "markdown",
   "id": "f16f7ddc-6272-451a-ae0d-9008120c3b3f",
   "metadata": {},
   "source": [
    "Вполне ожидаемо средняя продолжительно поездки коррелируется с граффиком расстояние однной поездки"
   ]
  },
  {
   "cell_type": "markdown",
   "id": "51e0656a-610e-4d88-aba1-4acb948a5b3c",
   "metadata": {},
   "source": [
    "#### Шаг 4. Объединение данных"
   ]
  },
  {
   "cell_type": "markdown",
   "id": "b7c1dedf-c4f3-4018-b1af-ad0fbfa5309e",
   "metadata": {},
   "source": [
    "4.1 Объедините данные о пользователях, поездках и подписках в один датафрейм. Для этого воспользуйтесь методом merge().  \n",
    "4.2 Создайте ещё два датафрейма из датафрейма, созданного на этапе 4.1:  \n",
    "c данными о пользователях без подписки;  \n",
    "с данными о пользователях с подпиской.  \n",
    "4.3 Визуализируйте информацию о расстоянии и времени поездок для пользователей обеих категорий.  "
   ]
  },
  {
   "cell_type": "code",
   "execution_count": null,
   "id": "7a31444b-15df-4d37-b95b-067ab260d7b4",
   "metadata": {},
   "outputs": [],
   "source": []
  },
  {
   "cell_type": "code",
   "execution_count": null,
   "id": "b21dbea6-bdf7-4a5b-8184-21918c842d9a",
   "metadata": {},
   "outputs": [],
   "source": []
  },
  {
   "cell_type": "code",
   "execution_count": 17,
   "id": "5ab6510d-d9fb-411e-a27a-81a23ff1ab4e",
   "metadata": {},
   "outputs": [],
   "source": [
    "users_union = users.merge(rides, on='user_id', how='left')"
   ]
  },
  {
   "cell_type": "code",
   "execution_count": 18,
   "id": "f4dc81b2-7d1c-4312-a20e-3ec88880e86b",
   "metadata": {},
   "outputs": [
    {
     "name": "stdout",
     "output_type": "stream",
     "text": [
      "<class 'pandas.core.frame.DataFrame'>\n",
      "RangeIndex: 1534 entries, 0 to 1533\n",
      "Data columns (total 5 columns):\n",
      " #   Column             Non-Null Count  Dtype \n",
      "---  ------             --------------  ----- \n",
      " 0   user_id            1534 non-null   int64 \n",
      " 1   name               1534 non-null   object\n",
      " 2   age                1534 non-null   int64 \n",
      " 3   city               1534 non-null   object\n",
      " 4   subscription_type  1534 non-null   object\n",
      "dtypes: int64(2), object(3)\n",
      "memory usage: 60.0+ KB\n",
      "\n",
      "<class 'pandas.core.frame.DataFrame'>\n",
      "RangeIndex: 18068 entries, 0 to 18067\n",
      "Data columns (total 5 columns):\n",
      " #   Column    Non-Null Count  Dtype         \n",
      "---  ------    --------------  -----         \n",
      " 0   user_id   18068 non-null  int64         \n",
      " 1   distance  18068 non-null  float64       \n",
      " 2   duration  18068 non-null  float64       \n",
      " 3   date      18068 non-null  datetime64[ns]\n",
      " 4   month     18068 non-null  int64         \n",
      "dtypes: datetime64[ns](1), float64(2), int64(2)\n",
      "memory usage: 705.9 KB\n",
      "\n",
      "<class 'pandas.core.frame.DataFrame'>\n",
      "Int64Index: 18068 entries, 0 to 18067\n",
      "Data columns (total 9 columns):\n",
      " #   Column             Non-Null Count  Dtype         \n",
      "---  ------             --------------  -----         \n",
      " 0   user_id            18068 non-null  int64         \n",
      " 1   name               18068 non-null  object        \n",
      " 2   age                18068 non-null  int64         \n",
      " 3   city               18068 non-null  object        \n",
      " 4   subscription_type  18068 non-null  object        \n",
      " 5   distance           18068 non-null  float64       \n",
      " 6   duration           18068 non-null  float64       \n",
      " 7   date               18068 non-null  datetime64[ns]\n",
      " 8   month              18068 non-null  int64         \n",
      "dtypes: datetime64[ns](1), float64(2), int64(3), object(3)\n",
      "memory usage: 1.4+ MB\n"
     ]
    }
   ],
   "source": [
    "users.info()\n",
    "print()\n",
    "rides.info()\n",
    "print()\n",
    "users_union.info()\n"
   ]
  },
  {
   "cell_type": "code",
   "execution_count": 19,
   "id": "e96866fa-9345-48e5-a63d-1d63d0334e00",
   "metadata": {},
   "outputs": [],
   "source": [
    "users_ultra = users_union [users_union['subscription_type']== 'ultra']"
   ]
  },
  {
   "cell_type": "code",
   "execution_count": 20,
   "id": "df9dc432-09e3-47c4-9efb-332544b3a09c",
   "metadata": {},
   "outputs": [
    {
     "name": "stdout",
     "output_type": "stream",
     "text": [
      "<class 'pandas.core.frame.DataFrame'>\n",
      "Int64Index: 6500 entries, 0 to 6499\n",
      "Data columns (total 9 columns):\n",
      " #   Column             Non-Null Count  Dtype         \n",
      "---  ------             --------------  -----         \n",
      " 0   user_id            6500 non-null   int64         \n",
      " 1   name               6500 non-null   object        \n",
      " 2   age                6500 non-null   int64         \n",
      " 3   city               6500 non-null   object        \n",
      " 4   subscription_type  6500 non-null   object        \n",
      " 5   distance           6500 non-null   float64       \n",
      " 6   duration           6500 non-null   float64       \n",
      " 7   date               6500 non-null   datetime64[ns]\n",
      " 8   month              6500 non-null   int64         \n",
      "dtypes: datetime64[ns](1), float64(2), int64(3), object(3)\n",
      "memory usage: 507.8+ KB\n"
     ]
    }
   ],
   "source": [
    "users_ultra.info()"
   ]
  },
  {
   "cell_type": "code",
   "execution_count": 21,
   "id": "ee611ffb-adc4-45d8-9d6a-1ef71d25397d",
   "metadata": {},
   "outputs": [
    {
     "name": "stdout",
     "output_type": "stream",
     "text": [
      "<class 'pandas.core.frame.DataFrame'>\n",
      "Int64Index: 11568 entries, 6500 to 18067\n",
      "Data columns (total 9 columns):\n",
      " #   Column             Non-Null Count  Dtype         \n",
      "---  ------             --------------  -----         \n",
      " 0   user_id            11568 non-null  int64         \n",
      " 1   name               11568 non-null  object        \n",
      " 2   age                11568 non-null  int64         \n",
      " 3   city               11568 non-null  object        \n",
      " 4   subscription_type  11568 non-null  object        \n",
      " 5   distance           11568 non-null  float64       \n",
      " 6   duration           11568 non-null  float64       \n",
      " 7   date               11568 non-null  datetime64[ns]\n",
      " 8   month              11568 non-null  int64         \n",
      "dtypes: datetime64[ns](1), float64(2), int64(3), object(3)\n",
      "memory usage: 903.8+ KB\n"
     ]
    }
   ],
   "source": [
    "users_free = users_union [users_union ['subscription_type']== 'free']\n",
    "users_free.info()"
   ]
  },
  {
   "cell_type": "code",
   "execution_count": 22,
   "id": "b9838b6a-a4d5-4000-8cb1-a74105622473",
   "metadata": {},
   "outputs": [
    {
     "data": {
      "image/png": "[encoded data removed]",
      "text/plain": [
       "<Figure size 720x216 with 1 Axes>"
      ]
     },
     "metadata": {
      "needs_background": "light"
     },
     "output_type": "display_data"
    }
   ],
   "source": [
    "users_free['distance'].plot(kind = 'hist', \n",
    "                       bins = 100, \n",
    "                       figsize=(10,3), \n",
    "                       edgecolor='black',\n",
    "                       grid=True,\n",
    "                       title='Расстояние однной поездки FREE',\n",
    "                       xlabel='Дистанция')\n",
    "\n",
    "pass\n"
   ]
  },
  {
   "cell_type": "code",
   "execution_count": 23,
   "id": "fe8361aa-740b-49f6-9d54-be510e1d2f9f",
   "metadata": {},
   "outputs": [
    {
     "data": {
      "image/png": "[encoded data removed]",
      "text/plain": [
       "<Figure size 432x288 with 1 Axes>"
      ]
     },
     "metadata": {
      "needs_background": "light"
     },
     "output_type": "display_data"
    }
   ],
   "source": [
    "plt.boxplot(users_free['distance'])\n",
    "pass"
   ]
  },
  {
   "cell_type": "markdown",
   "id": "95c86d57-7866-4a72-9fe8-bac4b01e4c4f",
   "metadata": {},
   "source": [
    "__Вывод:__  \n",
    "Среднее расстояние пользователей Free  от 2300 м. до 4900 м. с мединанным значением 3100 м. Значение после 6000 м. особого влеяния не оказывают. "
   ]
  },
  {
   "cell_type": "code",
   "execution_count": 24,
   "id": "0be8b4a8-620e-4de6-9495-6b9c33163d68",
   "metadata": {},
   "outputs": [
    {
     "data": {
      "image/png": "[encoded data removed]",
      "text/plain": [
       "<Figure size 720x216 with 1 Axes>"
      ]
     },
     "metadata": {
      "needs_background": "light"
     },
     "output_type": "display_data"
    }
   ],
   "source": [
    "users_free.groupby('user_id')['duration'].sum().plot(kind = 'hist', \n",
    "                                                bins = 100,\n",
    "                                                figsize=(10,3),\n",
    "                                                edgecolor='black',\n",
    "                                                grid=True,\n",
    "                                                title='Продолжительность поездок FREE',\n",
    "                                                xlabel='Продолжительность')\n",
    "\n",
    "pass"
   ]
  },
  {
   "cell_type": "code",
   "execution_count": 25,
   "id": "022e4c1a-85a1-4ce4-a7ec-47c15719a426",
   "metadata": {},
   "outputs": [
    {
     "data": {
      "image/png": "[encoded data removed]",
      "text/plain": [
       "<Figure size 432x288 with 1 Axes>"
      ]
     },
     "metadata": {
      "needs_background": "light"
     },
     "output_type": "display_data"
    }
   ],
   "source": [
    "plt.boxplot(users_free['duration'])\n",
    "pass"
   ]
  },
  {
   "cell_type": "markdown",
   "id": "1145fe8a-6c79-4893-8259-7d0cad973e4f",
   "metadata": {},
   "source": [
    "__Вывод__  \n",
    "Основновное время поездок укладывается в значение от 120 до 220. Выбросов нет."
   ]
  },
  {
   "cell_type": "code",
   "execution_count": 26,
   "id": "6a2362c0-2b14-4cf8-82ff-b131cfc427f5",
   "metadata": {},
   "outputs": [
    {
     "data": {
      "image/png": "[encoded data removed]",
      "text/plain": [
       "<Figure size 720x216 with 1 Axes>"
      ]
     },
     "metadata": {
      "needs_background": "light"
     },
     "output_type": "display_data"
    }
   ],
   "source": [
    "users_ultra['distance'].plot(kind = 'hist', \n",
    "                       bins = 100, \n",
    "                       figsize=(10,3), \n",
    "                       edgecolor='black',\n",
    "                       grid=True,\n",
    "                       title='Расстояние однной поездки ULTRA',\n",
    "                       xlabel='Дистанция')\n",
    "pass"
   ]
  },
  {
   "cell_type": "code",
   "execution_count": 27,
   "id": "3086116f-474c-4a31-ab1f-10425a3cca3f",
   "metadata": {},
   "outputs": [
    {
     "data": {
      "image/png": "[encoded data removed]",
      "text/plain": [
       "<Figure size 432x288 with 1 Axes>"
      ]
     },
     "metadata": {
      "needs_background": "light"
     },
     "output_type": "display_data"
    }
   ],
   "source": [
    "plt.boxplot(users_ultra['distance'])\n",
    "\n",
    "pass"
   ]
  },
  {
   "cell_type": "markdown",
   "id": "61ca99dc-f3d3-4e4e-b3e5-1f42b6fb2ad3",
   "metadata": {},
   "source": [
    "__Вывод__  \n",
    "Среднее расстояние пользователей Ultra от 2700 м. до 3500 м. с мединанным значением 3100 м. Значение после 4700 м. особого влеяния не оказывают. "
   ]
  },
  {
   "cell_type": "code",
   "execution_count": 28,
   "id": "048c53e2-66ae-464e-b423-47266974ddff",
   "metadata": {},
   "outputs": [
    {
     "data": {
      "image/png": "[encoded data removed]",
      "text/plain": [
       "<Figure size 720x216 with 1 Axes>"
      ]
     },
     "metadata": {
      "needs_background": "light"
     },
     "output_type": "display_data"
    }
   ],
   "source": [
    "users_ultra.groupby('user_id')['duration'].sum().plot(kind = 'hist', \n",
    "                                                bins = 100,\n",
    "                                                figsize=(10,3),\n",
    "                                                edgecolor='black',\n",
    "                                                grid=True,\n",
    "                                                title='Продолжительность поездок ULTRA',\n",
    "                                                xlabel='Продолжительность')\n",
    "pass"
   ]
  },
  {
   "cell_type": "code",
   "execution_count": 29,
   "id": "266aefef-1453-4649-bf07-bde9e6a2e816",
   "metadata": {},
   "outputs": [
    {
     "data": {
      "image/png": "[encoded data removed]",
      "text/plain": [
       "<Figure size 432x288 with 1 Axes>"
      ]
     },
     "metadata": {
      "needs_background": "light"
     },
     "output_type": "display_data"
    }
   ],
   "source": [
    "plt.boxplot(users_ultra['duration'])\n",
    "pass"
   ]
  },
  {
   "cell_type": "markdown",
   "id": "333d74b3-16d0-4781-8d0b-62c10fc2728d",
   "metadata": {},
   "source": [
    "__Вывод__  \n",
    "Основновное время поездок тираифа Ultra укладывается в значение от 14 до 22. Выбросов около 32 но влияния не оказывают."
   ]
  },
  {
   "cell_type": "code",
   "execution_count": 30,
   "id": "6bf288b5",
   "metadata": {},
   "outputs": [
    {
     "data": {
      "text/html": [
       "<div>\n",
       "<style scoped>\n",
       "    .dataframe tbody tr th:only-of-type {\n",
       "        vertical-align: middle;\n",
       "    }\n",
       "\n",
       "    .dataframe tbody tr th {\n",
       "        vertical-align: top;\n",
       "    }\n",
       "\n",
       "    .dataframe thead th {\n",
       "        text-align: right;\n",
       "    }\n",
       "</style>\n",
       "<table border=\"1\" class=\"dataframe\">\n",
       "  <thead>\n",
       "    <tr style=\"text-align: right;\">\n",
       "      <th></th>\n",
       "      <th>user_id</th>\n",
       "      <th>name</th>\n",
       "      <th>age</th>\n",
       "      <th>city</th>\n",
       "      <th>subscription_type</th>\n",
       "      <th>distance</th>\n",
       "      <th>duration</th>\n",
       "      <th>date</th>\n",
       "      <th>month</th>\n",
       "    </tr>\n",
       "  </thead>\n",
       "  <tbody>\n",
       "    <tr>\n",
       "      <th>0</th>\n",
       "      <td>1</td>\n",
       "      <td>Кира</td>\n",
       "      <td>22</td>\n",
       "      <td>Тюмень</td>\n",
       "      <td>ultra</td>\n",
       "      <td>4409.9</td>\n",
       "      <td>25.60</td>\n",
       "      <td>2021-01-01</td>\n",
       "      <td>1</td>\n",
       "    </tr>\n",
       "    <tr>\n",
       "      <th>1</th>\n",
       "      <td>1</td>\n",
       "      <td>Кира</td>\n",
       "      <td>22</td>\n",
       "      <td>Тюмень</td>\n",
       "      <td>ultra</td>\n",
       "      <td>2617.6</td>\n",
       "      <td>15.82</td>\n",
       "      <td>2021-01-18</td>\n",
       "      <td>1</td>\n",
       "    </tr>\n",
       "    <tr>\n",
       "      <th>2</th>\n",
       "      <td>1</td>\n",
       "      <td>Кира</td>\n",
       "      <td>22</td>\n",
       "      <td>Тюмень</td>\n",
       "      <td>ultra</td>\n",
       "      <td>754.2</td>\n",
       "      <td>6.23</td>\n",
       "      <td>2021-04-20</td>\n",
       "      <td>4</td>\n",
       "    </tr>\n",
       "    <tr>\n",
       "      <th>3</th>\n",
       "      <td>1</td>\n",
       "      <td>Кира</td>\n",
       "      <td>22</td>\n",
       "      <td>Тюмень</td>\n",
       "      <td>ultra</td>\n",
       "      <td>2694.8</td>\n",
       "      <td>18.51</td>\n",
       "      <td>2021-08-11</td>\n",
       "      <td>8</td>\n",
       "    </tr>\n",
       "    <tr>\n",
       "      <th>4</th>\n",
       "      <td>1</td>\n",
       "      <td>Кира</td>\n",
       "      <td>22</td>\n",
       "      <td>Тюмень</td>\n",
       "      <td>ultra</td>\n",
       "      <td>4028.7</td>\n",
       "      <td>26.27</td>\n",
       "      <td>2021-08-28</td>\n",
       "      <td>8</td>\n",
       "    </tr>\n",
       "  </tbody>\n",
       "</table>\n",
       "</div>"
      ],
      "text/plain": [
       "   user_id  name  age    city subscription_type  distance  duration  \\\n",
       "0        1  Кира   22  Тюмень             ultra    4409.9     25.60   \n",
       "1        1  Кира   22  Тюмень             ultra    2617.6     15.82   \n",
       "2        1  Кира   22  Тюмень             ultra     754.2      6.23   \n",
       "3        1  Кира   22  Тюмень             ultra    2694.8     18.51   \n",
       "4        1  Кира   22  Тюмень             ultra    4028.7     26.27   \n",
       "\n",
       "        date  month  \n",
       "0 2021-01-01      1  \n",
       "1 2021-01-18      1  \n",
       "2 2021-04-20      4  \n",
       "3 2021-08-11      8  \n",
       "4 2021-08-28      8  "
      ]
     },
     "metadata": {},
     "output_type": "display_data"
    },
    {
     "data": {
      "text/html": [
       "<div>\n",
       "<style scoped>\n",
       "    .dataframe tbody tr th:only-of-type {\n",
       "        vertical-align: middle;\n",
       "    }\n",
       "\n",
       "    .dataframe tbody tr th {\n",
       "        vertical-align: top;\n",
       "    }\n",
       "\n",
       "    .dataframe thead th {\n",
       "        text-align: right;\n",
       "    }\n",
       "</style>\n",
       "<table border=\"1\" class=\"dataframe\">\n",
       "  <thead>\n",
       "    <tr style=\"text-align: right;\">\n",
       "      <th></th>\n",
       "      <th>user_id</th>\n",
       "      <th>distance</th>\n",
       "      <th>duration</th>\n",
       "      <th>date</th>\n",
       "      <th>month</th>\n",
       "    </tr>\n",
       "  </thead>\n",
       "  <tbody>\n",
       "    <tr>\n",
       "      <th>0</th>\n",
       "      <td>1</td>\n",
       "      <td>4409.9</td>\n",
       "      <td>25.60</td>\n",
       "      <td>2021-01-01</td>\n",
       "      <td>1</td>\n",
       "    </tr>\n",
       "    <tr>\n",
       "      <th>1</th>\n",
       "      <td>1</td>\n",
       "      <td>2617.6</td>\n",
       "      <td>15.82</td>\n",
       "      <td>2021-01-18</td>\n",
       "      <td>1</td>\n",
       "    </tr>\n",
       "    <tr>\n",
       "      <th>2</th>\n",
       "      <td>1</td>\n",
       "      <td>754.2</td>\n",
       "      <td>6.23</td>\n",
       "      <td>2021-04-20</td>\n",
       "      <td>4</td>\n",
       "    </tr>\n",
       "    <tr>\n",
       "      <th>3</th>\n",
       "      <td>1</td>\n",
       "      <td>2694.8</td>\n",
       "      <td>18.51</td>\n",
       "      <td>2021-08-11</td>\n",
       "      <td>8</td>\n",
       "    </tr>\n",
       "    <tr>\n",
       "      <th>4</th>\n",
       "      <td>1</td>\n",
       "      <td>4028.7</td>\n",
       "      <td>26.27</td>\n",
       "      <td>2021-08-28</td>\n",
       "      <td>8</td>\n",
       "    </tr>\n",
       "  </tbody>\n",
       "</table>\n",
       "</div>"
      ],
      "text/plain": [
       "   user_id  distance  duration       date  month\n",
       "0        1    4409.9     25.60 2021-01-01      1\n",
       "1        1    2617.6     15.82 2021-01-18      1\n",
       "2        1     754.2      6.23 2021-04-20      4\n",
       "3        1    2694.8     18.51 2021-08-11      8\n",
       "4        1    4028.7     26.27 2021-08-28      8"
      ]
     },
     "metadata": {},
     "output_type": "display_data"
    },
    {
     "data": {
      "text/html": [
       "<div>\n",
       "<style scoped>\n",
       "    .dataframe tbody tr th:only-of-type {\n",
       "        vertical-align: middle;\n",
       "    }\n",
       "\n",
       "    .dataframe tbody tr th {\n",
       "        vertical-align: top;\n",
       "    }\n",
       "\n",
       "    .dataframe thead th {\n",
       "        text-align: right;\n",
       "    }\n",
       "</style>\n",
       "<table border=\"1\" class=\"dataframe\">\n",
       "  <thead>\n",
       "    <tr style=\"text-align: right;\">\n",
       "      <th></th>\n",
       "      <th>subscription_type</th>\n",
       "      <th>minute_price</th>\n",
       "      <th>start_ride_price</th>\n",
       "      <th>subscription_fee</th>\n",
       "    </tr>\n",
       "  </thead>\n",
       "  <tbody>\n",
       "    <tr>\n",
       "      <th>0</th>\n",
       "      <td>free</td>\n",
       "      <td>8</td>\n",
       "      <td>50</td>\n",
       "      <td>0</td>\n",
       "    </tr>\n",
       "    <tr>\n",
       "      <th>1</th>\n",
       "      <td>ultra</td>\n",
       "      <td>6</td>\n",
       "      <td>0</td>\n",
       "      <td>199</td>\n",
       "    </tr>\n",
       "  </tbody>\n",
       "</table>\n",
       "</div>"
      ],
      "text/plain": [
       "  subscription_type  minute_price  start_ride_price  subscription_fee\n",
       "0              free             8                50                 0\n",
       "1             ultra             6                 0               199"
      ]
     },
     "metadata": {},
     "output_type": "display_data"
    }
   ],
   "source": [
    "display(users_union.head())\n",
    "display(rides.head())\n",
    "display(subsc.head())"
   ]
  },
  {
   "cell_type": "markdown",
   "id": "402d620f",
   "metadata": {},
   "source": [
    "#### Шаг 5. Подсчёт выручки"
   ]
  },
  {
   "cell_type": "markdown",
   "id": "3a44897b-39e7-4754-bc80-d3eb74b7b669",
   "metadata": {},
   "source": [
    "5.1 Создайте датафрейм с агрегированными данными о поездках на основе датафрейма с объединёнными данными из шага 4: найдите суммарное расстояние, количество поездок и суммарное время для каждого пользователя за каждый месяц.  \n",
    "5.2 В этот же датафрейм добавьте столбец с помесячной выручкой, которую принёс каждый пользователь. Для этого обратитесь к информации об условиях оплаты для подписчиков и тех, у кого нет подписки. Продолжительность каждой поездки в каждой строке исходного датафрейма для подсчёта стоимости округляется до следующего целого числа: например, значения 25.3, 25.5 и 26.0 должны быть преобразованы к 26.   "
   ]
  },
  {
   "cell_type": "code",
   "execution_count": 31,
   "id": "4dbd872c-47eb-45ef-b869-ac5cc75ac3e4",
   "metadata": {},
   "outputs": [
    {
     "data": {
      "text/plain": [
       "user_id              0\n",
       "name                 0\n",
       "age                  0\n",
       "city                 0\n",
       "subscription_type    0\n",
       "distance             0\n",
       "duration             0\n",
       "date                 0\n",
       "month                0\n",
       "dtype: int64"
      ]
     },
     "execution_count": 31,
     "metadata": {},
     "output_type": "execute_result"
    }
   ],
   "source": [
    "users_union.isna().sum() # проверяем на пропуски."
   ]
  },
  {
   "cell_type": "code",
   "execution_count": 32,
   "id": "57bc183c-d282-4a31-906f-42e43102e3e6",
   "metadata": {},
   "outputs": [
    {
     "data": {
      "text/html": [
       "<div>\n",
       "<style scoped>\n",
       "    .dataframe tbody tr th:only-of-type {\n",
       "        vertical-align: middle;\n",
       "    }\n",
       "\n",
       "    .dataframe tbody tr th {\n",
       "        vertical-align: top;\n",
       "    }\n",
       "\n",
       "    .dataframe thead th {\n",
       "        text-align: right;\n",
       "    }\n",
       "</style>\n",
       "<table border=\"1\" class=\"dataframe\">\n",
       "  <thead>\n",
       "    <tr style=\"text-align: right;\">\n",
       "      <th></th>\n",
       "      <th>user_id</th>\n",
       "      <th>month</th>\n",
       "      <th>subscription_type</th>\n",
       "      <th>distance</th>\n",
       "      <th>count</th>\n",
       "      <th>duration</th>\n",
       "    </tr>\n",
       "  </thead>\n",
       "  <tbody>\n",
       "    <tr>\n",
       "      <th>0</th>\n",
       "      <td>1</td>\n",
       "      <td>1</td>\n",
       "      <td>ultra</td>\n",
       "      <td>7027.5</td>\n",
       "      <td>2</td>\n",
       "      <td>42.0</td>\n",
       "    </tr>\n",
       "    <tr>\n",
       "      <th>1</th>\n",
       "      <td>1</td>\n",
       "      <td>4</td>\n",
       "      <td>ultra</td>\n",
       "      <td>754.2</td>\n",
       "      <td>1</td>\n",
       "      <td>7.0</td>\n",
       "    </tr>\n",
       "    <tr>\n",
       "      <th>2</th>\n",
       "      <td>1</td>\n",
       "      <td>8</td>\n",
       "      <td>ultra</td>\n",
       "      <td>6723.5</td>\n",
       "      <td>2</td>\n",
       "      <td>46.0</td>\n",
       "    </tr>\n",
       "    <tr>\n",
       "      <th>3</th>\n",
       "      <td>1</td>\n",
       "      <td>10</td>\n",
       "      <td>ultra</td>\n",
       "      <td>5809.9</td>\n",
       "      <td>2</td>\n",
       "      <td>32.0</td>\n",
       "    </tr>\n",
       "    <tr>\n",
       "      <th>4</th>\n",
       "      <td>1</td>\n",
       "      <td>11</td>\n",
       "      <td>ultra</td>\n",
       "      <td>7003.5</td>\n",
       "      <td>3</td>\n",
       "      <td>56.0</td>\n",
       "    </tr>\n",
       "    <tr>\n",
       "      <th>5</th>\n",
       "      <td>1</td>\n",
       "      <td>12</td>\n",
       "      <td>ultra</td>\n",
       "      <td>6751.6</td>\n",
       "      <td>2</td>\n",
       "      <td>28.0</td>\n",
       "    </tr>\n",
       "    <tr>\n",
       "      <th>6</th>\n",
       "      <td>2</td>\n",
       "      <td>3</td>\n",
       "      <td>ultra</td>\n",
       "      <td>10187.7</td>\n",
       "      <td>3</td>\n",
       "      <td>63.0</td>\n",
       "    </tr>\n",
       "    <tr>\n",
       "      <th>7</th>\n",
       "      <td>2</td>\n",
       "      <td>4</td>\n",
       "      <td>ultra</td>\n",
       "      <td>6164.4</td>\n",
       "      <td>2</td>\n",
       "      <td>40.0</td>\n",
       "    </tr>\n",
       "    <tr>\n",
       "      <th>8</th>\n",
       "      <td>2</td>\n",
       "      <td>6</td>\n",
       "      <td>ultra</td>\n",
       "      <td>3255.3</td>\n",
       "      <td>1</td>\n",
       "      <td>14.0</td>\n",
       "    </tr>\n",
       "    <tr>\n",
       "      <th>9</th>\n",
       "      <td>2</td>\n",
       "      <td>7</td>\n",
       "      <td>ultra</td>\n",
       "      <td>6780.7</td>\n",
       "      <td>2</td>\n",
       "      <td>48.0</td>\n",
       "    </tr>\n",
       "  </tbody>\n",
       "</table>\n",
       "</div>"
      ],
      "text/plain": [
       "   user_id  month subscription_type  distance  count  duration\n",
       "0        1      1             ultra    7027.5      2      42.0\n",
       "1        1      4             ultra     754.2      1       7.0\n",
       "2        1      8             ultra    6723.5      2      46.0\n",
       "3        1     10             ultra    5809.9      2      32.0\n",
       "4        1     11             ultra    7003.5      3      56.0\n",
       "5        1     12             ultra    6751.6      2      28.0\n",
       "6        2      3             ultra   10187.7      3      63.0\n",
       "7        2      4             ultra    6164.4      2      40.0\n",
       "8        2      6             ultra    3255.3      1      14.0\n",
       "9        2      7             ultra    6780.7      2      48.0"
      ]
     },
     "execution_count": 32,
     "metadata": {},
     "output_type": "execute_result"
    }
   ],
   "source": [
    "users_union['duration'] = np.ceil(users_union['duration']) \n",
    "\n",
    "users_union_duration = users_union.groupby(['user_id','month', 'subscription_type'])['duration'].agg(['count', 'sum'])\n",
    "users_union_distance = users_union.groupby(['user_id', 'month', 'subscription_type'])['distance'].sum()\n",
    "\n",
    "df_users_agg = pd.concat([users_union_distance, users_union_duration ], axis=1)\n",
    "df_users_agg = df_users_agg.rename(columns={'sum': 'duration'})\n",
    "df_users_agg = df_users_agg.reset_index()\n",
    "\n",
    "\n",
    "\n",
    "df_users_agg.head(10)"
   ]
  },
  {
   "cell_type": "code",
   "execution_count": 33,
   "id": "428628e9-dcaa-4d2c-a2ed-ad254032f321",
   "metadata": {},
   "outputs": [],
   "source": [
    "# расчет стоимости\n",
    "def summ_month(row):\n",
    "    sum_per_month = 0\n",
    "    if row['subscription_type'] == 'ultra':\n",
    "        sum_per_month += row['count'] * 0\n",
    "        sum_per_month += row['duration'] * 6\n",
    "        sum_per_month += 199\n",
    "        return sum_per_month\n",
    "\n",
    "    else:        \n",
    "        sum_per_month += row['count'] * 50\n",
    "        sum_per_month += row['duration'] * 8\n",
    "        return sum_per_month"
   ]
  },
  {
   "cell_type": "code",
   "execution_count": 34,
   "id": "e1d197d8-1025-40e6-a8ed-0e5e077f8907",
   "metadata": {},
   "outputs": [],
   "source": [
    "df_users_agg['price'] = df_users_agg.apply(summ_month, axis=1)"
   ]
  },
  {
   "cell_type": "code",
   "execution_count": 35,
   "id": "82c8eb26-6af1-4a8f-a15d-1cf5c79d3f91",
   "metadata": {},
   "outputs": [
    {
     "data": {
      "text/html": [
       "<div>\n",
       "<style scoped>\n",
       "    .dataframe tbody tr th:only-of-type {\n",
       "        vertical-align: middle;\n",
       "    }\n",
       "\n",
       "    .dataframe tbody tr th {\n",
       "        vertical-align: top;\n",
       "    }\n",
       "\n",
       "    .dataframe thead th {\n",
       "        text-align: right;\n",
       "    }\n",
       "</style>\n",
       "<table border=\"1\" class=\"dataframe\">\n",
       "  <thead>\n",
       "    <tr style=\"text-align: right;\">\n",
       "      <th></th>\n",
       "      <th>user_id</th>\n",
       "      <th>month</th>\n",
       "      <th>subscription_type</th>\n",
       "      <th>distance</th>\n",
       "      <th>count</th>\n",
       "      <th>duration</th>\n",
       "      <th>price</th>\n",
       "    </tr>\n",
       "  </thead>\n",
       "  <tbody>\n",
       "    <tr>\n",
       "      <th>0</th>\n",
       "      <td>1</td>\n",
       "      <td>1</td>\n",
       "      <td>ultra</td>\n",
       "      <td>7027.5</td>\n",
       "      <td>2</td>\n",
       "      <td>42.0</td>\n",
       "      <td>451.0</td>\n",
       "    </tr>\n",
       "    <tr>\n",
       "      <th>1</th>\n",
       "      <td>1</td>\n",
       "      <td>4</td>\n",
       "      <td>ultra</td>\n",
       "      <td>754.2</td>\n",
       "      <td>1</td>\n",
       "      <td>7.0</td>\n",
       "      <td>241.0</td>\n",
       "    </tr>\n",
       "    <tr>\n",
       "      <th>2</th>\n",
       "      <td>1</td>\n",
       "      <td>8</td>\n",
       "      <td>ultra</td>\n",
       "      <td>6723.5</td>\n",
       "      <td>2</td>\n",
       "      <td>46.0</td>\n",
       "      <td>475.0</td>\n",
       "    </tr>\n",
       "    <tr>\n",
       "      <th>3</th>\n",
       "      <td>1</td>\n",
       "      <td>10</td>\n",
       "      <td>ultra</td>\n",
       "      <td>5809.9</td>\n",
       "      <td>2</td>\n",
       "      <td>32.0</td>\n",
       "      <td>391.0</td>\n",
       "    </tr>\n",
       "    <tr>\n",
       "      <th>4</th>\n",
       "      <td>1</td>\n",
       "      <td>11</td>\n",
       "      <td>ultra</td>\n",
       "      <td>7003.5</td>\n",
       "      <td>3</td>\n",
       "      <td>56.0</td>\n",
       "      <td>535.0</td>\n",
       "    </tr>\n",
       "    <tr>\n",
       "      <th>5</th>\n",
       "      <td>1</td>\n",
       "      <td>12</td>\n",
       "      <td>ultra</td>\n",
       "      <td>6751.6</td>\n",
       "      <td>2</td>\n",
       "      <td>28.0</td>\n",
       "      <td>367.0</td>\n",
       "    </tr>\n",
       "    <tr>\n",
       "      <th>6</th>\n",
       "      <td>2</td>\n",
       "      <td>3</td>\n",
       "      <td>ultra</td>\n",
       "      <td>10187.7</td>\n",
       "      <td>3</td>\n",
       "      <td>63.0</td>\n",
       "      <td>577.0</td>\n",
       "    </tr>\n",
       "    <tr>\n",
       "      <th>7</th>\n",
       "      <td>2</td>\n",
       "      <td>4</td>\n",
       "      <td>ultra</td>\n",
       "      <td>6164.4</td>\n",
       "      <td>2</td>\n",
       "      <td>40.0</td>\n",
       "      <td>439.0</td>\n",
       "    </tr>\n",
       "    <tr>\n",
       "      <th>8</th>\n",
       "      <td>2</td>\n",
       "      <td>6</td>\n",
       "      <td>ultra</td>\n",
       "      <td>3255.3</td>\n",
       "      <td>1</td>\n",
       "      <td>14.0</td>\n",
       "      <td>283.0</td>\n",
       "    </tr>\n",
       "    <tr>\n",
       "      <th>9</th>\n",
       "      <td>2</td>\n",
       "      <td>7</td>\n",
       "      <td>ultra</td>\n",
       "      <td>6780.7</td>\n",
       "      <td>2</td>\n",
       "      <td>48.0</td>\n",
       "      <td>487.0</td>\n",
       "    </tr>\n",
       "  </tbody>\n",
       "</table>\n",
       "</div>"
      ],
      "text/plain": [
       "   user_id  month subscription_type  distance  count  duration  price\n",
       "0        1      1             ultra    7027.5      2      42.0  451.0\n",
       "1        1      4             ultra     754.2      1       7.0  241.0\n",
       "2        1      8             ultra    6723.5      2      46.0  475.0\n",
       "3        1     10             ultra    5809.9      2      32.0  391.0\n",
       "4        1     11             ultra    7003.5      3      56.0  535.0\n",
       "5        1     12             ultra    6751.6      2      28.0  367.0\n",
       "6        2      3             ultra   10187.7      3      63.0  577.0\n",
       "7        2      4             ultra    6164.4      2      40.0  439.0\n",
       "8        2      6             ultra    3255.3      1      14.0  283.0\n",
       "9        2      7             ultra    6780.7      2      48.0  487.0"
      ]
     },
     "execution_count": 35,
     "metadata": {},
     "output_type": "execute_result"
    }
   ],
   "source": [
    "df_users_agg.head(10)"
   ]
  },
  {
   "cell_type": "markdown",
   "id": "41545ac0",
   "metadata": {},
   "source": [
    "#### Шаг 6. Проверка гипотез"
   ]
  },
  {
   "cell_type": "markdown",
   "id": "a729e246-9b16-4ca1-94fd-c5f6038ef110",
   "metadata": {},
   "source": [
    "6.1 Важно понять, тратят ли пользователи с подпиской больше времени на поездки? Если да, то пользователи с подпиской могут быть «выгоднее» для компании. Проверьте гипотезу. Используйте исходные данные о продолжительности каждой сессии — отдельно для подписчиков и тех, у кого нет подписки.  \n",
    "6.2 Расстояние одной поездки в 3130 метров — оптимальное с точки зрения износа самоката. Можно ли сказать, что среднее расстояние, которое проезжают пользователи с подпиской за одну поездку, не превышает 3130 метров? Проверьте гипотезу и сделайте выводы.  \n",
    "6.3 Проверьте гипотезу о том, будет ли помесячная выручка от пользователей с подпиской по месяцам выше, чем выручка от пользователей без подписки. Сделайте вывод.  \n",
    "6.4 Представьте такую ситуацию: техническая команда сервиса обновила сервера, с которыми взаимодействует мобильное приложение. Она надеется, что из-за этого количество обращений в техподдержку значимо снизилось. Некоторый файл содержит для каждого пользователя данные о количестве обращений до обновления и после него. Какой тест вам понадобился бы для проверки этой гипотезы?"
   ]
  },
  {
   "cell_type": "markdown",
   "id": "4abbb126-7bb5-4c7e-baf4-9cdc4e7aa7ab",
   "metadata": {},
   "source": [
    "**Первая гипотеза о равенстве средних двух генеральных совокупностей:  \n",
    "Среденее время поездки тарифов Free и Ultra различны.**"
   ]
  },
  {
   "cell_type": "markdown",
   "id": "c2e3b310-8298-498b-8a78-5d17738c177d",
   "metadata": {},
   "source": [
    "**H0** (нулевая гипотеза) - предположение о том, что между данными у нас нет связи. В данном случае, что среднее вермя тарифа Free не отличается от среднего времени тарифа Ultra.  \n",
    "**H1** (альтернативная гипотеза) - среднее время пользователей тарифа Free отличается от средней выручки пользователей тарифа Ultra."
   ]
  },
  {
   "cell_type": "markdown",
   "id": "c0d9a539-a11b-484a-a954-93184eaa8075",
   "metadata": {},
   "source": [
    "Использую метод scipy.stats.ttest_ind (array1, array2, equal_var = False). False, потому что дисперсии наших выборок отличаются.\n",
    "\n",
    "Критический уровень значимости задам 0.05. Хочу чтобы вероятность правильности моего вывода была 95% и больше."
   ]
  },
  {
   "cell_type": "code",
   "execution_count": 36,
   "id": "03e59d2b-8051-4f92-beb7-6374defab994",
   "metadata": {},
   "outputs": [
    {
     "name": "stdout",
     "output_type": "stream",
     "text": [
      "p-value: 1.1292072022177e-36\n",
      "Отвергаем нулевую гипотезу\n"
     ]
    }
   ],
   "source": [
    "from scipy import stats as st\n",
    "#midle_time_ultra = df_users_agg[df_users_agg['subscription_type']=='ultra'].groupby('user_id')['duration'].sum()\n",
    "#midle_time_free= df_users_agg[df_users_agg['subscription_type']!='ultra'].groupby('user_id')['duration'].sum()\n",
    "midle_time_ultra = users_ultra['duration']\n",
    "midle_time_free= users_free['duration']\n",
    "\n",
    "alpha = 0.05\n",
    "results = st.ttest_ind(midle_time_ultra, midle_time_free, equal_var = False)\n",
    "print('p-value:', results.pvalue)\n",
    "\n",
    "if (results.pvalue < alpha):\n",
    "    print(\"Отвергаем нулевую гипотезу\")\n",
    "else:\n",
    "    print(\"Не отвергаем нулевую гипотезу\")"
   ]
  },
  {
   "cell_type": "markdown",
   "id": "7a15c5c5-523b-432f-b202-e0a5e6ce117d",
   "metadata": {},
   "source": [
    "**Выавод по гипотезе 1.**  \n",
    "Так как p-value принемает невероятные значения, то гепотизу о равестве среднего времени различных тарифов не подтвердилась.  \n",
    "Разное время поезды у пользователей разных тарифов"
   ]
  },
  {
   "cell_type": "markdown",
   "id": "683af86d-a27d-410c-ad0b-28ba4e667e88",
   "metadata": {},
   "source": [
    "**6.2 Расстояние одной поездки в 3130 метров**"
   ]
  },
  {
   "cell_type": "markdown",
   "id": "3f75eead-a4f7-4ec1-96cd-1ea2454f254f",
   "metadata": {},
   "source": [
    "**H0** (нулевая гипотеза) - предположение о том, что среднее расстояние тарифа Ultra меньше 3130.  \n",
    "**H1** (альтернативная гипотеза) - среднее расстояние тарифа Ultra больше 3130."
   ]
  },
  {
   "cell_type": "markdown",
   "id": "79f5553e",
   "metadata": {},
   "source": []
  },
  {
   "cell_type": "markdown",
   "id": "9ee1da7d-152e-49e4-b319-49d33520a114",
   "metadata": {},
   "source": [
    "Использую метод st.ttest_ind (array1, prev_screens_value, alternative='less'). alternative='less', так как интресуют значение не превышающии 3130.  \n",
    "\n",
    "Критический уровень значимости задам 0.05."
   ]
  },
  {
   "cell_type": "code",
   "execution_count": 37,
   "id": "f50e816a-87cd-44ad-8bd9-2e20a595a284",
   "metadata": {},
   "outputs": [
    {
     "name": "stdout",
     "output_type": "stream",
     "text": [
      "p-value: 0.0804572631664147\n",
      "Не отвергаем нулевую гипотезу\n"
     ]
    }
   ],
   "source": [
    "from scipy import stats as st\n",
    "#screens = df_users_agg[df_users_agg['subscription_type']=='ultra'].groupby('user_id')['distance'].sum()\n",
    "screens = users_ultra['distance']\n",
    "prev_screens_value = 3130\n",
    "alpha = 0.05\n",
    "results = st.ttest_1samp(screens, prev_screens_value, alternative='less')\n",
    "print('p-value:', results.pvalue)\n",
    "\n",
    "if (results.pvalue < alpha):\n",
    "    print(\"Отвергаем нулевую гипотезу\")\n",
    "else:\n",
    "    print(\"Не отвергаем нулевую гипотезу\")"
   ]
  },
  {
   "cell_type": "markdown",
   "id": "2f2f0044-5498-4148-864a-599ed8b7c201",
   "metadata": {},
   "source": [
    "**Вывод по гипотизе 2.**   \n",
    "Гипотеза подтвердилась.  \n",
    "Проверили гипотезу, и мы можем утверждать, что среднее расстояние, которое проехали пользователи на тарифе Ultra не превышает 3130 метров."
   ]
  },
  {
   "cell_type": "markdown",
   "id": "d56924bb-ecfe-4413-a146-427cf1efbeef",
   "metadata": {},
   "source": [
    "**6.3 Проверька гипотезы о том, будет ли помесячная выручка от пользователей с подпиской по месяцам выше, чем выручка от пользователей без подписки**"
   ]
  },
  {
   "cell_type": "markdown",
   "id": "8082f787-ed61-48e6-86f8-fb3ace906ac9",
   "metadata": {},
   "source": [
    "**H0** (нулевая гипотеза) - предположение о том, что средняя выручка от пользователей с подпиской Ultra меньше чем от пользователей без подписки.  \n",
    "**H1** (альтернативная гипотеза) - средненяя выгучка от тарифа Ultra больше чем от пользователей без подписки."
   ]
  },
  {
   "cell_type": "code",
   "execution_count": 38,
   "id": "4392312a-671a-4c69-885a-29653bebc89a",
   "metadata": {},
   "outputs": [
    {
     "name": "stdout",
     "output_type": "stream",
     "text": [
      "P-value: 1.8164914860049708e-31\n",
      "Отвергаем нулевую гипотезу\n"
     ]
    }
   ],
   "source": [
    "from scipy import stats as st\n",
    "\n",
    "ultra_per_mnth = df_users_agg[df_users_agg['subscription_type']=='ultra']['price']\n",
    "free_per_mnth = df_users_agg[df_users_agg['subscription_type']!='ultra']['price']\n",
    "\n",
    "alpha = 0.05\n",
    "results = st.ttest_ind(ultra_per_mnth, free_per_mnth, alternative='greater')\n",
    "print('P-value:', results.pvalue)\n",
    "\n",
    "if (results.pvalue < alpha):\n",
    "    print(\"Отвергаем нулевую гипотезу\")\n",
    "else:\n",
    "     print(\"Не отвергаем нулевую гипотезу\")"
   ]
  },
  {
   "cell_type": "markdown",
   "id": "ce21bd27-d30c-47f0-aea1-fe4e31eb4fb1",
   "metadata": {},
   "source": [
    "**Вывод по гипотизе 3.**   \n",
    "Проверили гипотезу она не подтвердилась, соответственно, мы можем утверждать, что выручка от пользователей по подписке ultra превышает выручку от пользователей без подписки."
   ]
  },
  {
   "cell_type": "markdown",
   "id": "a616d095-c4a1-4b7c-af0b-1512ba377448",
   "metadata": {},
   "source": [
    "**Определение средних значений.**"
   ]
  },
  {
   "cell_type": "code",
   "execution_count": 39,
   "id": "41b507a8-24c3-4cfe-aad2-3ee669105bcd",
   "metadata": {},
   "outputs": [],
   "source": [
    "def midle(row):\n",
    "    midle_time_ultra = df_users_agg[df_users_agg['subscription_type']=='ultra'].groupby('user_id')[row].sum()\n",
    "    midle_time_free= df_users_agg[df_users_agg['subscription_type']!='ultra'].groupby('user_id')[row].sum()\n",
    "    if row == 'duration':\n",
    "        print('Среденее время поездки Ultra: ', (midle_time_ultra.sum()/len(df_users_agg[df_users_agg['subscription_type']=='ultra'])).round(1), 'мин.') # проверка гипотезы  времени.\n",
    "        print('Среденее время поездки Free: ', (midle_time_free.sum()/len(df_users_agg[df_users_agg['subscription_type']!='ultra'])).round(1),'мин.')\n",
    "        print()\n",
    "    elif row == 'distance':\n",
    "        print('Среденее расстояние поездки Ultra: ', ((midle_time_ultra.sum()/len(df_users_agg[df_users_agg['subscription_type']=='ultra']))/1000).round(1), 'км.') # проверка гипотезы расстояния.\n",
    "        print('Среденее растояние поездки Free: ', ((midle_time_free.sum()/len(df_users_agg[df_users_agg['subscription_type']!='ultra']))/1000).round(1),'км.')\n",
    "        print()\n",
    "    elif row == 'price':\n",
    "        print('Среденее значение выручки Ultra: ', (midle_time_ultra.sum()/len(df_users_agg[df_users_agg['subscription_type']=='ultra'])).round(1), 'руб.') # проверка гипотезы выручки.\n",
    "        print('Среденее значение выручки Free: ', (midle_time_free.sum()/len(df_users_agg[df_users_agg['subscription_type']!='ultra'])).round(1),'руб.')    \n"
   ]
  },
  {
   "cell_type": "code",
   "execution_count": 40,
   "id": "0dfa1deb-4312-4cda-bac2-ae235059ca70",
   "metadata": {},
   "outputs": [
    {
     "name": "stdout",
     "output_type": "stream",
     "text": [
      "Среденее время поездки Ultra:  27.3 мин.\n",
      "Среденее время поездки Free:  30.4 мин.\n",
      "\n",
      "Среденее расстояние поездки Ultra:  4.5 км.\n",
      "Среденее растояние поездки Free:  5.2 км.\n",
      "\n",
      "Среденее значение выручки Ultra:  362.7 руб.\n",
      "Среденее значение выручки Free:  328.6 руб.\n"
     ]
    }
   ],
   "source": [
    "midles = ('duration', 'distance', 'price')\n",
    "for df in midles:\n",
    "    midle(df)"
   ]
  },
  {
   "cell_type": "markdown",
   "id": "589112ca-63eb-4eca-a90a-02dc66c05704",
   "metadata": {},
   "source": [
    "**6.4 Представьте такую ситуацию: техническая команда сервиса обновила сервера, с которыми взаимодействует мобильное приложение. Она надеется, что из-за этого количество обращений в техподдержку значимо снизилось. Некоторый файл содержит для каждого пользователя данные о количестве обращений до обновления и после него. Какой тест вам понадобился бы для проверки этой гипотезы?** \n",
    "\n",
    "Решение:  \n",
    "\n",
    "Применим гипотезу о равенстве среднего значения генеральной совокупности до и после изменения(Две зависимые (парные) выборки).  \n",
    "\n",
    "Гипотезы будут сформулированы так:  \n",
    "\n",
    "**H0**(нулевая гипотеза) :        i1 = i2  \n",
    "**H1**(альтернативная гипотеза) : i1 != i2  \n",
    "где i1 - средние значения количество обращений в техподдержку до изменений.  \n",
    "    i2 - средние значения количество обращений в техподдержку и после изменения.  \n",
    "\n",
    "Метод, который нужно использовать при сравнении: scipy.stats.ttest_rel()  "
   ]
  },
  {
   "cell_type": "code",
   "execution_count": 41,
   "id": "1cfbee2d-ecdd-4add-bc58-18a795e5d201",
   "metadata": {},
   "outputs": [
    {
     "name": "stdout",
     "output_type": "stream",
     "text": [
      "Доход пользователей с тарифам Union:  1644237.0\n",
      "Доход пользователей без тарифа:       2233656.0\n"
     ]
    },
    {
     "data": {
      "image/png": "[encoded data removed]",
      "text/plain": [
       "<Figure size 1440x360 with 1 Axes>"
      ]
     },
     "metadata": {},
     "output_type": "display_data"
    }
   ],
   "source": [
    "#проверяем доход компании.\n",
    "explode = (0.05, 0)    # сдвигаем ultra\n",
    "df_users_agg.groupby('subscription_type')['price'].sum().plot(kind='pie', subplots=True, fontsize=15, autopct='%.1f%%', shadow=True, figsize=(20,5), \n",
    "               title='Cоотношение дохода', explode = explode, wedgeprops={'linewidth':1, 'edgecolor':'white'})\n",
    "\n",
    "print('Доход пользователей с тарифам Union: ',df_users_agg[df_users_agg['subscription_type']=='ultra']['price'].sum())\n",
    "print('Доход пользователей без тарифа:      ', df_users_agg[df_users_agg['subscription_type']!='ultra']['price'].sum())\n",
    "\n",
    "pass"
   ]
  },
  {
   "cell_type": "markdown",
   "id": "302f43e4-2ce8-4c94-b44f-1e93677ad96b",
   "metadata": {},
   "source": [
    "__Вывод:__\n",
    "Загрузил 3 DF: с пользователями, информацией о поездках, информацией о подписках.  \n",
    "\n",
    "Проверили данные на пропуски, их не оказалось ни в одной таблице. Поменяли тип данных у столбца date из датафрейма data_riders к типу даты. Также добавили столбец month с номером месяца. И удалили дубликаты строк из датафрейма с пользователями.  \n",
    "\n",
    "Провели исследовательский анализ данных:  \n",
    "\n",
    "Данные показали, что количество пользователей по городам распределено примерно одинаково, нет выдающихся значений. Лидером по количеству пользователей является Пятигорск. Меньше всего пользователей в Москве.  \n",
    "Пользователей, использующих бесплатную подписку больше - 11568 человек, что является ~55% от общего числа пользователей. На платной подпиской пользуются 6500 пользователей, что соответственно является ~45%.  \n",
    "Возраст пользователей укладывается в промежуток от 22 до 28 лет\n",
    "В основном пользователи проезжают от 2.5 км до 3.8 км.\n",
    "Чаще всего длительность поездки состовляет 12 - 22 минут\n",
    "Объединили данные о пользователях, поездках и подписках в один датафрейм. На основе объединенного датафрейма создали еще 2 датафрейма:\n",
    "\n",
    "Для пользователей с ultra подпиской\n",
    "Для пользователей с free подпиской  \n",
    "Дальше визуализировали информацию о расстоянии и времени поездки для пользоватей каждого тарифа.  \n",
    "\n",
    "Для пользователей тарифа Free время поездки составляет от 12 до 22 минут, и проезжают от т 2300 м. до 4900 м. с мединанным значением 3100 м, есть пользователи.  \n",
    "Платный тариф. В основном время укладывается в промежуток от 14 до 22 минут и проезжают от 2700 м. до 3500 м. с мединанным значением 3100 м.  \n",
    "Нашли суммарное расстояние, количество поездок и суммарное время для каждого пользователя за каждый месяц - вывели все данные в отдельный датафрейм df_users_agg. Добавили в датафрейм df_users_agg столбец с помесячной выручкой price.  \n",
    "\n",
    "Проверили гипотезы:  \n",
    "\n",
    "Пользователи с подпиской тратят больше времени на поездки, чем пользователи на бесплатном тарифе  \n",
    "Отвергли нулевую гипотезу  \n",
    "Пользователи с подпиской проезжают расстояние, не превышающее 3130 метров за одну поездку  \n",
    "Не удалось отвергнуть нулевую гипотезу  \n",
    "Помесячная выручка от пользователей с подпиской выше, чем выручка от пользователей без подписки  \n",
    "Отвергли нулевую гипотезу  \n",
    "\n",
    "Нашел соотношение приносимого дохода казными категориями.  \n",
    "\n",
    "Пользователи без тарифа приносит около 60% всей выручки, но при этом на него приходится 11568 пользователей. Тариф Ультра дает остальные 40%, но эту выручку генерируют всего 6500 пользователей.  \n",
    "\n",
    "Таким образом, получается что пользователи тарифа Ultra приносят доход компании в среднем 253 р. за поезду, тогда как пользователи Без тарифа 193 р, мидеанное значение пробега у двух категорий одинаковое получается что выгоднее пользователям не полкупать ториф Ultra, А компании рекомендовал пересмотрить тариф чтобы привлечь больше пользователей за счет дополнительных бонутов, например дистанционная резервация самоката или что-то подобное. "
   ]
  }
 ],
 "metadata": {
  "ExecuteTimeLog": [
   {
    "duration": 1393,
    "start_time": "2023-10-24T10:05:37.955Z"
   },
   {
    "duration": 204,
    "start_time": "2023-10-24T10:05:39.350Z"
   },
   {
    "duration": 50,
    "start_time": "2023-10-24T10:05:39.556Z"
   },
   {
    "duration": 337,
    "start_time": "2023-10-24T10:05:39.608Z"
   },
   {
    "duration": 24,
    "start_time": "2023-10-24T10:05:39.948Z"
   },
   {
    "duration": 3,
    "start_time": "2023-10-24T10:05:39.974Z"
   },
   {
    "duration": 46,
    "start_time": "2023-10-24T10:05:39.979Z"
   },
   {
    "duration": 99,
    "start_time": "2023-10-24T10:05:40.027Z"
   },
   {
    "duration": 282,
    "start_time": "2023-10-24T10:05:40.128Z"
   },
   {
    "duration": 329,
    "start_time": "2023-10-24T10:05:40.412Z"
   },
   {
    "duration": 199,
    "start_time": "2023-10-24T10:05:40.743Z"
   },
   {
    "duration": 132,
    "start_time": "2023-10-24T10:05:40.944Z"
   },
   {
    "duration": 281,
    "start_time": "2023-10-24T10:05:41.078Z"
   },
   {
    "duration": 242,
    "start_time": "2023-10-24T10:05:41.363Z"
   },
   {
    "duration": 17,
    "start_time": "2023-10-24T10:05:41.607Z"
   },
   {
    "duration": 55,
    "start_time": "2023-10-24T10:05:41.626Z"
   },
   {
    "duration": 21,
    "start_time": "2023-10-24T10:05:41.683Z"
   },
   {
    "duration": 343,
    "start_time": "2023-10-24T10:05:41.706Z"
   },
   {
    "duration": 275,
    "start_time": "2023-10-24T10:05:42.051Z"
   },
   {
    "duration": 247,
    "start_time": "2023-10-24T10:05:42.327Z"
   },
   {
    "duration": 246,
    "start_time": "2023-10-24T10:05:42.575Z"
   },
   {
    "duration": 24,
    "start_time": "2023-10-24T10:05:42.823Z"
   },
   {
    "duration": 59,
    "start_time": "2023-10-24T10:05:42.849Z"
   },
   {
    "duration": 4,
    "start_time": "2023-10-24T10:05:42.910Z"
   },
   {
    "duration": 142,
    "start_time": "2023-10-24T10:05:42.923Z"
   },
   {
    "duration": 11,
    "start_time": "2023-10-24T10:05:43.067Z"
   },
   {
    "duration": 34,
    "start_time": "2023-10-24T10:05:43.079Z"
   },
   {
    "duration": 10,
    "start_time": "2023-10-24T10:05:43.114Z"
   },
   {
    "duration": 23,
    "start_time": "2023-10-24T10:05:43.125Z"
   },
   {
    "duration": 19,
    "start_time": "2023-10-24T10:05:43.150Z"
   },
   {
    "duration": 50,
    "start_time": "2023-10-24T10:05:43.171Z"
   },
   {
    "duration": 6,
    "start_time": "2023-10-24T10:12:58.807Z"
   },
   {
    "duration": 1344,
    "start_time": "2023-10-24T18:28:06.360Z"
   },
   {
    "duration": 350,
    "start_time": "2023-10-24T18:28:07.706Z"
   },
   {
    "duration": 49,
    "start_time": "2023-10-24T18:28:08.058Z"
   },
   {
    "duration": 466,
    "start_time": "2023-10-24T18:28:08.109Z"
   },
   {
    "duration": 20,
    "start_time": "2023-10-24T18:28:08.578Z"
   },
   {
    "duration": 84,
    "start_time": "2023-10-24T18:28:08.600Z"
   },
   {
    "duration": 88,
    "start_time": "2023-10-24T18:28:08.686Z"
   },
   {
    "duration": 74,
    "start_time": "2023-10-24T18:28:08.776Z"
   },
   {
    "duration": 39,
    "start_time": "2023-10-24T18:28:08.852Z"
   },
   {
    "duration": 197,
    "start_time": "2023-10-24T18:28:08.893Z"
   },
   {
    "duration": 190,
    "start_time": "2023-10-24T18:28:09.092Z"
   },
   {
    "duration": 124,
    "start_time": "2023-10-24T18:28:09.284Z"
   },
   {
    "duration": 302,
    "start_time": "2023-10-24T18:28:09.410Z"
   },
   {
    "duration": 116,
    "start_time": "2023-10-24T18:28:09.714Z"
   },
   {
    "duration": 352,
    "start_time": "2023-10-24T18:28:09.835Z"
   },
   {
    "duration": 120,
    "start_time": "2023-10-24T18:28:10.188Z"
   },
   {
    "duration": 23,
    "start_time": "2023-10-24T18:28:10.310Z"
   },
   {
    "duration": 39,
    "start_time": "2023-10-24T18:28:10.334Z"
   },
   {
    "duration": 27,
    "start_time": "2023-10-24T18:28:10.375Z"
   },
   {
    "duration": 60,
    "start_time": "2023-10-24T18:28:10.404Z"
   },
   {
    "duration": 16,
    "start_time": "2023-10-24T18:28:10.466Z"
   },
   {
    "duration": 315,
    "start_time": "2023-10-24T18:28:10.484Z"
   },
   {
    "duration": 132,
    "start_time": "2023-10-24T18:28:10.800Z"
   },
   {
    "duration": 323,
    "start_time": "2023-10-24T18:28:10.933Z"
   },
   {
    "duration": 103,
    "start_time": "2023-10-24T18:28:11.258Z"
   },
   {
    "duration": 392,
    "start_time": "2023-10-24T18:28:11.363Z"
   },
   {
    "duration": 99,
    "start_time": "2023-10-24T18:28:11.758Z"
   },
   {
    "duration": 399,
    "start_time": "2023-10-24T18:28:11.859Z"
   },
   {
    "duration": 109,
    "start_time": "2023-10-24T18:28:12.260Z"
   },
   {
    "duration": 22,
    "start_time": "2023-10-24T18:28:12.371Z"
   },
   {
    "duration": 150,
    "start_time": "2023-10-24T18:28:12.395Z"
   },
   {
    "duration": 140,
    "start_time": "2023-10-24T18:28:12.547Z"
   },
   {
    "duration": 18,
    "start_time": "2023-10-24T18:28:12.689Z"
   },
   {
    "duration": 256,
    "start_time": "2023-10-24T18:28:12.708Z"
   },
   {
    "duration": 14,
    "start_time": "2023-10-24T18:28:12.966Z"
   },
   {
    "duration": 25,
    "start_time": "2023-10-24T18:28:12.982Z"
   },
   {
    "duration": 21,
    "start_time": "2023-10-24T18:28:13.008Z"
   },
   {
    "duration": 35,
    "start_time": "2023-10-24T18:28:13.041Z"
   },
   {
    "duration": 20,
    "start_time": "2023-10-24T18:28:13.078Z"
   },
   {
    "duration": 68,
    "start_time": "2023-10-24T18:28:13.100Z"
   },
   {
    "duration": 116,
    "start_time": "2023-10-24T18:28:13.173Z"
   },
   {
    "duration": 6,
    "start_time": "2023-10-24T18:30:14.365Z"
   },
   {
    "duration": 1309,
    "start_time": "2023-10-30T06:44:14.498Z"
   },
   {
    "duration": 227,
    "start_time": "2023-10-30T06:44:15.809Z"
   },
   {
    "duration": 54,
    "start_time": "2023-10-30T06:44:16.038Z"
   },
   {
    "duration": 325,
    "start_time": "2023-10-30T06:44:16.094Z"
   },
   {
    "duration": 36,
    "start_time": "2023-10-30T06:44:16.420Z"
   },
   {
    "duration": 3,
    "start_time": "2023-10-30T06:44:16.461Z"
   },
   {
    "duration": 35,
    "start_time": "2023-10-30T06:44:16.466Z"
   },
   {
    "duration": 9,
    "start_time": "2023-10-30T06:44:16.502Z"
   },
   {
    "duration": 11,
    "start_time": "2023-10-30T06:44:16.513Z"
   },
   {
    "duration": 178,
    "start_time": "2023-10-30T06:44:16.544Z"
   },
   {
    "duration": 182,
    "start_time": "2023-10-30T06:44:16.723Z"
   },
   {
    "duration": 115,
    "start_time": "2023-10-30T06:44:16.907Z"
   },
   {
    "duration": 254,
    "start_time": "2023-10-30T06:44:17.023Z"
   },
   {
    "duration": 107,
    "start_time": "2023-10-30T06:44:17.278Z"
   },
   {
    "duration": 301,
    "start_time": "2023-10-30T06:44:17.387Z"
   },
   {
    "duration": 105,
    "start_time": "2023-10-30T06:44:17.689Z"
   },
   {
    "duration": 8,
    "start_time": "2023-10-30T06:44:17.795Z"
   },
   {
    "duration": 47,
    "start_time": "2023-10-30T06:44:17.805Z"
   },
   {
    "duration": 6,
    "start_time": "2023-10-30T06:44:17.857Z"
   },
   {
    "duration": 11,
    "start_time": "2023-10-30T06:44:17.865Z"
   },
   {
    "duration": 15,
    "start_time": "2023-10-30T06:44:17.878Z"
   },
   {
    "duration": 263,
    "start_time": "2023-10-30T06:44:17.895Z"
   },
   {
    "duration": 99,
    "start_time": "2023-10-30T06:44:18.160Z"
   },
   {
    "duration": 250,
    "start_time": "2023-10-30T06:44:18.260Z"
   },
   {
    "duration": 110,
    "start_time": "2023-10-30T06:44:18.512Z"
   },
   {
    "duration": 251,
    "start_time": "2023-10-30T06:44:18.624Z"
   },
   {
    "duration": 91,
    "start_time": "2023-10-30T06:44:18.876Z"
   },
   {
    "duration": 306,
    "start_time": "2023-10-30T06:44:18.970Z"
   },
   {
    "duration": 128,
    "start_time": "2023-10-30T06:44:19.278Z"
   },
   {
    "duration": 20,
    "start_time": "2023-10-30T06:44:19.407Z"
   },
   {
    "duration": 40,
    "start_time": "2023-10-30T06:44:19.428Z"
   },
   {
    "duration": 29,
    "start_time": "2023-10-30T06:44:19.470Z"
   },
   {
    "duration": 4,
    "start_time": "2023-10-30T06:44:19.501Z"
   },
   {
    "duration": 186,
    "start_time": "2023-10-30T06:44:19.506Z"
   },
   {
    "duration": 10,
    "start_time": "2023-10-30T06:44:19.694Z"
   },
   {
    "duration": 5,
    "start_time": "2023-10-30T06:44:19.706Z"
   },
   {
    "duration": 10,
    "start_time": "2023-10-30T06:44:19.713Z"
   },
   {
    "duration": 34,
    "start_time": "2023-10-30T06:44:19.724Z"
   },
   {
    "duration": 7,
    "start_time": "2023-10-30T06:44:19.759Z"
   },
   {
    "duration": 41,
    "start_time": "2023-10-30T06:44:19.768Z"
   },
   {
    "duration": 114,
    "start_time": "2023-10-30T06:44:19.811Z"
   }
  ],
  "kernelspec": {
   "display_name": "Python 3 (ipykernel)",
   "language": "python",
   "name": "python3"
  },
  "language_info": {
   "codemirror_mode": {
    "name": "ipython",
    "version": 3
   },
   "file_extension": ".py",
   "mimetype": "text/x-python",
   "name": "python",
   "nbconvert_exporter": "python",
   "pygments_lexer": "ipython3",
   "version": "3.11.4"
  },
  "toc": {
   "base_numbering": 1,
   "nav_menu": {},
   "number_sections": true,
   "sideBar": true,
   "skip_h1_title": true,
   "title_cell": "Table of Contents",
   "title_sidebar": "Contents",
   "toc_cell": false,
   "toc_position": {},
   "toc_section_display": true,
   "toc_window_display": true
  }
 },
 "nbformat": 4,
 "nbformat_minor": 5
}
