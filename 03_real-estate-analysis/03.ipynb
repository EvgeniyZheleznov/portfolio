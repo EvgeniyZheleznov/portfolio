{
 "cells": [
  {
   "cell_type": "markdown",
   "id": "450458c3",
   "metadata": {},
   "source": []
  },
  {
   "cell_type": "markdown",
   "id": "f5d65b12",
   "metadata": {},
   "source": [
    "# Проект: Исследовательский анализ данных объявлений о продаже квартир\n"
   ]
  },
  {
   "cell_type": "markdown",
   "id": "ac6dda59-0a42-469b-ba99-e19e0f5ff3aa",
   "metadata": {},
   "source": [
    "  В вашем распоряжении данные сервиса Яндекс Недвижимость — архив объявлений о продаже квартир в Санкт-Петербурге и соседних населённых пунктах за несколько лет. Нужно научиться определять рыночную стоимость объектов недвижимости. Ваша задача — провести исследовательский анализ данных, который поможет установить параметры, влияющие на цену объектов. Это позволит построить автоматизированную систему: она отследит аномалии и мошенническую деятельность.  \n",
    "  Даступны два вида данных первые внесены пользователмя, вторые — получены автоматически на основе картографических данных. Например, расстояние до центра, аэропорта и других объектов — эти данные автоматически получены из геосервисов. Количество парков и водоёмов также заполняется без участия пользователя.  \n",
    "Данные получа из фала /datasets/real_estate_data.csv. исследую фаил на ноличее ошибок, пропусков, проверю на явные и не явные задвоение данных, нестыковок. Оценю степерь влеяния ошибок на оналез данных.  \n",
    "Следовательно вся работа делится на этапы:  \n",
    "1) Обзор файл с данными и изучение общий информации\n",
    "2) Предобработка данных\n",
    "3) Дополнение таблицы новыми столбцами\n",
    "4) Проведу исследовательский анализ данных\n",
    "5) Общий вывод"
   ]
  },
  {
   "cell_type": "markdown",
   "id": "bc178b78",
   "metadata": {},
   "source": [
    "## Обзор файл с данными и изучение общий информации"
   ]
  },
  {
   "cell_type": "code",
   "execution_count": 1,
   "id": "280324cc-15f2-49de-b342-c6cb078c6433",
   "metadata": {},
   "outputs": [],
   "source": [
    "import pandas as pd \n",
    "import seaborn as sns\n",
    "import matplotlib.pyplot as plt\n",
    "import numpy as np\n"
   ]
  },
  {
   "cell_type": "code",
   "execution_count": 2,
   "id": "4633a0e2-2bfe-4b71-8ee8-7f9771f2b96b",
   "metadata": {},
   "outputs": [
    {
     "data": {
      "text/html": [
       "<div>\n",
       "<style scoped>\n",
       "    .dataframe tbody tr th:only-of-type {\n",
       "        vertical-align: middle;\n",
       "    }\n",
       "\n",
       "    .dataframe tbody tr th {\n",
       "        vertical-align: top;\n",
       "    }\n",
       "\n",
       "    .dataframe thead th {\n",
       "        text-align: right;\n",
       "    }\n",
       "</style>\n",
       "<table border=\"1\" class=\"dataframe\">\n",
       "  <thead>\n",
       "    <tr style=\"text-align: right;\">\n",
       "      <th></th>\n",
       "      <th>total_images</th>\n",
       "      <th>last_price</th>\n",
       "      <th>total_area</th>\n",
       "      <th>first_day_exposition</th>\n",
       "      <th>rooms</th>\n",
       "      <th>ceiling_height</th>\n",
       "      <th>floors_total</th>\n",
       "      <th>living_area</th>\n",
       "      <th>floor</th>\n",
       "      <th>is_apartment</th>\n",
       "      <th>...</th>\n",
       "      <th>kitchen_area</th>\n",
       "      <th>balcony</th>\n",
       "      <th>locality_name</th>\n",
       "      <th>airports_nearest</th>\n",
       "      <th>cityCenters_nearest</th>\n",
       "      <th>parks_around3000</th>\n",
       "      <th>parks_nearest</th>\n",
       "      <th>ponds_around3000</th>\n",
       "      <th>ponds_nearest</th>\n",
       "      <th>days_exposition</th>\n",
       "    </tr>\n",
       "  </thead>\n",
       "  <tbody>\n",
       "    <tr>\n",
       "      <th>0</th>\n",
       "      <td>20</td>\n",
       "      <td>13000000.0</td>\n",
       "      <td>108.0</td>\n",
       "      <td>2019-03-07T00:00:00</td>\n",
       "      <td>3</td>\n",
       "      <td>2.70</td>\n",
       "      <td>16.0</td>\n",
       "      <td>51.0</td>\n",
       "      <td>8</td>\n",
       "      <td>NaN</td>\n",
       "      <td>...</td>\n",
       "      <td>25.0</td>\n",
       "      <td>NaN</td>\n",
       "      <td>Санкт-Петербург</td>\n",
       "      <td>18863.0</td>\n",
       "      <td>16028.0</td>\n",
       "      <td>1.0</td>\n",
       "      <td>482.0</td>\n",
       "      <td>2.0</td>\n",
       "      <td>755.0</td>\n",
       "      <td>NaN</td>\n",
       "    </tr>\n",
       "    <tr>\n",
       "      <th>1</th>\n",
       "      <td>7</td>\n",
       "      <td>3350000.0</td>\n",
       "      <td>40.4</td>\n",
       "      <td>2018-12-04T00:00:00</td>\n",
       "      <td>1</td>\n",
       "      <td>NaN</td>\n",
       "      <td>11.0</td>\n",
       "      <td>18.6</td>\n",
       "      <td>1</td>\n",
       "      <td>NaN</td>\n",
       "      <td>...</td>\n",
       "      <td>11.0</td>\n",
       "      <td>2.0</td>\n",
       "      <td>посёлок Шушары</td>\n",
       "      <td>12817.0</td>\n",
       "      <td>18603.0</td>\n",
       "      <td>0.0</td>\n",
       "      <td>NaN</td>\n",
       "      <td>0.0</td>\n",
       "      <td>NaN</td>\n",
       "      <td>81.0</td>\n",
       "    </tr>\n",
       "    <tr>\n",
       "      <th>2</th>\n",
       "      <td>10</td>\n",
       "      <td>5196000.0</td>\n",
       "      <td>56.0</td>\n",
       "      <td>2015-08-20T00:00:00</td>\n",
       "      <td>2</td>\n",
       "      <td>NaN</td>\n",
       "      <td>5.0</td>\n",
       "      <td>34.3</td>\n",
       "      <td>4</td>\n",
       "      <td>NaN</td>\n",
       "      <td>...</td>\n",
       "      <td>8.3</td>\n",
       "      <td>0.0</td>\n",
       "      <td>Санкт-Петербург</td>\n",
       "      <td>21741.0</td>\n",
       "      <td>13933.0</td>\n",
       "      <td>1.0</td>\n",
       "      <td>90.0</td>\n",
       "      <td>2.0</td>\n",
       "      <td>574.0</td>\n",
       "      <td>558.0</td>\n",
       "    </tr>\n",
       "    <tr>\n",
       "      <th>3</th>\n",
       "      <td>0</td>\n",
       "      <td>64900000.0</td>\n",
       "      <td>159.0</td>\n",
       "      <td>2015-07-24T00:00:00</td>\n",
       "      <td>3</td>\n",
       "      <td>NaN</td>\n",
       "      <td>14.0</td>\n",
       "      <td>NaN</td>\n",
       "      <td>9</td>\n",
       "      <td>NaN</td>\n",
       "      <td>...</td>\n",
       "      <td>NaN</td>\n",
       "      <td>0.0</td>\n",
       "      <td>Санкт-Петербург</td>\n",
       "      <td>28098.0</td>\n",
       "      <td>6800.0</td>\n",
       "      <td>2.0</td>\n",
       "      <td>84.0</td>\n",
       "      <td>3.0</td>\n",
       "      <td>234.0</td>\n",
       "      <td>424.0</td>\n",
       "    </tr>\n",
       "    <tr>\n",
       "      <th>4</th>\n",
       "      <td>2</td>\n",
       "      <td>10000000.0</td>\n",
       "      <td>100.0</td>\n",
       "      <td>2018-06-19T00:00:00</td>\n",
       "      <td>2</td>\n",
       "      <td>3.03</td>\n",
       "      <td>14.0</td>\n",
       "      <td>32.0</td>\n",
       "      <td>13</td>\n",
       "      <td>NaN</td>\n",
       "      <td>...</td>\n",
       "      <td>41.0</td>\n",
       "      <td>NaN</td>\n",
       "      <td>Санкт-Петербург</td>\n",
       "      <td>31856.0</td>\n",
       "      <td>8098.0</td>\n",
       "      <td>2.0</td>\n",
       "      <td>112.0</td>\n",
       "      <td>1.0</td>\n",
       "      <td>48.0</td>\n",
       "      <td>121.0</td>\n",
       "    </tr>\n",
       "  </tbody>\n",
       "</table>\n",
       "<p>5 rows × 22 columns</p>\n",
       "</div>"
      ],
      "text/plain": [
       "   total_images  last_price  total_area first_day_exposition  rooms  \\\n",
       "0            20  13000000.0       108.0  2019-03-07T00:00:00      3   \n",
       "1             7   3350000.0        40.4  2018-12-04T00:00:00      1   \n",
       "2            10   5196000.0        56.0  2015-08-20T00:00:00      2   \n",
       "3             0  64900000.0       159.0  2015-07-24T00:00:00      3   \n",
       "4             2  10000000.0       100.0  2018-06-19T00:00:00      2   \n",
       "\n",
       "   ceiling_height  floors_total  living_area  floor is_apartment  ...  \\\n",
       "0            2.70          16.0         51.0      8          NaN  ...   \n",
       "1             NaN          11.0         18.6      1          NaN  ...   \n",
       "2             NaN           5.0         34.3      4          NaN  ...   \n",
       "3             NaN          14.0          NaN      9          NaN  ...   \n",
       "4            3.03          14.0         32.0     13          NaN  ...   \n",
       "\n",
       "   kitchen_area  balcony    locality_name  airports_nearest  \\\n",
       "0          25.0      NaN  Санкт-Петербург           18863.0   \n",
       "1          11.0      2.0   посёлок Шушары           12817.0   \n",
       "2           8.3      0.0  Санкт-Петербург           21741.0   \n",
       "3           NaN      0.0  Санкт-Петербург           28098.0   \n",
       "4          41.0      NaN  Санкт-Петербург           31856.0   \n",
       "\n",
       "  cityCenters_nearest  parks_around3000  parks_nearest  ponds_around3000  \\\n",
       "0             16028.0               1.0          482.0               2.0   \n",
       "1             18603.0               0.0            NaN               0.0   \n",
       "2             13933.0               1.0           90.0               2.0   \n",
       "3              6800.0               2.0           84.0               3.0   \n",
       "4              8098.0               2.0          112.0               1.0   \n",
       "\n",
       "   ponds_nearest  days_exposition  \n",
       "0          755.0              NaN  \n",
       "1            NaN             81.0  \n",
       "2          574.0            558.0  \n",
       "3          234.0            424.0  \n",
       "4           48.0            121.0  \n",
       "\n",
       "[5 rows x 22 columns]"
      ]
     },
     "metadata": {},
     "output_type": "display_data"
    },
    {
     "name": "stdout",
     "output_type": "stream",
     "text": [
      "<class 'pandas.core.frame.DataFrame'>\n",
      "RangeIndex: 23699 entries, 0 to 23698\n",
      "Data columns (total 22 columns):\n",
      " #   Column                Non-Null Count  Dtype  \n",
      "---  ------                --------------  -----  \n",
      " 0   total_images          23699 non-null  int64  \n",
      " 1   last_price            23699 non-null  float64\n",
      " 2   total_area            23699 non-null  float64\n",
      " 3   first_day_exposition  23699 non-null  object \n",
      " 4   rooms                 23699 non-null  int64  \n",
      " 5   ceiling_height        14504 non-null  float64\n",
      " 6   floors_total          23613 non-null  float64\n",
      " 7   living_area           21796 non-null  float64\n",
      " 8   floor                 23699 non-null  int64  \n",
      " 9   is_apartment          2775 non-null   object \n",
      " 10  studio                23699 non-null  bool   \n",
      " 11  open_plan             23699 non-null  bool   \n",
      " 12  kitchen_area          21421 non-null  float64\n",
      " 13  balcony               12180 non-null  float64\n",
      " 14  locality_name         23650 non-null  object \n",
      " 15  airports_nearest      18157 non-null  float64\n",
      " 16  cityCenters_nearest   18180 non-null  float64\n",
      " 17  parks_around3000      18181 non-null  float64\n",
      " 18  parks_nearest         8079 non-null   float64\n",
      " 19  ponds_around3000      18181 non-null  float64\n",
      " 20  ponds_nearest         9110 non-null   float64\n",
      " 21  days_exposition       20518 non-null  float64\n",
      "dtypes: bool(2), float64(14), int64(3), object(3)\n",
      "memory usage: 3.7+ MB\n",
      "Колличество дубликатов =  0\n"
     ]
    },
    {
     "data": {
      "text/html": [
       "<div>\n",
       "<style scoped>\n",
       "    .dataframe tbody tr th:only-of-type {\n",
       "        vertical-align: middle;\n",
       "    }\n",
       "\n",
       "    .dataframe tbody tr th {\n",
       "        vertical-align: top;\n",
       "    }\n",
       "\n",
       "    .dataframe thead th {\n",
       "        text-align: right;\n",
       "    }\n",
       "</style>\n",
       "<table border=\"1\" class=\"dataframe\">\n",
       "  <thead>\n",
       "    <tr style=\"text-align: right;\">\n",
       "      <th></th>\n",
       "      <th>total_images</th>\n",
       "      <th>last_price</th>\n",
       "      <th>total_area</th>\n",
       "      <th>rooms</th>\n",
       "      <th>ceiling_height</th>\n",
       "      <th>floors_total</th>\n",
       "      <th>living_area</th>\n",
       "      <th>floor</th>\n",
       "      <th>kitchen_area</th>\n",
       "      <th>balcony</th>\n",
       "      <th>airports_nearest</th>\n",
       "      <th>cityCenters_nearest</th>\n",
       "      <th>parks_around3000</th>\n",
       "      <th>parks_nearest</th>\n",
       "      <th>ponds_around3000</th>\n",
       "      <th>ponds_nearest</th>\n",
       "      <th>days_exposition</th>\n",
       "    </tr>\n",
       "  </thead>\n",
       "  <tbody>\n",
       "    <tr>\n",
       "      <th>count</th>\n",
       "      <td>23699.000000</td>\n",
       "      <td>2.369900e+04</td>\n",
       "      <td>23699.000000</td>\n",
       "      <td>23699.000000</td>\n",
       "      <td>14504.000000</td>\n",
       "      <td>23613.000000</td>\n",
       "      <td>21796.000000</td>\n",
       "      <td>23699.000000</td>\n",
       "      <td>21421.000000</td>\n",
       "      <td>12180.000000</td>\n",
       "      <td>18157.000000</td>\n",
       "      <td>18180.000000</td>\n",
       "      <td>18181.000000</td>\n",
       "      <td>8079.000000</td>\n",
       "      <td>18181.000000</td>\n",
       "      <td>9110.000000</td>\n",
       "      <td>20518.000000</td>\n",
       "    </tr>\n",
       "    <tr>\n",
       "      <th>mean</th>\n",
       "      <td>9.858475</td>\n",
       "      <td>6.541549e+06</td>\n",
       "      <td>60.348651</td>\n",
       "      <td>2.070636</td>\n",
       "      <td>2.771499</td>\n",
       "      <td>10.673824</td>\n",
       "      <td>34.457852</td>\n",
       "      <td>5.892358</td>\n",
       "      <td>10.569807</td>\n",
       "      <td>1.150082</td>\n",
       "      <td>28793.672193</td>\n",
       "      <td>14191.277833</td>\n",
       "      <td>0.611408</td>\n",
       "      <td>490.804555</td>\n",
       "      <td>0.770255</td>\n",
       "      <td>517.980900</td>\n",
       "      <td>180.888634</td>\n",
       "    </tr>\n",
       "    <tr>\n",
       "      <th>std</th>\n",
       "      <td>5.682529</td>\n",
       "      <td>1.088701e+07</td>\n",
       "      <td>35.654083</td>\n",
       "      <td>1.078405</td>\n",
       "      <td>1.261056</td>\n",
       "      <td>6.597173</td>\n",
       "      <td>22.030445</td>\n",
       "      <td>4.885249</td>\n",
       "      <td>5.905438</td>\n",
       "      <td>1.071300</td>\n",
       "      <td>12630.880622</td>\n",
       "      <td>8608.386210</td>\n",
       "      <td>0.802074</td>\n",
       "      <td>342.317995</td>\n",
       "      <td>0.938346</td>\n",
       "      <td>277.720643</td>\n",
       "      <td>219.727988</td>\n",
       "    </tr>\n",
       "    <tr>\n",
       "      <th>min</th>\n",
       "      <td>0.000000</td>\n",
       "      <td>1.219000e+04</td>\n",
       "      <td>12.000000</td>\n",
       "      <td>0.000000</td>\n",
       "      <td>1.000000</td>\n",
       "      <td>1.000000</td>\n",
       "      <td>2.000000</td>\n",
       "      <td>1.000000</td>\n",
       "      <td>1.300000</td>\n",
       "      <td>0.000000</td>\n",
       "      <td>0.000000</td>\n",
       "      <td>181.000000</td>\n",
       "      <td>0.000000</td>\n",
       "      <td>1.000000</td>\n",
       "      <td>0.000000</td>\n",
       "      <td>13.000000</td>\n",
       "      <td>1.000000</td>\n",
       "    </tr>\n",
       "    <tr>\n",
       "      <th>25%</th>\n",
       "      <td>6.000000</td>\n",
       "      <td>3.400000e+06</td>\n",
       "      <td>40.000000</td>\n",
       "      <td>1.000000</td>\n",
       "      <td>2.520000</td>\n",
       "      <td>5.000000</td>\n",
       "      <td>18.600000</td>\n",
       "      <td>2.000000</td>\n",
       "      <td>7.000000</td>\n",
       "      <td>0.000000</td>\n",
       "      <td>18585.000000</td>\n",
       "      <td>9238.000000</td>\n",
       "      <td>0.000000</td>\n",
       "      <td>288.000000</td>\n",
       "      <td>0.000000</td>\n",
       "      <td>294.000000</td>\n",
       "      <td>45.000000</td>\n",
       "    </tr>\n",
       "    <tr>\n",
       "      <th>50%</th>\n",
       "      <td>9.000000</td>\n",
       "      <td>4.650000e+06</td>\n",
       "      <td>52.000000</td>\n",
       "      <td>2.000000</td>\n",
       "      <td>2.650000</td>\n",
       "      <td>9.000000</td>\n",
       "      <td>30.000000</td>\n",
       "      <td>4.000000</td>\n",
       "      <td>9.100000</td>\n",
       "      <td>1.000000</td>\n",
       "      <td>26726.000000</td>\n",
       "      <td>13098.500000</td>\n",
       "      <td>0.000000</td>\n",
       "      <td>455.000000</td>\n",
       "      <td>1.000000</td>\n",
       "      <td>502.000000</td>\n",
       "      <td>95.000000</td>\n",
       "    </tr>\n",
       "    <tr>\n",
       "      <th>75%</th>\n",
       "      <td>14.000000</td>\n",
       "      <td>6.800000e+06</td>\n",
       "      <td>69.900000</td>\n",
       "      <td>3.000000</td>\n",
       "      <td>2.800000</td>\n",
       "      <td>16.000000</td>\n",
       "      <td>42.300000</td>\n",
       "      <td>8.000000</td>\n",
       "      <td>12.000000</td>\n",
       "      <td>2.000000</td>\n",
       "      <td>37273.000000</td>\n",
       "      <td>16293.000000</td>\n",
       "      <td>1.000000</td>\n",
       "      <td>612.000000</td>\n",
       "      <td>1.000000</td>\n",
       "      <td>729.000000</td>\n",
       "      <td>232.000000</td>\n",
       "    </tr>\n",
       "    <tr>\n",
       "      <th>max</th>\n",
       "      <td>50.000000</td>\n",
       "      <td>7.630000e+08</td>\n",
       "      <td>900.000000</td>\n",
       "      <td>19.000000</td>\n",
       "      <td>100.000000</td>\n",
       "      <td>60.000000</td>\n",
       "      <td>409.700000</td>\n",
       "      <td>33.000000</td>\n",
       "      <td>112.000000</td>\n",
       "      <td>5.000000</td>\n",
       "      <td>84869.000000</td>\n",
       "      <td>65968.000000</td>\n",
       "      <td>3.000000</td>\n",
       "      <td>3190.000000</td>\n",
       "      <td>3.000000</td>\n",
       "      <td>1344.000000</td>\n",
       "      <td>1580.000000</td>\n",
       "    </tr>\n",
       "  </tbody>\n",
       "</table>\n",
       "</div>"
      ],
      "text/plain": [
       "       total_images    last_price    total_area         rooms  ceiling_height  \\\n",
       "count  23699.000000  2.369900e+04  23699.000000  23699.000000    14504.000000   \n",
       "mean       9.858475  6.541549e+06     60.348651      2.070636        2.771499   \n",
       "std        5.682529  1.088701e+07     35.654083      1.078405        1.261056   \n",
       "min        0.000000  1.219000e+04     12.000000      0.000000        1.000000   \n",
       "25%        6.000000  3.400000e+06     40.000000      1.000000        2.520000   \n",
       "50%        9.000000  4.650000e+06     52.000000      2.000000        2.650000   \n",
       "75%       14.000000  6.800000e+06     69.900000      3.000000        2.800000   \n",
       "max       50.000000  7.630000e+08    900.000000     19.000000      100.000000   \n",
       "\n",
       "       floors_total   living_area         floor  kitchen_area       balcony  \\\n",
       "count  23613.000000  21796.000000  23699.000000  21421.000000  12180.000000   \n",
       "mean      10.673824     34.457852      5.892358     10.569807      1.150082   \n",
       "std        6.597173     22.030445      4.885249      5.905438      1.071300   \n",
       "min        1.000000      2.000000      1.000000      1.300000      0.000000   \n",
       "25%        5.000000     18.600000      2.000000      7.000000      0.000000   \n",
       "50%        9.000000     30.000000      4.000000      9.100000      1.000000   \n",
       "75%       16.000000     42.300000      8.000000     12.000000      2.000000   \n",
       "max       60.000000    409.700000     33.000000    112.000000      5.000000   \n",
       "\n",
       "       airports_nearest  cityCenters_nearest  parks_around3000  parks_nearest  \\\n",
       "count      18157.000000         18180.000000      18181.000000    8079.000000   \n",
       "mean       28793.672193         14191.277833          0.611408     490.804555   \n",
       "std        12630.880622          8608.386210          0.802074     342.317995   \n",
       "min            0.000000           181.000000          0.000000       1.000000   \n",
       "25%        18585.000000          9238.000000          0.000000     288.000000   \n",
       "50%        26726.000000         13098.500000          0.000000     455.000000   \n",
       "75%        37273.000000         16293.000000          1.000000     612.000000   \n",
       "max        84869.000000         65968.000000          3.000000    3190.000000   \n",
       "\n",
       "       ponds_around3000  ponds_nearest  days_exposition  \n",
       "count      18181.000000    9110.000000     20518.000000  \n",
       "mean           0.770255     517.980900       180.888634  \n",
       "std            0.938346     277.720643       219.727988  \n",
       "min            0.000000      13.000000         1.000000  \n",
       "25%            0.000000     294.000000        45.000000  \n",
       "50%            1.000000     502.000000        95.000000  \n",
       "75%            1.000000     729.000000       232.000000  \n",
       "max            3.000000    1344.000000      1580.000000  "
      ]
     },
     "metadata": {},
     "output_type": "display_data"
    },
    {
     "data": {
      "text/plain": [
       "total_images              int64\n",
       "last_price              float64\n",
       "total_area              float64\n",
       "first_day_exposition     object\n",
       "rooms                     int64\n",
       "ceiling_height          float64\n",
       "floors_total            float64\n",
       "living_area             float64\n",
       "floor                     int64\n",
       "is_apartment             object\n",
       "studio                     bool\n",
       "open_plan                  bool\n",
       "kitchen_area            float64\n",
       "balcony                 float64\n",
       "locality_name            object\n",
       "airports_nearest        float64\n",
       "cityCenters_nearest     float64\n",
       "parks_around3000        float64\n",
       "parks_nearest           float64\n",
       "ponds_around3000        float64\n",
       "ponds_nearest           float64\n",
       "days_exposition         float64\n",
       "dtype: object"
      ]
     },
     "execution_count": 2,
     "metadata": {},
     "output_type": "execute_result"
    }
   ],
   "source": [
    "df = pd.read_csv('https://code.s3.yandex.net/datasets/real_estate_data.csv', sep='\\t') # грузим данные из csv файла.\n",
    "\n",
    "data = df.copy() # делаем копию DF от гриха подальше и далие работаем с копией\n",
    "\n",
    "display(data.head()) \n",
    "\n",
    "data.info()\n",
    "\n",
    "print('Колличество дубликатов = ',data.duplicated().sum()) # проверяем кол-во дубликатов\n",
    "\n",
    "display(data.describe()) # выводим общую информацию о датафрейме.\n",
    "data.dtypes #смотрим типы столбцов\n"
   ]
  },
  {
   "cell_type": "markdown",
   "id": "9d7c50e3-c2b2-4f21-b74d-b6ec51501ff2",
   "metadata": {},
   "source": [
    " ### **По результатам предворительного анализа данных выяснилось:**  \n",
    "  1) Есть 100 метровые потолки и 19 комнатные квартиры, надо с этим разбираться (хотя если это дворец - может быть).  \n",
    "  2) Огромное количество -NaN пропуска данных. (как показать наглядно ещё не знаю)\n",
    "  3) \"Машинные\" данные показали себя с не лучшей стороны. \n",
    "  4) Типы столбцов тредуют приведения к \"нормальному\" виду.и т.д."
   ]
  },
  {
   "cell_type": "code",
   "execution_count": 3,
   "id": "868ae46c-67b0-47b4-8053-e5a36d959293",
   "metadata": {},
   "outputs": [
    {
     "data": {
      "image/png": "[encoded data removed]",
      "text/plain": [
       "<Figure size 1440x2160 with 20 Axes>"
      ]
     },
     "metadata": {
      "needs_background": "light"
     },
     "output_type": "display_data"
    }
   ],
   "source": [
    "data.hist(figsize=(20, 30))\n",
    "pass"
   ]
  },
  {
   "cell_type": "code",
   "execution_count": 4,
   "id": "2df8c3bd-d0c9-41f4-b573-34addeaab7f5",
   "metadata": {},
   "outputs": [
    {
     "data": {
      "text/plain": [
       "total_images                0\n",
       "last_price                  0\n",
       "total_area                  0\n",
       "first_day_exposition        0\n",
       "rooms                       0\n",
       "ceiling_height           9195\n",
       "floors_total               86\n",
       "living_area              1903\n",
       "floor                       0\n",
       "is_apartment            20924\n",
       "studio                      0\n",
       "open_plan                   0\n",
       "kitchen_area             2278\n",
       "balcony                 11519\n",
       "locality_name              49\n",
       "airports_nearest         5542\n",
       "cityCenters_nearest      5519\n",
       "parks_around3000         5518\n",
       "parks_nearest           15620\n",
       "ponds_around3000         5518\n",
       "ponds_nearest           14589\n",
       "days_exposition          3181\n",
       "dtype: int64"
      ]
     },
     "execution_count": 4,
     "metadata": {},
     "output_type": "execute_result"
    }
   ],
   "source": [
    "data.isna().sum() # кол-во пропусков (занчение)"
   ]
  },
  {
   "cell_type": "code",
   "execution_count": 42,
   "id": "40914ad6",
   "metadata": {},
   "outputs": [
    {
     "data": {
      "text/html": [
       "<style  type=\"text/css\" >\n",
       "#T_c98a2_row0_col0,#T_c98a2_row1_col0,#T_c98a2_row2_col0,#T_c98a2_row3_col0,#T_c98a2_row4_col0,#T_c98a2_row6_col0,#T_c98a2_row8_col0,#T_c98a2_row10_col0,#T_c98a2_row11_col0,#T_c98a2_row14_col0{\n",
       "            background-color:  #3b4cc0;\n",
       "            color:  #f1f1f1;\n",
       "        }#T_c98a2_row5_col0{\n",
       "            background-color:  #cdd9ec;\n",
       "            color:  #000000;\n",
       "        }#T_c98a2_row7_col0{\n",
       "            background-color:  #5673e0;\n",
       "            color:  #000000;\n",
       "        }#T_c98a2_row9_col0{\n",
       "            background-color:  #b40426;\n",
       "            color:  #f1f1f1;\n",
       "        }#T_c98a2_row12_col0{\n",
       "            background-color:  #5e7de7;\n",
       "            color:  #000000;\n",
       "        }#T_c98a2_row13_col0{\n",
       "            background-color:  #ead4c8;\n",
       "            color:  #000000;\n",
       "        }#T_c98a2_row15_col0,#T_c98a2_row16_col0,#T_c98a2_row17_col0,#T_c98a2_row19_col0{\n",
       "            background-color:  #90b2fe;\n",
       "            color:  #000000;\n",
       "        }#T_c98a2_row18_col0{\n",
       "            background-color:  #f4987a;\n",
       "            color:  #000000;\n",
       "        }#T_c98a2_row20_col0{\n",
       "            background-color:  #f7aa8c;\n",
       "            color:  #000000;\n",
       "        }#T_c98a2_row21_col0{\n",
       "            background-color:  #688aef;\n",
       "            color:  #000000;\n",
       "        }</style><table id=\"T_c98a2_\" ><thead>    <tr>        <th class=\"blank level0\" ></th>        <th class=\"col_heading level0 col0\" >0</th>    </tr></thead><tbody>\n",
       "                <tr>\n",
       "                        <th id=\"T_c98a2_level0_row0\" class=\"row_heading level0 row0\" >total_images</th>\n",
       "                        <td id=\"T_c98a2_row0_col0\" class=\"data row0 col0\" >0.000000</td>\n",
       "            </tr>\n",
       "            <tr>\n",
       "                        <th id=\"T_c98a2_level0_row1\" class=\"row_heading level0 row1\" >last_price</th>\n",
       "                        <td id=\"T_c98a2_row1_col0\" class=\"data row1 col0\" >0.000000</td>\n",
       "            </tr>\n",
       "            <tr>\n",
       "                        <th id=\"T_c98a2_level0_row2\" class=\"row_heading level0 row2\" >total_area</th>\n",
       "                        <td id=\"T_c98a2_row2_col0\" class=\"data row2 col0\" >0.000000</td>\n",
       "            </tr>\n",
       "            <tr>\n",
       "                        <th id=\"T_c98a2_level0_row3\" class=\"row_heading level0 row3\" >first_day_exposition</th>\n",
       "                        <td id=\"T_c98a2_row3_col0\" class=\"data row3 col0\" >0.000000</td>\n",
       "            </tr>\n",
       "            <tr>\n",
       "                        <th id=\"T_c98a2_level0_row4\" class=\"row_heading level0 row4\" >rooms</th>\n",
       "                        <td id=\"T_c98a2_row4_col0\" class=\"data row4 col0\" >0.000000</td>\n",
       "            </tr>\n",
       "            <tr>\n",
       "                        <th id=\"T_c98a2_level0_row5\" class=\"row_heading level0 row5\" >ceiling_height</th>\n",
       "                        <td id=\"T_c98a2_row5_col0\" class=\"data row5 col0\" >39.000000</td>\n",
       "            </tr>\n",
       "            <tr>\n",
       "                        <th id=\"T_c98a2_level0_row6\" class=\"row_heading level0 row6\" >floors_total</th>\n",
       "                        <td id=\"T_c98a2_row6_col0\" class=\"data row6 col0\" >0.000000</td>\n",
       "            </tr>\n",
       "            <tr>\n",
       "                        <th id=\"T_c98a2_level0_row7\" class=\"row_heading level0 row7\" >living_area</th>\n",
       "                        <td id=\"T_c98a2_row7_col0\" class=\"data row7 col0\" >8.000000</td>\n",
       "            </tr>\n",
       "            <tr>\n",
       "                        <th id=\"T_c98a2_level0_row8\" class=\"row_heading level0 row8\" >floor</th>\n",
       "                        <td id=\"T_c98a2_row8_col0\" class=\"data row8 col0\" >0.000000</td>\n",
       "            </tr>\n",
       "            <tr>\n",
       "                        <th id=\"T_c98a2_level0_row9\" class=\"row_heading level0 row9\" >is_apartment</th>\n",
       "                        <td id=\"T_c98a2_row9_col0\" class=\"data row9 col0\" >88.000000</td>\n",
       "            </tr>\n",
       "            <tr>\n",
       "                        <th id=\"T_c98a2_level0_row10\" class=\"row_heading level0 row10\" >studio</th>\n",
       "                        <td id=\"T_c98a2_row10_col0\" class=\"data row10 col0\" >0.000000</td>\n",
       "            </tr>\n",
       "            <tr>\n",
       "                        <th id=\"T_c98a2_level0_row11\" class=\"row_heading level0 row11\" >open_plan</th>\n",
       "                        <td id=\"T_c98a2_row11_col0\" class=\"data row11 col0\" >0.000000</td>\n",
       "            </tr>\n",
       "            <tr>\n",
       "                        <th id=\"T_c98a2_level0_row12\" class=\"row_heading level0 row12\" >kitchen_area</th>\n",
       "                        <td id=\"T_c98a2_row12_col0\" class=\"data row12 col0\" >10.000000</td>\n",
       "            </tr>\n",
       "            <tr>\n",
       "                        <th id=\"T_c98a2_level0_row13\" class=\"row_heading level0 row13\" >balcony</th>\n",
       "                        <td id=\"T_c98a2_row13_col0\" class=\"data row13 col0\" >49.000000</td>\n",
       "            </tr>\n",
       "            <tr>\n",
       "                        <th id=\"T_c98a2_level0_row14\" class=\"row_heading level0 row14\" >locality_name</th>\n",
       "                        <td id=\"T_c98a2_row14_col0\" class=\"data row14 col0\" >0.000000</td>\n",
       "            </tr>\n",
       "            <tr>\n",
       "                        <th id=\"T_c98a2_level0_row15\" class=\"row_heading level0 row15\" >airports_nearest</th>\n",
       "                        <td id=\"T_c98a2_row15_col0\" class=\"data row15 col0\" >23.000000</td>\n",
       "            </tr>\n",
       "            <tr>\n",
       "                        <th id=\"T_c98a2_level0_row16\" class=\"row_heading level0 row16\" >cityCenters_nearest</th>\n",
       "                        <td id=\"T_c98a2_row16_col0\" class=\"data row16 col0\" >23.000000</td>\n",
       "            </tr>\n",
       "            <tr>\n",
       "                        <th id=\"T_c98a2_level0_row17\" class=\"row_heading level0 row17\" >parks_around3000</th>\n",
       "                        <td id=\"T_c98a2_row17_col0\" class=\"data row17 col0\" >23.000000</td>\n",
       "            </tr>\n",
       "            <tr>\n",
       "                        <th id=\"T_c98a2_level0_row18\" class=\"row_heading level0 row18\" >parks_nearest</th>\n",
       "                        <td id=\"T_c98a2_row18_col0\" class=\"data row18 col0\" >66.000000</td>\n",
       "            </tr>\n",
       "            <tr>\n",
       "                        <th id=\"T_c98a2_level0_row19\" class=\"row_heading level0 row19\" >ponds_around3000</th>\n",
       "                        <td id=\"T_c98a2_row19_col0\" class=\"data row19 col0\" >23.000000</td>\n",
       "            </tr>\n",
       "            <tr>\n",
       "                        <th id=\"T_c98a2_level0_row20\" class=\"row_heading level0 row20\" >ponds_nearest</th>\n",
       "                        <td id=\"T_c98a2_row20_col0\" class=\"data row20 col0\" >62.000000</td>\n",
       "            </tr>\n",
       "            <tr>\n",
       "                        <th id=\"T_c98a2_level0_row21\" class=\"row_heading level0 row21\" >days_exposition</th>\n",
       "                        <td id=\"T_c98a2_row21_col0\" class=\"data row21 col0\" >13.000000</td>\n",
       "            </tr>\n",
       "    </tbody></table>"
      ],
      "text/plain": [
       "<pandas.io.formats.style.Styler at 0x7f30d46d1af0>"
      ]
     },
     "execution_count": 42,
     "metadata": {},
     "output_type": "execute_result"
    }
   ],
   "source": [
    "pd.DataFrame(round(df.isna().mean()*100,)).style.background_gradient('coolwarm')"
   ]
  },
  {
   "cell_type": "markdown",
   "id": "28b8fee3-c6d8-47b0-b7b2-6d22acb64ead",
   "metadata": {},
   "source": [
    "**Вывод:**\n",
    "1) \"**ceiling_height**\" - высота потолков довольно важный параметр, попробую предположить что люди не считали важным его заполнить, попробую заполнить средним значение выстоты потолка для данного города.\n",
    "2) \"**is_apartment**\" - апартаменты, предположу, что владельцы данного типа недвижимости не задумываются над разнообразием видов, поэтому считаем все строки \"is_apartment\" = True если значение поля \"studio\" and \"open_plan\" = False.\n",
    "3) \"**kitchen_area**\" and \"living_area\" данные, которые могут быть не заполнены просто по той причине, что они необязательны к заполнению, а высчитывать жилую площадь/площадь кухни продавцам некогда. Так же надо выяснить нет ли связи между студиа и отсутвием значения жилая полощадь и площадь кухни. \n",
    "4) \"**locality_name**\" - населенный пункт, очень странное решение не заполнять могу предположить или это машинный сбой или бестолковость продовца не понимающего разницу меджу СПБ и лен. облостью. Можно поппробывать заполнить его данными из поля \"гео лакация\" если есть или просто удалить так как их очень мало.\n",
    "5) \"**airports_nearest, cityCenters_nearest, parks_around3000, ponds_around3000**\" - эта самая большая группа незаполненых данных, так как это автоматизированная система заполнения данных то пустые значения позначают что определённом радиусе нет указанных наименований. Поэтому их не трогаем. Но теоретичеки пожно попробывать (пока не знаю как) прикрутить карту и посчитать значения до ближайего парка или аэропорта до центра города.\n",
    "6) \"**balcony**\" - возможно это необезательный параметр и у дома может отсутвовать болкон. Хотя предварительный аналез показал наличие здание с 5 балконами (все таки закрался замок надо проверить может это дом с 19 комнатами).\n",
    "7) \"**days_exposition**\" - считаем что только что выставили на продажу\n",
    "8) \"**floors_total**\"- колличество этажей, надо смотреть.\n",
    "**Итого:**\n",
    "**Данные очень \"грязные\" буду думать и исткать пути как это все поправить.**"
   ]
  },
  {
   "cell_type": "markdown",
   "id": "04b4dfcc-e3ae-4eff-a97d-623799da21e1",
   "metadata": {},
   "source": [
    "**Предобработка данных**"
   ]
  },
  {
   "cell_type": "markdown",
   "id": "ef6a8d21-04ba-47fc-9fff-d8b5b8d02be4",
   "metadata": {},
   "source": [
    "**Изменяем тип данных:**"
   ]
  },
  {
   "cell_type": "code",
   "execution_count": 5,
   "id": "1ec41d1f-856f-4ff1-8668-6ae91a953a01",
   "metadata": {},
   "outputs": [],
   "source": [
    "# меняем тип на требуемый. Пока ещё есть пропуски\n",
    "columns_int = ['last_price', 'floors_total', 'balcony', 'airports_nearest', 'cityCenters_nearest',  'parks_around3000', 'parks_nearest',  'ponds_nearest', 'days_exposition']\n",
    "\n",
    "for colum in columns_int:\n",
    "    data[colum] = data[data[colum].notnull()][colum].astype('int')\n",
    "\n",
    "# Округляем до десятых.\n",
    "columns_r1 = ['total_area', 'ceiling_height', 'living_area', 'kitchen_area']\n",
    "\n",
    "for colum_r1 in columns_r1:\n",
    "    data[colum_r1] = data[data[colum_r1].notnull()][colum_r1].round(1)\n",
    "    \n",
    "\n",
    "data['is_apartment'] = data['is_apartment'].astype(bool)\n",
    "data['first_day_exposition'] = pd.to_datetime(data['first_day_exposition'])        # причесываем и перевододи в формат без времени только с датой\n",
    "\n",
    "#data['days_exposition'] = data['days_exposition'].fillna(0)                        # заполняем нулями кол-во дней в продаже \n",
    "data['balcony'] = data['balcony'].fillna(0)                                        # обнуляем незаполненные балконы\n",
    "\n",
    "data['ceiling_height'] = data['ceiling_height'].fillna(data['ceiling_height'].median()) #заполняем медианными значениями незаполнненые значения высоты потолка.\n"
   ]
  },
  {
   "cell_type": "markdown",
   "id": "abcf79df-a002-4944-8155-3b50dfedf4a1",
   "metadata": {},
   "source": [
    "**Смотрим потолки**"
   ]
  },
  {
   "cell_type": "code",
   "execution_count": 6,
   "id": "df41ba64-b064-4e05-816c-02523e001e65",
   "metadata": {},
   "outputs": [
    {
     "data": {
      "text/html": [
       "<div>\n",
       "<style scoped>\n",
       "    .dataframe tbody tr th:only-of-type {\n",
       "        vertical-align: middle;\n",
       "    }\n",
       "\n",
       "    .dataframe tbody tr th {\n",
       "        vertical-align: top;\n",
       "    }\n",
       "\n",
       "    .dataframe thead th {\n",
       "        text-align: right;\n",
       "    }\n",
       "</style>\n",
       "<table border=\"1\" class=\"dataframe\">\n",
       "  <thead>\n",
       "    <tr style=\"text-align: right;\">\n",
       "      <th></th>\n",
       "      <th>total_images</th>\n",
       "      <th>last_price</th>\n",
       "      <th>total_area</th>\n",
       "      <th>first_day_exposition</th>\n",
       "      <th>rooms</th>\n",
       "      <th>ceiling_height</th>\n",
       "      <th>floors_total</th>\n",
       "      <th>living_area</th>\n",
       "      <th>floor</th>\n",
       "      <th>is_apartment</th>\n",
       "      <th>...</th>\n",
       "      <th>kitchen_area</th>\n",
       "      <th>balcony</th>\n",
       "      <th>locality_name</th>\n",
       "      <th>airports_nearest</th>\n",
       "      <th>cityCenters_nearest</th>\n",
       "      <th>parks_around3000</th>\n",
       "      <th>parks_nearest</th>\n",
       "      <th>ponds_around3000</th>\n",
       "      <th>ponds_nearest</th>\n",
       "      <th>days_exposition</th>\n",
       "    </tr>\n",
       "  </thead>\n",
       "  <tbody>\n",
       "    <tr>\n",
       "      <th>21824</th>\n",
       "      <td>20</td>\n",
       "      <td>2450000</td>\n",
       "      <td>44.0</td>\n",
       "      <td>2019-02-12</td>\n",
       "      <td>2</td>\n",
       "      <td>27.0</td>\n",
       "      <td>2.0</td>\n",
       "      <td>38.0</td>\n",
       "      <td>2</td>\n",
       "      <td>False</td>\n",
       "      <td>...</td>\n",
       "      <td>8.6</td>\n",
       "      <td>2.0</td>\n",
       "      <td>городской поселок Большая Ижора</td>\n",
       "      <td>NaN</td>\n",
       "      <td>NaN</td>\n",
       "      <td>NaN</td>\n",
       "      <td>NaN</td>\n",
       "      <td>NaN</td>\n",
       "      <td>NaN</td>\n",
       "      <td>NaN</td>\n",
       "    </tr>\n",
       "    <tr>\n",
       "      <th>22938</th>\n",
       "      <td>14</td>\n",
       "      <td>4000000</td>\n",
       "      <td>98.0</td>\n",
       "      <td>2018-03-15</td>\n",
       "      <td>4</td>\n",
       "      <td>27.0</td>\n",
       "      <td>2.0</td>\n",
       "      <td>73.0</td>\n",
       "      <td>2</td>\n",
       "      <td>True</td>\n",
       "      <td>...</td>\n",
       "      <td>9.0</td>\n",
       "      <td>1.0</td>\n",
       "      <td>деревня Нижняя</td>\n",
       "      <td>NaN</td>\n",
       "      <td>NaN</td>\n",
       "      <td>NaN</td>\n",
       "      <td>NaN</td>\n",
       "      <td>NaN</td>\n",
       "      <td>NaN</td>\n",
       "      <td>27.0</td>\n",
       "    </tr>\n",
       "    <tr>\n",
       "      <th>4876</th>\n",
       "      <td>7</td>\n",
       "      <td>3000000</td>\n",
       "      <td>25.0</td>\n",
       "      <td>2017-09-27</td>\n",
       "      <td>0</td>\n",
       "      <td>27.0</td>\n",
       "      <td>25.0</td>\n",
       "      <td>17.0</td>\n",
       "      <td>17</td>\n",
       "      <td>True</td>\n",
       "      <td>...</td>\n",
       "      <td>NaN</td>\n",
       "      <td>2.0</td>\n",
       "      <td>посёлок Мурино</td>\n",
       "      <td>NaN</td>\n",
       "      <td>NaN</td>\n",
       "      <td>NaN</td>\n",
       "      <td>NaN</td>\n",
       "      <td>NaN</td>\n",
       "      <td>NaN</td>\n",
       "      <td>28.0</td>\n",
       "    </tr>\n",
       "    <tr>\n",
       "      <th>10773</th>\n",
       "      <td>8</td>\n",
       "      <td>3800000</td>\n",
       "      <td>58.0</td>\n",
       "      <td>2017-10-13</td>\n",
       "      <td>2</td>\n",
       "      <td>27.0</td>\n",
       "      <td>10.0</td>\n",
       "      <td>30.1</td>\n",
       "      <td>3</td>\n",
       "      <td>False</td>\n",
       "      <td>...</td>\n",
       "      <td>8.1</td>\n",
       "      <td>2.0</td>\n",
       "      <td>посёлок Мурино</td>\n",
       "      <td>NaN</td>\n",
       "      <td>NaN</td>\n",
       "      <td>NaN</td>\n",
       "      <td>NaN</td>\n",
       "      <td>NaN</td>\n",
       "      <td>NaN</td>\n",
       "      <td>71.0</td>\n",
       "    </tr>\n",
       "    <tr>\n",
       "      <th>20478</th>\n",
       "      <td>11</td>\n",
       "      <td>8000000</td>\n",
       "      <td>45.0</td>\n",
       "      <td>2017-07-18</td>\n",
       "      <td>1</td>\n",
       "      <td>27.0</td>\n",
       "      <td>4.0</td>\n",
       "      <td>22.0</td>\n",
       "      <td>2</td>\n",
       "      <td>True</td>\n",
       "      <td>...</td>\n",
       "      <td>10.0</td>\n",
       "      <td>1.0</td>\n",
       "      <td>Санкт-Петербург</td>\n",
       "      <td>18975.0</td>\n",
       "      <td>3246.0</td>\n",
       "      <td>0.0</td>\n",
       "      <td>NaN</td>\n",
       "      <td>3.0</td>\n",
       "      <td>449.0</td>\n",
       "      <td>429.0</td>\n",
       "    </tr>\n",
       "    <tr>\n",
       "      <th>17857</th>\n",
       "      <td>1</td>\n",
       "      <td>3900000</td>\n",
       "      <td>56.0</td>\n",
       "      <td>2017-12-22</td>\n",
       "      <td>3</td>\n",
       "      <td>27.0</td>\n",
       "      <td>5.0</td>\n",
       "      <td>33.0</td>\n",
       "      <td>4</td>\n",
       "      <td>False</td>\n",
       "      <td>...</td>\n",
       "      <td>NaN</td>\n",
       "      <td>0.0</td>\n",
       "      <td>Санкт-Петербург</td>\n",
       "      <td>41030.0</td>\n",
       "      <td>15543.0</td>\n",
       "      <td>0.0</td>\n",
       "      <td>NaN</td>\n",
       "      <td>0.0</td>\n",
       "      <td>NaN</td>\n",
       "      <td>73.0</td>\n",
       "    </tr>\n",
       "    <tr>\n",
       "      <th>21377</th>\n",
       "      <td>19</td>\n",
       "      <td>4900000</td>\n",
       "      <td>42.0</td>\n",
       "      <td>2017-04-18</td>\n",
       "      <td>1</td>\n",
       "      <td>27.5</td>\n",
       "      <td>24.0</td>\n",
       "      <td>37.7</td>\n",
       "      <td>19</td>\n",
       "      <td>False</td>\n",
       "      <td>...</td>\n",
       "      <td>11.0</td>\n",
       "      <td>2.0</td>\n",
       "      <td>Санкт-Петербург</td>\n",
       "      <td>42742.0</td>\n",
       "      <td>9760.0</td>\n",
       "      <td>0.0</td>\n",
       "      <td>NaN</td>\n",
       "      <td>0.0</td>\n",
       "      <td>NaN</td>\n",
       "      <td>61.0</td>\n",
       "    </tr>\n",
       "    <tr>\n",
       "      <th>22336</th>\n",
       "      <td>19</td>\n",
       "      <td>9999000</td>\n",
       "      <td>92.4</td>\n",
       "      <td>2019-04-05</td>\n",
       "      <td>2</td>\n",
       "      <td>32.0</td>\n",
       "      <td>6.0</td>\n",
       "      <td>55.5</td>\n",
       "      <td>5</td>\n",
       "      <td>False</td>\n",
       "      <td>...</td>\n",
       "      <td>16.5</td>\n",
       "      <td>4.0</td>\n",
       "      <td>Санкт-Петербург</td>\n",
       "      <td>18838.0</td>\n",
       "      <td>3506.0</td>\n",
       "      <td>0.0</td>\n",
       "      <td>NaN</td>\n",
       "      <td>3.0</td>\n",
       "      <td>511.0</td>\n",
       "      <td>NaN</td>\n",
       "    </tr>\n",
       "    <tr>\n",
       "      <th>3148</th>\n",
       "      <td>14</td>\n",
       "      <td>2900000</td>\n",
       "      <td>75.0</td>\n",
       "      <td>2018-11-12</td>\n",
       "      <td>3</td>\n",
       "      <td>32.0</td>\n",
       "      <td>3.0</td>\n",
       "      <td>53.0</td>\n",
       "      <td>2</td>\n",
       "      <td>True</td>\n",
       "      <td>...</td>\n",
       "      <td>8.0</td>\n",
       "      <td>0.0</td>\n",
       "      <td>Волхов</td>\n",
       "      <td>NaN</td>\n",
       "      <td>NaN</td>\n",
       "      <td>NaN</td>\n",
       "      <td>NaN</td>\n",
       "      <td>NaN</td>\n",
       "      <td>NaN</td>\n",
       "      <td>NaN</td>\n",
       "    </tr>\n",
       "    <tr>\n",
       "      <th>22869</th>\n",
       "      <td>0</td>\n",
       "      <td>15000000</td>\n",
       "      <td>25.0</td>\n",
       "      <td>2018-07-25</td>\n",
       "      <td>1</td>\n",
       "      <td>100.0</td>\n",
       "      <td>5.0</td>\n",
       "      <td>14.0</td>\n",
       "      <td>5</td>\n",
       "      <td>True</td>\n",
       "      <td>...</td>\n",
       "      <td>11.0</td>\n",
       "      <td>5.0</td>\n",
       "      <td>Санкт-Петербург</td>\n",
       "      <td>34963.0</td>\n",
       "      <td>8283.0</td>\n",
       "      <td>1.0</td>\n",
       "      <td>223.0</td>\n",
       "      <td>3.0</td>\n",
       "      <td>30.0</td>\n",
       "      <td>19.0</td>\n",
       "    </tr>\n",
       "  </tbody>\n",
       "</table>\n",
       "<p>10 rows × 22 columns</p>\n",
       "</div>"
      ],
      "text/plain": [
       "       total_images  last_price  total_area first_day_exposition  rooms  \\\n",
       "21824            20     2450000        44.0           2019-02-12      2   \n",
       "22938            14     4000000        98.0           2018-03-15      4   \n",
       "4876              7     3000000        25.0           2017-09-27      0   \n",
       "10773             8     3800000        58.0           2017-10-13      2   \n",
       "20478            11     8000000        45.0           2017-07-18      1   \n",
       "17857             1     3900000        56.0           2017-12-22      3   \n",
       "21377            19     4900000        42.0           2017-04-18      1   \n",
       "22336            19     9999000        92.4           2019-04-05      2   \n",
       "3148             14     2900000        75.0           2018-11-12      3   \n",
       "22869             0    15000000        25.0           2018-07-25      1   \n",
       "\n",
       "       ceiling_height  floors_total  living_area  floor  is_apartment  ...  \\\n",
       "21824            27.0           2.0         38.0      2         False  ...   \n",
       "22938            27.0           2.0         73.0      2          True  ...   \n",
       "4876             27.0          25.0         17.0     17          True  ...   \n",
       "10773            27.0          10.0         30.1      3         False  ...   \n",
       "20478            27.0           4.0         22.0      2          True  ...   \n",
       "17857            27.0           5.0         33.0      4         False  ...   \n",
       "21377            27.5          24.0         37.7     19         False  ...   \n",
       "22336            32.0           6.0         55.5      5         False  ...   \n",
       "3148             32.0           3.0         53.0      2          True  ...   \n",
       "22869           100.0           5.0         14.0      5          True  ...   \n",
       "\n",
       "       kitchen_area  balcony                    locality_name  \\\n",
       "21824           8.6      2.0  городской поселок Большая Ижора   \n",
       "22938           9.0      1.0                   деревня Нижняя   \n",
       "4876            NaN      2.0                   посёлок Мурино   \n",
       "10773           8.1      2.0                   посёлок Мурино   \n",
       "20478          10.0      1.0                  Санкт-Петербург   \n",
       "17857           NaN      0.0                  Санкт-Петербург   \n",
       "21377          11.0      2.0                  Санкт-Петербург   \n",
       "22336          16.5      4.0                  Санкт-Петербург   \n",
       "3148            8.0      0.0                           Волхов   \n",
       "22869          11.0      5.0                  Санкт-Петербург   \n",
       "\n",
       "       airports_nearest cityCenters_nearest  parks_around3000  parks_nearest  \\\n",
       "21824               NaN                 NaN               NaN            NaN   \n",
       "22938               NaN                 NaN               NaN            NaN   \n",
       "4876                NaN                 NaN               NaN            NaN   \n",
       "10773               NaN                 NaN               NaN            NaN   \n",
       "20478           18975.0              3246.0               0.0            NaN   \n",
       "17857           41030.0             15543.0               0.0            NaN   \n",
       "21377           42742.0              9760.0               0.0            NaN   \n",
       "22336           18838.0              3506.0               0.0            NaN   \n",
       "3148                NaN                 NaN               NaN            NaN   \n",
       "22869           34963.0              8283.0               1.0          223.0   \n",
       "\n",
       "       ponds_around3000  ponds_nearest  days_exposition  \n",
       "21824               NaN            NaN              NaN  \n",
       "22938               NaN            NaN             27.0  \n",
       "4876                NaN            NaN             28.0  \n",
       "10773               NaN            NaN             71.0  \n",
       "20478               3.0          449.0            429.0  \n",
       "17857               0.0            NaN             73.0  \n",
       "21377               0.0            NaN             61.0  \n",
       "22336               3.0          511.0              NaN  \n",
       "3148                NaN            NaN              NaN  \n",
       "22869               3.0           30.0             19.0  \n",
       "\n",
       "[10 rows x 22 columns]"
      ]
     },
     "execution_count": 6,
     "metadata": {},
     "output_type": "execute_result"
    }
   ],
   "source": [
    "data['ceiling_height'].value_counts()\n",
    "data['ceiling_height'].describe()\n",
    "data['ceiling_height'].isna().sum()\n",
    "data[data['ceiling_height'] > 4].sort_values('ceiling_height').tail(10) #С высотой потолков беда, значение судя по всему внесены с ошибкой. Буду разбираться позже.\n"
   ]
  },
  {
   "cell_type": "code",
   "execution_count": 7,
   "id": "5669ce6c-a299-4676-9faf-806cdeb72800",
   "metadata": {},
   "outputs": [],
   "source": [
    "data.loc[(data['ceiling_height']>10), 'ceiling_height'] = (data['ceiling_height'] / 10)\n"
   ]
  },
  {
   "cell_type": "markdown",
   "id": "ed7f67bb-1a01-4811-9c4b-af0431574c85",
   "metadata": {},
   "source": [
    "**Проверяем этажность зданий**"
   ]
  },
  {
   "cell_type": "code",
   "execution_count": 8,
   "id": "8b0d9050-c440-4cbc-b005-7aef9465a42d",
   "metadata": {},
   "outputs": [
    {
     "data": {
      "text/html": [
       "<div>\n",
       "<style scoped>\n",
       "    .dataframe tbody tr th:only-of-type {\n",
       "        vertical-align: middle;\n",
       "    }\n",
       "\n",
       "    .dataframe tbody tr th {\n",
       "        vertical-align: top;\n",
       "    }\n",
       "\n",
       "    .dataframe thead th {\n",
       "        text-align: right;\n",
       "    }\n",
       "</style>\n",
       "<table border=\"1\" class=\"dataframe\">\n",
       "  <thead>\n",
       "    <tr style=\"text-align: right;\">\n",
       "      <th></th>\n",
       "      <th>total_images</th>\n",
       "      <th>last_price</th>\n",
       "      <th>total_area</th>\n",
       "      <th>first_day_exposition</th>\n",
       "      <th>rooms</th>\n",
       "      <th>ceiling_height</th>\n",
       "      <th>floors_total</th>\n",
       "      <th>living_area</th>\n",
       "      <th>floor</th>\n",
       "      <th>is_apartment</th>\n",
       "      <th>...</th>\n",
       "      <th>kitchen_area</th>\n",
       "      <th>balcony</th>\n",
       "      <th>locality_name</th>\n",
       "      <th>airports_nearest</th>\n",
       "      <th>cityCenters_nearest</th>\n",
       "      <th>parks_around3000</th>\n",
       "      <th>parks_nearest</th>\n",
       "      <th>ponds_around3000</th>\n",
       "      <th>ponds_nearest</th>\n",
       "      <th>days_exposition</th>\n",
       "    </tr>\n",
       "  </thead>\n",
       "  <tbody>\n",
       "    <tr>\n",
       "      <th>186</th>\n",
       "      <td>12</td>\n",
       "      <td>11640000</td>\n",
       "      <td>65.2</td>\n",
       "      <td>2018-10-02</td>\n",
       "      <td>2</td>\n",
       "      <td>2.6</td>\n",
       "      <td>NaN</td>\n",
       "      <td>30.8</td>\n",
       "      <td>4</td>\n",
       "      <td>True</td>\n",
       "      <td>...</td>\n",
       "      <td>12.0</td>\n",
       "      <td>0.0</td>\n",
       "      <td>Санкт-Петербург</td>\n",
       "      <td>39197.0</td>\n",
       "      <td>12373.0</td>\n",
       "      <td>1.0</td>\n",
       "      <td>123.0</td>\n",
       "      <td>0.0</td>\n",
       "      <td>NaN</td>\n",
       "      <td>49.0</td>\n",
       "    </tr>\n",
       "    <tr>\n",
       "      <th>237</th>\n",
       "      <td>4</td>\n",
       "      <td>2438033</td>\n",
       "      <td>28.1</td>\n",
       "      <td>2016-11-23</td>\n",
       "      <td>1</td>\n",
       "      <td>2.6</td>\n",
       "      <td>NaN</td>\n",
       "      <td>20.8</td>\n",
       "      <td>1</td>\n",
       "      <td>True</td>\n",
       "      <td>...</td>\n",
       "      <td>NaN</td>\n",
       "      <td>0.0</td>\n",
       "      <td>Санкт-Петербург</td>\n",
       "      <td>22041.0</td>\n",
       "      <td>17369.0</td>\n",
       "      <td>0.0</td>\n",
       "      <td>NaN</td>\n",
       "      <td>1.0</td>\n",
       "      <td>374.0</td>\n",
       "      <td>251.0</td>\n",
       "    </tr>\n",
       "    <tr>\n",
       "      <th>457</th>\n",
       "      <td>4</td>\n",
       "      <td>9788348</td>\n",
       "      <td>70.8</td>\n",
       "      <td>2015-08-01</td>\n",
       "      <td>2</td>\n",
       "      <td>2.6</td>\n",
       "      <td>NaN</td>\n",
       "      <td>38.4</td>\n",
       "      <td>12</td>\n",
       "      <td>True</td>\n",
       "      <td>...</td>\n",
       "      <td>10.6</td>\n",
       "      <td>0.0</td>\n",
       "      <td>Санкт-Петербург</td>\n",
       "      <td>37364.0</td>\n",
       "      <td>8322.0</td>\n",
       "      <td>2.0</td>\n",
       "      <td>309.0</td>\n",
       "      <td>2.0</td>\n",
       "      <td>706.0</td>\n",
       "      <td>727.0</td>\n",
       "    </tr>\n",
       "    <tr>\n",
       "      <th>671</th>\n",
       "      <td>4</td>\n",
       "      <td>6051191</td>\n",
       "      <td>93.6</td>\n",
       "      <td>2017-04-06</td>\n",
       "      <td>3</td>\n",
       "      <td>2.6</td>\n",
       "      <td>NaN</td>\n",
       "      <td>47.1</td>\n",
       "      <td>8</td>\n",
       "      <td>True</td>\n",
       "      <td>...</td>\n",
       "      <td>16.8</td>\n",
       "      <td>0.0</td>\n",
       "      <td>Санкт-Петербург</td>\n",
       "      <td>22041.0</td>\n",
       "      <td>17369.0</td>\n",
       "      <td>0.0</td>\n",
       "      <td>NaN</td>\n",
       "      <td>1.0</td>\n",
       "      <td>374.0</td>\n",
       "      <td>123.0</td>\n",
       "    </tr>\n",
       "    <tr>\n",
       "      <th>1757</th>\n",
       "      <td>5</td>\n",
       "      <td>3600000</td>\n",
       "      <td>39.0</td>\n",
       "      <td>2017-04-22</td>\n",
       "      <td>1</td>\n",
       "      <td>2.6</td>\n",
       "      <td>NaN</td>\n",
       "      <td>NaN</td>\n",
       "      <td>9</td>\n",
       "      <td>True</td>\n",
       "      <td>...</td>\n",
       "      <td>NaN</td>\n",
       "      <td>0.0</td>\n",
       "      <td>Санкт-Петербург</td>\n",
       "      <td>22735.0</td>\n",
       "      <td>11618.0</td>\n",
       "      <td>1.0</td>\n",
       "      <td>835.0</td>\n",
       "      <td>1.0</td>\n",
       "      <td>652.0</td>\n",
       "      <td>77.0</td>\n",
       "    </tr>\n",
       "    <tr>\n",
       "      <th>...</th>\n",
       "      <td>...</td>\n",
       "      <td>...</td>\n",
       "      <td>...</td>\n",
       "      <td>...</td>\n",
       "      <td>...</td>\n",
       "      <td>...</td>\n",
       "      <td>...</td>\n",
       "      <td>...</td>\n",
       "      <td>...</td>\n",
       "      <td>...</td>\n",
       "      <td>...</td>\n",
       "      <td>...</td>\n",
       "      <td>...</td>\n",
       "      <td>...</td>\n",
       "      <td>...</td>\n",
       "      <td>...</td>\n",
       "      <td>...</td>\n",
       "      <td>...</td>\n",
       "      <td>...</td>\n",
       "      <td>...</td>\n",
       "      <td>...</td>\n",
       "    </tr>\n",
       "    <tr>\n",
       "      <th>22542</th>\n",
       "      <td>5</td>\n",
       "      <td>8500000</td>\n",
       "      <td>63.5</td>\n",
       "      <td>2017-05-24</td>\n",
       "      <td>2</td>\n",
       "      <td>2.8</td>\n",
       "      <td>NaN</td>\n",
       "      <td>NaN</td>\n",
       "      <td>3</td>\n",
       "      <td>True</td>\n",
       "      <td>...</td>\n",
       "      <td>NaN</td>\n",
       "      <td>0.0</td>\n",
       "      <td>Санкт-Петербург</td>\n",
       "      <td>51340.0</td>\n",
       "      <td>15363.0</td>\n",
       "      <td>0.0</td>\n",
       "      <td>NaN</td>\n",
       "      <td>1.0</td>\n",
       "      <td>853.0</td>\n",
       "      <td>512.0</td>\n",
       "    </tr>\n",
       "    <tr>\n",
       "      <th>22656</th>\n",
       "      <td>4</td>\n",
       "      <td>4574160</td>\n",
       "      <td>64.5</td>\n",
       "      <td>2017-04-02</td>\n",
       "      <td>2</td>\n",
       "      <td>2.6</td>\n",
       "      <td>NaN</td>\n",
       "      <td>31.7</td>\n",
       "      <td>20</td>\n",
       "      <td>True</td>\n",
       "      <td>...</td>\n",
       "      <td>14.4</td>\n",
       "      <td>0.0</td>\n",
       "      <td>Санкт-Петербург</td>\n",
       "      <td>22041.0</td>\n",
       "      <td>17369.0</td>\n",
       "      <td>0.0</td>\n",
       "      <td>NaN</td>\n",
       "      <td>1.0</td>\n",
       "      <td>374.0</td>\n",
       "      <td>127.0</td>\n",
       "    </tr>\n",
       "    <tr>\n",
       "      <th>22808</th>\n",
       "      <td>0</td>\n",
       "      <td>14569263</td>\n",
       "      <td>110.4</td>\n",
       "      <td>2016-11-20</td>\n",
       "      <td>3</td>\n",
       "      <td>2.6</td>\n",
       "      <td>NaN</td>\n",
       "      <td>45.4</td>\n",
       "      <td>6</td>\n",
       "      <td>True</td>\n",
       "      <td>...</td>\n",
       "      <td>23.4</td>\n",
       "      <td>0.0</td>\n",
       "      <td>Санкт-Петербург</td>\n",
       "      <td>19095.0</td>\n",
       "      <td>4529.0</td>\n",
       "      <td>0.0</td>\n",
       "      <td>NaN</td>\n",
       "      <td>0.0</td>\n",
       "      <td>NaN</td>\n",
       "      <td>260.0</td>\n",
       "    </tr>\n",
       "    <tr>\n",
       "      <th>23590</th>\n",
       "      <td>0</td>\n",
       "      <td>21187872</td>\n",
       "      <td>123.3</td>\n",
       "      <td>2017-04-25</td>\n",
       "      <td>3</td>\n",
       "      <td>2.6</td>\n",
       "      <td>NaN</td>\n",
       "      <td>50.4</td>\n",
       "      <td>18</td>\n",
       "      <td>True</td>\n",
       "      <td>...</td>\n",
       "      <td>23.6</td>\n",
       "      <td>0.0</td>\n",
       "      <td>Санкт-Петербург</td>\n",
       "      <td>19095.0</td>\n",
       "      <td>4529.0</td>\n",
       "      <td>0.0</td>\n",
       "      <td>NaN</td>\n",
       "      <td>0.0</td>\n",
       "      <td>NaN</td>\n",
       "      <td>104.0</td>\n",
       "    </tr>\n",
       "    <tr>\n",
       "      <th>23658</th>\n",
       "      <td>6</td>\n",
       "      <td>3063600</td>\n",
       "      <td>43.8</td>\n",
       "      <td>2016-11-28</td>\n",
       "      <td>1</td>\n",
       "      <td>2.7</td>\n",
       "      <td>NaN</td>\n",
       "      <td>14.0</td>\n",
       "      <td>8</td>\n",
       "      <td>True</td>\n",
       "      <td>...</td>\n",
       "      <td>15.5</td>\n",
       "      <td>2.0</td>\n",
       "      <td>Санкт-Петербург</td>\n",
       "      <td>8426.0</td>\n",
       "      <td>12082.0</td>\n",
       "      <td>2.0</td>\n",
       "      <td>24.0</td>\n",
       "      <td>1.0</td>\n",
       "      <td>271.0</td>\n",
       "      <td>246.0</td>\n",
       "    </tr>\n",
       "  </tbody>\n",
       "</table>\n",
       "<p>86 rows × 22 columns</p>\n",
       "</div>"
      ],
      "text/plain": [
       "       total_images  last_price  total_area first_day_exposition  rooms  \\\n",
       "186              12    11640000        65.2           2018-10-02      2   \n",
       "237               4     2438033        28.1           2016-11-23      1   \n",
       "457               4     9788348        70.8           2015-08-01      2   \n",
       "671               4     6051191        93.6           2017-04-06      3   \n",
       "1757              5     3600000        39.0           2017-04-22      1   \n",
       "...             ...         ...         ...                  ...    ...   \n",
       "22542             5     8500000        63.5           2017-05-24      2   \n",
       "22656             4     4574160        64.5           2017-04-02      2   \n",
       "22808             0    14569263       110.4           2016-11-20      3   \n",
       "23590             0    21187872       123.3           2017-04-25      3   \n",
       "23658             6     3063600        43.8           2016-11-28      1   \n",
       "\n",
       "       ceiling_height  floors_total  living_area  floor  is_apartment  ...  \\\n",
       "186               2.6           NaN         30.8      4          True  ...   \n",
       "237               2.6           NaN         20.8      1          True  ...   \n",
       "457               2.6           NaN         38.4     12          True  ...   \n",
       "671               2.6           NaN         47.1      8          True  ...   \n",
       "1757              2.6           NaN          NaN      9          True  ...   \n",
       "...               ...           ...          ...    ...           ...  ...   \n",
       "22542             2.8           NaN          NaN      3          True  ...   \n",
       "22656             2.6           NaN         31.7     20          True  ...   \n",
       "22808             2.6           NaN         45.4      6          True  ...   \n",
       "23590             2.6           NaN         50.4     18          True  ...   \n",
       "23658             2.7           NaN         14.0      8          True  ...   \n",
       "\n",
       "       kitchen_area  balcony    locality_name  airports_nearest  \\\n",
       "186            12.0      0.0  Санкт-Петербург           39197.0   \n",
       "237             NaN      0.0  Санкт-Петербург           22041.0   \n",
       "457            10.6      0.0  Санкт-Петербург           37364.0   \n",
       "671            16.8      0.0  Санкт-Петербург           22041.0   \n",
       "1757            NaN      0.0  Санкт-Петербург           22735.0   \n",
       "...             ...      ...              ...               ...   \n",
       "22542           NaN      0.0  Санкт-Петербург           51340.0   \n",
       "22656          14.4      0.0  Санкт-Петербург           22041.0   \n",
       "22808          23.4      0.0  Санкт-Петербург           19095.0   \n",
       "23590          23.6      0.0  Санкт-Петербург           19095.0   \n",
       "23658          15.5      2.0  Санкт-Петербург            8426.0   \n",
       "\n",
       "      cityCenters_nearest  parks_around3000  parks_nearest  ponds_around3000  \\\n",
       "186               12373.0               1.0          123.0               0.0   \n",
       "237               17369.0               0.0            NaN               1.0   \n",
       "457                8322.0               2.0          309.0               2.0   \n",
       "671               17369.0               0.0            NaN               1.0   \n",
       "1757              11618.0               1.0          835.0               1.0   \n",
       "...                   ...               ...            ...               ...   \n",
       "22542             15363.0               0.0            NaN               1.0   \n",
       "22656             17369.0               0.0            NaN               1.0   \n",
       "22808              4529.0               0.0            NaN               0.0   \n",
       "23590              4529.0               0.0            NaN               0.0   \n",
       "23658             12082.0               2.0           24.0               1.0   \n",
       "\n",
       "       ponds_nearest  days_exposition  \n",
       "186              NaN             49.0  \n",
       "237            374.0            251.0  \n",
       "457            706.0            727.0  \n",
       "671            374.0            123.0  \n",
       "1757           652.0             77.0  \n",
       "...              ...              ...  \n",
       "22542          853.0            512.0  \n",
       "22656          374.0            127.0  \n",
       "22808            NaN            260.0  \n",
       "23590            NaN            104.0  \n",
       "23658          271.0            246.0  \n",
       "\n",
       "[86 rows x 22 columns]"
      ]
     },
     "execution_count": 8,
     "metadata": {},
     "output_type": "execute_result"
    }
   ],
   "source": [
    "data[data['floors_total'].isna()] # в этажности не вижу не какой закономерности поэтому оставляю без изменений\n",
    "#data['floors_total'].unique()"
   ]
  },
  {
   "cell_type": "code",
   "execution_count": null,
   "id": "7451e565-c1fd-48f4-bed2-d5cc0f543e36",
   "metadata": {},
   "outputs": [],
   "source": []
  },
  {
   "cell_type": "code",
   "execution_count": 9,
   "id": "ca251269-9fda-4c79-bc60-6237f4a6dc3e",
   "metadata": {},
   "outputs": [],
   "source": [
    "city_name = ['городской поселок', 'поселок городского типа', 'городской поселок', 'гпоселок', 'село', \n",
    "               'попоселок', 'попоселокк', 'коттеджный поселок', 'садовое товарищество', 'поселок', 'поселокк', 'поселок станции']\n",
    "\n",
    "for city in city_name:\n",
    "    data['locality_name'] = (\n",
    "    data['locality_name']\n",
    "    .str.replace('ё', 'е')\n",
    "    .replace([city], 'поселок', regex=True)\n",
    "    )                                                                              # причесываем, убираем, дубликаты названий в столбце \"locality_name\"\n",
    "\n",
    "#data['locality_name'].unique()"
   ]
  },
  {
   "cell_type": "markdown",
   "id": "e5d3cc54-6743-4bb3-a5be-53157d2ad275",
   "metadata": {},
   "source": [
    "Дубликаты из поля 'locality_name' убраны. Судя по колличесту и разнообразию населённых пунктов, пользователи вводят их вручную, рекомендую настроить автоматическую замени или автоподстановку."
   ]
  },
  {
   "cell_type": "markdown",
   "id": "61ead45f-89b0-4e99-8ba4-d33bca4f9625",
   "metadata": {},
   "source": [
    "**Итого:**  \n",
    "**Поменяли тип данных, заполнили пропуски где это необходимо, убрали дубликаты.**"
   ]
  },
  {
   "cell_type": "markdown",
   "id": "054675d8",
   "metadata": {},
   "source": []
  },
  {
   "cell_type": "markdown",
   "id": "be70bf6e-0a71-461c-ab87-cf0b3e52259b",
   "metadata": {},
   "source": [
    " **Шаг 3. Добавьте в таблицу новые столбцы со следующими параметрами:**\n",
    "1) **цена одного квадратного метра (нужно поделить стоимость объекта на его общую площадь, а затем округлить до двух знаков после запятой);**\n",
    "2) **день недели публикации объявления (0 — понедельник, 1 — вторник и так далее);**\n",
    "3) **месяц публикации объявления;**\n",
    "4) **год публикации объявления;**\n",
    "5) **тип этажа квартиры (значения — «первый», «последний», «другой»);**\n",
    "6) **расстояние до центра города в километрах (переведите из м в км и округлите до ближайших целых значений).**"
   ]
  },
  {
   "cell_type": "code",
   "execution_count": 10,
   "id": "09192246-427c-408b-8398-c0491572400e",
   "metadata": {},
   "outputs": [],
   "source": [
    "data['price_onr_metr'] = data['last_price']/data['total_area']\n",
    "data['price_onr_metr'] = data['price_onr_metr'].round(2)\n"
   ]
  },
  {
   "cell_type": "code",
   "execution_count": 11,
   "id": "81bf0bc7-7210-4433-bb36-071fe4d1967a",
   "metadata": {},
   "outputs": [
    {
     "data": {
      "text/html": [
       "<div>\n",
       "<style scoped>\n",
       "    .dataframe tbody tr th:only-of-type {\n",
       "        vertical-align: middle;\n",
       "    }\n",
       "\n",
       "    .dataframe tbody tr th {\n",
       "        vertical-align: top;\n",
       "    }\n",
       "\n",
       "    .dataframe thead th {\n",
       "        text-align: right;\n",
       "    }\n",
       "</style>\n",
       "<table border=\"1\" class=\"dataframe\">\n",
       "  <thead>\n",
       "    <tr style=\"text-align: right;\">\n",
       "      <th></th>\n",
       "      <th>total_images</th>\n",
       "      <th>last_price</th>\n",
       "      <th>total_area</th>\n",
       "      <th>first_day_exposition</th>\n",
       "      <th>rooms</th>\n",
       "      <th>ceiling_height</th>\n",
       "      <th>floors_total</th>\n",
       "      <th>living_area</th>\n",
       "      <th>floor</th>\n",
       "      <th>is_apartment</th>\n",
       "      <th>...</th>\n",
       "      <th>balcony</th>\n",
       "      <th>locality_name</th>\n",
       "      <th>airports_nearest</th>\n",
       "      <th>cityCenters_nearest</th>\n",
       "      <th>parks_around3000</th>\n",
       "      <th>parks_nearest</th>\n",
       "      <th>ponds_around3000</th>\n",
       "      <th>ponds_nearest</th>\n",
       "      <th>days_exposition</th>\n",
       "      <th>price_onr_metr</th>\n",
       "    </tr>\n",
       "  </thead>\n",
       "  <tbody>\n",
       "    <tr>\n",
       "      <th>47</th>\n",
       "      <td>17</td>\n",
       "      <td>3600000</td>\n",
       "      <td>56.1</td>\n",
       "      <td>2018-10-18</td>\n",
       "      <td>3</td>\n",
       "      <td>2.6</td>\n",
       "      <td>4.0</td>\n",
       "      <td>42.5</td>\n",
       "      <td>3</td>\n",
       "      <td>True</td>\n",
       "      <td>...</td>\n",
       "      <td>1.0</td>\n",
       "      <td>Гатчина</td>\n",
       "      <td>NaN</td>\n",
       "      <td>NaN</td>\n",
       "      <td>NaN</td>\n",
       "      <td>NaN</td>\n",
       "      <td>NaN</td>\n",
       "      <td>NaN</td>\n",
       "      <td>179.0</td>\n",
       "      <td>64171.12</td>\n",
       "    </tr>\n",
       "    <tr>\n",
       "      <th>64</th>\n",
       "      <td>13</td>\n",
       "      <td>3100000</td>\n",
       "      <td>44.3</td>\n",
       "      <td>2017-11-07</td>\n",
       "      <td>2</td>\n",
       "      <td>2.5</td>\n",
       "      <td>5.0</td>\n",
       "      <td>29.0</td>\n",
       "      <td>5</td>\n",
       "      <td>True</td>\n",
       "      <td>...</td>\n",
       "      <td>0.0</td>\n",
       "      <td>Гатчина</td>\n",
       "      <td>NaN</td>\n",
       "      <td>NaN</td>\n",
       "      <td>NaN</td>\n",
       "      <td>NaN</td>\n",
       "      <td>NaN</td>\n",
       "      <td>NaN</td>\n",
       "      <td>143.0</td>\n",
       "      <td>69977.43</td>\n",
       "    </tr>\n",
       "    <tr>\n",
       "      <th>174</th>\n",
       "      <td>8</td>\n",
       "      <td>2100000</td>\n",
       "      <td>31.6</td>\n",
       "      <td>2018-10-16</td>\n",
       "      <td>1</td>\n",
       "      <td>2.6</td>\n",
       "      <td>5.0</td>\n",
       "      <td>17.5</td>\n",
       "      <td>4</td>\n",
       "      <td>True</td>\n",
       "      <td>...</td>\n",
       "      <td>1.0</td>\n",
       "      <td>Гатчина</td>\n",
       "      <td>NaN</td>\n",
       "      <td>NaN</td>\n",
       "      <td>NaN</td>\n",
       "      <td>NaN</td>\n",
       "      <td>NaN</td>\n",
       "      <td>NaN</td>\n",
       "      <td>37.0</td>\n",
       "      <td>66455.70</td>\n",
       "    </tr>\n",
       "    <tr>\n",
       "      <th>298</th>\n",
       "      <td>9</td>\n",
       "      <td>2650000</td>\n",
       "      <td>42.8</td>\n",
       "      <td>2017-04-25</td>\n",
       "      <td>2</td>\n",
       "      <td>2.6</td>\n",
       "      <td>5.0</td>\n",
       "      <td>30.0</td>\n",
       "      <td>3</td>\n",
       "      <td>True</td>\n",
       "      <td>...</td>\n",
       "      <td>0.0</td>\n",
       "      <td>Гатчина</td>\n",
       "      <td>NaN</td>\n",
       "      <td>NaN</td>\n",
       "      <td>NaN</td>\n",
       "      <td>NaN</td>\n",
       "      <td>NaN</td>\n",
       "      <td>NaN</td>\n",
       "      <td>49.0</td>\n",
       "      <td>61915.89</td>\n",
       "    </tr>\n",
       "    <tr>\n",
       "      <th>355</th>\n",
       "      <td>17</td>\n",
       "      <td>3600000</td>\n",
       "      <td>55.2</td>\n",
       "      <td>2018-07-12</td>\n",
       "      <td>2</td>\n",
       "      <td>2.5</td>\n",
       "      <td>5.0</td>\n",
       "      <td>32.0</td>\n",
       "      <td>2</td>\n",
       "      <td>False</td>\n",
       "      <td>...</td>\n",
       "      <td>2.0</td>\n",
       "      <td>Гатчина</td>\n",
       "      <td>NaN</td>\n",
       "      <td>NaN</td>\n",
       "      <td>NaN</td>\n",
       "      <td>NaN</td>\n",
       "      <td>NaN</td>\n",
       "      <td>NaN</td>\n",
       "      <td>259.0</td>\n",
       "      <td>65217.39</td>\n",
       "    </tr>\n",
       "    <tr>\n",
       "      <th>...</th>\n",
       "      <td>...</td>\n",
       "      <td>...</td>\n",
       "      <td>...</td>\n",
       "      <td>...</td>\n",
       "      <td>...</td>\n",
       "      <td>...</td>\n",
       "      <td>...</td>\n",
       "      <td>...</td>\n",
       "      <td>...</td>\n",
       "      <td>...</td>\n",
       "      <td>...</td>\n",
       "      <td>...</td>\n",
       "      <td>...</td>\n",
       "      <td>...</td>\n",
       "      <td>...</td>\n",
       "      <td>...</td>\n",
       "      <td>...</td>\n",
       "      <td>...</td>\n",
       "      <td>...</td>\n",
       "      <td>...</td>\n",
       "      <td>...</td>\n",
       "    </tr>\n",
       "    <tr>\n",
       "      <th>23346</th>\n",
       "      <td>3</td>\n",
       "      <td>2300000</td>\n",
       "      <td>34.0</td>\n",
       "      <td>2016-06-17</td>\n",
       "      <td>1</td>\n",
       "      <td>2.6</td>\n",
       "      <td>13.0</td>\n",
       "      <td>16.0</td>\n",
       "      <td>13</td>\n",
       "      <td>False</td>\n",
       "      <td>...</td>\n",
       "      <td>0.0</td>\n",
       "      <td>Гатчина</td>\n",
       "      <td>NaN</td>\n",
       "      <td>NaN</td>\n",
       "      <td>NaN</td>\n",
       "      <td>NaN</td>\n",
       "      <td>NaN</td>\n",
       "      <td>NaN</td>\n",
       "      <td>197.0</td>\n",
       "      <td>67647.06</td>\n",
       "    </tr>\n",
       "    <tr>\n",
       "      <th>23453</th>\n",
       "      <td>5</td>\n",
       "      <td>3000000</td>\n",
       "      <td>55.5</td>\n",
       "      <td>2016-04-13</td>\n",
       "      <td>3</td>\n",
       "      <td>2.6</td>\n",
       "      <td>5.0</td>\n",
       "      <td>37.2</td>\n",
       "      <td>3</td>\n",
       "      <td>False</td>\n",
       "      <td>...</td>\n",
       "      <td>0.0</td>\n",
       "      <td>Гатчина</td>\n",
       "      <td>NaN</td>\n",
       "      <td>NaN</td>\n",
       "      <td>NaN</td>\n",
       "      <td>NaN</td>\n",
       "      <td>NaN</td>\n",
       "      <td>NaN</td>\n",
       "      <td>161.0</td>\n",
       "      <td>54054.05</td>\n",
       "    </tr>\n",
       "    <tr>\n",
       "      <th>23477</th>\n",
       "      <td>3</td>\n",
       "      <td>1450000</td>\n",
       "      <td>138.0</td>\n",
       "      <td>2018-07-06</td>\n",
       "      <td>3</td>\n",
       "      <td>2.6</td>\n",
       "      <td>2.0</td>\n",
       "      <td>58.0</td>\n",
       "      <td>2</td>\n",
       "      <td>True</td>\n",
       "      <td>...</td>\n",
       "      <td>0.0</td>\n",
       "      <td>Гатчина</td>\n",
       "      <td>NaN</td>\n",
       "      <td>NaN</td>\n",
       "      <td>NaN</td>\n",
       "      <td>NaN</td>\n",
       "      <td>NaN</td>\n",
       "      <td>NaN</td>\n",
       "      <td>52.0</td>\n",
       "      <td>10507.25</td>\n",
       "    </tr>\n",
       "    <tr>\n",
       "      <th>23530</th>\n",
       "      <td>0</td>\n",
       "      <td>3000000</td>\n",
       "      <td>30.0</td>\n",
       "      <td>2018-03-28</td>\n",
       "      <td>1</td>\n",
       "      <td>2.6</td>\n",
       "      <td>5.0</td>\n",
       "      <td>NaN</td>\n",
       "      <td>3</td>\n",
       "      <td>True</td>\n",
       "      <td>...</td>\n",
       "      <td>0.0</td>\n",
       "      <td>Гатчина</td>\n",
       "      <td>NaN</td>\n",
       "      <td>NaN</td>\n",
       "      <td>NaN</td>\n",
       "      <td>NaN</td>\n",
       "      <td>NaN</td>\n",
       "      <td>NaN</td>\n",
       "      <td>45.0</td>\n",
       "      <td>100000.00</td>\n",
       "    </tr>\n",
       "    <tr>\n",
       "      <th>23556</th>\n",
       "      <td>10</td>\n",
       "      <td>3200000</td>\n",
       "      <td>49.1</td>\n",
       "      <td>2016-03-09</td>\n",
       "      <td>2</td>\n",
       "      <td>2.6</td>\n",
       "      <td>8.0</td>\n",
       "      <td>29.0</td>\n",
       "      <td>3</td>\n",
       "      <td>True</td>\n",
       "      <td>...</td>\n",
       "      <td>1.0</td>\n",
       "      <td>Гатчина</td>\n",
       "      <td>NaN</td>\n",
       "      <td>NaN</td>\n",
       "      <td>NaN</td>\n",
       "      <td>NaN</td>\n",
       "      <td>NaN</td>\n",
       "      <td>NaN</td>\n",
       "      <td>204.0</td>\n",
       "      <td>65173.12</td>\n",
       "    </tr>\n",
       "  </tbody>\n",
       "</table>\n",
       "<p>307 rows × 23 columns</p>\n",
       "</div>"
      ],
      "text/plain": [
       "       total_images  last_price  total_area first_day_exposition  rooms  \\\n",
       "47               17     3600000        56.1           2018-10-18      3   \n",
       "64               13     3100000        44.3           2017-11-07      2   \n",
       "174               8     2100000        31.6           2018-10-16      1   \n",
       "298               9     2650000        42.8           2017-04-25      2   \n",
       "355              17     3600000        55.2           2018-07-12      2   \n",
       "...             ...         ...         ...                  ...    ...   \n",
       "23346             3     2300000        34.0           2016-06-17      1   \n",
       "23453             5     3000000        55.5           2016-04-13      3   \n",
       "23477             3     1450000       138.0           2018-07-06      3   \n",
       "23530             0     3000000        30.0           2018-03-28      1   \n",
       "23556            10     3200000        49.1           2016-03-09      2   \n",
       "\n",
       "       ceiling_height  floors_total  living_area  floor  is_apartment  ...  \\\n",
       "47                2.6           4.0         42.5      3          True  ...   \n",
       "64                2.5           5.0         29.0      5          True  ...   \n",
       "174               2.6           5.0         17.5      4          True  ...   \n",
       "298               2.6           5.0         30.0      3          True  ...   \n",
       "355               2.5           5.0         32.0      2         False  ...   \n",
       "...               ...           ...          ...    ...           ...  ...   \n",
       "23346             2.6          13.0         16.0     13         False  ...   \n",
       "23453             2.6           5.0         37.2      3         False  ...   \n",
       "23477             2.6           2.0         58.0      2          True  ...   \n",
       "23530             2.6           5.0          NaN      3          True  ...   \n",
       "23556             2.6           8.0         29.0      3          True  ...   \n",
       "\n",
       "       balcony  locality_name  airports_nearest  cityCenters_nearest  \\\n",
       "47         1.0        Гатчина               NaN                  NaN   \n",
       "64         0.0        Гатчина               NaN                  NaN   \n",
       "174        1.0        Гатчина               NaN                  NaN   \n",
       "298        0.0        Гатчина               NaN                  NaN   \n",
       "355        2.0        Гатчина               NaN                  NaN   \n",
       "...        ...            ...               ...                  ...   \n",
       "23346      0.0        Гатчина               NaN                  NaN   \n",
       "23453      0.0        Гатчина               NaN                  NaN   \n",
       "23477      0.0        Гатчина               NaN                  NaN   \n",
       "23530      0.0        Гатчина               NaN                  NaN   \n",
       "23556      1.0        Гатчина               NaN                  NaN   \n",
       "\n",
       "      parks_around3000  parks_nearest  ponds_around3000  ponds_nearest  \\\n",
       "47                 NaN            NaN               NaN            NaN   \n",
       "64                 NaN            NaN               NaN            NaN   \n",
       "174                NaN            NaN               NaN            NaN   \n",
       "298                NaN            NaN               NaN            NaN   \n",
       "355                NaN            NaN               NaN            NaN   \n",
       "...                ...            ...               ...            ...   \n",
       "23346              NaN            NaN               NaN            NaN   \n",
       "23453              NaN            NaN               NaN            NaN   \n",
       "23477              NaN            NaN               NaN            NaN   \n",
       "23530              NaN            NaN               NaN            NaN   \n",
       "23556              NaN            NaN               NaN            NaN   \n",
       "\n",
       "       days_exposition  price_onr_metr  \n",
       "47               179.0        64171.12  \n",
       "64               143.0        69977.43  \n",
       "174               37.0        66455.70  \n",
       "298               49.0        61915.89  \n",
       "355              259.0        65217.39  \n",
       "...                ...             ...  \n",
       "23346            197.0        67647.06  \n",
       "23453            161.0        54054.05  \n",
       "23477             52.0        10507.25  \n",
       "23530             45.0       100000.00  \n",
       "23556            204.0        65173.12  \n",
       "\n",
       "[307 rows x 23 columns]"
      ]
     },
     "execution_count": 11,
     "metadata": {},
     "output_type": "execute_result"
    }
   ],
   "source": [
    "data[data['locality_name']== 'Гатчина'].query('ceiling_height == ceiling_height') "
   ]
  },
  {
   "cell_type": "code",
   "execution_count": 12,
   "id": "8e59b85d-50d1-4532-a168-7ad80942cb2e",
   "metadata": {},
   "outputs": [],
   "source": [
    "data['month_publication'] = pd.DatetimeIndex(data['first_day_exposition']).month    # новый столбец с значением месяца\n",
    "data['years_publication'] = pd.DatetimeIndex(data['first_day_exposition']).year     # новый столбец с значением года\n",
    "\n",
    "data['day_of_the_week'] = data['first_day_exposition'].apply(lambda x: x.weekday()) # новый столбец с пересчетом и кодировкой дня недели\n",
    "\n",
    "# меняем кодированные значение дней недели на текстовые.\n",
    "dict_of_weekdays = {0: 'понедельник', 1: 'вторник', 2: 'среда', 3: 'четверг', \n",
    "                    4: 'пятница', 5: 'суббота', 6: 'воскресенье'}\n",
    "\n",
    "data['day_of_the_week'] = data['day_of_the_week'].map(dict_of_weekdays)\n"
   ]
  },
  {
   "cell_type": "markdown",
   "id": "3c40b534-6859-4c48-95a2-7c58aa5e2df6",
   "metadata": {},
   "source": [
    "#### Этажность"
   ]
  },
  {
   "cell_type": "code",
   "execution_count": 13,
   "id": "02d3eeb8-2834-4d0b-acb1-f39e6166377d",
   "metadata": {},
   "outputs": [],
   "source": [
    "\n",
    "def floor(row):\n",
    "    floors_total = row['floors_total']\n",
    "    floor = row['floor']\n",
    "    if floor == 1:\n",
    "        return 'первый'\n",
    "    elif floor == floors_total:\n",
    "        return 'последний'\n",
    "    elif 1 < floor < floors_total:\n",
    "        return 'другой'\n",
    "    \n",
    "\n",
    "data['level'] = data.apply(floor, axis = 1)"
   ]
  },
  {
   "cell_type": "markdown",
   "id": "d18ee1f8-7eaf-4986-b66c-ebdcae11707d",
   "metadata": {},
   "source": [
    "**Расстояние до центра города переведите метры в км и округляем**"
   ]
  },
  {
   "cell_type": "code",
   "execution_count": 14,
   "id": "4c8b92aa-554f-4306-b5bc-433f9f479d8b",
   "metadata": {},
   "outputs": [],
   "source": [
    "data['cityCenters_nearest'] = (data['cityCenters_nearest']/1000).round() "
   ]
  },
  {
   "cell_type": "markdown",
   "id": "37aaa7df",
   "metadata": {},
   "source": [
    "<div class=\"alert alert-block alert-success\">✔️\n",
    "    \n",
    "\n",
    "__Комментарий от ревьюера №2__\n",
    "\n",
    "Этот раздел выполнен качественно\n",
    "</div>"
   ]
  },
  {
   "cell_type": "markdown",
   "id": "cc183499-54a8-40d2-bdc8-23cb3cc04693",
   "metadata": {},
   "source": [
    "## **Шаг 4. Проведите исследовательский анализ данных:**"
   ]
  },
  {
   "cell_type": "code",
   "execution_count": 15,
   "id": "5df16a19-2e7b-4349-b2d4-a7cdff3a181f",
   "metadata": {},
   "outputs": [
    {
     "name": "stdout",
     "output_type": "stream",
     "text": [
      "count    23699.000000\n",
      "mean        60.348635\n",
      "std         35.654086\n",
      "min         12.000000\n",
      "25%         40.000000\n",
      "50%         52.000000\n",
      "75%         69.900000\n",
      "max        900.000000\n",
      "Name: total_area, dtype: float64\n"
     ]
    },
    {
     "data": {
      "image/png": "[encoded data removed]",
      "text/plain": [
       "<Figure size 360x216 with 1 Axes>"
      ]
     },
     "metadata": {
      "needs_background": "light"
     },
     "output_type": "display_data"
    }
   ],
   "source": [
    "print(data['total_area'].describe())\n",
    "pass\n",
    "data['total_area'].plot(xlabel='Общая площадь', ylabel='Кол-во',\n",
    "                        kind='hist',\n",
    "                        bins = 100,\n",
    "                        grid=True,\n",
    "                        figsize = (5,3),\n",
    "                        range = (0,300),\n",
    "                        title='График распределения',\n",
    "                      );"
   ]
  },
  {
   "cell_type": "markdown",
   "id": "b4e2895a",
   "metadata": {},
   "source": [
    "<div class=\"alert alert-block alert-success\">✔️\n",
    "    \n",
    "\n",
    "__Комментарий от ревьюера №1__\n",
    "\n",
    "Здорово, что используешь метод range() для определения пиковых значений\n",
    "</div>"
   ]
  },
  {
   "cell_type": "markdown",
   "id": "3a2d7cad-0982-4039-bdb8-96847669c738",
   "metadata": {},
   "source": [
    "**Распределение параметра \"Общая площадь\" нормальное есть анамальные значение но они их не много и существенного влияния не оказывают**"
   ]
  },
  {
   "cell_type": "code",
   "execution_count": 16,
   "id": "09f99780-6def-4134-9503-e11f95c410d4",
   "metadata": {},
   "outputs": [
    {
     "name": "stdout",
     "output_type": "stream",
     "text": [
      "count    21796.000000\n",
      "mean        34.457878\n",
      "std         22.030420\n",
      "min          2.000000\n",
      "25%         18.600000\n",
      "50%         30.000000\n",
      "75%         42.300000\n",
      "max        409.700000\n",
      "Name: living_area, dtype: float64\n"
     ]
    },
    {
     "data": {
      "image/png": "[encoded data removed]",
      "text/plain": [
       "<Figure size 360x216 with 1 Axes>"
      ]
     },
     "metadata": {
      "needs_background": "light"
     },
     "output_type": "display_data"
    }
   ],
   "source": [
    "print(data['living_area'].describe())\n",
    "data['living_area'].plot(xlabel='Жилая площадь', ylabel='Кол-во',\n",
    "                        kind='hist',\n",
    "                        bins = 100,\n",
    "                        grid=True,\n",
    "                        figsize = (5,3),\n",
    "                        range = (0,200),\n",
    "                        title='График распределения',\n",
    "                      )\n",
    "pass"
   ]
  },
  {
   "cell_type": "markdown",
   "id": "570b8d4a-248b-4443-849e-631ec91aa0cb",
   "metadata": {},
   "source": [
    "**Распределение значения \"Жилая площадь\" похоже на параметр \"Общая площадь\". Есть анамальные значения но их мало и игнорирование их не повлияет на объективность данных.**"
   ]
  },
  {
   "cell_type": "code",
   "execution_count": 17,
   "id": "beea6cfb-8a48-43bf-9955-ad882cd4152d",
   "metadata": {},
   "outputs": [
    {
     "name": "stdout",
     "output_type": "stream",
     "text": [
      "count    21421.000000\n",
      "mean        10.569754\n",
      "std          5.905448\n",
      "min          1.300000\n",
      "25%          7.000000\n",
      "50%          9.100000\n",
      "75%         12.000000\n",
      "max        112.000000\n",
      "Name: kitchen_area, dtype: float64\n"
     ]
    },
    {
     "data": {
      "image/png": "[encoded data removed]",
      "text/plain": [
       "<Figure size 360x216 with 1 Axes>"
      ]
     },
     "metadata": {
      "needs_background": "light"
     },
     "output_type": "display_data"
    }
   ],
   "source": [
    "print(data['kitchen_area'].describe())\n",
    "data['kitchen_area'].plot(xlabel='Площадь кухни', ylabel='Кол-во',\n",
    "                        kind='hist',\n",
    "                        bins = 50,\n",
    "                        grid=True,\n",
    "                        figsize = (5,3),\n",
    "                        range = (0,100),\n",
    "                        title='График распределения',\n",
    "                      )\n",
    "pass"
   ]
  },
  {
   "cell_type": "markdown",
   "id": "9c3cfa7c-a2cf-4e30-94a8-284fb512ecb8",
   "metadata": {},
   "source": [
    "**Площадь кухни таже поддается логике, хоть есть и невероятные 112 метров но они не оказывают существенного влияния но общую картину.**"
   ]
  },
  {
   "cell_type": "code",
   "execution_count": 18,
   "id": "c4f0d8f6-c96c-4a68-9495-396e53ab849a",
   "metadata": {},
   "outputs": [],
   "source": [
    "data['last_price']  = (data[data['last_price'].notnull()]['last_price']/1000*1.0).round().astype(int) #приводим к более удобнову виду"
   ]
  },
  {
   "cell_type": "code",
   "execution_count": 19,
   "id": "10642b8e-f799-4641-a973-68bbafb8a162",
   "metadata": {},
   "outputs": [
    {
     "name": "stdout",
     "output_type": "stream",
     "text": [
      "count     23699.000000\n",
      "mean       6541.548800\n",
      "std       10887.012837\n",
      "min          12.000000\n",
      "25%        3400.000000\n",
      "50%        4650.000000\n",
      "75%        6800.000000\n",
      "max      763000.000000\n",
      "Name: last_price, dtype: float64\n"
     ]
    },
    {
     "data": {
      "image/png": "[encoded data removed]",
      "text/plain": [
       "<Figure size 360x216 with 1 Axes>"
      ]
     },
     "metadata": {
      "needs_background": "light"
     },
     "output_type": "display_data"
    }
   ],
   "source": [
    "print(data['last_price'].describe())\n",
    "data['last_price'].plot(xlabel='Цена', ylabel='Кол-во',\n",
    "                        kind='hist',\n",
    "                        bins = 30,\n",
    "                        grid=True,\n",
    "                        figsize = (5,3),\n",
    "                        range = (0,15000),\n",
    "                        title='График распределения стоимости',\n",
    "                      )\n",
    "pass"
   ]
  },
  {
   "cell_type": "markdown",
   "id": "a3e6c255-08d1-4451-8dd9-a5d1f851c602",
   "metadata": {},
   "source": [
    "**Стоимость распределяется вполне ожидаемо максимальное колличество обьявнений о продаже в среднем ценовом диапозоне.**"
   ]
  },
  {
   "cell_type": "markdown",
   "id": "cb77de3e-5967-4ee1-a915-2be90de2787c",
   "metadata": {},
   "source": []
  },
  {
   "cell_type": "code",
   "execution_count": 20,
   "id": "a224a012-9fb8-43b4-812b-92d8e9843803",
   "metadata": {},
   "outputs": [
    {
     "name": "stdout",
     "output_type": "stream",
     "text": [
      "count    23699.000000\n",
      "mean         2.680980\n",
      "std          0.243404\n",
      "min          1.000000\n",
      "25%          2.600000\n",
      "50%          2.600000\n",
      "75%          2.700000\n",
      "max         10.000000\n",
      "Name: ceiling_height, dtype: float64\n"
     ]
    },
    {
     "data": {
      "image/png": "[encoded data removed]",
      "text/plain": [
       "<Figure size 360x216 with 1 Axes>"
      ]
     },
     "metadata": {
      "needs_background": "light"
     },
     "output_type": "display_data"
    }
   ],
   "source": [
    "print(data['ceiling_height'].describe())\n",
    "data['ceiling_height'].plot(xlabel='Высота потолка', ylabel='Кол-во',\n",
    "                        kind='hist',\n",
    "                        bins = 10,\n",
    "                        grid=True,\n",
    "                        figsize = (5,3),\n",
    "                        range = (1,5),\n",
    "                        title='График высот потолков',\n",
    "                        edgecolor='black'\n",
    "                      )\n",
    "pass"
   ]
  },
  {
   "cell_type": "markdown",
   "id": "d42fe8f5-4616-4021-b1b5-82b22bbf3507",
   "metadata": {},
   "source": [
    "**Высота потолков тоже не удивила, можно предположить что приобладают типовые виды недвижимости.**"
   ]
  },
  {
   "cell_type": "code",
   "execution_count": 21,
   "id": "858db75a",
   "metadata": {},
   "outputs": [
    {
     "name": "stdout",
     "output_type": "stream",
     "text": [
      "count    23699.000000\n",
      "mean        60.348635\n",
      "std         35.654086\n",
      "min         12.000000\n",
      "25%         40.000000\n",
      "50%         52.000000\n",
      "75%         69.900000\n",
      "max        900.000000\n",
      "Name: total_area, dtype: float64\n"
     ]
    },
    {
     "data": {
      "image/png": "[encoded data removed]",
      "text/plain": [
       "<Figure size 360x216 with 1 Axes>"
      ]
     },
     "metadata": {
      "needs_background": "light"
     },
     "output_type": "display_data"
    }
   ],
   "source": [
    "print(data['total_area'].describe())\n",
    "pass\n",
    "data['total_area'].plot(xlabel='Общая площадь', ylabel='Кол-во',\n",
    "                        kind='hist',\n",
    "                        bins = 100,\n",
    "                        grid=True,\n",
    "                        figsize = (5,3),\n",
    "                        range = (0,300),\n",
    "                        title='График распределения',\n",
    "                      );"
   ]
  },
  {
   "cell_type": "markdown",
   "id": "7542c2ad-ec16-4caa-8f37-18035c523017",
   "metadata": {},
   "source": [
    "**Общая площадь подтвердила предположение о приобладании типового жилья, максимальное кол-во оъявлений находится от 35 до 70 кв.м**"
   ]
  },
  {
   "cell_type": "code",
   "execution_count": 22,
   "id": "b144eaaf-ab40-493c-9597-b5a6fc594c99",
   "metadata": {},
   "outputs": [
    {
     "name": "stdout",
     "output_type": "stream",
     "text": [
      "count    23699.000000\n",
      "mean         2.070636\n",
      "std          1.078405\n",
      "min          0.000000\n",
      "25%          1.000000\n",
      "50%          2.000000\n",
      "75%          3.000000\n",
      "max         19.000000\n",
      "Name: rooms, dtype: float64\n"
     ]
    },
    {
     "data": {
      "image/png": "[encoded data removed]",
      "text/plain": [
       "<Figure size 360x216 with 1 Axes>"
      ]
     },
     "metadata": {
      "needs_background": "light"
     },
     "output_type": "display_data"
    }
   ],
   "source": [
    "print(data['rooms'].describe())\n",
    "data['rooms'].plot(xlabel='кол-во комнат', ylabel='Кол-во',\n",
    "                        kind='hist',\n",
    "                        bins = 10,\n",
    "                        grid=True,\n",
    "                        figsize = (5,3),\n",
    "                        range = (1,5),\n",
    "                        title='График количество комнат',\n",
    "                        edgecolor='black'\n",
    "                      )\n",
    "pass"
   ]
  },
  {
   "cell_type": "markdown",
   "id": "c4e558a7-e595-4a33-bab3-b341fb088fe0",
   "metadata": {},
   "source": [
    "**На графики видно что максимальное кол-во это однокомнатные и это подтверждает стоимость и прощадь, следом двух комнатные и завершает тройку с существенным снижение результата трех комнатные.**"
   ]
  },
  {
   "cell_type": "code",
   "execution_count": 23,
   "id": "80a82e75-21fd-4a45-be21-204a771a9721",
   "metadata": {},
   "outputs": [
    {
     "name": "stdout",
     "output_type": "stream",
     "text": [
      "count    23613.000000\n",
      "mean        10.673824\n",
      "std          6.597173\n",
      "min          1.000000\n",
      "25%          5.000000\n",
      "50%          9.000000\n",
      "75%         16.000000\n",
      "max         60.000000\n",
      "Name: floors_total, dtype: float64\n"
     ]
    },
    {
     "data": {
      "image/png": "[encoded data removed]",
      "text/plain": [
       "<Figure size 360x216 with 1 Axes>"
      ]
     },
     "metadata": {
      "needs_background": "light"
     },
     "output_type": "display_data"
    }
   ],
   "source": [
    "print(data['floors_total'].describe())\n",
    "data['floors_total'].plot(xlabel='общее кол-во этажей в доме', ylabel='Кол-во',\n",
    "                        kind='hist',\n",
    "                        bins = 10,\n",
    "                        grid=True,\n",
    "                        figsize = (5,3),\n",
    "                        range = (1,20),\n",
    "                        title='График обще количества этажей в доме',\n",
    "                        edgecolor='black'\n",
    "                      )\n",
    "pass"
   ]
  },
  {
   "cell_type": "markdown",
   "id": "02e07e8a-121c-4802-b004-3448832f3f94",
   "metadata": {},
   "source": [
    "**Можно предположить что продоют воскновном квартири в многоэтажных домах, времен советской постройки.**"
   ]
  },
  {
   "cell_type": "code",
   "execution_count": 24,
   "id": "1ff7ffdc-94f0-4ff9-93ab-30d87c733f4e",
   "metadata": {},
   "outputs": [
    {
     "name": "stdout",
     "output_type": "stream",
     "text": [
      "count    18180.000000\n",
      "mean        14.184818\n",
      "std          8.616194\n",
      "min          0.000000\n",
      "25%          9.000000\n",
      "50%         13.000000\n",
      "75%         16.000000\n",
      "max         66.000000\n",
      "Name: cityCenters_nearest, dtype: float64\n"
     ]
    },
    {
     "data": {
      "image/png": "[encoded data removed]",
      "text/plain": [
       "<Figure size 360x216 with 1 Axes>"
      ]
     },
     "metadata": {
      "needs_background": "light"
     },
     "output_type": "display_data"
    }
   ],
   "source": [
    "print(data['cityCenters_nearest'].describe())\n",
    "data['cityCenters_nearest'].plot(xlabel='расстояние до центра города', ylabel='Кол-во',\n",
    "                        kind='hist',\n",
    "                        bins = 30,\n",
    "                        grid=True,\n",
    "                        figsize = (5,3),\n",
    "                        range = (1,50),\n",
    "                        title='График расстояния до центра города',\n",
    "                        edgecolor='black'\n",
    "                      )\n",
    "pass"
   ]
  },
  {
   "cell_type": "markdown",
   "id": "69bacc8e-61e3-43e4-ac3f-9d95e9d7109a",
   "metadata": {},
   "source": [
    "**Оснавная недвижимость продается в спальных районах.**"
   ]
  },
  {
   "cell_type": "code",
   "execution_count": 25,
   "id": "3de1a0e8-059e-4462-9c0a-2948cace3d95",
   "metadata": {},
   "outputs": [
    {
     "name": "stdout",
     "output_type": "stream",
     "text": [
      "count    8079.000000\n",
      "mean      490.804555\n",
      "std       342.317995\n",
      "min         1.000000\n",
      "25%       288.000000\n",
      "50%       455.000000\n",
      "75%       612.000000\n",
      "max      3190.000000\n",
      "Name: parks_nearest, dtype: float64\n"
     ]
    },
    {
     "data": {
      "image/png": "[encoded data removed]",
      "text/plain": [
       "<Figure size 360x216 with 1 Axes>"
      ]
     },
     "metadata": {
      "needs_background": "light"
     },
     "output_type": "display_data"
    }
   ],
   "source": [
    "print(data['parks_nearest'].describe())\n",
    "data['parks_nearest'].plot(xlabel='расстояние до ближайшего парка', ylabel='Кол-во',\n",
    "                        kind='hist',\n",
    "                        bins = 30,\n",
    "                        grid=True,\n",
    "                        figsize = (5,3),\n",
    "                        range = (1,1000),\n",
    "                        title='График расстояния до ближайшего парка',\n",
    "                        edgecolor='black'\n",
    "                            )\n",
    "pass"
   ]
  },
  {
   "cell_type": "markdown",
   "id": "516d18fe-e351-4c96-854b-b10f28c7c405",
   "metadata": {},
   "source": [
    "**Самые многочисленные обьявлении о продаже находятся на удалении от 300 до 700 метром от парка.**"
   ]
  },
  {
   "cell_type": "code",
   "execution_count": 26,
   "id": "1ba07738-0c74-4340-bde8-2af10567cc6b",
   "metadata": {},
   "outputs": [
    {
     "name": "stdout",
     "output_type": "stream",
     "text": [
      "count    8079.000000\n",
      "mean      490.804555\n",
      "std       342.317995\n",
      "min         1.000000\n",
      "25%       288.000000\n",
      "50%       455.000000\n",
      "75%       612.000000\n",
      "max      3190.000000\n",
      "Name: parks_nearest, dtype: float64\n"
     ]
    },
    {
     "data": {
      "image/png": "[encoded data removed]",
      "text/plain": [
       "<Figure size 432x288 with 1 Axes>"
      ]
     },
     "metadata": {
      "needs_background": "light"
     },
     "output_type": "display_data"
    }
   ],
   "source": [
    "print(data['parks_nearest'].describe())\n",
    "sns.countplot(data=data, x='level')\n",
    "pass"
   ]
  },
  {
   "cell_type": "markdown",
   "id": "f8c882b0-883a-420d-9d06-1bef55704748",
   "metadata": {},
   "source": [
    "**По имеющимся данным коих давольно мало мы видим что преобладает не первый и последний этаж, но данные не полные и ситуация может изменится с учетом одноэтажного и частного жилищного фонда. Можно предположить что продовци частного жилья не указывали этажность.**"
   ]
  },
  {
   "cell_type": "markdown",
   "id": "44b985e7-2de6-4671-9271-c35bd1eb3329",
   "metadata": {},
   "source": [
    "# Изучите, как быстро продавались квартиры (столбец days_exposition).\n",
    "  Этот параметр показывает, сколько дней было размещено каждое объявление.\n",
    "    Постройте гистограмму.\n",
    "  Посчитайте среднее и медиану.\n",
    "  В ячейке типа markdown опишите, сколько времени обычно занимает продажа.\n",
    "  Какие продажи можно считать быстрыми, а какие — необычно долгими?"
   ]
  },
  {
   "cell_type": "code",
   "execution_count": 27,
   "id": "f80023de",
   "metadata": {},
   "outputs": [
    {
     "name": "stdout",
     "output_type": "stream",
     "text": [
      "count    20518.000000\n",
      "mean       180.888634\n",
      "std        219.727988\n",
      "min          1.000000\n",
      "25%         45.000000\n",
      "50%         95.000000\n",
      "75%        232.000000\n",
      "max       1580.000000\n",
      "Name: days_exposition, dtype: float64\n"
     ]
    },
    {
     "data": {
      "image/png": "[encoded data removed]",
      "text/plain": [
       "<Figure size 576x216 with 1 Axes>"
      ]
     },
     "metadata": {
      "needs_background": "light"
     },
     "output_type": "display_data"
    }
   ],
   "source": [
    "print(data['days_exposition'].describe())\n",
    "data['days_exposition'].plot(xlabel='Срок продажи', ylabel='Кол-во',\n",
    "                        kind='hist',\n",
    "                        bins = 100,\n",
    "                        grid=True,\n",
    "                        figsize = (8,3),\n",
    "                        range = (1,1000),\n",
    "                        title='Время продажи',\n",
    "                        edgecolor='black'\n",
    "                            )\n",
    "pass\n"
   ]
  },
  {
   "cell_type": "markdown",
   "id": "d3d7edc2-be2b-4814-b28d-2bfa2249d85a",
   "metadata": {},
   "source": [
    "**Из графика и полученных данных видно что среднее время продажи 180 дней хотя медианное состовляет 95 дней, очевидно что \"проблемное\" жильё сильно усредняет время. \n",
    "Большая часть квартир продавалась в течение первых 50 дней, есть и квартиры, которые продавались до года**\n",
    " \n"
   ]
  },
  {
   "cell_type": "markdown",
   "id": "14be6534-ecca-4943-9af2-c6c13deddda9",
   "metadata": {},
   "source": [
    " построим Violin plot"
   ]
  },
  {
   "cell_type": "code",
   "execution_count": 28,
   "id": "40188c5a-83aa-432c-944c-097e4396d873",
   "metadata": {},
   "outputs": [
    {
     "data": {
      "image/png": "[encoded data removed]",
      "text/plain": [
       "<Figure size 432x288 with 1 Axes>"
      ]
     },
     "metadata": {
      "needs_background": "light"
     },
     "output_type": "display_data"
    }
   ],
   "source": [
    "sns.violinplot(x=data['days_exposition'])\n",
    "pass"
   ]
  },
  {
   "cell_type": "markdown",
   "id": "4f4e6abc-3a69-4727-98e7-f8bf0f4d2e45",
   "metadata": {},
   "source": [
    "**Ограничу срок продажи 500 днями, чтоб убрать выбросы. Посмотрим на данные более детально:**"
   ]
  },
  {
   "cell_type": "code",
   "execution_count": 29,
   "id": "3fe63ec9-1a30-4eea-9dc0-62af94564158",
   "metadata": {},
   "outputs": [
    {
     "data": {
      "image/png": "[encoded data removed]",
      "text/plain": [
       "<Figure size 576x216 with 1 Axes>"
      ]
     },
     "metadata": {
      "needs_background": "light"
     },
     "output_type": "display_data"
    }
   ],
   "source": [
    "data.query('days_exposition<500')['days_exposition'].plot(xlabel='Срок продажи до  500 дней', ylabel='Кол-во',\n",
    "                        kind='hist',\n",
    "                        bins = 70,\n",
    "                        grid=True,\n",
    "                        figsize = (8,3),\n",
    "                        title='Время продажи',\n",
    "                        edgecolor='black'\n",
    "                            )\n",
    "pass"
   ]
  },
  {
   "cell_type": "markdown",
   "id": "2ff7fde9-800a-4978-bda6-972fe5568a09",
   "metadata": {},
   "source": [
    "**Чаще всего квартиры продаются в срок от 45 до 60 дней их можно считать быстрыми продажами, а вот от 200 и далее можно считать долгими.\n",
    "смущает наличие пиков**"
   ]
  },
  {
   "cell_type": "code",
   "execution_count": 30,
   "id": "c216032f-1927-4162-a482-2662a3c1dabc",
   "metadata": {},
   "outputs": [
    {
     "data": {
      "image/png": "[encoded data removed]",
      "text/plain": [
       "<Figure size 720x216 with 1 Axes>"
      ]
     },
     "metadata": {
      "needs_background": "light"
     },
     "output_type": "display_data"
    }
   ],
   "source": [
    "data.query('20<days_exposition<95')['days_exposition'].plot(kind='hist', bins=150, figsize=(10,3), edgecolor='black', grid=True)\n",
    "pass"
   ]
  },
  {
   "cell_type": "markdown",
   "id": "6c81691d-06fa-4555-946b-c902c70f92a3",
   "metadata": {},
   "source": [
    "**Основтные пики каждые 15 дней 30-45-60-75-90, сладывается ощущение что оператор проверяет статус недвижимасти раз в 15 дней.**"
   ]
  },
  {
   "cell_type": "markdown",
   "id": "a834f684-6601-4a55-925b-1e0f5a36f303",
   "metadata": {},
   "source": [
    "# **Какие факторы больше всего влияют на общую (полную) стоимость объекта?**\n",
    "  Изучите, зависит ли цена от:\n",
    "1) общей площади;\n",
    "2) жилой площади;\n",
    "3) площади кухни;\n",
    "4) количества комнат;\n",
    "5) этажа, на котором расположена квартира (первый, последний, другой);\n",
    "6) даты размещения (день недели, месяц, год).\n",
    ") Постройте графики, которые покажут зависимость цены от указанных выше параметров. Для подготовки данных перед визуализацией вы можете использовать сводные таблицы."
   ]
  },
  {
   "cell_type": "markdown",
   "id": "b5faad0d-8f21-4d44-b073-f7c745c01b29",
   "metadata": {},
   "source": [
    "### Зависимость стоимости от общей площади"
   ]
  },
  {
   "cell_type": "code",
   "execution_count": 31,
   "id": "26d98a4c-dddc-453b-9746-f01127af820e",
   "metadata": {},
   "outputs": [
    {
     "data": {
      "text/plain": [
       "0.6536750004256715"
      ]
     },
     "execution_count": 31,
     "metadata": {},
     "output_type": "execute_result"
    },
    {
     "data": {
      "image/png": "[encoded data removed]",
      "text/plain": [
       "<Figure size 432x288 with 1 Axes>"
      ]
     },
     "metadata": {
      "needs_background": "light"
     },
     "output_type": "display_data"
    }
   ],
   "source": [
    "#pivot_table_total_area = data.pivot_table(index = 'total_area', values = 'last_price', aggfunc = ['mean', 'count', 'median'])\n",
    "#pivot_table_total_area.columns = ['mean', 'count', 'median']\n",
    "#pivot_table_total_area.query('count > 50').plot(kind = 'scatter', x = 'mean', y = 'median', xlabel='Общая площадь', title = 'Зависимость стоимости от общей площади', grid=True,)\n",
    "\n",
    "data.plot(kind = 'scatter', y = 'last_price', x ='total_area' , alpha = 0.3,  ylabel = 'стоимость', title = 'Зависимость стоимости от общей площади', grid=True,)\n",
    "\n",
    "pass\n",
    "data['last_price'].corr(data['total_area'])"
   ]
  },
  {
   "cell_type": "markdown",
   "id": "bafa8e22-fa0e-4157-b302-82f07ad635db",
   "metadata": {},
   "source": [
    "**Чем больше площадь тем дороже недвижимость. Давольноровная корреляция, есть небольшое откланение в сторону не стандартного жилья**"
   ]
  },
  {
   "cell_type": "markdown",
   "id": "5d90d132-e3d9-4643-a81d-16003cb47a81",
   "metadata": {},
   "source": [
    "**Зависимость стоимости от жилой площади**"
   ]
  },
  {
   "cell_type": "code",
   "execution_count": 32,
   "id": "8439f3b0-a856-47b5-a5b3-bd8c382a8cc9",
   "metadata": {},
   "outputs": [
    {
     "data": {
      "text/plain": [
       "0.9395375885559856"
      ]
     },
     "execution_count": 32,
     "metadata": {},
     "output_type": "execute_result"
    },
    {
     "data": {
      "image/png": "[encoded data removed]",
      "text/plain": [
       "<Figure size 432x288 with 1 Axes>"
      ]
     },
     "metadata": {
      "needs_background": "light"
     },
     "output_type": "display_data"
    }
   ],
   "source": [
    "#pivot_table_living_area = data.pivot_table(index = 'living_area', values = 'last_price', aggfunc = ['mean','count','median'])\n",
    "#pivot_table_living_area.columns = ['mean','count','median']\n",
    "#pivot_table_living_area.query('count>50').plot(kind = 'scatter', x = 'mean', y='median',xlabel='Жилая площадь', title = 'Зависимость стоимости от жилой площади', grid=True)\n",
    "data.plot(kind = 'scatter', x = 'living_area', y ='last_price' , alpha = 0.3, ylabel = 'стоимость', xlabel='жилая площадь', title = 'Зависимость стоимости от жилой площади', grid=True)\n",
    "pass\n",
    "data['living_area'].corr(data['total_area'])"
   ]
  },
  {
   "cell_type": "markdown",
   "id": "b8340f1d-9efe-4ced-948f-63bb3752d3b2",
   "metadata": {},
   "source": [
    "**Давльно четкая зависимость прослеживатся, входит в тройку параметров которые оказывают влияние на стоимость жилья.**"
   ]
  },
  {
   "cell_type": "markdown",
   "id": "a656eb79-55b4-4eb4-836f-cc8d7bed61c9",
   "metadata": {},
   "source": [
    "**Зависимость стоимости от площади кухни**"
   ]
  },
  {
   "cell_type": "code",
   "execution_count": 33,
   "id": "c9bb7834-a8a7-48f4-96c0-b64266e1a0f5",
   "metadata": {},
   "outputs": [
    {
     "data": {
      "text/plain": [
       "0.609124111091552"
      ]
     },
     "execution_count": 33,
     "metadata": {},
     "output_type": "execute_result"
    },
    {
     "data": {
      "image/png": "[encoded data removed]",
      "text/plain": [
       "<Figure size 432x288 with 1 Axes>"
      ]
     },
     "metadata": {
      "needs_background": "light"
     },
     "output_type": "display_data"
    }
   ],
   "source": [
    "#pivot_table_living_area = data.pivot_table(index = 'kitchen_area', values = 'last_price', aggfunc = ['mean','count','median'])\n",
    "#pivot_table_living_area.columns = ['mean','count','median']\n",
    "#pivot_table_living_area.query('count>50').plot(kind = 'scatter', x = 'mean', y='median',xlabel='Площади кухни', title = 'Зависимость стоимости от площади кухни', grid=True)\n",
    "data.plot(kind = 'scatter', x = 'kitchen_area', y ='last_price' , alpha = 0.3,  ylabel = 'стоимость', xlabel='Площади кухни', title = 'Зависимость стоимости от площади кухни', grid=True)\n",
    "pass\n",
    "data['kitchen_area'].corr(data['total_area'])"
   ]
  },
  {
   "cell_type": "markdown",
   "id": "fe240d87-92b3-4e2b-934c-86e8c502b9dd",
   "metadata": {},
   "source": [
    "**Пик в районе 16-18 метров видимо вызван сроительством новостроик с большим значением общей площади. Хвост с S=40м2 и более это похоже на комуналку.**"
   ]
  },
  {
   "cell_type": "markdown",
   "id": "a96d8964-ed1b-424b-88c2-b2d455d2c0f5",
   "metadata": {},
   "source": [
    "**Зависимость стоимости от количества комнат;**"
   ]
  },
  {
   "cell_type": "code",
   "execution_count": 34,
   "id": "5803dda5-1ec4-4b90-83e4-88e7cd2b614e",
   "metadata": {},
   "outputs": [
    {
     "data": {
      "image/png": "[encoded data removed]",
      "text/plain": [
       "<Figure size 432x288 with 1 Axes>"
      ]
     },
     "metadata": {
      "needs_background": "light"
     },
     "output_type": "display_data"
    }
   ],
   "source": [
    "pivot_table_living_area = data.pivot_table(index = 'rooms', values = 'last_price', aggfunc = ['mean','count','median'])\n",
    "pivot_table_living_area.columns = ['mean','count','median']\n",
    "pivot_table_living_area.query('count>50').plot( y='median',xlabel='Количества комнат', title = 'Зависимость стоимости от количества комнат', grid=True)\n",
    "pass"
   ]
  },
  {
   "cell_type": "markdown",
   "id": "01317bac-dce4-4135-9c07-3543f6a90540",
   "metadata": {},
   "source": [
    "**Чем больше комнат, тем выше цена - так продолжается до 7 комнат. Далее - единичные значения (выбросы). Вполне возможно, что дальше идут бывшие коммуналки или замки на продажу?**"
   ]
  },
  {
   "cell_type": "markdown",
   "id": "ba5e56e3-5af6-4416-9baa-0082cf58bf6e",
   "metadata": {},
   "source": [
    "**Зависимость стоимости от этажа;**"
   ]
  },
  {
   "cell_type": "code",
   "execution_count": 35,
   "id": "944db002-a3b8-4c8d-bcb2-460321fef0fd",
   "metadata": {},
   "outputs": [
    {
     "data": {
      "image/png": "[encoded data removed]",
      "text/plain": [
       "<Figure size 432x288 with 1 Axes>"
      ]
     },
     "metadata": {
      "needs_background": "light"
     },
     "output_type": "display_data"
    }
   ],
   "source": [
    "pivot_table_living_area = data.pivot_table(index = 'level', values = 'last_price', aggfunc = ['mean','count','median'])\n",
    "pivot_table_living_area.columns = ['mean','count','median']\n",
    "pivot_table_living_area.query('count>50').plot(kind='bar', y='median',xlabel='Этаж', title = 'Зависимость стоимости от этажа', grid=True, ylim=(3500, 5000))\n",
    "pass"
   ]
  },
  {
   "cell_type": "markdown",
   "id": "9f9dcaad-fb04-45f7-8122-5e5d09b1dd28",
   "metadata": {},
   "source": [
    "#### Ожидаемо самый дешевый это первый этаж. На последнем этаже, конечно, подороже, чем на первом, но дешевле чем на других."
   ]
  },
  {
   "cell_type": "markdown",
   "id": "c6d31c52-a06f-4579-add1-70dd49b64f74",
   "metadata": {},
   "source": [
    "**Зависимость стоимости от года**"
   ]
  },
  {
   "cell_type": "code",
   "execution_count": 36,
   "id": "0f800ef8-e916-47cc-8320-5542a877e27c",
   "metadata": {},
   "outputs": [
    {
     "data": {
      "image/png": "[encoded data removed]",
      "text/plain": [
       "<Figure size 720x216 with 1 Axes>"
      ]
     },
     "metadata": {
      "needs_background": "light"
     },
     "output_type": "display_data"
    }
   ],
   "source": [
    "pivot_table_living_area = data.pivot_table(index = 'years_publication', values = 'last_price', aggfunc = ['mean','count','median'])\n",
    "pivot_table_living_area.columns = ['mean','count','median']\n",
    "pivot_table_living_area.query('count>50').plot(kind='bar',y='median',xlabel='Год',  title = 'Зависимость стоимости от года', grid=True,figsize=(10,3))\n",
    "pass\n",
    "\n"
   ]
  },
  {
   "cell_type": "markdown",
   "id": "65c528c0-ab31-4f0b-94df-940109cd5492",
   "metadata": {},
   "source": [
    "**Устойчевое падение вплоть до 2017 года сменилось неуверенным ростом.**"
   ]
  },
  {
   "cell_type": "markdown",
   "id": "1e7f1ec3-0908-464e-9af7-79a2bf8868fe",
   "metadata": {},
   "source": [
    "**Зависимость стоимости от месяца**"
   ]
  },
  {
   "cell_type": "code",
   "execution_count": 37,
   "id": "f91d3d7c-d569-414f-931c-d67cfa099491",
   "metadata": {},
   "outputs": [
    {
     "data": {
      "image/png": "[encoded data removed]",
      "text/plain": [
       "<Figure size 720x216 with 1 Axes>"
      ]
     },
     "metadata": {
      "needs_background": "light"
     },
     "output_type": "display_data"
    }
   ],
   "source": [
    "pivot_table_living_area = data.pivot_table(index = 'month_publication', values = 'last_price', aggfunc = ['mean','count','median'])\n",
    "pivot_table_living_area.columns = ['mean','count','median']\n",
    "pivot_table_living_area.query('count>50').plot(kind='bar',y='median',xlabel='Месяц',  title = 'Зависимость стоимости от месяца', grid=True, ylim=(4200, 5000),figsize=(10,3))\n",
    "pass"
   ]
  },
  {
   "cell_type": "markdown",
   "id": "71fdc6d8-417a-4c70-9938-a2c2cb3d2a66",
   "metadata": {},
   "source": [
    "**Наблюдается давльно явная сезонность летом снижается возможно из-за спроса, можно предоположить что март это месяц выплаты годовых бонусов и как следсвите первоночальный взнос на ипотеку. Как вариант.**"
   ]
  },
  {
   "cell_type": "markdown",
   "id": "3a333101-788b-464c-b626-c3b3365cd413",
   "metadata": {},
   "source": [
    "**Зависимость стоимости от дня недели**"
   ]
  },
  {
   "cell_type": "code",
   "execution_count": 38,
   "id": "6a6975de-2f23-4ebf-9a24-4ecd8003f542",
   "metadata": {},
   "outputs": [
    {
     "data": {
      "image/png": "[encoded data removed]",
      "text/plain": [
       "<Figure size 720x216 with 1 Axes>"
      ]
     },
     "metadata": {
      "needs_background": "light"
     },
     "output_type": "display_data"
    }
   ],
   "source": [
    "pivot_table_living_area = data.pivot_table(index = 'day_of_the_week', values = 'last_price', aggfunc = ['mean','count','median'])\n",
    "pivot_table_living_area.columns = ['mean','count','median']\n",
    "pivot_table_living_area.query('count>50').plot(kind='bar',y='median',xlabel='День недели',  title = 'Зависимость стоимости дня недели', grid=True, ylim=(4000, 5000), figsize=(10,3))\n",
    "pass\n"
   ]
  },
  {
   "cell_type": "markdown",
   "id": "81ca8ea7-fb43-43ab-916c-f9f78adf1f7f",
   "metadata": {},
   "source": [
    "**Зависимость цены от дня недели публикации практически никак не зависит.**  \n",
    "  **Единственное, что можно сказать, так это то, что в среднем цены на квартиры, объявление о продажи которых опубликовано в будний день, чуть выше, чем цена на квартиры с объявлениями, опубликованными в выходные дни.**"
   ]
  },
  {
   "cell_type": "markdown",
   "id": "e40d5995-6576-49e1-a320-88df20424c5f",
   "metadata": {},
   "source": [
    "**Посчитайте среднюю цену**  \n",
    "  одного квадратного метра в 10 населённых пунктах с наибольшим числом объявлений — постройте сводную таблицу с количеством объявлений и средней ценой квадратного метра для этих населенных пунктов. Выделите населённые пункты с самой высокой и низкой стоимостью квадратного метра."
   ]
  },
  {
   "cell_type": "code",
   "execution_count": 39,
   "id": "4dc16093-826f-410e-b3fa-9d439f772fc4",
   "metadata": {},
   "outputs": [
    {
     "data": {
      "text/html": [
       "<div>\n",
       "<style scoped>\n",
       "    .dataframe tbody tr th:only-of-type {\n",
       "        vertical-align: middle;\n",
       "    }\n",
       "\n",
       "    .dataframe tbody tr th {\n",
       "        vertical-align: top;\n",
       "    }\n",
       "\n",
       "    .dataframe thead th {\n",
       "        text-align: right;\n",
       "    }\n",
       "</style>\n",
       "<table border=\"1\" class=\"dataframe\">\n",
       "  <thead>\n",
       "    <tr style=\"text-align: right;\">\n",
       "      <th></th>\n",
       "      <th>count</th>\n",
       "      <th>Средняя цена за кв.м</th>\n",
       "    </tr>\n",
       "    <tr>\n",
       "      <th>locality_name</th>\n",
       "      <th></th>\n",
       "      <th></th>\n",
       "    </tr>\n",
       "  </thead>\n",
       "  <tbody>\n",
       "    <tr>\n",
       "      <th>Санкт-Петербург</th>\n",
       "      <td>15721</td>\n",
       "      <td>104761.900</td>\n",
       "    </tr>\n",
       "    <tr>\n",
       "      <th>поселок Мурино</th>\n",
       "      <td>556</td>\n",
       "      <td>85890.220</td>\n",
       "    </tr>\n",
       "    <tr>\n",
       "      <th>поселок Шушары</th>\n",
       "      <td>440</td>\n",
       "      <td>76876.175</td>\n",
       "    </tr>\n",
       "    <tr>\n",
       "      <th>Всеволожск</th>\n",
       "      <td>398</td>\n",
       "      <td>65789.470</td>\n",
       "    </tr>\n",
       "    <tr>\n",
       "      <th>Пушкин</th>\n",
       "      <td>369</td>\n",
       "      <td>100000.000</td>\n",
       "    </tr>\n",
       "    <tr>\n",
       "      <th>Колпино</th>\n",
       "      <td>338</td>\n",
       "      <td>74723.745</td>\n",
       "    </tr>\n",
       "    <tr>\n",
       "      <th>поселок Парголово</th>\n",
       "      <td>327</td>\n",
       "      <td>91642.860</td>\n",
       "    </tr>\n",
       "    <tr>\n",
       "      <th>Гатчина</th>\n",
       "      <td>307</td>\n",
       "      <td>67796.610</td>\n",
       "    </tr>\n",
       "    <tr>\n",
       "      <th>деревня Кудрово</th>\n",
       "      <td>299</td>\n",
       "      <td>91860.470</td>\n",
       "    </tr>\n",
       "    <tr>\n",
       "      <th>Выборг</th>\n",
       "      <td>237</td>\n",
       "      <td>58158.320</td>\n",
       "    </tr>\n",
       "  </tbody>\n",
       "</table>\n",
       "</div>"
      ],
      "text/plain": [
       "                   count  Средняя цена за кв.м\n",
       "locality_name                                 \n",
       "Санкт-Петербург    15721            104761.900\n",
       "поселок Мурино       556             85890.220\n",
       "поселок Шушары       440             76876.175\n",
       "Всеволожск           398             65789.470\n",
       "Пушкин               369            100000.000\n",
       "Колпино              338             74723.745\n",
       "поселок Парголово    327             91642.860\n",
       "Гатчина              307             67796.610\n",
       "деревня Кудрово      299             91860.470\n",
       "Выборг               237             58158.320"
      ]
     },
     "metadata": {},
     "output_type": "display_data"
    },
    {
     "data": {
      "text/html": [
       "<div>\n",
       "<style scoped>\n",
       "    .dataframe tbody tr th:only-of-type {\n",
       "        vertical-align: middle;\n",
       "    }\n",
       "\n",
       "    .dataframe tbody tr th {\n",
       "        vertical-align: top;\n",
       "    }\n",
       "\n",
       "    .dataframe thead th {\n",
       "        text-align: right;\n",
       "    }\n",
       "</style>\n",
       "<table border=\"1\" class=\"dataframe\">\n",
       "  <thead>\n",
       "    <tr style=\"text-align: right;\">\n",
       "      <th></th>\n",
       "      <th>count</th>\n",
       "      <th>Средняя цена за кв.м</th>\n",
       "    </tr>\n",
       "    <tr>\n",
       "      <th>locality_name</th>\n",
       "      <th></th>\n",
       "      <th></th>\n",
       "    </tr>\n",
       "  </thead>\n",
       "  <tbody>\n",
       "    <tr>\n",
       "      <th>Санкт-Петербург</th>\n",
       "      <td>15721</td>\n",
       "      <td>104761.9</td>\n",
       "    </tr>\n",
       "  </tbody>\n",
       "</table>\n",
       "</div>"
      ],
      "text/plain": [
       "                 count  Средняя цена за кв.м\n",
       "locality_name                               \n",
       "Санкт-Петербург  15721              104761.9"
      ]
     },
     "metadata": {},
     "output_type": "display_data"
    },
    {
     "data": {
      "text/html": [
       "<div>\n",
       "<style scoped>\n",
       "    .dataframe tbody tr th:only-of-type {\n",
       "        vertical-align: middle;\n",
       "    }\n",
       "\n",
       "    .dataframe tbody tr th {\n",
       "        vertical-align: top;\n",
       "    }\n",
       "\n",
       "    .dataframe thead th {\n",
       "        text-align: right;\n",
       "    }\n",
       "</style>\n",
       "<table border=\"1\" class=\"dataframe\">\n",
       "  <thead>\n",
       "    <tr style=\"text-align: right;\">\n",
       "      <th></th>\n",
       "      <th>count</th>\n",
       "      <th>Средняя цена за кв.м</th>\n",
       "    </tr>\n",
       "    <tr>\n",
       "      <th>locality_name</th>\n",
       "      <th></th>\n",
       "      <th></th>\n",
       "    </tr>\n",
       "  </thead>\n",
       "  <tbody>\n",
       "    <tr>\n",
       "      <th>Выборг</th>\n",
       "      <td>237</td>\n",
       "      <td>58158.3</td>\n",
       "    </tr>\n",
       "  </tbody>\n",
       "</table>\n",
       "</div>"
      ],
      "text/plain": [
       "               count  Средняя цена за кв.м\n",
       "locality_name                             \n",
       "Выборг           237               58158.3"
      ]
     },
     "execution_count": 39,
     "metadata": {},
     "output_type": "execute_result"
    }
   ],
   "source": [
    "lac_pivot_table = data.pivot_table(index='locality_name', values='price_onr_metr', aggfunc =['count', 'median'])\n",
    "lac_pivot_table.columns = ['count', 'Средняя цена за кв.м']\n",
    "lac_pivot_table = lac_pivot_table.sort_values('count', ascending = False).head(10)\n",
    "\n",
    "display(lac_pivot_table)                                                                    #десяток с наибольшем кол-вом записе\n",
    "\n",
    "display(lac_pivot_table[lac_pivot_table['Средняя цена за кв.м'] == lac_pivot_table['Средняя цена за кв.м'].max()].round(1)) #самая высокая стоимость\n",
    "\n",
    "lac_pivot_table[lac_pivot_table['Средняя цена за кв.м']==lac_pivot_table['Средняя цена за кв.м'].min()].round(1)            #самая низкая стоимость"
   ]
  },
  {
   "cell_type": "markdown",
   "id": "473e533d",
   "metadata": {},
   "source": []
  },
  {
   "cell_type": "markdown",
   "id": "7d95eab7-de22-473f-9b04-b39ffb657f3f",
   "metadata": {},
   "source": [
    "**Самая высокая стоимость квадратного метра в СПБ и составляе 114849.0, а самая низкая в Выборге и равна 58141.8**"
   ]
  },
  {
   "cell_type": "markdown",
   "id": "fef80cfe-addb-46d8-8098-d0ef4d94920d",
   "metadata": {},
   "source": [
    "**Ранее вы посчитали расстояние до центра в километрах.** \n",
    "1) Теперь выделите квартиры в Санкт-Петербурге с помощью столбца locality_name и вычислите среднюю цену каждого километра.\n",
    "2) Опишите, как стоимость объектов зависит от расстояния до центра города — постройте график изменения средней цены для каждого километра от центра Петербурга."
   ]
  },
  {
   "cell_type": "code",
   "execution_count": 40,
   "id": "3783df51-ee07-4e23-9cbf-1c3756cd4d81",
   "metadata": {},
   "outputs": [
    {
     "data": {
      "image/png": "[encoded data removed]",
      "text/plain": [
       "<Figure size 720x216 with 1 Axes>"
      ]
     },
     "metadata": {
      "needs_background": "light"
     },
     "output_type": "display_data"
    }
   ],
   "source": [
    "data['cityCenters_nearest_km'] = data['cityCenters_nearest']\n",
    "data['cityCenters_nearest_km'] = data['cityCenters_nearest_km'].fillna(999999) # убрал пустышки \n",
    "data['cityCenters_nearest_km'] = data['cityCenters_nearest_km'].astype('int')\n",
    "pivot_table_km = data.query('locality_name == \"Санкт-Петербург\" and cityCenters_nearest_km !=999999').pivot_table(index = 'cityCenters_nearest_km', values = 'price_onr_metr', aggfunc = 'median')\n",
    "pivot_table_km.plot(kind='bar', grid=True, figsize=(10,3), title = 'Cтоимость объектов в зависимости от расстояния до центра города')\n",
    "pass\n"
   ]
  },
  {
   "cell_type": "markdown",
   "id": "89979476",
   "metadata": {},
   "source": []
  },
  {
   "cell_type": "markdown",
   "id": "7d58b7b1-8df3-4ec4-9bf0-26ba446bbacc",
   "metadata": {},
   "source": [
    "***Вполне ожидаемо что в радиусе 1 км медианная цена принемает максимальное значение. Если анализировать граффик но центр ограничен 8 км, на этом значении происходит значительный спад без последующего увеличения значения. Так же интересные значение 4-7 км уровень стоимость крайне высок для такого удаления, предположу что есть \"элитные районы\", которые находятся не некотом оттдолении от центра.***"
   ]
  },
  {
   "cell_type": "markdown",
   "id": "63846d71-34c3-4145-9c90-fdadf11bcc0c",
   "metadata": {},
   "source": [
    "**Шаг 5. Напишите общий вывод**  \n",
    "Опишите полученные результаты и зафиксируйте итоговый вывод проведённого исследования."
   ]
  },
  {
   "cell_type": "markdown",
   "id": "57328856-c106-4812-bdf5-3778f0d48878",
   "metadata": {},
   "source": [
    "Из данных выше, мы можем сказать, что сильнее всего цена на квартиру зависит от цены за квадратный метр (практически очевидно), от общей площади квартиры (чем больше площадь, тем выше стоимость), от общей площади, жилой площади и площади кухни, а также от количества комнат. Небольшое влияние оказывает присутствие парков/водоемов рядом.\n",
    "Также влияние оказывает удаленность от центра - чем дальше от центра, тем ниже цена. Ожидаемо но надо более тщательно изучать лакацию по которой предоставленны данные. Таким же образом небольшое влияние оказывает удаленность от аэропорта.\n",
    "Многие из этих параметров оказывают довольно слабое влияние, но если попробовать их объединить в одну группу, то, наверняка, можно будет построить хорошую предсказательную модел.  \n",
    "**Подтверждение моего предположения доказывает коллеляция Пирсона.**"
   ]
  },
  {
   "cell_type": "code",
   "execution_count": 41,
   "id": "56be5830-7545-4001-a82e-8962b3d93c4b",
   "metadata": {},
   "outputs": [
    {
     "data": {
      "image/png": "[encoded data removed]",
      "text/plain": [
       "<Figure size 72x576 with 2 Axes>"
      ]
     },
     "metadata": {
      "needs_background": "light"
     },
     "output_type": "display_data"
    }
   ],
   "source": [
    "data_corr = data.copy()\n",
    "data_corr = data_corr.drop(columns = (['day_of_the_week','level', 'locality_name']) )\n",
    "plt.figure(figsize=(1,8))\n",
    "sns.heatmap(data_corr.corr()[['last_price']].sort_values(by='last_price', ascending=False), cmap=\"Blues\", \n",
    "            annot=True,)\n",
    "pass"
   ]
  }
 ],
 "metadata": {
  "ExecuteTimeLog": [
   {
    "duration": 1163,
    "start_time": "2023-10-09T14:05:27.126Z"
   },
   {
    "duration": 303,
    "start_time": "2023-10-09T14:05:28.291Z"
   },
   {
    "duration": 2202,
    "start_time": "2023-10-09T14:05:28.596Z"
   },
   {
    "duration": 10,
    "start_time": "2023-10-09T14:05:30.800Z"
   },
   {
    "duration": 100,
    "start_time": "2023-10-09T14:05:30.811Z"
   },
   {
    "duration": 69,
    "start_time": "2023-10-09T14:05:30.913Z"
   },
   {
    "duration": 60,
    "start_time": "2023-10-09T14:05:30.984Z"
   },
   {
    "duration": 403,
    "start_time": "2023-10-09T14:05:31.046Z"
   },
   {
    "duration": 0,
    "start_time": "2023-10-09T14:05:31.451Z"
   },
   {
    "duration": 0,
    "start_time": "2023-10-09T14:05:31.452Z"
   },
   {
    "duration": 0,
    "start_time": "2023-10-09T14:05:31.453Z"
   },
   {
    "duration": 0,
    "start_time": "2023-10-09T14:05:31.454Z"
   },
   {
    "duration": 0,
    "start_time": "2023-10-09T14:05:31.455Z"
   },
   {
    "duration": 0,
    "start_time": "2023-10-09T14:05:31.456Z"
   },
   {
    "duration": 0,
    "start_time": "2023-10-09T14:05:31.457Z"
   },
   {
    "duration": 0,
    "start_time": "2023-10-09T14:05:31.458Z"
   },
   {
    "duration": 0,
    "start_time": "2023-10-09T14:05:31.459Z"
   },
   {
    "duration": 0,
    "start_time": "2023-10-09T14:05:31.460Z"
   },
   {
    "duration": 0,
    "start_time": "2023-10-09T14:05:31.461Z"
   },
   {
    "duration": 0,
    "start_time": "2023-10-09T14:05:31.463Z"
   },
   {
    "duration": 0,
    "start_time": "2023-10-09T14:05:31.464Z"
   },
   {
    "duration": 0,
    "start_time": "2023-10-09T14:05:31.465Z"
   },
   {
    "duration": 0,
    "start_time": "2023-10-09T14:05:31.466Z"
   },
   {
    "duration": 0,
    "start_time": "2023-10-09T14:05:31.467Z"
   },
   {
    "duration": 0,
    "start_time": "2023-10-09T14:05:31.468Z"
   },
   {
    "duration": 0,
    "start_time": "2023-10-09T14:05:31.468Z"
   },
   {
    "duration": 0,
    "start_time": "2023-10-09T14:05:31.469Z"
   },
   {
    "duration": 0,
    "start_time": "2023-10-09T14:05:31.470Z"
   },
   {
    "duration": 6,
    "start_time": "2023-10-09T14:05:41.373Z"
   },
   {
    "duration": 1157,
    "start_time": "2023-10-09T14:05:47.826Z"
   },
   {
    "duration": 364,
    "start_time": "2023-10-09T14:05:48.984Z"
   },
   {
    "duration": 2178,
    "start_time": "2023-10-09T14:05:49.350Z"
   },
   {
    "duration": 25,
    "start_time": "2023-10-09T14:05:51.530Z"
   },
   {
    "duration": 62,
    "start_time": "2023-10-09T14:05:51.557Z"
   },
   {
    "duration": 50,
    "start_time": "2023-10-09T14:05:51.621Z"
   },
   {
    "duration": 11,
    "start_time": "2023-10-09T14:05:51.673Z"
   },
   {
    "duration": 28,
    "start_time": "2023-10-09T14:05:51.686Z"
   },
   {
    "duration": 64,
    "start_time": "2023-10-09T14:05:51.716Z"
   },
   {
    "duration": 340,
    "start_time": "2023-10-09T14:05:51.784Z"
   },
   {
    "duration": 6,
    "start_time": "2023-10-09T14:05:52.125Z"
   },
   {
    "duration": 103,
    "start_time": "2023-10-09T14:05:52.132Z"
   },
   {
    "duration": 71,
    "start_time": "2023-10-09T14:05:52.237Z"
   },
   {
    "duration": 318,
    "start_time": "2023-10-09T14:05:52.310Z"
   },
   {
    "duration": 4,
    "start_time": "2023-10-09T14:05:52.630Z"
   },
   {
    "duration": 256,
    "start_time": "2023-10-09T14:05:52.635Z"
   },
   {
    "duration": 262,
    "start_time": "2023-10-09T14:05:52.893Z"
   },
   {
    "duration": 346,
    "start_time": "2023-10-09T14:05:53.156Z"
   },
   {
    "duration": 9,
    "start_time": "2023-10-09T14:05:53.504Z"
   },
   {
    "duration": 229,
    "start_time": "2023-10-09T14:05:53.515Z"
   },
   {
    "duration": 177,
    "start_time": "2023-10-09T14:05:53.747Z"
   },
   {
    "duration": 161462,
    "start_time": "2023-10-09T14:05:53.926Z"
   },
   {
    "duration": 0,
    "start_time": "2023-10-09T14:08:35.390Z"
   },
   {
    "duration": 0,
    "start_time": "2023-10-09T14:08:35.391Z"
   },
   {
    "duration": 0,
    "start_time": "2023-10-09T14:08:35.392Z"
   },
   {
    "duration": 0,
    "start_time": "2023-10-09T14:08:35.393Z"
   },
   {
    "duration": 0,
    "start_time": "2023-10-09T14:08:35.394Z"
   },
   {
    "duration": 0,
    "start_time": "2023-10-09T14:08:35.395Z"
   },
   {
    "duration": 12,
    "start_time": "2023-10-09T14:09:57.726Z"
   },
   {
    "duration": 94,
    "start_time": "2023-10-09T14:18:45.159Z"
   },
   {
    "duration": 5,
    "start_time": "2023-10-09T14:19:20.943Z"
   },
   {
    "duration": 135,
    "start_time": "2023-10-09T14:19:21.112Z"
   },
   {
    "duration": 150,
    "start_time": "2023-10-09T14:19:21.442Z"
   },
   {
    "duration": 174,
    "start_time": "2023-10-09T14:19:21.751Z"
   },
   {
    "duration": 167,
    "start_time": "2023-10-09T14:19:22.057Z"
   },
   {
    "duration": 123,
    "start_time": "2023-10-09T14:19:22.359Z"
   },
   {
    "duration": 1308,
    "start_time": "2023-10-10T14:01:51.824Z"
   },
   {
    "duration": 429,
    "start_time": "2023-10-10T14:01:53.135Z"
   },
   {
    "duration": 2547,
    "start_time": "2023-10-10T14:01:53.566Z"
   },
   {
    "duration": 12,
    "start_time": "2023-10-10T14:01:56.116Z"
   },
   {
    "duration": 92,
    "start_time": "2023-10-10T14:01:56.131Z"
   },
   {
    "duration": 39,
    "start_time": "2023-10-10T14:01:56.225Z"
   },
   {
    "duration": 6,
    "start_time": "2023-10-10T14:01:56.266Z"
   },
   {
    "duration": 64,
    "start_time": "2023-10-10T14:01:56.273Z"
   },
   {
    "duration": 438,
    "start_time": "2023-10-10T14:01:56.339Z"
   },
   {
    "duration": 6,
    "start_time": "2023-10-10T14:01:56.779Z"
   },
   {
    "duration": 112,
    "start_time": "2023-10-10T14:01:56.786Z"
   },
   {
    "duration": 78,
    "start_time": "2023-10-10T14:01:56.903Z"
   },
   {
    "duration": 331,
    "start_time": "2023-10-10T14:01:56.982Z"
   },
   {
    "duration": 5,
    "start_time": "2023-10-10T14:01:57.319Z"
   },
   {
    "duration": 305,
    "start_time": "2023-10-10T14:01:57.326Z"
   },
   {
    "duration": 290,
    "start_time": "2023-10-10T14:01:57.633Z"
   },
   {
    "duration": 352,
    "start_time": "2023-10-10T14:01:57.925Z"
   },
   {
    "duration": 9,
    "start_time": "2023-10-10T14:01:58.279Z"
   },
   {
    "duration": 207,
    "start_time": "2023-10-10T14:01:58.290Z"
   },
   {
    "duration": 195,
    "start_time": "2023-10-10T14:01:58.509Z"
   },
   {
    "duration": 305,
    "start_time": "2023-10-10T14:01:58.713Z"
   },
   {
    "duration": 164,
    "start_time": "2023-10-10T14:01:59.019Z"
   },
   {
    "duration": 188,
    "start_time": "2023-10-10T14:01:59.185Z"
   },
   {
    "duration": 196,
    "start_time": "2023-10-10T14:01:59.375Z"
   },
   {
    "duration": 194,
    "start_time": "2023-10-10T14:01:59.573Z"
   },
   {
    "duration": 150,
    "start_time": "2023-10-10T14:01:59.769Z"
   },
   {
    "duration": 395,
    "start_time": "2023-10-10T14:01:59.921Z"
   },
   {
    "duration": 323,
    "start_time": "2023-10-10T14:02:00.318Z"
   },
   {
    "duration": 769,
    "start_time": "2023-10-10T14:02:00.644Z"
   },
   {
    "duration": 342,
    "start_time": "2023-10-10T14:02:01.415Z"
   },
   {
    "duration": 194,
    "start_time": "2023-10-10T14:02:01.758Z"
   },
   {
    "duration": 182,
    "start_time": "2023-10-10T14:02:01.954Z"
   },
   {
    "duration": 208,
    "start_time": "2023-10-10T14:02:02.138Z"
   },
   {
    "duration": 234,
    "start_time": "2023-10-10T14:02:02.348Z"
   },
   {
    "duration": 279,
    "start_time": "2023-10-10T14:02:02.584Z"
   },
   {
    "duration": 181,
    "start_time": "2023-10-10T14:02:02.865Z"
   },
   {
    "duration": 234,
    "start_time": "2023-10-10T14:02:03.048Z"
   },
   {
    "duration": 198,
    "start_time": "2023-10-10T14:02:03.284Z"
   },
   {
    "duration": 58,
    "start_time": "2023-10-10T14:02:03.484Z"
   },
   {
    "duration": 323,
    "start_time": "2023-10-10T14:02:03.543Z"
   },
   {
    "duration": 18,
    "start_time": "2023-10-10T14:06:39.150Z"
   },
   {
    "duration": 99,
    "start_time": "2023-10-10T14:06:47.282Z"
   },
   {
    "duration": 313,
    "start_time": "2023-10-10T14:08:07.003Z"
   },
   {
    "duration": 1368,
    "start_time": "2023-10-11T11:37:50.121Z"
   },
   {
    "duration": 374,
    "start_time": "2023-10-11T11:37:51.492Z"
   },
   {
    "duration": 2288,
    "start_time": "2023-10-11T11:37:51.867Z"
   },
   {
    "duration": 9,
    "start_time": "2023-10-11T11:37:54.157Z"
   },
   {
    "duration": 220,
    "start_time": "2023-10-11T11:37:54.168Z"
   },
   {
    "duration": 167,
    "start_time": "2023-10-11T11:37:54.390Z"
   },
   {
    "duration": 121,
    "start_time": "2023-10-11T11:37:54.559Z"
   },
   {
    "duration": 94,
    "start_time": "2023-10-11T11:37:54.683Z"
   },
   {
    "duration": 401,
    "start_time": "2023-10-11T11:37:54.780Z"
   },
   {
    "duration": 6,
    "start_time": "2023-10-11T11:37:55.183Z"
   },
   {
    "duration": 80,
    "start_time": "2023-10-11T11:37:55.191Z"
   },
   {
    "duration": 80,
    "start_time": "2023-10-11T11:37:55.273Z"
   },
   {
    "duration": 319,
    "start_time": "2023-10-11T11:37:55.355Z"
   },
   {
    "duration": 4,
    "start_time": "2023-10-11T11:37:55.675Z"
   },
   {
    "duration": 389,
    "start_time": "2023-10-11T11:37:55.681Z"
   },
   {
    "duration": 381,
    "start_time": "2023-10-11T11:37:56.072Z"
   },
   {
    "duration": 346,
    "start_time": "2023-10-11T11:37:56.456Z"
   },
   {
    "duration": 9,
    "start_time": "2023-10-11T11:37:56.804Z"
   },
   {
    "duration": 209,
    "start_time": "2023-10-11T11:37:56.825Z"
   },
   {
    "duration": 163,
    "start_time": "2023-10-11T11:37:57.038Z"
   },
   {
    "duration": 274,
    "start_time": "2023-10-11T11:37:57.202Z"
   },
   {
    "duration": 152,
    "start_time": "2023-10-11T11:37:57.478Z"
   },
   {
    "duration": 157,
    "start_time": "2023-10-11T11:37:57.634Z"
   },
   {
    "duration": 181,
    "start_time": "2023-10-11T11:37:57.793Z"
   },
   {
    "duration": 195,
    "start_time": "2023-10-11T11:37:57.975Z"
   },
   {
    "duration": 128,
    "start_time": "2023-10-11T11:37:58.172Z"
   },
   {
    "duration": 365,
    "start_time": "2023-10-11T11:37:58.302Z"
   },
   {
    "duration": 286,
    "start_time": "2023-10-11T11:37:58.670Z"
   },
   {
    "duration": 231,
    "start_time": "2023-10-11T11:37:58.958Z"
   },
   {
    "duration": 318,
    "start_time": "2023-10-11T11:37:59.191Z"
   },
   {
    "duration": 160,
    "start_time": "2023-10-11T11:37:59.510Z"
   },
   {
    "duration": 183,
    "start_time": "2023-10-11T11:37:59.672Z"
   },
   {
    "duration": 194,
    "start_time": "2023-10-11T11:37:59.857Z"
   },
   {
    "duration": 183,
    "start_time": "2023-10-11T11:38:00.054Z"
   },
   {
    "duration": 314,
    "start_time": "2023-10-11T11:38:00.242Z"
   },
   {
    "duration": 159,
    "start_time": "2023-10-11T11:38:00.557Z"
   },
   {
    "duration": 228,
    "start_time": "2023-10-11T11:38:00.726Z"
   },
   {
    "duration": 209,
    "start_time": "2023-10-11T11:38:00.956Z"
   },
   {
    "duration": 38,
    "start_time": "2023-10-11T11:38:01.167Z"
   },
   {
    "duration": 644,
    "start_time": "2023-10-11T11:38:01.223Z"
   },
   {
    "duration": 666,
    "start_time": "2023-10-11T11:38:01.868Z"
   },
   {
    "duration": 171,
    "start_time": "2023-10-11T11:42:16.920Z"
   },
   {
    "duration": 1377,
    "start_time": "2023-10-12T11:59:49.399Z"
   },
   {
    "duration": 392,
    "start_time": "2023-10-12T11:59:50.778Z"
   },
   {
    "duration": 2272,
    "start_time": "2023-10-12T11:59:51.171Z"
   },
   {
    "duration": 11,
    "start_time": "2023-10-12T11:59:53.445Z"
   },
   {
    "duration": 265,
    "start_time": "2023-10-12T11:59:53.458Z"
   },
   {
    "duration": 61,
    "start_time": "2023-10-12T11:59:53.726Z"
   },
   {
    "duration": 45,
    "start_time": "2023-10-12T11:59:53.789Z"
   },
   {
    "duration": 81,
    "start_time": "2023-10-12T11:59:53.836Z"
   },
   {
    "duration": 382,
    "start_time": "2023-10-12T11:59:53.919Z"
   },
   {
    "duration": 4,
    "start_time": "2023-10-12T11:59:54.303Z"
   },
   {
    "duration": 83,
    "start_time": "2023-10-12T11:59:54.309Z"
   },
   {
    "duration": 109,
    "start_time": "2023-10-12T11:59:54.393Z"
   },
   {
    "duration": 356,
    "start_time": "2023-10-12T11:59:54.505Z"
   },
   {
    "duration": 4,
    "start_time": "2023-10-12T11:59:54.866Z"
   },
   {
    "duration": 301,
    "start_time": "2023-10-12T11:59:54.872Z"
   },
   {
    "duration": 253,
    "start_time": "2023-10-12T11:59:55.174Z"
   },
   {
    "duration": 291,
    "start_time": "2023-10-12T11:59:55.429Z"
   },
   {
    "duration": 22,
    "start_time": "2023-10-12T11:59:55.722Z"
   },
   {
    "duration": 170,
    "start_time": "2023-10-12T11:59:55.746Z"
   },
   {
    "duration": 166,
    "start_time": "2023-10-12T11:59:55.918Z"
   },
   {
    "duration": 252,
    "start_time": "2023-10-12T11:59:56.086Z"
   },
   {
    "duration": 159,
    "start_time": "2023-10-12T11:59:56.340Z"
   },
   {
    "duration": 159,
    "start_time": "2023-10-12T11:59:56.501Z"
   },
   {
    "duration": 165,
    "start_time": "2023-10-12T11:59:56.661Z"
   },
   {
    "duration": 171,
    "start_time": "2023-10-12T11:59:56.828Z"
   },
   {
    "duration": 131,
    "start_time": "2023-10-12T11:59:57.001Z"
   },
   {
    "duration": 354,
    "start_time": "2023-10-12T11:59:57.134Z"
   },
   {
    "duration": 375,
    "start_time": "2023-10-12T11:59:57.490Z"
   },
   {
    "duration": 230,
    "start_time": "2023-10-12T11:59:57.867Z"
   },
   {
    "duration": 312,
    "start_time": "2023-10-12T11:59:58.099Z"
   },
   {
    "duration": 206,
    "start_time": "2023-10-12T11:59:58.412Z"
   },
   {
    "duration": 228,
    "start_time": "2023-10-12T11:59:58.620Z"
   },
   {
    "duration": 183,
    "start_time": "2023-10-12T11:59:58.850Z"
   },
   {
    "duration": 171,
    "start_time": "2023-10-12T11:59:59.035Z"
   },
   {
    "duration": 241,
    "start_time": "2023-10-12T11:59:59.208Z"
   },
   {
    "duration": 164,
    "start_time": "2023-10-12T11:59:59.451Z"
   },
   {
    "duration": 219,
    "start_time": "2023-10-12T11:59:59.617Z"
   },
   {
    "duration": 195,
    "start_time": "2023-10-12T11:59:59.838Z"
   },
   {
    "duration": 38,
    "start_time": "2023-10-12T12:00:00.035Z"
   },
   {
    "duration": 383,
    "start_time": "2023-10-12T12:00:00.075Z"
   },
   {
    "duration": 593,
    "start_time": "2023-10-12T12:00:00.461Z"
   },
   {
    "duration": 54,
    "start_time": "2023-10-12T12:00:40.073Z"
   }
  ],
  "kernelspec": {
   "display_name": "Python 3 (ipykernel)",
   "language": "python",
   "name": "python3"
  },
  "language_info": {
   "codemirror_mode": {
    "name": "ipython",
    "version": 3
   },
   "file_extension": ".py",
   "mimetype": "text/x-python",
   "name": "python",
   "nbconvert_exporter": "python",
   "pygments_lexer": "ipython3",
   "version": "3.11.4"
  },
  "toc": {
   "base_numbering": 1,
   "nav_menu": {},
   "number_sections": true,
   "sideBar": true,
   "skip_h1_title": true,
   "title_cell": "Table of Contents",
   "title_sidebar": "Contents",
   "toc_cell": false,
   "toc_position": {},
   "toc_section_display": true,
   "toc_window_display": true
  }
 },
 "nbformat": 4,
 "nbformat_minor": 5
}
