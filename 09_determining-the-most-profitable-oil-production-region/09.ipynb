{
 "cells": [
  {
   "cell_type": "markdown",
   "metadata": {},
   "source": [
    "# Выбор локации для скважины"
   ]
  },
  {
   "cell_type": "markdown",
   "metadata": {},
   "source": [
    "Допустим, вы работаете в добывающей компании «ГлавРосГосНефть». Нужно решить, где бурить новую скважину.\n",
    "\n",
    "Вам предоставлены пробы нефти в трёх регионах: в каждом 10 000 месторождений, где измерили качество нефти и объём её запасов. Постройте модель машинного обучения, которая поможет определить регион, где добыча принесёт наибольшую прибыль. Проанализируйте возможную прибыль и риски техникой *Bootstrap.*\n",
    "\n",
    "Шаги для выбора локации:\n",
    "\n",
    "- В избранном регионе ищут месторождения, для каждого определяют значения признаков;\n",
    "- Строят модель и оценивают объём запасов;\n",
    "- Выбирают месторождения с самым высокими оценками значений. Количество месторождений зависит от бюджета компании и стоимости разработки одной скважины;\n",
    "- Прибыль равна суммарной прибыли отобранных месторождений."
   ]
  },
  {
   "cell_type": "code",
   "execution_count": 2,
   "metadata": {},
   "outputs": [],
   "source": [
    "import pandas as pd\n",
    "import numpy as np\n",
    "import seaborn as sns\n",
    "import matplotlib.pyplot as plt\n",
    "import statsmodels.api as sm \n",
    "from statsmodels.stats.outliers_influence import variance_inflation_factor\n",
    "from sklearn.model_selection import train_test_split\n",
    "from sklearn.linear_model import LinearRegression\n",
    "from sklearn.metrics import mean_squared_error\n",
    "from numpy.random import RandomState\n",
    "\n",
    "RANDOM_STATE = 42\n",
    "TEST_SIZE = 0.25"
   ]
  },
  {
   "cell_type": "markdown",
   "metadata": {},
   "source": [
    "## Загрузка и подготовка данных"
   ]
  },
  {
   "cell_type": "code",
   "execution_count": 3,
   "metadata": {},
   "outputs": [],
   "source": [
    "try:\n",
    "    geo_data_0 = pd.read_csv('practicum\\df_p09\\geo_data_0.csv')\n",
    "    geo_data_1 = pd.read_csv('practicum\\df_p09\\geo_data_1.csv')\n",
    "    geo_data_2 = pd.read_csv('practicum\\df_p09\\geo_data_2.csv')\n",
    "except:\n",
    "    geo_data_0 = pd.read_csv('https://code.s3.yandex.net/datasets/geo_data_0.csv')\n",
    "    geo_data_1 = pd.read_csv('https://code.s3.yandex.net/datasets/geo_data_1.csv')\n",
    "    geo_data_2 = pd.read_csv('https://code.s3.yandex.net/datasets/geo_data_2.csv')\n"
   ]
  },
  {
   "cell_type": "markdown",
   "metadata": {},
   "source": [
    "### Первичный анализ данных"
   ]
  },
  {
   "cell_type": "code",
   "execution_count": 4,
   "metadata": {},
   "outputs": [],
   "source": [
    "def head(db):\n",
    "    display(db.info())\n",
    "    display('-' * 50)\n",
    "    display(db.head(2))\n",
    "    display('-' * 50)"
   ]
  },
  {
   "cell_type": "code",
   "execution_count": 5,
   "metadata": {},
   "outputs": [
    {
     "name": "stdout",
     "output_type": "stream",
     "text": [
      "<class 'pandas.core.frame.DataFrame'>\n",
      "RangeIndex: 100000 entries, 0 to 99999\n",
      "Data columns (total 5 columns):\n",
      " #   Column   Non-Null Count   Dtype  \n",
      "---  ------   --------------   -----  \n",
      " 0   id       100000 non-null  object \n",
      " 1   f0       100000 non-null  float64\n",
      " 2   f1       100000 non-null  float64\n",
      " 3   f2       100000 non-null  float64\n",
      " 4   product  100000 non-null  float64\n",
      "dtypes: float64(4), object(1)\n",
      "memory usage: 3.8+ MB\n"
     ]
    },
    {
     "data": {
      "text/plain": [
       "None"
      ]
     },
     "metadata": {},
     "output_type": "display_data"
    },
    {
     "data": {
      "text/plain": [
       "'--------------------------------------------------'"
      ]
     },
     "metadata": {},
     "output_type": "display_data"
    },
    {
     "data": {
      "text/html": [
       "<div>\n",
       "<style scoped>\n",
       "    .dataframe tbody tr th:only-of-type {\n",
       "        vertical-align: middle;\n",
       "    }\n",
       "\n",
       "    .dataframe tbody tr th {\n",
       "        vertical-align: top;\n",
       "    }\n",
       "\n",
       "    .dataframe thead th {\n",
       "        text-align: right;\n",
       "    }\n",
       "</style>\n",
       "<table border=\"1\" class=\"dataframe\">\n",
       "  <thead>\n",
       "    <tr style=\"text-align: right;\">\n",
       "      <th></th>\n",
       "      <th>id</th>\n",
       "      <th>f0</th>\n",
       "      <th>f1</th>\n",
       "      <th>f2</th>\n",
       "      <th>product</th>\n",
       "    </tr>\n",
       "  </thead>\n",
       "  <tbody>\n",
       "    <tr>\n",
       "      <th>0</th>\n",
       "      <td>txEyH</td>\n",
       "      <td>0.705745</td>\n",
       "      <td>-0.497823</td>\n",
       "      <td>1.22117</td>\n",
       "      <td>105.280062</td>\n",
       "    </tr>\n",
       "    <tr>\n",
       "      <th>1</th>\n",
       "      <td>2acmU</td>\n",
       "      <td>1.334711</td>\n",
       "      <td>-0.340164</td>\n",
       "      <td>4.36508</td>\n",
       "      <td>73.037750</td>\n",
       "    </tr>\n",
       "  </tbody>\n",
       "</table>\n",
       "</div>"
      ],
      "text/plain": [
       "      id        f0        f1       f2     product\n",
       "0  txEyH  0.705745 -0.497823  1.22117  105.280062\n",
       "1  2acmU  1.334711 -0.340164  4.36508   73.037750"
      ]
     },
     "metadata": {},
     "output_type": "display_data"
    },
    {
     "data": {
      "text/plain": [
       "'--------------------------------------------------'"
      ]
     },
     "metadata": {},
     "output_type": "display_data"
    },
    {
     "name": "stdout",
     "output_type": "stream",
     "text": [
      "<class 'pandas.core.frame.DataFrame'>\n",
      "RangeIndex: 100000 entries, 0 to 99999\n",
      "Data columns (total 5 columns):\n",
      " #   Column   Non-Null Count   Dtype  \n",
      "---  ------   --------------   -----  \n",
      " 0   id       100000 non-null  object \n",
      " 1   f0       100000 non-null  float64\n",
      " 2   f1       100000 non-null  float64\n",
      " 3   f2       100000 non-null  float64\n",
      " 4   product  100000 non-null  float64\n",
      "dtypes: float64(4), object(1)\n",
      "memory usage: 3.8+ MB\n"
     ]
    },
    {
     "data": {
      "text/plain": [
       "None"
      ]
     },
     "metadata": {},
     "output_type": "display_data"
    },
    {
     "data": {
      "text/plain": [
       "'--------------------------------------------------'"
      ]
     },
     "metadata": {},
     "output_type": "display_data"
    },
    {
     "data": {
      "text/html": [
       "<div>\n",
       "<style scoped>\n",
       "    .dataframe tbody tr th:only-of-type {\n",
       "        vertical-align: middle;\n",
       "    }\n",
       "\n",
       "    .dataframe tbody tr th {\n",
       "        vertical-align: top;\n",
       "    }\n",
       "\n",
       "    .dataframe thead th {\n",
       "        text-align: right;\n",
       "    }\n",
       "</style>\n",
       "<table border=\"1\" class=\"dataframe\">\n",
       "  <thead>\n",
       "    <tr style=\"text-align: right;\">\n",
       "      <th></th>\n",
       "      <th>id</th>\n",
       "      <th>f0</th>\n",
       "      <th>f1</th>\n",
       "      <th>f2</th>\n",
       "      <th>product</th>\n",
       "    </tr>\n",
       "  </thead>\n",
       "  <tbody>\n",
       "    <tr>\n",
       "      <th>0</th>\n",
       "      <td>kBEdx</td>\n",
       "      <td>-15.001348</td>\n",
       "      <td>-8.276000</td>\n",
       "      <td>-0.005876</td>\n",
       "      <td>3.179103</td>\n",
       "    </tr>\n",
       "    <tr>\n",
       "      <th>1</th>\n",
       "      <td>62mP7</td>\n",
       "      <td>14.272088</td>\n",
       "      <td>-3.475083</td>\n",
       "      <td>0.999183</td>\n",
       "      <td>26.953261</td>\n",
       "    </tr>\n",
       "  </tbody>\n",
       "</table>\n",
       "</div>"
      ],
      "text/plain": [
       "      id         f0        f1        f2    product\n",
       "0  kBEdx -15.001348 -8.276000 -0.005876   3.179103\n",
       "1  62mP7  14.272088 -3.475083  0.999183  26.953261"
      ]
     },
     "metadata": {},
     "output_type": "display_data"
    },
    {
     "data": {
      "text/plain": [
       "'--------------------------------------------------'"
      ]
     },
     "metadata": {},
     "output_type": "display_data"
    },
    {
     "name": "stdout",
     "output_type": "stream",
     "text": [
      "<class 'pandas.core.frame.DataFrame'>\n",
      "RangeIndex: 100000 entries, 0 to 99999\n",
      "Data columns (total 5 columns):\n",
      " #   Column   Non-Null Count   Dtype  \n",
      "---  ------   --------------   -----  \n",
      " 0   id       100000 non-null  object \n",
      " 1   f0       100000 non-null  float64\n",
      " 2   f1       100000 non-null  float64\n",
      " 3   f2       100000 non-null  float64\n",
      " 4   product  100000 non-null  float64\n",
      "dtypes: float64(4), object(1)\n",
      "memory usage: 3.8+ MB\n"
     ]
    },
    {
     "data": {
      "text/plain": [
       "None"
      ]
     },
     "metadata": {},
     "output_type": "display_data"
    },
    {
     "data": {
      "text/plain": [
       "'--------------------------------------------------'"
      ]
     },
     "metadata": {},
     "output_type": "display_data"
    },
    {
     "data": {
      "text/html": [
       "<div>\n",
       "<style scoped>\n",
       "    .dataframe tbody tr th:only-of-type {\n",
       "        vertical-align: middle;\n",
       "    }\n",
       "\n",
       "    .dataframe tbody tr th {\n",
       "        vertical-align: top;\n",
       "    }\n",
       "\n",
       "    .dataframe thead th {\n",
       "        text-align: right;\n",
       "    }\n",
       "</style>\n",
       "<table border=\"1\" class=\"dataframe\">\n",
       "  <thead>\n",
       "    <tr style=\"text-align: right;\">\n",
       "      <th></th>\n",
       "      <th>id</th>\n",
       "      <th>f0</th>\n",
       "      <th>f1</th>\n",
       "      <th>f2</th>\n",
       "      <th>product</th>\n",
       "    </tr>\n",
       "  </thead>\n",
       "  <tbody>\n",
       "    <tr>\n",
       "      <th>0</th>\n",
       "      <td>fwXo0</td>\n",
       "      <td>-1.146987</td>\n",
       "      <td>0.963328</td>\n",
       "      <td>-0.828965</td>\n",
       "      <td>27.758673</td>\n",
       "    </tr>\n",
       "    <tr>\n",
       "      <th>1</th>\n",
       "      <td>WJtFt</td>\n",
       "      <td>0.262778</td>\n",
       "      <td>0.269839</td>\n",
       "      <td>-2.530187</td>\n",
       "      <td>56.069697</td>\n",
       "    </tr>\n",
       "  </tbody>\n",
       "</table>\n",
       "</div>"
      ],
      "text/plain": [
       "      id        f0        f1        f2    product\n",
       "0  fwXo0 -1.146987  0.963328 -0.828965  27.758673\n",
       "1  WJtFt  0.262778  0.269839 -2.530187  56.069697"
      ]
     },
     "metadata": {},
     "output_type": "display_data"
    },
    {
     "data": {
      "text/plain": [
       "'--------------------------------------------------'"
      ]
     },
     "metadata": {},
     "output_type": "display_data"
    }
   ],
   "source": [
    "db = [geo_data_0, geo_data_1, geo_data_2]\n",
    "\n",
    "for i in db:\n",
    "    head(i)"
   ]
  },
  {
   "cell_type": "code",
   "execution_count": 6,
   "metadata": {},
   "outputs": [
    {
     "name": "stdout",
     "output_type": "stream",
     "text": [
      "Колличество дубликатов в geo_data_0: 0\n",
      "Колличество дубликатов в geo_data_1: 0\n",
      "Колличество дубликатов в geo_data_2: 0\n"
     ]
    }
   ],
   "source": [
    "print('Колличество дубликатов в geo_data_0:', geo_data_0.duplicated().sum())\n",
    "print('Колличество дубликатов в geo_data_1:', geo_data_1.duplicated().sum())\n",
    "print('Колличество дубликатов в geo_data_2:', geo_data_2.duplicated().sum())"
   ]
  },
  {
   "cell_type": "code",
   "execution_count": 7,
   "metadata": {},
   "outputs": [
    {
     "name": "stdout",
     "output_type": "stream",
     "text": [
      "Колличество пропущенных значений в df_geo_0:\n",
      "id         0\n",
      "f0         0\n",
      "f1         0\n",
      "f2         0\n",
      "product    0\n",
      "dtype: int64\n",
      "---------------\n",
      "Колличество пропущенных значений в df_geo_1:\n",
      "id         0\n",
      "f0         0\n",
      "f1         0\n",
      "f2         0\n",
      "product    0\n",
      "dtype: int64\n",
      "---------------\n",
      "Колличество пропущенных значений в df_geo_2:\n",
      "id         0\n",
      "f0         0\n",
      "f1         0\n",
      "f2         0\n",
      "product    0\n",
      "dtype: int64\n",
      "---------------\n"
     ]
    }
   ],
   "source": [
    "print('Колличество пропущенных значений в df_geo_0:')\n",
    "print(geo_data_0.isnull().sum())\n",
    "print('-' * 15)\n",
    "print('Колличество пропущенных значений в df_geo_1:')\n",
    "print(geo_data_0.isnull().sum())\n",
    "print('-' * 15)\n",
    "print('Колличество пропущенных значений в df_geo_2:')\n",
    "print(geo_data_0.isnull().sum())\n",
    "print('-' * 15)"
   ]
  },
  {
   "cell_type": "markdown",
   "metadata": {},
   "source": [
    "__Вывод__  \n",
    "На основе EDA можно сделать следующие выводы:  \n",
    "В данных нет пропускоов, нет дубликатов, нет пропусков:- данные чистые."
   ]
  },
  {
   "cell_type": "code",
   "execution_count": 8,
   "metadata": {},
   "outputs": [
    {
     "data": {
      "text/plain": [
       "'Статистическое описание geo_data_0:'"
      ]
     },
     "metadata": {},
     "output_type": "display_data"
    },
    {
     "data": {
      "text/html": [
       "<div>\n",
       "<style scoped>\n",
       "    .dataframe tbody tr th:only-of-type {\n",
       "        vertical-align: middle;\n",
       "    }\n",
       "\n",
       "    .dataframe tbody tr th {\n",
       "        vertical-align: top;\n",
       "    }\n",
       "\n",
       "    .dataframe thead th {\n",
       "        text-align: right;\n",
       "    }\n",
       "</style>\n",
       "<table border=\"1\" class=\"dataframe\">\n",
       "  <thead>\n",
       "    <tr style=\"text-align: right;\">\n",
       "      <th></th>\n",
       "      <th>count</th>\n",
       "      <th>mean</th>\n",
       "      <th>std</th>\n",
       "      <th>min</th>\n",
       "      <th>25%</th>\n",
       "      <th>50%</th>\n",
       "      <th>75%</th>\n",
       "      <th>max</th>\n",
       "    </tr>\n",
       "  </thead>\n",
       "  <tbody>\n",
       "    <tr>\n",
       "      <th>f0</th>\n",
       "      <td>100000.0</td>\n",
       "      <td>0.500419</td>\n",
       "      <td>0.871832</td>\n",
       "      <td>-1.408605</td>\n",
       "      <td>-0.072580</td>\n",
       "      <td>0.502360</td>\n",
       "      <td>1.073581</td>\n",
       "      <td>2.362331</td>\n",
       "    </tr>\n",
       "    <tr>\n",
       "      <th>f1</th>\n",
       "      <td>100000.0</td>\n",
       "      <td>0.250143</td>\n",
       "      <td>0.504433</td>\n",
       "      <td>-0.848218</td>\n",
       "      <td>-0.200881</td>\n",
       "      <td>0.250252</td>\n",
       "      <td>0.700646</td>\n",
       "      <td>1.343769</td>\n",
       "    </tr>\n",
       "    <tr>\n",
       "      <th>f2</th>\n",
       "      <td>100000.0</td>\n",
       "      <td>2.502647</td>\n",
       "      <td>3.248248</td>\n",
       "      <td>-12.088328</td>\n",
       "      <td>0.287748</td>\n",
       "      <td>2.515969</td>\n",
       "      <td>4.715088</td>\n",
       "      <td>16.003790</td>\n",
       "    </tr>\n",
       "    <tr>\n",
       "      <th>product</th>\n",
       "      <td>100000.0</td>\n",
       "      <td>92.500000</td>\n",
       "      <td>44.288691</td>\n",
       "      <td>0.000000</td>\n",
       "      <td>56.497507</td>\n",
       "      <td>91.849972</td>\n",
       "      <td>128.564089</td>\n",
       "      <td>185.364347</td>\n",
       "    </tr>\n",
       "  </tbody>\n",
       "</table>\n",
       "</div>"
      ],
      "text/plain": [
       "            count       mean        std        min        25%        50%  \\\n",
       "f0       100000.0   0.500419   0.871832  -1.408605  -0.072580   0.502360   \n",
       "f1       100000.0   0.250143   0.504433  -0.848218  -0.200881   0.250252   \n",
       "f2       100000.0   2.502647   3.248248 -12.088328   0.287748   2.515969   \n",
       "product  100000.0  92.500000  44.288691   0.000000  56.497507  91.849972   \n",
       "\n",
       "                75%         max  \n",
       "f0         1.073581    2.362331  \n",
       "f1         0.700646    1.343769  \n",
       "f2         4.715088   16.003790  \n",
       "product  128.564089  185.364347  "
      ]
     },
     "metadata": {},
     "output_type": "display_data"
    },
    {
     "data": {
      "text/plain": [
       "'----------------------------------------------------------------------------------------------------'"
      ]
     },
     "metadata": {},
     "output_type": "display_data"
    },
    {
     "data": {
      "text/plain": [
       "'Статистическое описание geo_data_1:'"
      ]
     },
     "metadata": {},
     "output_type": "display_data"
    },
    {
     "data": {
      "text/html": [
       "<div>\n",
       "<style scoped>\n",
       "    .dataframe tbody tr th:only-of-type {\n",
       "        vertical-align: middle;\n",
       "    }\n",
       "\n",
       "    .dataframe tbody tr th {\n",
       "        vertical-align: top;\n",
       "    }\n",
       "\n",
       "    .dataframe thead th {\n",
       "        text-align: right;\n",
       "    }\n",
       "</style>\n",
       "<table border=\"1\" class=\"dataframe\">\n",
       "  <thead>\n",
       "    <tr style=\"text-align: right;\">\n",
       "      <th></th>\n",
       "      <th>count</th>\n",
       "      <th>mean</th>\n",
       "      <th>std</th>\n",
       "      <th>min</th>\n",
       "      <th>25%</th>\n",
       "      <th>50%</th>\n",
       "      <th>75%</th>\n",
       "      <th>max</th>\n",
       "    </tr>\n",
       "  </thead>\n",
       "  <tbody>\n",
       "    <tr>\n",
       "      <th>f0</th>\n",
       "      <td>100000.0</td>\n",
       "      <td>1.141296</td>\n",
       "      <td>8.965932</td>\n",
       "      <td>-31.609576</td>\n",
       "      <td>-6.298551</td>\n",
       "      <td>1.153055</td>\n",
       "      <td>8.621015</td>\n",
       "      <td>29.421755</td>\n",
       "    </tr>\n",
       "    <tr>\n",
       "      <th>f1</th>\n",
       "      <td>100000.0</td>\n",
       "      <td>-4.796579</td>\n",
       "      <td>5.119872</td>\n",
       "      <td>-26.358598</td>\n",
       "      <td>-8.267985</td>\n",
       "      <td>-4.813172</td>\n",
       "      <td>-1.332816</td>\n",
       "      <td>18.734063</td>\n",
       "    </tr>\n",
       "    <tr>\n",
       "      <th>f2</th>\n",
       "      <td>100000.0</td>\n",
       "      <td>2.494541</td>\n",
       "      <td>1.703572</td>\n",
       "      <td>-0.018144</td>\n",
       "      <td>1.000021</td>\n",
       "      <td>2.011479</td>\n",
       "      <td>3.999904</td>\n",
       "      <td>5.019721</td>\n",
       "    </tr>\n",
       "    <tr>\n",
       "      <th>product</th>\n",
       "      <td>100000.0</td>\n",
       "      <td>68.825000</td>\n",
       "      <td>45.944423</td>\n",
       "      <td>0.000000</td>\n",
       "      <td>26.953261</td>\n",
       "      <td>57.085625</td>\n",
       "      <td>107.813044</td>\n",
       "      <td>137.945408</td>\n",
       "    </tr>\n",
       "  </tbody>\n",
       "</table>\n",
       "</div>"
      ],
      "text/plain": [
       "            count       mean        std        min        25%        50%  \\\n",
       "f0       100000.0   1.141296   8.965932 -31.609576  -6.298551   1.153055   \n",
       "f1       100000.0  -4.796579   5.119872 -26.358598  -8.267985  -4.813172   \n",
       "f2       100000.0   2.494541   1.703572  -0.018144   1.000021   2.011479   \n",
       "product  100000.0  68.825000  45.944423   0.000000  26.953261  57.085625   \n",
       "\n",
       "                75%         max  \n",
       "f0         8.621015   29.421755  \n",
       "f1        -1.332816   18.734063  \n",
       "f2         3.999904    5.019721  \n",
       "product  107.813044  137.945408  "
      ]
     },
     "metadata": {},
     "output_type": "display_data"
    },
    {
     "data": {
      "text/plain": [
       "'----------------------------------------------------------------------------------------------------'"
      ]
     },
     "metadata": {},
     "output_type": "display_data"
    },
    {
     "data": {
      "text/plain": [
       "'Статистическое описание geo_data_2:'"
      ]
     },
     "metadata": {},
     "output_type": "display_data"
    },
    {
     "data": {
      "text/html": [
       "<div>\n",
       "<style scoped>\n",
       "    .dataframe tbody tr th:only-of-type {\n",
       "        vertical-align: middle;\n",
       "    }\n",
       "\n",
       "    .dataframe tbody tr th {\n",
       "        vertical-align: top;\n",
       "    }\n",
       "\n",
       "    .dataframe thead th {\n",
       "        text-align: right;\n",
       "    }\n",
       "</style>\n",
       "<table border=\"1\" class=\"dataframe\">\n",
       "  <thead>\n",
       "    <tr style=\"text-align: right;\">\n",
       "      <th></th>\n",
       "      <th>count</th>\n",
       "      <th>mean</th>\n",
       "      <th>std</th>\n",
       "      <th>min</th>\n",
       "      <th>25%</th>\n",
       "      <th>50%</th>\n",
       "      <th>75%</th>\n",
       "      <th>max</th>\n",
       "    </tr>\n",
       "  </thead>\n",
       "  <tbody>\n",
       "    <tr>\n",
       "      <th>f0</th>\n",
       "      <td>100000.0</td>\n",
       "      <td>0.002023</td>\n",
       "      <td>1.732045</td>\n",
       "      <td>-8.760004</td>\n",
       "      <td>-1.162288</td>\n",
       "      <td>0.009424</td>\n",
       "      <td>1.158535</td>\n",
       "      <td>7.238262</td>\n",
       "    </tr>\n",
       "    <tr>\n",
       "      <th>f1</th>\n",
       "      <td>100000.0</td>\n",
       "      <td>-0.002081</td>\n",
       "      <td>1.730417</td>\n",
       "      <td>-7.084020</td>\n",
       "      <td>-1.174820</td>\n",
       "      <td>-0.009482</td>\n",
       "      <td>1.163678</td>\n",
       "      <td>7.844801</td>\n",
       "    </tr>\n",
       "    <tr>\n",
       "      <th>f2</th>\n",
       "      <td>100000.0</td>\n",
       "      <td>2.495128</td>\n",
       "      <td>3.473445</td>\n",
       "      <td>-11.970335</td>\n",
       "      <td>0.130359</td>\n",
       "      <td>2.484236</td>\n",
       "      <td>4.858794</td>\n",
       "      <td>16.739402</td>\n",
       "    </tr>\n",
       "    <tr>\n",
       "      <th>product</th>\n",
       "      <td>100000.0</td>\n",
       "      <td>95.000000</td>\n",
       "      <td>44.749921</td>\n",
       "      <td>0.000000</td>\n",
       "      <td>59.450441</td>\n",
       "      <td>94.925613</td>\n",
       "      <td>130.595027</td>\n",
       "      <td>190.029838</td>\n",
       "    </tr>\n",
       "  </tbody>\n",
       "</table>\n",
       "</div>"
      ],
      "text/plain": [
       "            count       mean        std        min        25%        50%  \\\n",
       "f0       100000.0   0.002023   1.732045  -8.760004  -1.162288   0.009424   \n",
       "f1       100000.0  -0.002081   1.730417  -7.084020  -1.174820  -0.009482   \n",
       "f2       100000.0   2.495128   3.473445 -11.970335   0.130359   2.484236   \n",
       "product  100000.0  95.000000  44.749921   0.000000  59.450441  94.925613   \n",
       "\n",
       "                75%         max  \n",
       "f0         1.158535    7.238262  \n",
       "f1         1.163678    7.844801  \n",
       "f2         4.858794   16.739402  \n",
       "product  130.595027  190.029838  "
      ]
     },
     "metadata": {},
     "output_type": "display_data"
    }
   ],
   "source": [
    "display('Статистическое описание geo_data_0:')\n",
    "display(geo_data_0.describe().T)\n",
    "display('-' * 100)\n",
    "display('Статистическое описание geo_data_1:')\n",
    "display(geo_data_1.describe().T)\n",
    "display('-' * 100)\n",
    "display('Статистическое описание geo_data_2:')\n",
    "display(geo_data_2.describe().T)"
   ]
  },
  {
   "cell_type": "markdown",
   "metadata": {},
   "source": [
    "### Построение Boxplot на обзор выбросов"
   ]
  },
  {
   "cell_type": "code",
   "execution_count": 9,
   "metadata": {},
   "outputs": [
    {
     "data": {
      "image/png": "[encoded data removed]",
      "text/plain": [
       "<Figure size 432x288 with 1 Axes>"
      ]
     },
     "metadata": {
      "needs_background": "light"
     },
     "output_type": "display_data"
    }
   ],
   "source": [
    "plt.boxplot([geo_data_0['product'], geo_data_1['product'], geo_data_2['product']])\n",
    "plt.grid()\n",
    "plt.show()"
   ]
  },
  {
   "cell_type": "markdown",
   "metadata": {},
   "source": [
    "Выбросов нет."
   ]
  },
  {
   "cell_type": "code",
   "execution_count": 10,
   "metadata": {},
   "outputs": [
    {
     "data": {
      "image/png": "[encoded data removed]",
      "text/plain": [
       "<Figure size 432x288 with 1 Axes>"
      ]
     },
     "metadata": {
      "needs_background": "light"
     },
     "output_type": "display_data"
    }
   ],
   "source": [
    "plt.boxplot([geo_data_0['f0'], geo_data_1['f0'], geo_data_2['f0']])\n",
    "plt.grid()\n",
    "plt.show()"
   ]
  },
  {
   "cell_type": "code",
   "execution_count": 11,
   "metadata": {},
   "outputs": [
    {
     "data": {
      "image/png": "[encoded data removed]",
      "text/plain": [
       "<Figure size 432x288 with 1 Axes>"
      ]
     },
     "metadata": {
      "needs_background": "light"
     },
     "output_type": "display_data"
    }
   ],
   "source": [
    "plt.boxplot([geo_data_0['f1'], geo_data_1['f1'], geo_data_2['f1']])\n",
    "plt.grid()\n",
    "plt.show()"
   ]
  },
  {
   "cell_type": "code",
   "execution_count": 12,
   "metadata": {},
   "outputs": [
    {
     "data": {
      "image/png": "[encoded data removed]",
      "text/plain": [
       "<Figure size 432x288 with 1 Axes>"
      ]
     },
     "metadata": {
      "needs_background": "light"
     },
     "output_type": "display_data"
    }
   ],
   "source": [
    "plt.boxplot([geo_data_0['f2'], geo_data_1['f2'], geo_data_2['f2']])\n",
    "plt.grid()\n",
    "plt.show()"
   ]
  },
  {
   "cell_type": "markdown",
   "metadata": {},
   "source": [
    "__Вывод__  \n",
    "Признаки f0, f1 и f2 не похожи между собой и зависят от региона. Имеются выбросы"
   ]
  },
  {
   "cell_type": "markdown",
   "metadata": {},
   "source": [
    "### Проверка на мультиколлинеарность"
   ]
  },
  {
   "cell_type": "code",
   "execution_count": 13,
   "metadata": {},
   "outputs": [],
   "source": [
    "def vif(db):\n",
    "    columns =db.select_dtypes(exclude='object').columns.to_list()\n",
    "    X = db[columns] # Выделяем \"независимые\" переменные (признаки)\n",
    "\n",
    "    X_with_const = sm.add_constant(X) # Добавляем константу для использования модуля statsmodels\n",
    "\n",
    "# Рассчитываем VIF для каждого признака\n",
    "    vif = pd.DataFrame()\n",
    "    vif['Feature'] = X_with_const.columns\n",
    "    vif['vif'] = [variance_inflation_factor(X_with_const.values, i) for i in range(X_with_const.shape[1])]\n",
    "\n",
    "    display(vif.round(2)) # Выводим результаты"
   ]
  },
  {
   "cell_type": "code",
   "execution_count": 14,
   "metadata": {},
   "outputs": [
    {
     "data": {
      "text/html": [
       "<div>\n",
       "<style scoped>\n",
       "    .dataframe tbody tr th:only-of-type {\n",
       "        vertical-align: middle;\n",
       "    }\n",
       "\n",
       "    .dataframe tbody tr th {\n",
       "        vertical-align: top;\n",
       "    }\n",
       "\n",
       "    .dataframe thead th {\n",
       "        text-align: right;\n",
       "    }\n",
       "</style>\n",
       "<table border=\"1\" class=\"dataframe\">\n",
       "  <thead>\n",
       "    <tr style=\"text-align: right;\">\n",
       "      <th></th>\n",
       "      <th>Feature</th>\n",
       "      <th>vif</th>\n",
       "    </tr>\n",
       "  </thead>\n",
       "  <tbody>\n",
       "    <tr>\n",
       "      <th>0</th>\n",
       "      <td>const</td>\n",
       "      <td>6.86</td>\n",
       "    </tr>\n",
       "    <tr>\n",
       "      <th>1</th>\n",
       "      <td>f0</td>\n",
       "      <td>1.25</td>\n",
       "    </tr>\n",
       "    <tr>\n",
       "      <th>2</th>\n",
       "      <td>f1</td>\n",
       "      <td>1.28</td>\n",
       "    </tr>\n",
       "    <tr>\n",
       "      <th>3</th>\n",
       "      <td>f2</td>\n",
       "      <td>1.32</td>\n",
       "    </tr>\n",
       "    <tr>\n",
       "      <th>4</th>\n",
       "      <td>product</td>\n",
       "      <td>1.38</td>\n",
       "    </tr>\n",
       "  </tbody>\n",
       "</table>\n",
       "</div>"
      ],
      "text/plain": [
       "   Feature   vif\n",
       "0    const  6.86\n",
       "1       f0  1.25\n",
       "2       f1  1.28\n",
       "3       f2  1.32\n",
       "4  product  1.38"
      ]
     },
     "metadata": {},
     "output_type": "display_data"
    }
   ],
   "source": [
    "vif(geo_data_0)"
   ]
  },
  {
   "cell_type": "code",
   "execution_count": 15,
   "metadata": {},
   "outputs": [
    {
     "data": {
      "text/html": [
       "<div>\n",
       "<style scoped>\n",
       "    .dataframe tbody tr th:only-of-type {\n",
       "        vertical-align: middle;\n",
       "    }\n",
       "\n",
       "    .dataframe tbody tr th {\n",
       "        vertical-align: top;\n",
       "    }\n",
       "\n",
       "    .dataframe thead th {\n",
       "        text-align: right;\n",
       "    }\n",
       "</style>\n",
       "<table border=\"1\" class=\"dataframe\">\n",
       "  <thead>\n",
       "    <tr style=\"text-align: right;\">\n",
       "      <th></th>\n",
       "      <th>Feature</th>\n",
       "      <th>vif</th>\n",
       "    </tr>\n",
       "  </thead>\n",
       "  <tbody>\n",
       "    <tr>\n",
       "      <th>0</th>\n",
       "      <td>const</td>\n",
       "      <td>7.56</td>\n",
       "    </tr>\n",
       "    <tr>\n",
       "      <th>1</th>\n",
       "      <td>f0</td>\n",
       "      <td>3.16</td>\n",
       "    </tr>\n",
       "    <tr>\n",
       "      <th>2</th>\n",
       "      <td>f1</td>\n",
       "      <td>1.05</td>\n",
       "    </tr>\n",
       "    <tr>\n",
       "      <th>3</th>\n",
       "      <td>f2</td>\n",
       "      <td>2660.14</td>\n",
       "    </tr>\n",
       "    <tr>\n",
       "      <th>4</th>\n",
       "      <td>product</td>\n",
       "      <td>2662.65</td>\n",
       "    </tr>\n",
       "  </tbody>\n",
       "</table>\n",
       "</div>"
      ],
      "text/plain": [
       "   Feature      vif\n",
       "0    const     7.56\n",
       "1       f0     3.16\n",
       "2       f1     1.05\n",
       "3       f2  2660.14\n",
       "4  product  2662.65"
      ]
     },
     "metadata": {},
     "output_type": "display_data"
    }
   ],
   "source": [
    "vif(geo_data_1)"
   ]
  },
  {
   "cell_type": "code",
   "execution_count": 16,
   "metadata": {},
   "outputs": [
    {
     "data": {
      "text/html": [
       "<div>\n",
       "<style scoped>\n",
       "    .dataframe tbody tr th:only-of-type {\n",
       "        vertical-align: middle;\n",
       "    }\n",
       "\n",
       "    .dataframe tbody tr th {\n",
       "        vertical-align: top;\n",
       "    }\n",
       "\n",
       "    .dataframe thead th {\n",
       "        text-align: right;\n",
       "    }\n",
       "</style>\n",
       "<table border=\"1\" class=\"dataframe\">\n",
       "  <thead>\n",
       "    <tr style=\"text-align: right;\">\n",
       "      <th></th>\n",
       "      <th>Feature</th>\n",
       "      <th>vif</th>\n",
       "    </tr>\n",
       "  </thead>\n",
       "  <tbody>\n",
       "    <tr>\n",
       "      <th>0</th>\n",
       "      <td>const</td>\n",
       "      <td>5.57</td>\n",
       "    </tr>\n",
       "    <tr>\n",
       "      <th>1</th>\n",
       "      <td>f0</td>\n",
       "      <td>1.00</td>\n",
       "    </tr>\n",
       "    <tr>\n",
       "      <th>2</th>\n",
       "      <td>f1</td>\n",
       "      <td>1.00</td>\n",
       "    </tr>\n",
       "    <tr>\n",
       "      <th>3</th>\n",
       "      <td>f2</td>\n",
       "      <td>1.25</td>\n",
       "    </tr>\n",
       "    <tr>\n",
       "      <th>4</th>\n",
       "      <td>product</td>\n",
       "      <td>1.25</td>\n",
       "    </tr>\n",
       "  </tbody>\n",
       "</table>\n",
       "</div>"
      ],
      "text/plain": [
       "   Feature   vif\n",
       "0    const  5.57\n",
       "1       f0  1.00\n",
       "2       f1  1.00\n",
       "3       f2  1.25\n",
       "4  product  1.25"
      ]
     },
     "metadata": {},
     "output_type": "display_data"
    }
   ],
   "source": [
    "vif(geo_data_2)"
   ]
  },
  {
   "cell_type": "markdown",
   "metadata": {},
   "source": [
    "__Вывод__  \n",
    "VIF измеряет насколько дисперсия коэффициента увеличивается, когда предикторы коррелированы. Если VIF = 1, переменные не коррелированы. Если VIF > 5-10, то существует проблема мультиколлинеарности. На основе полученных значений VIF можно сделать следующие выводы:\n",
    "\n",
    "geo_data_1 имеет серьезные проблемы с мультиколлинеарностью между признаками f2 и product. В этом случае, возможно, потребуется принять меры, такие как удаление одного из этих признаков;\n",
    "\n",
    "geo_data_0 и geo_data_2 не имеет проблем с мультиколлинеарностью, и модель будет стабильной."
   ]
  },
  {
   "cell_type": "markdown",
   "metadata": {},
   "source": [
    "### Рассмотрение распределение значений"
   ]
  },
  {
   "cell_type": "markdown",
   "metadata": {},
   "source": [
    "Посмотрим линейное распределение меоду обьеденёнными признаками и целевой переменной \"product\", также расчитаем коэффициент корреляции Пирсона."
   ]
  },
  {
   "cell_type": "code",
   "execution_count": 17,
   "metadata": {},
   "outputs": [],
   "source": [
    "def scatterplot(df):\n",
    "    test = df.copy()\n",
    "    test['summ'] = test['f0'] + test['f1'] + test['f2']\n",
    "    sns.scatterplot(data = test, x=test['summ'], y = test['product']);\n",
    "    plt.title('Распределение между объединенными значениями f0, f1, f2 и product')\n",
    "    plt.show()\n",
    "    \n",
    "    cor = test['product'].corr(test['summ']).round(2)\n",
    "    print(f'Коэффициент корреляции Пирсона между объединенными признаками и product: {cor:.2f}')"
   ]
  },
  {
   "cell_type": "code",
   "execution_count": 18,
   "metadata": {},
   "outputs": [
    {
     "name": "stdout",
     "output_type": "stream",
     "text": [
      "Нулевой регион:\n"
     ]
    },
    {
     "data": {
      "image/png": "[encoded data removed]",
      "text/plain": [
       "<Figure size 432x288 with 1 Axes>"
      ]
     },
     "metadata": {
      "needs_background": "light"
     },
     "output_type": "display_data"
    },
    {
     "name": "stdout",
     "output_type": "stream",
     "text": [
      "Коэффициент корреляции Пирсона между объединенными признаками и product: 0.48\n",
      "****************************************************************************************************\n",
      "Первый регион:\n"
     ]
    },
    {
     "data": {
      "image/png": "[encoded data removed]",
      "text/plain": [
       "<Figure size 432x288 with 1 Axes>"
      ]
     },
     "metadata": {
      "needs_background": "light"
     },
     "output_type": "display_data"
    },
    {
     "name": "stdout",
     "output_type": "stream",
     "text": [
      "Коэффициент корреляции Пирсона между объединенными признаками и product: 0.12\n",
      "****************************************************************************************************\n",
      "Второй регион:\n"
     ]
    },
    {
     "data": {
      "image/png": "[encoded data removed]",
      "text/plain": [
       "<Figure size 432x288 with 1 Axes>"
      ]
     },
     "metadata": {
      "needs_background": "light"
     },
     "output_type": "display_data"
    },
    {
     "name": "stdout",
     "output_type": "stream",
     "text": [
      "Коэффициент корреляции Пирсона между объединенными признаками и product: 0.36\n"
     ]
    }
   ],
   "source": [
    "\n",
    "print('Нулевой регион:')\n",
    "scatterplot(geo_data_0)\n",
    "print('*' * 100)\n",
    "print('Первый регион:')\n",
    "scatterplot(geo_data_1)\n",
    "print('*' * 100)\n",
    "print('Второй регион:')\n",
    "scatterplot(geo_data_2)"
   ]
  },
  {
   "cell_type": "markdown",
   "metadata": {},
   "source": [
    "__Вывод__  \n",
    "На основании полученных данных ол плотности распределения и значения коэффициента корреляции Пирсона можно придти к следующим выводам:  \n",
    "1) Нулевой и второй регион имеют хорошо просматривуемую линейную зависимость, как и коэффициент корреляции Пирсона находится в допустимых приделах, следовательно модель должна быть стобильной.\n",
    "2) Первый регион имеет неустойчевые данные к линейной зависимости."
   ]
  },
  {
   "cell_type": "markdown",
   "metadata": {},
   "source": [
    "__Итог:__  \n",
    "Все данные \"чистые\" и подходят для обечения, вопросы вызывает только Первый регион: __geo_data_1__"
   ]
  },
  {
   "cell_type": "markdown",
   "metadata": {},
   "source": [
    "## Обучение и проверка модели"
   ]
  },
  {
   "cell_type": "markdown",
   "metadata": {},
   "source": [
    "### Подготовка данных к обучению"
   ]
  },
  {
   "cell_type": "code",
   "execution_count": 19,
   "metadata": {},
   "outputs": [],
   "source": [
    "#Нулевой регион\n",
    "X0 = geo_data_0.drop(['id', 'product'],  axis=1)\n",
    "y0 = geo_data_0['product']\n",
    "# Разделим данныхе на обучающую (75%) и валидационную (25%) выборку\n",
    "X_train_0, X_val_0, y_train_0, y_val_0 = train_test_split(X0, y0, test_size=TEST_SIZE, random_state=RANDOM_STATE)"
   ]
  },
  {
   "cell_type": "code",
   "execution_count": 20,
   "metadata": {},
   "outputs": [],
   "source": [
    "#Первый регион\n",
    "X1 = geo_data_1.drop(['id', 'product'],  axis=1)\n",
    "y1 = geo_data_1['product']\n",
    "# Разделим данныхе на обучающую (75%) и валидационную (25%) выборку\n",
    "X_train_1, X_val_1, y_train_1, y_val_1 = train_test_split(X1, y1, test_size=TEST_SIZE, random_state=RANDOM_STATE)"
   ]
  },
  {
   "cell_type": "code",
   "execution_count": 21,
   "metadata": {},
   "outputs": [],
   "source": [
    "#Второй регион\n",
    "X2 = geo_data_2.drop(['id', 'product'],  axis=1)\n",
    "y2 = geo_data_2['product']\n",
    "# Разделим данныхе на обучающую (75%) и валидационную (25%) выборку\n",
    "X_train_2, X_val_2, y_train_2, y_val_2 = train_test_split(X2, y2, test_size=TEST_SIZE, random_state=RANDOM_STATE)"
   ]
  },
  {
   "cell_type": "code",
   "execution_count": 22,
   "metadata": {},
   "outputs": [
    {
     "name": "stdout",
     "output_type": "stream",
     "text": [
      "Train sample: (75000, 3) (75000,)\n",
      "Validation sample: (25000, 3) (25000,)\n"
     ]
    }
   ],
   "source": [
    "# проверяем результат\n",
    "print('Train sample:',      X_train_1.shape, y_train_1.shape)\n",
    "print('Validation sample:', X_val_1.shape, y_val_1.shape)"
   ]
  },
  {
   "cell_type": "markdown",
   "metadata": {},
   "source": [
    "___Функция оценки модели___"
   ]
  },
  {
   "cell_type": "code",
   "execution_count": 23,
   "metadata": {},
   "outputs": [],
   "source": [
    "def def_LinearRegration(y_pred, y_val): \n",
    "    # оценка модели\n",
    "    mse = mean_squared_error(y_val, y_pred)\n",
    "    rmse = round(np.sqrt(mse), 2)\n",
    "    average = round(y_pred.mean(), 2)\n",
    "    print(f'RMSE: {rmse}')\n",
    "    print(f'Среденее значение: {average}')\n",
    "    "
   ]
  },
  {
   "cell_type": "code",
   "execution_count": 24,
   "metadata": {},
   "outputs": [],
   "source": [
    "model = LinearRegression() # создание модель линейной регрессии"
   ]
  },
  {
   "cell_type": "code",
   "execution_count": 25,
   "metadata": {},
   "outputs": [],
   "source": [
    "model.fit(X_train_0, y_train_0) # обучаем\n",
    "y_pred_0 = model.predict(X_val_0)"
   ]
  },
  {
   "cell_type": "code",
   "execution_count": 26,
   "metadata": {},
   "outputs": [
    {
     "name": "stdout",
     "output_type": "stream",
     "text": [
      "Нулевой регион:\n",
      "RMSE: 37.76\n",
      "Среденее значение: 92.4\n"
     ]
    }
   ],
   "source": [
    "print('Нулевой регион:')\n",
    "def_LinearRegration(y_pred_0, y_val_0)"
   ]
  },
  {
   "cell_type": "code",
   "execution_count": 27,
   "metadata": {},
   "outputs": [],
   "source": [
    "model.fit(X_train_1, y_train_1) # обучаем\n",
    "y_pred_1 = model.predict(X_val_1)"
   ]
  },
  {
   "cell_type": "code",
   "execution_count": 28,
   "metadata": {},
   "outputs": [
    {
     "name": "stdout",
     "output_type": "stream",
     "text": [
      "Первый регион:\n",
      "RMSE: 0.89\n",
      "Среденее значение: 68.71\n"
     ]
    }
   ],
   "source": [
    "print('Первый регион:')\n",
    "def_LinearRegration(y_pred_1, y_val_1)"
   ]
  },
  {
   "cell_type": "code",
   "execution_count": 29,
   "metadata": {},
   "outputs": [],
   "source": [
    "model.fit(X_train_2, y_train_2) # обучаем\n",
    "y_pred_2 = model.predict(X_val_2)"
   ]
  },
  {
   "cell_type": "code",
   "execution_count": 30,
   "metadata": {},
   "outputs": [
    {
     "name": "stdout",
     "output_type": "stream",
     "text": [
      "Второй регион:\n",
      "RMSE: 40.15\n",
      "Среденее значение: 94.77\n"
     ]
    }
   ],
   "source": [
    "print('Второй регион:')\n",
    "def_LinearRegration(y_pred_2, y_val_2)"
   ]
  },
  {
   "cell_type": "markdown",
   "metadata": {},
   "source": [
    "Лучшие метрики показывает модель, предсказавшая значения первого региона, что вероятно связанно с функциональной (линейной) зависимостью f1 и product. Однако среднее значение продукта минимально для 1-го региона."
   ]
  },
  {
   "cell_type": "markdown",
   "metadata": {},
   "source": [
    "## Подготовка к расчёту прибыли"
   ]
  },
  {
   "cell_type": "code",
   "execution_count": 52,
   "metadata": {},
   "outputs": [],
   "source": [
    "# Задаем коснтанты\n",
    "POINT_OF_INT = 500               # кол-во точек для исследования\n",
    "TOP_WELLS = 200                  # кол-во наилучших скважин\n",
    "BUDGET_PER_REGION = 1e10         # бюджет на разработку скважин в регионе\n",
    "PRICE_PER_PRODUCT_UNIT = 450_000  # цена единицы продукта\n",
    "THRESHOLD = 0.025                # пороговая вероятность убытков"
   ]
  },
  {
   "cell_type": "code",
   "execution_count": 43,
   "metadata": {},
   "outputs": [
    {
     "name": "stdout",
     "output_type": "stream",
     "text": [
      "Среднее значение продукта в 0-м регионе:  92.4\n",
      "Среднее значение продукта во 1-м регионе: 68.71\n",
      "Среднее значение в 2-м регионе:           94.77\n"
     ]
    }
   ],
   "source": [
    "print('Среднее значение продукта в 0-м регионе: ', round(y_pred_0.mean(), 2))\n",
    "print('Среднее значение продукта во 1-м регионе:', round(y_pred_1.mean(), 2))\n",
    "print('Среднее значение в 2-м регионе:          ', round(y_pred_2.mean(), 2))"
   ]
  },
  {
   "cell_type": "code",
   "execution_count": 44,
   "metadata": {},
   "outputs": [
    {
     "name": "stdout",
     "output_type": "stream",
     "text": [
      "Минимальное кол-во продукта с одной скважины: 111.11 тыс. барелей\n"
     ]
    }
   ],
   "source": [
    "min_volue = BUDGET_PER_REGION / (TOP_WELLS * PRICE_PER_PRODUCT_UNIT)\n",
    "\n",
    "print(f'Минимальное кол-во продукта с одной скважины: {min_volue:.2f} тыс. барелей')"
   ]
  },
  {
   "cell_type": "markdown",
   "metadata": {},
   "source": [
    "__Вывод:__  \n",
    "Из полученных данных можно предположить, что все скважены будут убыточны."
   ]
  },
  {
   "cell_type": "markdown",
   "metadata": {},
   "source": [
    "## Расчёт прибыли и рисков "
   ]
  },
  {
   "cell_type": "code",
   "execution_count": 45,
   "metadata": {},
   "outputs": [],
   "source": [
    "def profit(preds_subsample, subsample): # ф-ция возвращает доход региона в мил.  \n",
    "    preds_sorted =  preds_subsample.sort_values(ascending=False).iloc[:TOP_WELLS]\n",
    "    selected = subsample[preds_sorted.index]\n",
    "    return round((PRICE_PER_PRODUCT_UNIT * selected.sum()) - BUDGET_PER_REGION, 2) / 1e6"
   ]
  },
  {
   "cell_type": "markdown",
   "metadata": {},
   "source": [
    "### Посчитайте риски и прибыль для каждого региона"
   ]
  },
  {
   "cell_type": "code",
   "execution_count": 46,
   "metadata": {},
   "outputs": [],
   "source": [
    "def bootstrap(predictions, target):\n",
    "    predictions = pd.Series(predictions, index=target.index)    \n",
    "    state = np.random.RandomState(12345)\n",
    "    values = []\n",
    "    for i in range(1000):\n",
    "        subsample = target.sample(n=POINT_OF_INT, replace=True, random_state=state)\n",
    "        preds_subsample = predictions[subsample.index]\n",
    "        rev = profit(preds_subsample, subsample)\n",
    "        values.append(rev)\n",
    "    \n",
    "    # конвертирование списка в серию для удобства и вычисление риска\n",
    "    values = pd.Series(values)\n",
    "    risk = values[values < 0].count() / len(preds_subsample)\n",
    "    \n",
    "    # условие оценки риска\n",
    "    assesment = 'Удовлетворяет условию'\n",
    "    if risk >= THRESHOLD:\n",
    "        assesment = 'НЕ удовлетворяет условию'\n",
    "    \n",
    "             \n",
    "    # границы 95% доверительного интервала\n",
    "    lower = values.quantile(q=0.025) \n",
    "    upper = values.quantile(q=0.975)\n",
    "    print(f'95% доверительный интервал: ({lower:.0f}, {upper:.0f}) [млн. руб.]')\n",
    "    print(f'Средняя прибыль: {values.mean():.0f} млн. руб.')\n",
    "    print(f'Вероятность риска: {risk:.2%} => {assesment}')"
   ]
  },
  {
   "cell_type": "code",
   "execution_count": 51,
   "metadata": {},
   "outputs": [
    {
     "name": "stdout",
     "output_type": "stream",
     "text": [
      "Нулевой регион:\n",
      "95% доверительный интервал: (-21, 1240) [млн. руб.]\n",
      "Средняя прибыль: 615 млн. руб.\n",
      "Вероятность риска: 6.00% => НЕ удовлетворяет условию\n"
     ]
    }
   ],
   "source": [
    "print('Нулевой регион:')\n",
    "bootstrap(y_pred_0, y_val_0)"
   ]
  },
  {
   "cell_type": "code",
   "execution_count": 48,
   "metadata": {},
   "outputs": [
    {
     "name": "stdout",
     "output_type": "stream",
     "text": [
      "Первый регион:\n",
      "95% доверительный интервал: (142, 1195) [млн. руб.]\n",
      "Средняя прибыль: 640 млн. руб.\n",
      "Вероятность риска: 0.80% => Удовлетворяет условию\n"
     ]
    }
   ],
   "source": [
    "print('Первый регион:')\n",
    "bootstrap(y_pred_1, y_val_1)"
   ]
  },
  {
   "cell_type": "code",
   "execution_count": 49,
   "metadata": {},
   "outputs": [
    {
     "name": "stdout",
     "output_type": "stream",
     "text": [
      "Второй регион:\n",
      "95% доверительный интервал: (-8, 1283) [млн. руб.]\n",
      "Средняя прибыль: 587 млн. руб.\n",
      "Вероятность риска: 5.20% => НЕ удовлетворяет условию\n"
     ]
    }
   ],
   "source": [
    "print('Второй регион:')\n",
    "bootstrap(y_pred_2, y_val_2)"
   ]
  },
  {
   "cell_type": "markdown",
   "metadata": {},
   "source": [
    "__Общий вывод__  \n",
    "\n",
    "В ходе проекта была поставлена задача выбора удачного региона для добычи нефти и выданы датасеты с характеристиками скважин в трёх регионах. Для решения поставленной задачи использовалась (по условию) модель машинного обучения линейная регрессия, расчитывющая объём продукции по характерстикам скважины. Мы установили так же, что регионы в среднем убыточны. Далее методом bootstrap было получено распределение прибыли для каждого региона, найден 95% доверительный интервал и произведена оценка рисков. По условию среди регионов с риском убытков менее 2.5% выбирается регион с наибольшей средней прибылью. Исходя из этого к разработке скважин рекомендуется регион №1, т.к. единственный показал низкие риски."
   ]
  }
 ],
 "metadata": {
  "ExecuteTimeLog": [
   {
    "duration": 48,
    "start_time": "2024-01-19T07:21:31.160Z"
   },
   {
    "duration": 1875,
    "start_time": "2024-01-19T07:21:40.454Z"
   },
   {
    "duration": 1024,
    "start_time": "2024-01-19T07:21:42.331Z"
   },
   {
    "duration": 3,
    "start_time": "2024-01-19T07:21:43.357Z"
   },
   {
    "duration": 90,
    "start_time": "2024-01-19T07:21:43.361Z"
   },
   {
    "duration": 145,
    "start_time": "2024-01-19T07:21:43.453Z"
   },
   {
    "duration": 40,
    "start_time": "2024-01-19T07:21:43.599Z"
   },
   {
    "duration": 131,
    "start_time": "2024-01-19T07:21:43.640Z"
   },
   {
    "duration": 232,
    "start_time": "2024-01-19T07:21:43.773Z"
   },
   {
    "duration": 139,
    "start_time": "2024-01-19T07:21:44.007Z"
   },
   {
    "duration": 134,
    "start_time": "2024-01-19T07:21:44.148Z"
   },
   {
    "duration": 132,
    "start_time": "2024-01-19T07:21:44.284Z"
   },
   {
    "duration": 4,
    "start_time": "2024-01-19T07:21:44.423Z"
   },
   {
    "duration": 696,
    "start_time": "2024-01-19T07:21:44.429Z"
   },
   {
    "duration": 796,
    "start_time": "2024-01-19T07:21:45.129Z"
   },
   {
    "duration": 899,
    "start_time": "2024-01-19T07:21:45.927Z"
   },
   {
    "duration": 7,
    "start_time": "2024-01-19T07:21:46.829Z"
   },
   {
    "duration": 1145,
    "start_time": "2024-01-19T07:21:46.837Z"
   },
   {
    "duration": 12,
    "start_time": "2024-01-19T07:21:47.984Z"
   },
   {
    "duration": 30,
    "start_time": "2024-01-19T07:21:47.998Z"
   },
   {
    "duration": 14,
    "start_time": "2024-01-19T07:21:48.030Z"
   },
   {
    "duration": 6,
    "start_time": "2024-01-19T07:21:48.046Z"
   },
   {
    "duration": 11,
    "start_time": "2024-01-19T07:21:48.054Z"
   },
   {
    "duration": 26,
    "start_time": "2024-01-19T07:21:48.067Z"
   },
   {
    "duration": 29,
    "start_time": "2024-01-19T07:21:48.095Z"
   },
   {
    "duration": 109,
    "start_time": "2024-01-19T07:21:48.126Z"
   },
   {
    "duration": 125,
    "start_time": "2024-01-19T07:21:48.237Z"
   },
   {
    "duration": 7,
    "start_time": "2024-01-19T07:21:48.364Z"
   },
   {
    "duration": 100,
    "start_time": "2024-01-19T07:21:48.424Z"
   },
   {
    "duration": 5,
    "start_time": "2024-01-19T07:21:48.527Z"
   },
   {
    "duration": 91,
    "start_time": "2024-01-19T07:21:48.534Z"
   },
   {
    "duration": 115,
    "start_time": "2024-01-19T07:21:48.627Z"
   },
   {
    "duration": 3,
    "start_time": "2024-01-19T07:21:48.744Z"
   },
   {
    "duration": 16,
    "start_time": "2024-01-19T07:21:48.749Z"
   },
   {
    "duration": 102,
    "start_time": "2024-01-19T07:21:48.766Z"
   },
   {
    "duration": 0,
    "start_time": "2024-01-19T07:21:48.869Z"
   },
   {
    "duration": 0,
    "start_time": "2024-01-19T07:21:48.871Z"
   },
   {
    "duration": 0,
    "start_time": "2024-01-19T07:21:48.872Z"
   },
   {
    "duration": 0,
    "start_time": "2024-01-19T07:21:48.873Z"
   },
   {
    "duration": 10,
    "start_time": "2024-01-19T07:22:18.158Z"
   },
   {
    "duration": 7,
    "start_time": "2024-01-19T07:22:34.293Z"
   },
   {
    "duration": 5,
    "start_time": "2024-01-19T07:22:45.151Z"
   },
   {
    "duration": 6,
    "start_time": "2024-01-19T07:22:57.487Z"
   },
   {
    "duration": 4,
    "start_time": "2024-01-19T07:23:06.760Z"
   },
   {
    "duration": 112,
    "start_time": "2024-01-19T07:25:22.321Z"
   },
   {
    "duration": 3,
    "start_time": "2024-01-19T07:26:02.863Z"
   },
   {
    "duration": 5,
    "start_time": "2024-01-19T07:26:04.130Z"
   },
   {
    "duration": 4,
    "start_time": "2024-01-19T07:26:05.506Z"
   },
   {
    "duration": 3,
    "start_time": "2024-01-19T07:26:12.033Z"
   },
   {
    "duration": 6,
    "start_time": "2024-01-19T07:26:18.948Z"
   },
   {
    "duration": 1241,
    "start_time": "2024-01-19T07:26:19.995Z"
   },
   {
    "duration": 1192,
    "start_time": "2024-01-19T07:26:21.898Z"
   },
   {
    "duration": 1221,
    "start_time": "2024-01-19T07:26:23.684Z"
   },
   {
    "duration": 3,
    "start_time": "2024-01-19T07:26:34.305Z"
   },
   {
    "duration": 1193,
    "start_time": "2024-01-19T07:26:37.683Z"
   },
   {
    "duration": 3,
    "start_time": "2024-01-19T07:26:49.330Z"
   }
  ],
  "kernelspec": {
   "display_name": "Python 3 (ipykernel)",
   "language": "python",
   "name": "python3"
  },
  "language_info": {
   "codemirror_mode": {
    "name": "ipython",
    "version": 3
   },
   "file_extension": ".py",
   "mimetype": "text/x-python",
   "name": "python",
   "nbconvert_exporter": "python",
   "pygments_lexer": "ipython3",
   "version": "3.11.4"
  },
  "toc": {
   "base_numbering": 1,
   "nav_menu": {},
   "number_sections": true,
   "sideBar": true,
   "skip_h1_title": true,
   "title_cell": "Table of Contents",
   "title_sidebar": "Contents",
   "toc_cell": false,
   "toc_position": {},
   "toc_section_display": true,
   "toc_window_display": false
  }
 },
 "nbformat": 4,
 "nbformat_minor": 4
}
